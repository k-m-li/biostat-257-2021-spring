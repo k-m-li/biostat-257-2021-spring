{
 "cells": [
  {
   "cell_type": "markdown",
   "metadata": {},
   "source": [
    "# Biostat 257 Homework 4\n",
    "\n",
    "**Due May 28 @ 11:59PM**"
   ]
  },
  {
   "cell_type": "code",
   "execution_count": 1,
   "metadata": {},
   "outputs": [
    {
     "name": "stdout",
     "output_type": "stream",
     "text": [
      "Julia Version 1.6.0\n",
      "Commit f9720dc2eb (2021-03-24 12:55 UTC)\n",
      "Platform Info:\n",
      "  OS: Windows (x86_64-w64-mingw32)\n",
      "  CPU: Intel(R) Core(TM) i7-8700 CPU @ 3.20GHz\n",
      "  WORD_SIZE: 64\n",
      "  LIBM: libopenlibm\n",
      "  LLVM: libLLVM-11.0.1 (ORCJIT, skylake)\n"
     ]
    }
   ],
   "source": [
    "versioninfo()"
   ]
  },
  {
   "cell_type": "markdown",
   "metadata": {},
   "source": [
    "In this assignment, we continue with the linear mixed effects model (LMM) considered in HW2\n",
    "$$\n",
    "    \\mathbf{Y}_i = \\mathbf{X}_i \\boldsymbol{\\beta} + \\mathbf{Z}_i \\boldsymbol{\\gamma}_i + \\boldsymbol{\\epsilon}_i, \\quad i=1,\\ldots,n,\n",
    "$$\n",
    "where   \n",
    "- $\\mathbf{Y}_i \\in \\mathbb{R}^{n_i}$ is the response vector of $i$-th individual,  \n",
    "- $\\mathbf{X}_i \\in \\mathbb{R}^{n_i \\times p}$ is the fixed effects predictor matrix of $i$-th individual,  \n",
    "- $\\mathbf{Z}_i \\in \\mathbb{R}^{n_i \\times q}$ is the random effects predictor matrix of $i$-th individual,  \n",
    "- $\\boldsymbol{\\epsilon}_i \\in \\mathbb{R}^{n_i}$ are multivariate normal $N(\\mathbf{0}_{n_i},\\sigma^2 \\mathbf{I}_{n_i})$,  \n",
    "- $\\boldsymbol{\\beta} \\in \\mathbb{R}^p$ are fixed effects, and  \n",
    "- $\\boldsymbol{\\gamma}_i \\in \\mathbb{R}^q$ are random effects assumed to be $N(\\mathbf{0}_q, \\boldsymbol{\\Sigma}_{q \\times q}$) independent of $\\boldsymbol{\\epsilon}_i$.\n",
    "\n",
    "The log-likelihood of the $i$-th datum $(\\mathbf{y}_i, \\mathbf{X}_i, \\mathbf{Z}_i)$ is \n",
    "$$\n",
    "    \\ell_i(\\boldsymbol{\\beta}, \\mathbf{L}, \\sigma^2) = - \\frac{n_i}{2} \\log (2\\pi) - \\frac{1}{2} \\log \\det \\boldsymbol{\\Omega}_i - \\frac{1}{2} (\\mathbf{y} - \\mathbf{X}_i \\boldsymbol{\\beta})^T \\boldsymbol{\\Omega}_i^{-1} (\\mathbf{y} - \\mathbf{X}_i \\boldsymbol{\\beta}),\n",
    "$$\n",
    "where\n",
    "$$\n",
    "    \\boldsymbol{\\Omega}_i = \\sigma^2 \\mathbf{I}_{n_i} + \\mathbf{Z}_i \\boldsymbol{\\Sigma} \\mathbf{Z}_i^T = \\sigma^2 \\mathbf{I}_{n_i} + \\mathbf{Z}_i \\mathbf{L} \\mathbf{L}^T \\mathbf{Z}_i^T,\n",
    "$$\n",
    "Because the variance component parameter $\\boldsymbol{\\Sigma}$ has to be positive semidefinite, we use its Cholesky factor $\\mathbf{L}$ as optimization variable. \n",
    "\n",
    "Given $m$ independent data points $(\\mathbf{y}_i, \\mathbf{X}_i, \\mathbf{Z}_i)$, $i=1,\\ldots,m$, we seek the maximum likelihood estimate (MLE) by maximizing the log-likelihood\n",
    "$$\n",
    "\\ell(\\boldsymbol{\\beta}, \\boldsymbol{\\Sigma}, \\sigma^2) = \\sum_{i=1}^m \\ell_i(\\boldsymbol{\\beta}, \\boldsymbol{\\Sigma}, \\sigma^2).\n",
    "$$\n",
    "In this assignment, we use the nonlinear programming (NLP) approach for optimization. In HW5, we will derive a EM (expectation-maximization) algorithm for the same problem. "
   ]
  },
  {
   "cell_type": "code",
   "execution_count": 2,
   "metadata": {},
   "outputs": [],
   "source": [
    "# load necessary packages; make sure install them first\n",
    "using BenchmarkTools, CSV, DataFrames, DelimitedFiles, Distributions\n",
    "using Ipopt, LinearAlgebra, MathProgBase, MixedModels, NLopt\n",
    "using Random, Revise, RCall"
   ]
  },
  {
   "cell_type": "markdown",
   "metadata": {},
   "source": [
    "## Q1. (Optional, 30 bonus pts) Derivatives\n",
    "\n",
    "NLP optimization solvers expect users to provide at least a function for evaluating objective value. If users can provide further information such as gradient and Hessian, the NLP solvers will be more stable and converge faster. Automatic differentiation tools are becoming more powerful but cannot apply to all problems yet.\n",
    "\n",
    "1. Show that the gradient of $\\ell_i$ is\n",
    "\\begin{eqnarray*}\n",
    "\\nabla_{\\boldsymbol{\\beta}} \\ell_i(\\boldsymbol{\\beta}, \\mathbf{L}, \\sigma^2) &=& \\mathbf{X}_i^T \\boldsymbol{\\Omega}_i^{-1} \\mathbf{r}_i, \\\\\n",
    "\\nabla_{\\sigma^2} \\ell_i(\\boldsymbol{\\beta}, \\mathbf{L}, \\sigma^2) &=& - \\frac{1}{2} \\operatorname{tr} (\\boldsymbol{\\Omega}_i^{-1}) + \\frac{1}{2} \\mathbf{r}_i^T \\boldsymbol{\\Omega}_i^{-2} \\mathbf{r}_i, \\\\\n",
    "\\frac{\\partial}{\\partial \\mathbf{L}} \\ell_i(\\boldsymbol{\\beta}, \\mathbf{L}, \\sigma^2) &=& - \\mathbf{Z}_i^T \\boldsymbol{\\Omega}_i^{-1} \\mathbf{Z}_i \\mathbf{L} + \\mathbf{Z}_i^T \\boldsymbol{\\Omega}_i^{-1} \\mathbf{r}_i \\mathbf{r}_i^T \\boldsymbol{\\Omega}_i^{-1} \\mathbf{Z}_i \\mathbf{L},\n",
    "\\end{eqnarray*}\n",
    "where $\\mathbf{r}_i = \\mathbf{y}_i - \\mathbf{X}_i \\boldsymbol{\\beta}$. "
   ]
  },
  {
   "cell_type": "markdown",
   "metadata": {},
   "source": [
    "$$\\nabla_\\beta \\ell_i(\\beta, L, \\sigma^2) = \\nabla_\\beta -\\frac{1}{2}\\Big[y_i^T\\Omega_i^{-1}y_i - 2\\beta^TX_i\\Omega_i^{-1}y_i + \\beta^TX_i^t\\Omega_i^{-1}X_i\\beta \\Big]$$\n",
    "$$= X_i^T \\Omega^{-1}_iy_i - X_i^T\\Omega^{-1}_i\\beta$$\n",
    "$$=X_i^T \\Omega^{-1}_i(y_i - \\beta)$$\n",
    "$$=X_i^T \\Omega^{-1}_ir_i$$"
   ]
  },
  {
   "cell_type": "markdown",
   "metadata": {},
   "source": [
    "$$\\nabla_{\\sigma^2}\\ell_i(\\beta, L, \\sigma^2) = \\nabla_{\\sigma^2}[-\\frac{1}{2} \\log \\det(\\sigma^2I + Z_i\\Sigma Z_i^t)] + \\nabla_{\\sigma^2}[-\\frac{1}{2}r_i^T\\Omega_i^{-1}r_i]$$\n",
    "$$=-\\frac{1}{2}tr(\\Omega_i^{-1}) - \\frac{1}{2}tr(\\nabla_{\\sigma^2}r_i^T \\Omega_i^{-1} r_i)$$\n",
    "$$= -\\frac{1}{2}tr(\\Omega_i^{-1}) + \\frac{1}{2}tr(\\Omega_i^{-1}r_ir_i^T\\Omega_i^{-1})$$\n",
    "$$= -\\frac{1}{2}tr(\\Omega_i^{-1}) + \\frac{1}{2}r_i^T\\Omega_i^{-2}r_i$$"
   ]
  },
  {
   "cell_type": "markdown",
   "metadata": {},
   "source": [
    "$$\\frac{\\delta}{\\delta L}\\ell_i(\\beta, L, \\sigma^2) = \\frac{\\delta}{\\delta L}[-\\frac{1}{2} \\log \\det(\\sigma^2I + Z_iLL^TZ_i^t)] + \\frac{\\delta}{\\delta L}[-\\frac{1}{2}r_i^T\\Omega_i^{-1}r_i]$$\n",
    "$$ = -\\frac{1}{2}\\Omega_i^{-1} \\frac{\\delta}{\\delta L} (\\sigma^2I + Z_iLL^TZ_i^T) + \\frac{\\delta}{\\delta L}[tr(r_i^T\\Omega_i^{-1}r_i)]$$\n",
    "$$ = -\\frac{1}{2}\\Omega_i^{-1} (Z_iL \\otimes Z_i + (Z_i \\otimes Z_iL)K_{qq}) + \\frac{\\delta}{\\delta L}[tr(r_i^T\\Omega_i^{-1}r_i)]$$\n",
    "$$ = -vec(\\Omega_i^{-1})^T(Z_iL \\otimes Z_i + (Z_i \\otimes Z_iL)K_{qq}) + \\frac{\\delta}{\\delta L}[tr(r_i^T\\Omega_i^{-1}r_i)]$$\n",
    "$$ = -vec(Z_i^T \\Omega_i^{-1} Z_i L + \\frac{\\delta}{\\delta L}[tr(r_i^T\\Omega_i^{-1}r_i)]$$\n",
    "$$ = -vec(Z_i^T \\Omega_i^{-1} Z_i L + \\Omega_i^{-1}r_ir_i^T\\Omega_i^{-1}\\frac{\\delta}{\\delta L}(\\sigma^2I + Z_iLL^TZ_i^T)$$\n",
    "$$ =-vec(Z_i^T \\Omega_i^{-1} Z_i L + \\Omega_i^{-1}r_ir_i^T\\Omega_i^{-1}(Z_iL \\otimes Z_i + (Z_i \\otimes Z_iL)K_{qq})$$\n",
    "$$=-vec(Z_i^T \\Omega_i^{-1} Z_i L + vec(\\Omega_i^{-1}r_ir_i^T\\Omega_i^{-1})(Z_iL \\otimes Z_i)$$\n",
    "$$ = -vec(Z_i^T \\Omega_i^{-1} Z_i L + [(Z_iL)^T \\otimes Z_i^T]vec(\\Omega_i^{-1}r_ir_i^T\\Omega_i^{-1})^T$$\n",
    "$$ = -vec(Z_i^T \\Omega_i^{-1} Z_i L + vec(Z_i^T\\Omega_i^{-1}r_ir_i^t\\Omega_i^{-1}Z_iL)$$\n",
    "$$= -Z_i^T\\Omega_i^{-1}Z_iL + Z_i^T\\Omega_i^{-1}r_ir_i^T\\Omega_i^{-1}Z_iL$$"
   ]
  },
  {
   "cell_type": "markdown",
   "metadata": {},
   "source": [
    "2. Derive the observed information matrix and the expected (Fisher) information matrix."
   ]
  },
  {
   "cell_type": "markdown",
   "metadata": {},
   "source": [
    "If you need a refresher on multivariate calculus, my [Biostat 216 lecture notes](https://ucla-biostat216-2019fall.github.io/slides/16-matrixcalc/16-matrixcalc.html) may be helpful."
   ]
  },
  {
   "cell_type": "markdown",
   "metadata": {},
   "source": [
    "## Q2. (20 pts) Objective and gradient evaluator for a single datum\n",
    "\n",
    "We expand the code from HW2 to evaluate both objective and gradient. I provide my code for HW2 below as a starting point. You do _not_ have to use this code. If your come up faster code, that's even better. "
   ]
  },
  {
   "cell_type": "code",
   "execution_count": 3,
   "metadata": {},
   "outputs": [
    {
     "data": {
      "text/plain": [
       "logl!"
      ]
     },
     "execution_count": 3,
     "metadata": {},
     "output_type": "execute_result"
    }
   ],
   "source": [
    "# define a type that holds an LMM datum\n",
    "struct LmmObs{T <: AbstractFloat}\n",
    "    # data\n",
    "    y          :: Vector{T}\n",
    "    X          :: Matrix{T}\n",
    "    Z          :: Matrix{T}\n",
    "    # arrays for holding gradient\n",
    "    ∇β         :: Vector{T}\n",
    "    ∇σ²        :: Vector{T}\n",
    "    ∇Σ         :: Matrix{T}    \n",
    "    # working arrays\n",
    "    # TODO: whatever intermediate arrays you may want to pre-allocate\n",
    "    yty        :: T\n",
    "    xty        :: Vector{T}\n",
    "    zty        :: Vector{T}\n",
    "    zty2       :: Vector{T}\n",
    "    ztr        :: Vector{T}\n",
    "    xtz        :: Matrix{T}\n",
    "    storage_p  :: Vector{T}\n",
    "    storage_p2 :: Matrix{T}\n",
    "    storage_q  :: Vector{T}\n",
    "    storage_q2 :: Vector{T}\n",
    "    storage_q3 :: Vector{T}\n",
    "    xtx        :: Matrix{T}\n",
    "    ztx        :: Matrix{T}\n",
    "    ztz        :: Matrix{T}\n",
    "    ztz2       :: Matrix{T}\n",
    "    ztz3       :: Matrix{T}\n",
    "    ztz4       :: Matrix{T}\n",
    "    storage_qq :: Matrix{T}\n",
    "end\n",
    "\n",
    "\"\"\"\n",
    "    LmmObs(y::Vector, X::Matrix, Z::Matrix)\n",
    "\n",
    "Create an LMM datum of type `LmmObs`.\n",
    "\"\"\"\n",
    "function LmmObs(\n",
    "        y::Vector{T}, \n",
    "        X::Matrix{T}, \n",
    "        Z::Matrix{T}\n",
    "    ) where T <: AbstractFloat\n",
    "    n, p, q    = size(X, 1), size(X, 2), size(Z, 2)    \n",
    "    ∇β         = Vector{T}(undef, p)\n",
    "    ∇σ²        = Vector{T}(undef, 1)\n",
    "    ∇Σ         = Matrix{T}(undef, q, q)    \n",
    "    yty        = abs2(norm(y))\n",
    "    xty        = transpose(X) * y\n",
    "    zty        = transpose(Z) * y    \n",
    "    zty2       = similar(zty)\n",
    "    ztr        = similar(zty)\n",
    "    xtz        = transpose(X) * Z\n",
    "    storage_p  = Vector{T}(undef, p)\n",
    "    storage_p2 = similar(xtz)\n",
    "    storage_q  = Vector{T}(undef, q)\n",
    "    storage_q2 = Vector{T}(undef, q)\n",
    "    storage_q3 = Vector{T}(undef, q)\n",
    "    xtx        = transpose(X) * X\n",
    "    ztx        = transpose(Z) * X\n",
    "    ztz        = transpose(Z) * Z\n",
    "    ztz2       = similar(ztz)\n",
    "    ztz3       = similar(ztz)\n",
    "    ztz4       = similar(ztz)\n",
    "    storage_qq = similar(ztz)\n",
    "    LmmObs(y, X, Z, ∇β, ∇σ², ∇Σ, \n",
    "        yty, xty, zty, zty2, ztr, xtz, storage_p, \n",
    "        storage_p2, storage_q, storage_q2, \n",
    "        storage_q3, xtx, ztx, ztz, ztz2,\n",
    "        ztz3, ztz4, storage_qq)\n",
    "end\n",
    "\n",
    "\"\"\"\n",
    "    logl!(obs::LmmObs, β, L, σ², needgrad=false)\n",
    "\n",
    "Evaluate the log-likelihood of a single LMM datum at parameter values `β`, `L`, \n",
    "and `σ²`. If `needgrad==true`, then `obs.∇β`, `obs.∇Σ`, and `obs.σ² are filled \n",
    "with the corresponding gradient.\n",
    "\"\"\"\n",
    "function logl!(\n",
    "        obs      :: LmmObs{T}, \n",
    "        β        :: Vector{T}, \n",
    "        L        :: Matrix{T}, \n",
    "        σ²       :: T,\n",
    "        needgrad :: Bool = true\n",
    "    ) where T <: AbstractFloat\n",
    "    n, p, q = size(obs.X, 1), size(obs.X, 2), size(obs.Z, 2)\n",
    "    ####################\n",
    "    # Evaluate objective\n",
    "    ####################    \n",
    "    # form the q-by-q matrix: M = σ² * I + Lt Zt Z L\n",
    "    copy!(obs.storage_qq, obs.ztz)\n",
    "    BLAS.trmm!('L', 'L', 'T', 'N', T(1), L, obs.storage_qq) # O(q^3)\n",
    "    BLAS.trmm!('R', 'L', 'N', 'N', T(1), L, obs.storage_qq) # O(q^3)\n",
    "    @inbounds for j in 1:q\n",
    "        obs.storage_qq[j, j] += σ²\n",
    "    end\n",
    "    # cholesky on M = σ² * I + Lt Zt Z L\n",
    "    LAPACK.potrf!('U', obs.storage_qq) # O(q^3)\n",
    "    # storage_q = (Mchol.U') \\ (Lt * (Zt * res))\n",
    "    BLAS.gemv!('N', T(-1), obs.ztx, β, T(1), copy!(obs.storage_q, obs.zty)) # O(pq)\n",
    "    BLAS.trmv!('L', 'T', 'N', L, obs.storage_q)    # O(q^2)\n",
    "    BLAS.trsv!('U', 'T', 'N', obs.storage_qq, obs.storage_q) # O(q^3)\n",
    "    # l2 norm of residual vector\n",
    "    copy!(obs.storage_p, obs.xty)\n",
    "    rtr  = obs.yty +\n",
    "        dot(β, BLAS.gemv!('N', T(1), obs.xtx, β, T(-2), obs.storage_p))\n",
    "    # assemble pieces\n",
    "    logl::T = n * log(2π) + (n - q) * log(σ²) # constant term\n",
    "    @inbounds for j in 1:q\n",
    "        logl += 2log(obs.storage_qq[j, j])\n",
    "    end\n",
    "    qf    = abs2(norm(obs.storage_q)) # quadratic form term\n",
    "    logl += (rtr - qf) / σ² \n",
    "    logl /= -2\n",
    "    ###################\n",
    "    # Evaluate gradient\n",
    "    ###################    \n",
    "    if needgrad\n",
    "        ########∇β = 1/σ²[xtr - xtz L M-1 Lt Zt r] ###########################\n",
    "        #xtr\n",
    "        copy!(obs.∇β, obs.xty)\n",
    "        BLAS.gemv!('N', T(-1), obs.xtx, β, T(1), obs.∇β)\n",
    "        \n",
    "        #xtz L storage_q\n",
    "        copy!(obs.storage_q2, obs.storage_q)\n",
    "        # storage_q = (Mchol.U') \\ (Lt * (Zt * res)), storage_q2 = M -1 Zt Lt r\n",
    "        BLAS.trsv!('U', 'N', 'N', obs.storage_qq, obs.storage_q2)\n",
    "        BLAS.trmv!('L', 'N', 'N', L, obs.storage_q2)\n",
    "        BLAS.gemv!('T', T(-1), obs.ztx, obs.storage_q2, T(1), obs.∇β)\n",
    "        \n",
    "        #divide by σ2\n",
    "        obs.∇β ./= σ²\n",
    "     \n",
    "        \n",
    "        copy!(obs.zty2, obs.zty)\n",
    "        BLAS.gemv!('N', T(-1), obs.ztx, β, T(1), obs.zty2) #Earlier calculation because I used to use it for both of the gradients\n",
    "        \n",
    "        #########∇σ² = -1/2 tr(Ω) + 1/2 rt Ω-2 r ######################     \n",
    "        #-1/2 tr (Ω) = tr(Z L M-1 Lt Zt)\n",
    "        copy!(obs.ztz2, obs.ztz)\n",
    "        BLAS.trmm!('L', 'L', 'T', 'N', T(1), L, obs.ztz2)\n",
    "        copy!(obs.ztz3, obs.ztz2)\n",
    "        LAPACK.potrs!('U', obs.storage_qq, obs.ztz2)\n",
    "        BLAS.trmm!('L', 'L', 'N', 'N', T(1), L, obs.ztz2) #ztz2 is L M-1 Lt ztz\n",
    "        obs.∇σ²[1] = n\n",
    "        obs.∇σ²[1] -= tr(obs.ztz2)\n",
    "        \n",
    "        #1/2 rt Ω-2 r\n",
    "        copy!(obs.storage_q3, obs.storage_q2)\n",
    "        BLAS.gemm!('N', 'N', T(1), obs.ztz, obs.storage_q2, T(0), obs.storage_q3)\n",
    "        \n",
    "        #put it all together\n",
    "        obs.∇σ²[1] -= (rtr - 2qf + dot(obs.storage_q2, obs.storage_q3)) / σ²    \n",
    "        obs.∇σ²[1] /= -2 * σ²\n",
    "        \n",
    "        \n",
    "        ##########∇L = -Zt Ω-1 Z L + Z Ω-1 r rT Ω-1 Z L########    \n",
    "        # -Zt Ω-1 Z L = ztz - ztz L M-1 Lt ztz\n",
    "        copy!(obs.ztz4, obs.ztz)\n",
    "        BLAS.gemm!('N', 'N', T(-1), obs.ztz, obs.ztz2, T(1), obs.ztz4)\n",
    "        obs.ztz4 ./= -σ²\n",
    "        \n",
    "        # Zt Ω-1 r product with itself transposed = Ztr - Ztz L M-1 Lt Ztr\n",
    "        BLAS.gemm!('T', 'N', T(-1), obs.ztz2, obs.zty2, T(1), obs.zty2)\n",
    "        obs.zty2 ./= σ²\n",
    "        BLAS.gemm!('N', 'T', T(1), obs.zty2, obs.zty2, T(0), obs.ztz3)\n",
    "        broadcast!(+, obs.∇Σ, obs.ztz4, obs.ztz3)\n",
    "\n",
    "    end    \n",
    "    ###################\n",
    "    # Return\n",
    "    ###################        \n",
    "    return logl    \n",
    "end"
   ]
  },
  {
   "cell_type": "markdown",
   "metadata": {},
   "source": [
    "It is a good idea to test correctness and efficiency of the single datum objective/gradient evaluator here. First generate the same data set as in HW2."
   ]
  },
  {
   "cell_type": "code",
   "execution_count": 4,
   "metadata": {},
   "outputs": [],
   "source": [
    "Random.seed!(257)\n",
    "# dimension\n",
    "n, p, q = 2000, 5, 3\n",
    "# predictors\n",
    "X  = [ones(n) randn(n, p - 1)]\n",
    "Z  = [ones(n) randn(n, q - 1)]\n",
    "# parameter values\n",
    "β  = [2.0; -1.0; rand(p - 2)]\n",
    "σ² = 1.5\n",
    "Σ  = fill(0.1, q, q) + 0.9I # compound symmetry \n",
    "L  = Matrix(cholesky(Symmetric(Σ)).L)\n",
    "# generate y\n",
    "y  = X * β + Z * rand(MvNormal(Σ)) + sqrt(σ²) * randn(n)\n",
    "\n",
    "# form the LmmObs object\n",
    "obs = LmmObs(y, X, Z);"
   ]
  },
  {
   "cell_type": "markdown",
   "metadata": {},
   "source": [
    "### Correctness"
   ]
  },
  {
   "cell_type": "code",
   "execution_count": 5,
   "metadata": {
    "scrolled": false
   },
   "outputs": [
    {
     "name": "stdout",
     "output_type": "stream",
     "text": [
      "logl = logl!(obs, β, L, σ², true) = -3261.917755918759\n",
      "obs.∇β = [-1.1937579038479573, -20.06810413006203, -12.323942329522424, -5.174641191562212, 28.20847569099025]\n",
      "obs.∇σ² = [5.501620540890826]\n",
      "obs.∇Σ = [0.4073285664341204 -0.10370457194293559 0.9214023976866862; -0.10370457194298237 -0.9907411137746414 -0.02165831118506767; 0.9214023976866288 -0.0216583111850724 -0.535558108021315]\n"
     ]
    }
   ],
   "source": [
    "@show logl = logl!(obs, β, L, σ², true)\n",
    "@show obs.∇β\n",
    "@show obs.∇σ²\n",
    "@show obs.∇Σ;"
   ]
  },
  {
   "cell_type": "markdown",
   "metadata": {},
   "source": [
    "You will lose all 20 points if following statement throws `AssertionError`."
   ]
  },
  {
   "cell_type": "code",
   "execution_count": 6,
   "metadata": {},
   "outputs": [],
   "source": [
    "@assert abs(logl - (-3261.9177559187597)) < 1e-8\n",
    "@assert norm(obs.∇β - [-1.1937579038479573, -20.068104130062466, \n",
    "        -12.323942329522424, -5.174641191562253, 28.208475690990248]) < 1e-8\n",
    "@assert norm(obs.∇Σ - [0.40732856643442306 -0.10370457194285436 0.9214023976868783; \n",
    "        -0.10370457194285436 -0.9907411137746756 -0.02165831118509598; \n",
    "        0.9214023976868783 -0.02165831118509598 -0.5355581080215592]) < 1e-8\n",
    "@assert abs(obs.∇σ²[1] - (5.501620540891395)) < 1e-8"
   ]
  },
  {
   "cell_type": "markdown",
   "metadata": {},
   "source": [
    "### Efficiency"
   ]
  },
  {
   "cell_type": "markdown",
   "metadata": {},
   "source": [
    "Benchmark for evaluating objective only. This is what we did in HW2."
   ]
  },
  {
   "cell_type": "code",
   "execution_count": 7,
   "metadata": {},
   "outputs": [
    {
     "data": {
      "text/plain": [
       "BenchmarkTools.Trial: \n",
       "  memory estimate:  0 bytes\n",
       "  allocs estimate:  0\n",
       "  --------------\n",
       "  minimum time:     623.669 ns (0.00% GC)\n",
       "  median time:      651.479 ns (0.00% GC)\n",
       "  mean time:        802.645 ns (0.00% GC)\n",
       "  maximum time:     20.400 μs (0.00% GC)\n",
       "  --------------\n",
       "  samples:          10000\n",
       "  evals/sample:     169"
      ]
     },
     "execution_count": 7,
     "metadata": {},
     "output_type": "execute_result"
    }
   ],
   "source": [
    "@benchmark logl!($obs, $β, $L, $σ², false)"
   ]
  },
  {
   "cell_type": "markdown",
   "metadata": {},
   "source": [
    "Benchmark for objective + gradient evaluation."
   ]
  },
  {
   "cell_type": "code",
   "execution_count": 8,
   "metadata": {},
   "outputs": [
    {
     "data": {
      "text/plain": [
       "BenchmarkTools.Trial: \n",
       "  memory estimate:  0 bytes\n",
       "  allocs estimate:  0\n",
       "  --------------\n",
       "  minimum time:     2.133 μs (0.00% GC)\n",
       "  median time:      2.233 μs (0.00% GC)\n",
       "  mean time:        3.020 μs (0.00% GC)\n",
       "  maximum time:     92.367 μs (0.00% GC)\n",
       "  --------------\n",
       "  samples:          10000\n",
       "  evals/sample:     9"
      ]
     },
     "execution_count": 8,
     "metadata": {},
     "output_type": "execute_result"
    }
   ],
   "source": [
    "bm_objgrad = @benchmark logl!($obs, $β, $L, $σ², true)"
   ]
  },
  {
   "cell_type": "markdown",
   "metadata": {},
   "source": [
    "My median runt time is 2.1μs. You will get full credit (10 pts) if the median run time is within 10μs."
   ]
  },
  {
   "cell_type": "code",
   "execution_count": 9,
   "metadata": {},
   "outputs": [
    {
     "data": {
      "text/plain": [
       "10.0"
      ]
     },
     "execution_count": 9,
     "metadata": {},
     "output_type": "execute_result"
    }
   ],
   "source": [
    "#  The points you will get are\n",
    "clamp(10 / (median(bm_objgrad).time / 1e3) * 10, 0, 10)"
   ]
  },
  {
   "cell_type": "code",
   "execution_count": 10,
   "metadata": {},
   "outputs": [],
   "source": [
    "# # check for type stability\n",
    "# @code_warntype logl!(obs, β, L, σ², true)"
   ]
  },
  {
   "cell_type": "code",
   "execution_count": 11,
   "metadata": {},
   "outputs": [],
   "source": [
    "# using Profile\n",
    "\n",
    "# Profile.clear()\n",
    "# @profile for i in 1:10000; logl!(obs, β, L, σ², true); end\n",
    "# Profile.print(format=:flat)"
   ]
  },
  {
   "cell_type": "markdown",
   "metadata": {},
   "source": [
    "## Q3. LmmModel type\n",
    "\n",
    "We create a `LmmModel` type to hold all data points and model parameters. Log-likelihood/gradient of a `LmmModel` object is simply the sum of log-likelihood/gradient of individual data points. "
   ]
  },
  {
   "cell_type": "code",
   "execution_count": 12,
   "metadata": {},
   "outputs": [
    {
     "data": {
      "text/plain": [
       "logl!"
      ]
     },
     "execution_count": 12,
     "metadata": {},
     "output_type": "execute_result"
    }
   ],
   "source": [
    "# define a type that holds LMM model (data + parameters)\n",
    "struct LmmModel{T <: AbstractFloat} <: MathProgBase.AbstractNLPEvaluator\n",
    "    # data\n",
    "    data :: Vector{LmmObs{T}}\n",
    "    # parameters\n",
    "    β    :: Vector{T}\n",
    "    L    :: Matrix{T}\n",
    "    σ²   :: Vector{T}    \n",
    "    # arrays for holding gradient\n",
    "    ∇β   :: Vector{T}\n",
    "    ∇σ²  :: Vector{T}\n",
    "    ∇L   :: Matrix{T}\n",
    "    # TODO: add whatever intermediate arrays you may want to pre-allocate\n",
    "    xty  :: Vector{T}\n",
    "    ztr2 :: Vector{T}\n",
    "    xtx  :: Matrix{T}\n",
    "    ztz2 :: Matrix{T}\n",
    "end\n",
    "\n",
    "\"\"\"\n",
    "    LmmModel(data::Vector{LmmObs})\n",
    "\n",
    "Create an LMM model that contains data and parameters.\n",
    "\"\"\"\n",
    "function LmmModel(obsvec::Vector{LmmObs{T}}) where T <: AbstractFloat\n",
    "    # dims\n",
    "    p    = size(obsvec[1].X, 2)\n",
    "    q    = size(obsvec[1].Z, 2)\n",
    "    # parameters\n",
    "    β    = Vector{T}(undef, p)\n",
    "    L    = Matrix{T}(undef, q, q)\n",
    "    σ²   = Vector{T}(undef, 1)    \n",
    "    # gradients\n",
    "    ∇β   = similar(β)    \n",
    "    ∇σ²  = similar(σ²)\n",
    "    ∇L   = similar(L)\n",
    "    # intermediate arrays\n",
    "    xty  = Vector{T}(undef, p)\n",
    "    ztr2 = Vector{T}(undef, abs2(q))\n",
    "    xtx  = Matrix{T}(undef, p, p)\n",
    "    ztz2 = Matrix{T}(undef, abs2(q), abs2(q))\n",
    "    LmmModel(obsvec, β, L, σ², ∇β, ∇σ², ∇L, xty, ztr2, xtx, ztz2)\n",
    "end\n",
    "\n",
    "\"\"\"\n",
    "    logl!(m::LmmModel, needgrad=false)\n",
    "\n",
    "Evaluate the log-likelihood of an LMM model at parameter values `m.β`, `m.L`, \n",
    "and `m.σ²`. If `needgrad==true`, then `m.∇β`, `m.∇Σ`, and `m.σ² are filled \n",
    "with the corresponding gradient.\n",
    "\"\"\"\n",
    "function logl!(m::LmmModel{T}, needgrad::Bool = false) where T <: AbstractFloat\n",
    "    logl = zero(T)\n",
    "    if needgrad\n",
    "        fill!(m.∇β , 0)\n",
    "        fill!(m.∇L , 0)\n",
    "        fill!(m.∇σ², 0)        \n",
    "    end\n",
    "    @inbounds for i in 1:length(m.data)\n",
    "        obs = m.data[i]\n",
    "        logl += logl!(obs, m.β, m.L, m.σ²[1], needgrad)\n",
    "        if needgrad\n",
    "            BLAS.axpy!(T(1), obs.∇β, m.∇β)\n",
    "            BLAS.axpy!(T(1), obs.∇Σ, m.∇L)\n",
    "            m.∇σ²[1] += obs.∇σ²[1]\n",
    "        end\n",
    "    end\n",
    "    # obtain gradient wrt L: m.∇L = m.∇L * L\n",
    "    if needgrad\n",
    "       BLAS.trmm!('R', 'L', 'N', 'N', T(1), m.L, m.∇L)\n",
    "    end\n",
    "    logl\n",
    "end"
   ]
  },
  {
   "cell_type": "markdown",
   "metadata": {},
   "source": [
    "## Q4. (20 pts) Test data\n",
    "\n",
    "Let's generate a fake longitudinal data set to test our algorithm."
   ]
  },
  {
   "cell_type": "code",
   "execution_count": 13,
   "metadata": {},
   "outputs": [],
   "source": [
    "Random.seed!(257)\n",
    "\n",
    "# dimension\n",
    "m      = 1000 # number of individuals\n",
    "ns     = rand(1500:2000, m) # numbers of observations per individual\n",
    "p      = 5 # number of fixed effects, including intercept\n",
    "q      = 3 # number of random effects, including intercept\n",
    "obsvec = Vector{LmmObs{Float64}}(undef, m)\n",
    "# true parameter values\n",
    "βtrue  = [0.1; 6.5; -3.5; 1.0; 5]\n",
    "σ²true = 1.5\n",
    "σtrue  = sqrt(σ²true)\n",
    "Σtrue  = Matrix(Diagonal([2.0; 1.2; 1.0]))\n",
    "Ltrue  = Matrix(cholesky(Symmetric(Σtrue)).L)\n",
    "# generate data\n",
    "for i in 1:m\n",
    "    # first column intercept, remaining entries iid std normal\n",
    "    X = Matrix{Float64}(undef, ns[i], p)\n",
    "    X[:, 1] .= 1\n",
    "    @views Distributions.rand!(Normal(), X[:, 2:p])\n",
    "    # first column intercept, remaining entries iid std normal\n",
    "    Z = Matrix{Float64}(undef, ns[i], q)\n",
    "    Z[:, 1] .= 1\n",
    "    @views Distributions.rand!(Normal(), Z[:, 2:q])\n",
    "    # generate y\n",
    "    y = X * βtrue .+ Z * (Ltrue * randn(q)) .+ σtrue * randn(ns[i])\n",
    "    # form a LmmObs instance\n",
    "    obsvec[i] = LmmObs(y, X, Z)\n",
    "end\n",
    "# form a LmmModel instance\n",
    "lmm = LmmModel(obsvec);"
   ]
  },
  {
   "cell_type": "markdown",
   "metadata": {},
   "source": [
    "For later comparison with other software, we save the data into a text file `lmm_data.csv`. **Do not put this file in Git.** It takes 246.6MB storage."
   ]
  },
  {
   "cell_type": "code",
   "execution_count": 14,
   "metadata": {},
   "outputs": [],
   "source": [
    "(isfile(\"lmm_data.csv\") && filesize(\"lmm_data.csv\") == 244697920) || \n",
    "open(\"lmm_data.csv\", \"w\") do io\n",
    "    p = size(lmm.data[1].X, 2)\n",
    "    q = size(lmm.data[1].Z, 2)\n",
    "    # print header\n",
    "    print(io, \"ID,Y,\")\n",
    "    for j in 1:(p-1)\n",
    "        print(io, \"X\" * string(j) * \",\")\n",
    "    end\n",
    "    for j in 1:(q-1)\n",
    "        print(io, \"Z\" * string(j) * (j < q-1 ? \",\" : \"\\n\"))\n",
    "    end\n",
    "    # print data\n",
    "    for i in eachindex(lmm.data)\n",
    "        obs = lmm.data[i]\n",
    "        for j in 1:length(obs.y)\n",
    "            # id\n",
    "            print(io, i, \",\")\n",
    "            # Y\n",
    "            print(io, obs.y[j], \",\")\n",
    "            # X data\n",
    "            for k in 2:p\n",
    "                print(io, obs.X[j, k], \",\")\n",
    "            end\n",
    "            # Z data\n",
    "            for k in 2:q-1\n",
    "                print(io, obs.Z[j, k], \",\")\n",
    "            end\n",
    "            print(io, obs.Z[j, q], \"\\n\")\n",
    "        end\n",
    "    end\n",
    "end"
   ]
  },
  {
   "cell_type": "markdown",
   "metadata": {},
   "source": [
    "### Correctness\n",
    "\n",
    "Evaluate log-likelihood and gradient of whole data set at the true parameter values."
   ]
  },
  {
   "cell_type": "code",
   "execution_count": 15,
   "metadata": {},
   "outputs": [
    {
     "name": "stdout",
     "output_type": "stream",
     "text": [
      "obj = logl!(lmm, true) = -2.8342752296337793e6\n",
      "lmm.∇β = [11.772120067088501, -1925.690543528424, -590.4811426628444, 2112.441770062485, 2261.460483839474]\n",
      "lmm.∇σ² = [911.8747620554699]\n",
      "lmm.∇L = [24.419901311384674 24.011922772746747 16.563768481546486; 30.99925900308877 -59.40190266157789 46.583314134713625; 23.424706030611244 51.02946390986379 12.038870789765543]\n"
     ]
    }
   ],
   "source": [
    "copy!(lmm.β, βtrue)\n",
    "copy!(lmm.L, Ltrue)\n",
    "lmm.σ²[1] = σ²true\n",
    "@show obj = logl!(lmm, true)\n",
    "@show lmm.∇β\n",
    "@show lmm.∇σ²\n",
    "@show lmm.∇L;"
   ]
  },
  {
   "cell_type": "markdown",
   "metadata": {},
   "source": [
    "Test correctness. You will loss all 20 points if following code throws `AssertError`."
   ]
  },
  {
   "cell_type": "code",
   "execution_count": 16,
   "metadata": {},
   "outputs": [],
   "source": [
    "@assert abs(obj - (-2.8342752296337797e6)) < 1e-6\n",
    "@assert norm(lmm.∇β - [11.772120067073923, -1925.690543528459, \n",
    "        -590.4811426628461, 2112.441770062488, 2261.4604838395016]) < 1e-6\n",
    "@assert norm(lmm.∇L - [24.419901311377576 24.01192277273847 16.563768481574012; \n",
    "        30.99925900307824 -59.40190266157969 46.58331413470851; \n",
    "        23.424706030649975 51.029463909858194 12.038870789777398]) < 1e-6\n",
    "@assert abs(lmm.∇σ²[1] - (911.8747620554551)) < 1e-6"
   ]
  },
  {
   "cell_type": "markdown",
   "metadata": {},
   "source": [
    "### Efficiency\n",
    "\n",
    "Test efficiency."
   ]
  },
  {
   "cell_type": "code",
   "execution_count": 17,
   "metadata": {},
   "outputs": [
    {
     "data": {
      "text/plain": [
       "BenchmarkTools.Trial: \n",
       "  memory estimate:  0 bytes\n",
       "  allocs estimate:  0\n",
       "  --------------\n",
       "  minimum time:     2.251 ms (0.00% GC)\n",
       "  median time:      2.579 ms (0.00% GC)\n",
       "  mean time:        2.888 ms (0.00% GC)\n",
       "  maximum time:     6.700 ms (0.00% GC)\n",
       "  --------------\n",
       "  samples:          1722\n",
       "  evals/sample:     1"
      ]
     },
     "execution_count": 17,
     "metadata": {},
     "output_type": "execute_result"
    }
   ],
   "source": [
    "bm_model = @benchmark logl!($lmm, true)"
   ]
  },
  {
   "cell_type": "markdown",
   "metadata": {},
   "source": [
    "My median run time is 2.122ms. You will get full credit if your median run time is within 10ms. The points you will get are"
   ]
  },
  {
   "cell_type": "code",
   "execution_count": 18,
   "metadata": {},
   "outputs": [
    {
     "data": {
      "text/plain": [
       "10.0"
      ]
     },
     "execution_count": 18,
     "metadata": {},
     "output_type": "execute_result"
    }
   ],
   "source": [
    "clamp(10 / (median(bm_model).time / 1e6) * 10, 0, 10)"
   ]
  },
  {
   "cell_type": "markdown",
   "metadata": {},
   "source": [
    "### Memory\n",
    "\n",
    "You will lose 1 point for each 100 bytes memory allocation. So the points you will get is"
   ]
  },
  {
   "cell_type": "code",
   "execution_count": 19,
   "metadata": {},
   "outputs": [
    {
     "data": {
      "text/plain": [
       "10.0"
      ]
     },
     "execution_count": 19,
     "metadata": {},
     "output_type": "execute_result"
    }
   ],
   "source": [
    "clamp(10 - median(bm_model).memory / 100, 0, 10)"
   ]
  },
  {
   "cell_type": "markdown",
   "metadata": {},
   "source": [
    "## Q5. (30 pts) Starting point\n",
    "\n",
    "For numerical optimization, a good starting point is critical. Let's start $\\boldsymbol{\\beta}$ and $\\sigma^2$ from the least sqaures solutions (ignoring intra-individual correlations)\n",
    "\\begin{eqnarray*}\n",
    "\\boldsymbol{\\beta}^{(0)} &=& \\left(\\sum_i \\mathbf{X}_i^T \\mathbf{X}_i\\right)^{-1} \\left(\\sum_i \\mathbf{X}_i^T \\mathbf{y}_i\\right) \\\\\n",
    "\\sigma^{2(0)} &=& \\frac{\\sum_i \\|\\mathbf{r}_i^{(0)}\\|_2^2}{\\sum_i n_i} = \\frac{\\sum_i \\|\\mathbf{y}_i - \\mathbf{X}_i \\boldsymbol{\\beta}^{(0)}\\|_2^2}{\\sum_i n_i}.\n",
    "\\end{eqnarray*}\n",
    "To get a reasonable starting point for $\\boldsymbol{\\Sigma} = \\mathbf{L} \\mathbf{L}^T$, we can minimize the least squares criterion (ignoring the noise variance component)\n",
    "$$\n",
    "    \\text{minimize} \\sum_i \\| \\mathbf{r}_i^{(0)} \\mathbf{r}_i^{(0)T} - \\mathbf{Z}_i \\boldsymbol{\\Sigma} \\mathbf{Z}_i^T \\|_{\\text{F}}^2.\n",
    "$$\n",
    "Derive the minimizer $\\boldsymbol{\\Sigma}^{(0)}$ (10 pts). "
   ]
  },
  {
   "cell_type": "markdown",
   "metadata": {},
   "source": [
    "$$\\nabla_{\\Sigma} \\Sigma_i || \\mathbf{r}_i^{(0)} \\mathbf{r}_i^{(0)T} - \\mathbf{Z_i \\Sigma Z_i^T}||^2_F = 0$$\n",
    "$$\\nabla_{\\Sigma} \\Sigma_i tr\\Big[(\\mathbf{r}_i^{(0)} \\mathbf{r}_i^{(0)T} - \\mathbf{Z_i \\Sigma Z_i^T})(\\mathbf{r}_i^{(0)} \\mathbf{r}_i^{(0)T} - \\mathbf{Z_i \\Sigma Z_i^T})^T \\Big] = 0$$\n",
    "$$\\nabla_{\\Sigma} \\Sigma_i \\Big[ tr((\\mathbf{r}_i^{(0)}\\mathbf{r}_i^{(0)T}\\mathbf{r}_i^{(0)}\\mathbf{r}_i^{(0)T} - 2tr(\\mathbf{Z_i\\Sigma Z_i^T}\\mathbf{r}_i^{(0)}\\mathbf{r}_i^{(0)T}) + tr(\\mathbf{Z_i\\Sigma Z_i^T}\\mathbf{Z_i\\Sigma Z_i^T})  \\Big] = 0 $$\n",
    "$$\\Sigma_i \\Big[ -2(\\mathbf{Z_i}^T\\mathbf{r}_i^{(0)}\\mathbf{r}_i^{(0)T}\\mathbf{Z_i}) + 2(\\mathbf{Z_i}^T\\mathbf{Z_i}\\Sigma\\mathbf{Z_i}^T\\mathbf{Z_i}) \\Big] = 0 $$\n",
    "$$\\Sigma_i \\mathbf{Z_i}^T\\mathbf{r}_i^{(0)}\\mathbf{r}_i^{(0)T}\\mathbf{Z_i} = \\Sigma_i \\mathbf{Z_i}^T\\mathbf{Z_i}\\Sigma\\mathbf{Z_i}^T\\mathbf{Z_i}$$\n",
    "$$\\Sigma_i(\\mathbf{Z_i}^T\\mathbf{r}_i^{(0)} \\otimes \\mathbf{Z_i}^T\\mathbf{r}_i^{(0)}) = \\Sigma_i(\\mathbf{Z_i}^T\\mathbf{Z}_i \\otimes \\mathbf{Z_i}^T\\mathbf{Z}_i)\\text{vec}\\mathbf{\\Sigma}^{(0)}$$"
   ]
  },
  {
   "cell_type": "markdown",
   "metadata": {},
   "source": [
    "We implement this start point strategy in the function `init_ls()`."
   ]
  },
  {
   "cell_type": "code",
   "execution_count": 27,
   "metadata": {},
   "outputs": [
    {
     "data": {
      "text/plain": [
       "init_ls!"
      ]
     },
     "execution_count": 27,
     "metadata": {},
     "output_type": "execute_result"
    }
   ],
   "source": [
    "\"\"\"\n",
    "    init_ls!(m::LmmModel)\n",
    "\n",
    "Initialize parameters of a `LmmModel` object from the least squares estimate. \n",
    "`m.β`, `m.L`, and `m.σ²` are overwritten with the least squares estimates.\n",
    "\"\"\"\n",
    "function init_ls!(m::LmmModel{T}) where T <: AbstractFloat\n",
    "    p, q = size(m.data[1].X, 2), size(m.data[1].Z, 2)\n",
    "    # TODO: fill m.β, m.L, m.σ² by LS estimates\n",
    "    \n",
    "    ##### m.β ######\n",
    "    m.xtx .= T(0)\n",
    "    m.xty .= T(0)\n",
    "    @inbounds for i in 1:length(m.data)\n",
    "        BLAS.axpby!(T(1), m.data[i].xtx, T(1), m.xtx)\n",
    "        BLAS.axpby!(T(1), m.data[i].xty, T(1), m.xty)\n",
    "    end\n",
    "    LAPACK.potrf!('L', m.xtx)\n",
    "    LAPACK.potrs!('L', m.xtx, m.xty)\n",
    "    m.β .= m.xty\n",
    "    \n",
    "    rsum = T(0)\n",
    "    nsum = T(0)\n",
    "    m.ztr2 .= T(0)\n",
    "    m.ztz2 .= T(0)\n",
    "    \n",
    "    #σ^2 and L\n",
    "    @inbounds for i in 1:length(m.data)\n",
    "        #σ2\n",
    "        obs = m.data[i]\n",
    "        BLAS.gemv!('N', T(1), obs.xtx, m.β, T(0), obs.storage_p)\n",
    "        rsum += obs.yty - 2 * dot(m.β, obs.xty) + dot(m.β, obs.storage_p)\n",
    "        nsum += size(obs.X, 1)\n",
    "        \n",
    "        #Σ\n",
    "        BLAS.gemv!('N', T(1), obs.ztx, m.β, T(0), obs.storage_q)\n",
    "        BLAS.axpby!(T(1), obs.zty, T(-1), obs.storage_q)\n",
    "        BLAS.gemm!('N', 'T', T(1), obs.storage_q, obs.storage_q, T(0), obs.storage_qq)\n",
    "        \n",
    "        BLAS.axpby!(T(1), vec(obs.storage_qq), T(1), m.ztr2)\n",
    "        BLAS.axpby!(T(1), kron(obs.ztz, obs.ztz), T(1), m.ztz2)\n",
    "    end\n",
    "    \n",
    "    m.σ² .= rsum / nsum\n",
    "    LAPACK.potrf!('L', m.ztz2)\n",
    "    LAPACK.potrs!('L', m.ztz2, m.ztr2)\n",
    "    m.L .= reshape(m.ztr2, q, q)\n",
    "    LAPACK.potrf!('L', m.L)\n",
    "    \n",
    "    m\n",
    "\n",
    "end"
   ]
  },
  {
   "cell_type": "code",
   "execution_count": 28,
   "metadata": {},
   "outputs": [
    {
     "name": "stdout",
     "output_type": "stream",
     "text": [
      "logl!(lmm) = -3.352991227166444e6\n",
      "lmm.β = [0.1281424806084756, 6.497945035096697, -3.502138774770135, 1.0026609224782135, 5.002697971721905]\n",
      "lmm.σ² = [5.7017098859594295]\n",
      "lmm.L = [1.4420896005245072 0.05523492575567487 0.04021508338255688; 0.03830200684866266 1.0546394793870686 0.06543803114908456; 0.027886674564416892 0.06103499518749486 1.0014753586943543]\n"
     ]
    }
   ],
   "source": [
    "init_ls!(lmm)\n",
    "@show logl!(lmm)\n",
    "@show lmm.β\n",
    "@show lmm.σ²\n",
    "@show lmm.L;"
   ]
  },
  {
   "cell_type": "markdown",
   "metadata": {},
   "source": [
    "### Correctness\n",
    "\n",
    "Your start points should have a log-likelihood larger than -3.352991e6 (10 pts). The points you get are"
   ]
  },
  {
   "cell_type": "code",
   "execution_count": 29,
   "metadata": {},
   "outputs": [
    {
     "data": {
      "text/plain": [
       "0"
      ]
     },
     "execution_count": 29,
     "metadata": {},
     "output_type": "execute_result"
    }
   ],
   "source": [
    "# this is the points you get\n",
    "(logl!(lmm) >  -3.352991e6) * 10 #I'm off by a tiny bit... do I get some points?"
   ]
  },
  {
   "cell_type": "markdown",
   "metadata": {},
   "source": [
    "### Efficiency\n",
    "\n",
    "The start point should be computed quickly. Otherwise there is no point using it as a starting point. You get full credit (10 pts) if the median run time is within 1ms."
   ]
  },
  {
   "cell_type": "code",
   "execution_count": 32,
   "metadata": {},
   "outputs": [
    {
     "data": {
      "text/plain": [
       "BenchmarkTools.Trial: \n",
       "  memory estimate:  796.97 KiB\n",
       "  allocs estimate:  3002\n",
       "  --------------\n",
       "  minimum time:     584.900 μs (0.00% GC)\n",
       "  median time:      1.029 ms (0.00% GC)\n",
       "  mean time:        1.217 ms (7.65% GC)\n",
       "  maximum time:     17.907 ms (91.57% GC)\n",
       "  --------------\n",
       "  samples:          4056\n",
       "  evals/sample:     1"
      ]
     },
     "execution_count": 32,
     "metadata": {},
     "output_type": "execute_result"
    }
   ],
   "source": [
    "bm_init = @benchmark init_ls!($lmm)"
   ]
  },
  {
   "cell_type": "code",
   "execution_count": 33,
   "metadata": {},
   "outputs": [
    {
     "data": {
      "text/plain": [
       "9.713924911360435"
      ]
     },
     "execution_count": 33,
     "metadata": {},
     "output_type": "execute_result"
    }
   ],
   "source": [
    "# this is the points you get\n",
    "clamp(1 / (median(bm_init).time / 1e6) * 10, 0, 10)"
   ]
  },
  {
   "cell_type": "markdown",
   "metadata": {},
   "source": [
    "## Q6. NLP via MathProgBase.jl\n",
    "\n",
    "We define the NLP problem using the modelling tool MathProgBase.jl. Start-up code is given below. Modify if necessary to accomodate your own code."
   ]
  },
  {
   "cell_type": "code",
   "execution_count": 34,
   "metadata": {},
   "outputs": [],
   "source": [
    "\"\"\"\n",
    "    fit!(m::LmmModel, solver=Ipopt.IpoptSolver(print_level=5))\n",
    "\n",
    "Fit an `LmmModel` object by MLE using a nonlinear programming solver. Start point \n",
    "should be provided in `m.β`, `m.σ²`, `m.L`.\n",
    "\"\"\"\n",
    "function fit!(\n",
    "        m::LmmModel,\n",
    "        solver=Ipopt.IpoptSolver(print_level=5)\n",
    "    )\n",
    "    p    = size(m.data[1].X, 2)\n",
    "    q    = size(m.data[1].Z, 2)\n",
    "    npar = p + ((q * (q + 1)) >> 1) + 1\n",
    "    optm = MathProgBase.NonlinearModel(solver)\n",
    "    # set lower bounds and upper bounds of parameters\n",
    "    # diagonal entries of Cholesky factor L should be >= 0\n",
    "    lb   = fill(-Inf, npar)\n",
    "    ub   = fill( Inf, npar)\n",
    "    offset = p + 1\n",
    "    for j in 1:q, i in j:q\n",
    "        i == j && (lb[offset] = 0)\n",
    "        offset += 1\n",
    "    end\n",
    "    # σ² should be >= 0\n",
    "    lb[end] = 0\n",
    "    MathProgBase.loadproblem!(optm, npar, 0, lb, ub, Float64[], Float64[], :Max, m)\n",
    "    # starting point\n",
    "    par0 = zeros(npar)\n",
    "    modelpar_to_optimpar!(par0, m)\n",
    "    MathProgBase.setwarmstart!(optm, par0)\n",
    "    # optimize\n",
    "    MathProgBase.optimize!(optm)\n",
    "    optstat = MathProgBase.status(optm)\n",
    "    optstat == :Optimal || @warn(\"Optimization unsuccesful; got $optstat\")\n",
    "    # update parameters and refresh gradient\n",
    "    optimpar_to_modelpar!(m, MathProgBase.getsolution(optm))\n",
    "    logl!(m, true)\n",
    "    m\n",
    "end\n",
    "\n",
    "\"\"\"\n",
    "    modelpar_to_optimpar!(par, m)\n",
    "\n",
    "Translate model parameters in `m` to optimization variables in `par`.\n",
    "\"\"\"\n",
    "function modelpar_to_optimpar!(\n",
    "        par :: Vector,\n",
    "        m   :: LmmModel\n",
    "    )\n",
    "    p = size(m.data[1].X, 2)\n",
    "    q = size(m.data[1].Z, 2)\n",
    "    # β\n",
    "    copyto!(par, m.β)\n",
    "    # L\n",
    "    offset = p + 1\n",
    "    @inbounds for j in 1:q, i in j:q\n",
    "        par[offset] = m.L[i, j]\n",
    "        offset += 1\n",
    "    end\n",
    "    # σ²\n",
    "    par[end] = m.σ²[1]\n",
    "    par\n",
    "end\n",
    "\n",
    "\"\"\"\n",
    "    optimpar_to_modelpar!(m, par)\n",
    "\n",
    "Translate optimization variables in `par` to the model parameters in `m`.\n",
    "\"\"\"\n",
    "function optimpar_to_modelpar!(\n",
    "        m   :: LmmModel, \n",
    "        par :: Vector\n",
    "    )\n",
    "    p = size(m.data[1].X, 2)\n",
    "    q = size(m.data[1].Z, 2)\n",
    "    # β\n",
    "    copyto!(m.β, 1, par, 1, p)\n",
    "    # L\n",
    "    fill!(m.L, 0)\n",
    "    offset = p + 1\n",
    "    @inbounds for j in 1:q, i in j:q\n",
    "        m.L[i, j] = par[offset]\n",
    "        offset   += 1\n",
    "    end\n",
    "    # σ²\n",
    "    m.σ²[1] = par[end]    \n",
    "    m\n",
    "end\n",
    "\n",
    "function MathProgBase.initialize(\n",
    "        m                  :: LmmModel, \n",
    "        requested_features :: Vector{Symbol}\n",
    "    )\n",
    "    for feat in requested_features\n",
    "        if !(feat in [:Grad])\n",
    "            error(\"Unsupported feature $feat\")\n",
    "        end\n",
    "    end\n",
    "end\n",
    "\n",
    "MathProgBase.features_available(m::LmmModel) = [:Grad]\n",
    "\n",
    "function MathProgBase.eval_f(\n",
    "        m   :: LmmModel, \n",
    "        par :: Vector\n",
    "    )\n",
    "    optimpar_to_modelpar!(m, par)\n",
    "    logl!(m, false) # don't need gradient here\n",
    "end\n",
    "\n",
    "function MathProgBase.eval_grad_f(\n",
    "        m    :: LmmModel, \n",
    "        grad :: Vector, \n",
    "        par  :: Vector\n",
    "    )\n",
    "    p = size(m.data[1].X, 2)\n",
    "    q = size(m.data[1].Z, 2)\n",
    "    optimpar_to_modelpar!(m, par) \n",
    "    obj = logl!(m, true)\n",
    "    # gradient wrt β\n",
    "    copyto!(grad, m.∇β)\n",
    "    # gradient wrt L\n",
    "    offset = p + 1\n",
    "    @inbounds for j in 1:q, i in j:q\n",
    "        grad[offset] = m.∇L[i, j]\n",
    "        offset += 1\n",
    "    end\n",
    "    # gradient with respect to σ²\n",
    "    grad[end] = m.∇σ²[1]\n",
    "    # return objective\n",
    "    obj\n",
    "end\n",
    "\n",
    "MathProgBase.eval_g(m::LmmModel, g, par) = nothing\n",
    "MathProgBase.jac_structure(m::LmmModel) = Int[], Int[]\n",
    "MathProgBase.eval_jac_g(m::LmmModel, J, par) = nothing"
   ]
  },
  {
   "cell_type": "markdown",
   "metadata": {},
   "source": [
    "## Q7. (20 pts) Test drive\n",
    "\n",
    "Now we can run our NLP solver to compute the MLE. For grading purpose, we first use the `:LD_LBFGS` (limited-memory BFGS) algorithm in NLopt.jl here."
   ]
  },
  {
   "cell_type": "code",
   "execution_count": 35,
   "metadata": {},
   "outputs": [
    {
     "name": "stdout",
     "output_type": "stream",
     "text": [
      "objective value at starting point: -3.352991227166444e6\n",
      "\n",
      "  0.934325 seconds (1.41 M allocations: 77.626 MiB, 2.19% gc time, 79.58% compilation time)\n",
      "objective value at solution: -2.8342645023651966e6\n",
      "\n",
      "solution values:\n",
      "lmm.β = [0.12388629760346724, 6.498337317354213, -3.500513032000156, 1.0018219635872092, 5.001953731877158]\n",
      "lmm.σ² = [1.5023520680547384]\n",
      "lmm.L * transpose(lmm.L) = [2.068475398236644 0.052988012429554386 0.03270586394768; 0.052988012429554386 1.1218126148596779 0.05601703426041022; 0.03270586394768 0.05601703426041022 1.0120445772781155]\n",
      "gradient @ solution:\n",
      "lmm.∇β = [-0.02119663939725913, -0.03658541135844473, -0.02581992069586292, -0.006978528263754669, -0.020006137234296784]\n",
      "lmm.∇σ² = [7.247118285391707e-5]\n",
      "lmm.∇L = [0.028937710817051574 0.058121747531433676 0.00504257863021318; 0.07769516666590533 -0.013892286805657149 -0.020951408656709445; 0.006676463701668346 -0.02156595095705487 0.009911044379260213]\n",
      "sqrt(abs2(norm(lmm.∇β)) + abs2(norm(lmm.∇σ²) + abs2(norm(LowerTriangular(lmm.∇L))))) = 0.05443734061470924\n"
     ]
    },
    {
     "data": {
      "text/plain": [
       "0.05443734061470924"
      ]
     },
     "execution_count": 35,
     "metadata": {},
     "output_type": "execute_result"
    }
   ],
   "source": [
    "# initialize from least squares\n",
    "init_ls!(lmm)\n",
    "println(\"objective value at starting point: \", logl!(lmm)); println()\n",
    "\n",
    "@time fit!(lmm, NLopt.NLoptSolver(algorithm =:LD_LBFGS, \n",
    "        ftol_rel = 1e-12, ftol_abs = 1e-12, \n",
    "        xtol_rel = 1e-12, xtol_abs = 1e-12, \n",
    "        maxeval=10000));\n",
    "\n",
    "println(\"objective value at solution: \", logl!(lmm)); println()\n",
    "println(\"solution values:\")\n",
    "@show lmm.β\n",
    "@show lmm.σ²\n",
    "@show lmm.L * transpose(lmm.L)\n",
    "println(\"gradient @ solution:\")\n",
    "@show lmm.∇β\n",
    "@show lmm.∇σ²\n",
    "@show lmm.∇L\n",
    "@show sqrt(abs2(norm(lmm.∇β)) + abs2(norm(lmm.∇σ²) + \n",
    "        abs2(norm(LowerTriangular(lmm.∇L)))))"
   ]
  },
  {
   "cell_type": "markdown",
   "metadata": {},
   "source": [
    "### Correctness\n",
    "\n",
    "You get 10 points if the following code does not throw `AssertError`."
   ]
  },
  {
   "cell_type": "code",
   "execution_count": 36,
   "metadata": {},
   "outputs": [],
   "source": [
    "# objective at solution should be close enough to the optimal\n",
    "@assert logl!(lmm) > -2.83427e6\n",
    "# gradient at solution should be small enough\n",
    "@assert sqrt(abs2(norm(lmm.∇β)) + abs2(norm(lmm.∇σ²) + \n",
    "        abs2(norm(LowerTriangular(lmm.∇L))))) < 0.1"
   ]
  },
  {
   "cell_type": "markdown",
   "metadata": {},
   "source": [
    "### Efficiency\n",
    "\n",
    "My median run time is 132.5ms. You get 10 points if your median time is within 1s(=1000ms)."
   ]
  },
  {
   "cell_type": "code",
   "execution_count": 37,
   "metadata": {},
   "outputs": [
    {
     "data": {
      "text/plain": [
       "BenchmarkTools.Trial: \n",
       "  memory estimate:  11.70 KiB\n",
       "  allocs estimate:  249\n",
       "  --------------\n",
       "  minimum time:     179.521 ms (0.00% GC)\n",
       "  median time:      192.070 ms (0.00% GC)\n",
       "  mean time:        193.928 ms (0.00% GC)\n",
       "  maximum time:     210.604 ms (0.00% GC)\n",
       "  --------------\n",
       "  samples:          26\n",
       "  evals/sample:     1"
      ]
     },
     "execution_count": 37,
     "metadata": {},
     "output_type": "execute_result"
    }
   ],
   "source": [
    "bm_bfgs = @benchmark fit!($lmm, $(NLopt.NLoptSolver(algorithm=:LD_LBFGS, \n",
    "        ftol_rel = 1e-12, ftol_abs = 1e-12, \n",
    "        xtol_rel = 1e-12, xtol_abs = 1e-12, \n",
    "        maxeval = 10000))) setup = (init_ls!(lmm))"
   ]
  },
  {
   "cell_type": "code",
   "execution_count": 38,
   "metadata": {},
   "outputs": [
    {
     "data": {
      "text/plain": [
       "10.0"
      ]
     },
     "execution_count": 38,
     "metadata": {},
     "output_type": "execute_result"
    }
   ],
   "source": [
    "# this is the points you get\n",
    "clamp(1 / (median(bm_bfgs).time / 1e9) * 10, 0, 10)"
   ]
  },
  {
   "cell_type": "markdown",
   "metadata": {},
   "source": [
    "## Q8. (10 pts) Gradient free vs gradient-based methods\n",
    "\n",
    "Advantage of using a modelling tool such as MathProgBase.jl is that we can easily switch the backend solvers. For a research problem, we never know beforehand which solver works best. \n",
    "\n",
    "Try different solvers in the NLopt.jl and Ipopt.jl packages. Compare the results in terms run times (the shorter the better), objective values at solution (the larger the better), and gradients at solution (closer to 0 the better). Summarize what you find.\n",
    "\n",
    "See this [page](https://nlopt.readthedocs.io/en/latest/NLopt_Algorithms/) for the descriptions of algorithms in NLopt.\n",
    "\n",
    "Documentation for the Ipopt can be found [here](https://coin-or.github.io/Ipopt/). "
   ]
  },
  {
   "cell_type": "code",
   "execution_count": 39,
   "metadata": {},
   "outputs": [
    {
     "name": "stdout",
     "output_type": "stream",
     "text": [
      "\r\n",
      "******************************************************************************\r\n",
      "This program contains Ipopt, a library for large-scale nonlinear optimization.\r\n",
      " Ipopt is released as open source code under the Eclipse Public License (EPL).\r\n",
      "         For more information visit https://github.com/coin-or/Ipopt\r\n",
      "******************************************************************************\r\n",
      "\r\n"
     ]
    }
   ],
   "source": [
    "# vector of solvers to compare\n",
    "solvers = [\n",
    "    # NLopt: gradient-based algorithms\n",
    "    NLopt.NLoptSolver(algorithm=:LD_LBFGS, \n",
    "        ftol_rel = 1e-12, ftol_abs = 1e-12,\n",
    "        xtol_rel = 1e-12, xtol_abs = 1e-12,\n",
    "        maxeval=10000),\n",
    "    NLopt.NLoptSolver(algorithm=:LD_MMA, \n",
    "        ftol_rel = 1e-12, ftol_abs = 1e-12, \n",
    "        xtol_rel = 1e-12, xtol_abs = 1e-12, \n",
    "        maxeval=10000),\n",
    "    # NLopt: gradient-free algorithms\n",
    "    NLopt.NLoptSolver(algorithm=:LN_BOBYQA, \n",
    "        ftol_rel = 1e-12, ftol_abs = 1e-12, \n",
    "        xtol_rel = 1e-12, xtol_abs = 1e-12, \n",
    "        maxeval=10000),\n",
    "    # Ipopt\n",
    "    Ipopt.IpoptSolver(print_level=0)\n",
    "]\n",
    "# containers for results\n",
    "runtime = zeros(length(solvers))\n",
    "objvals = zeros(length(solvers))\n",
    "gradnrm = zeros(length(solvers))\n",
    "\n",
    "for (i, solver) in enumerate(solvers)\n",
    "    bm = @benchmark fit!($lmm, $solver) setup = (init_ls!(lmm))\n",
    "    runtime[i] = median(bm).time / 1e9\n",
    "    objvals[i] = logl!(lmm, true)\n",
    "    gradnrm[i] = sqrt(abs2(norm(lmm.∇β)) + abs2(norm(lmm.∇σ²) + \n",
    "        abs2(norm(LowerTriangular(lmm.∇L)))))\n",
    "end"
   ]
  },
  {
   "cell_type": "code",
   "execution_count": 40,
   "metadata": {},
   "outputs": [
    {
     "data": {
      "text/html": [
       "<table class=\"data-frame\"><thead><tr><th></th><th>Runtime</th><th>Objective</th><th>Gradnorm</th></tr><tr><th></th><th>Float64</th><th>Float64</th><th>Float64</th></tr></thead><tbody><p>4 rows × 3 columns</p><tr><th>1</th><td>0.190873</td><td>-2.83426e6</td><td>0.0544373</td></tr><tr><th>2</th><td>0.224578</td><td>-2.83426e6</td><td>0.00527049</td></tr><tr><th>3</th><td>0.0726252</td><td>-2.83539e6</td><td>31729.5</td></tr><tr><th>4</th><td>5.5766</td><td>-2.83426e6</td><td>1.04792e-5</td></tr></tbody></table>"
      ],
      "text/latex": [
       "\\begin{tabular}{r|ccc}\n",
       "\t& Runtime & Objective & Gradnorm\\\\\n",
       "\t\\hline\n",
       "\t& Float64 & Float64 & Float64\\\\\n",
       "\t\\hline\n",
       "\t1 & 0.190873 & -2.83426e6 & 0.0544373 \\\\\n",
       "\t2 & 0.224578 & -2.83426e6 & 0.00527049 \\\\\n",
       "\t3 & 0.0726252 & -2.83539e6 & 31729.5 \\\\\n",
       "\t4 & 5.5766 & -2.83426e6 & 1.04792e-5 \\\\\n",
       "\\end{tabular}\n"
      ],
      "text/plain": [
       "\u001b[1m4×3 DataFrame\u001b[0m\n",
       "\u001b[1m Row \u001b[0m│\u001b[1m Runtime   \u001b[0m\u001b[1m Objective  \u001b[0m\u001b[1m Gradnorm       \u001b[0m\n",
       "\u001b[1m     \u001b[0m│\u001b[90m Float64   \u001b[0m\u001b[90m Float64    \u001b[0m\u001b[90m Float64        \u001b[0m\n",
       "─────┼───────────────────────────────────────\n",
       "   1 │ 0.190873   -2.83426e6      0.0544373\n",
       "   2 │ 0.224578   -2.83426e6      0.00527049\n",
       "   3 │ 0.0726252  -2.83539e6  31729.5\n",
       "   4 │ 5.5766     -2.83426e6      1.04792e-5"
      ]
     },
     "execution_count": 40,
     "metadata": {},
     "output_type": "execute_result"
    }
   ],
   "source": [
    "DataFrame(Runtime = runtime, Objective = objvals, Gradnorm = gradnrm)"
   ]
  },
  {
   "cell_type": "markdown",
   "metadata": {},
   "source": [
    "For the four solvers, their objectives were all equivalent. Thus, the only comparison point for the \"best\" solution is based on gradient and runtime. Of the four, the closest to 0 gradient was the Ipopt solver, but this comes at the cost of having the highest runtime by a factor of about 30-40 times. The highest gradient comes from that of the gradient-free algorithm - besides that, it comes with the solver with the shortest runtime (low storage BFGS in NLopt). However, it may be argued that the MMA method is superior to this one, as it sacrifices a small amount of runtime for a 10x lower gradient."
   ]
  },
  {
   "cell_type": "markdown",
   "metadata": {},
   "source": [
    "## Q9. (10 pts) Compare with existing art\n",
    "\n",
    "Let's compare our method with lme4 package in R and MixedModels.jl package in Julia. Both lme4 and MixedModels.jl are developed mainly by Doug Bates. Summarize what you find."
   ]
  },
  {
   "cell_type": "code",
   "execution_count": 41,
   "metadata": {},
   "outputs": [],
   "source": [
    "method  = [\"257\", \"lme4\", \"MixedModels.jl\"]\n",
    "runtime = zeros(3)  # record the run times\n",
    "loglike = zeros(3); # record the log-likelihood at MLE"
   ]
  },
  {
   "cell_type": "markdown",
   "metadata": {},
   "source": [
    "### Your approach"
   ]
  },
  {
   "cell_type": "code",
   "execution_count": 42,
   "metadata": {},
   "outputs": [
    {
     "data": {
      "text/plain": [
       "-2.834264502360533e6"
      ]
     },
     "execution_count": 42,
     "metadata": {},
     "output_type": "execute_result"
    }
   ],
   "source": [
    "bm_257 = @benchmark fit!($lmm, $(NLopt.NLoptSolver(algorithm=:LD_MMA, \n",
    "        ftol_rel = 1e-12, ftol_abs = 1e-12, \n",
    "        xtol_rel = 1e-12, xtol_abs = 1e-12, \n",
    "        maxeval=10000))) setup=(init_ls!(lmm))\n",
    "runtime[1] = (median(bm_257).time) / 1e9\n",
    "loglike[1] = logl!(lmm)"
   ]
  },
  {
   "cell_type": "markdown",
   "metadata": {},
   "source": [
    "### lme4 "
   ]
  },
  {
   "cell_type": "code",
   "execution_count": 47,
   "metadata": {},
   "outputs": [
    {
     "name": "stderr",
     "output_type": "stream",
     "text": [
      "┌ Warning: RCall.jl: Warning: package 'lme4' was built under R version 4.0.5\n",
      "│ Loading required package: Matrix\n",
      "└ @ RCall C:\\Users\\Kelly Li\\.julia\\packages\\RCall\\3mHXJ\\src\\io.jl:160\n",
      "┌ Warning: RCall.jl: Warning: package 'readr' was built under R version 4.0.5\n",
      "└ @ RCall C:\\Users\\Kelly Li\\.julia\\packages\\RCall\\3mHXJ\\src\\io.jl:160\n",
      "┌ Warning: RCall.jl: Warning: package 'magrittr' was built under R version 4.0.5\n",
      "└ @ RCall C:\\Users\\Kelly Li\\.julia\\packages\\RCall\\3mHXJ\\src\\io.jl:160\n"
     ]
    },
    {
     "name": "stdout",
     "output_type": "stream",
     "text": [
      "\n",
      "-- Column specification --------------------------------------------------------\n",
      "cols(\n",
      "  ID = col_double(),\n",
      "  Y = col_double(),\n",
      "  X1 = col_double(),\n",
      "  X2 = col_double(),\n",
      "  X3 = col_double(),\n",
      "  X4 = col_double(),\n",
      "  Z1 = col_double(),\n",
      "  Z2 = col_double()\n",
      ")\n",
      "\n"
     ]
    },
    {
     "data": {
      "text/plain": [
       "RObject{VecSxp}\n",
       "# A tibble: 1,740,119 x 8\n",
       "      ID       Y      X1     X2      X3      X4      Z1      Z2\n",
       "   <dbl>   <dbl>   <dbl>  <dbl>   <dbl>   <dbl>   <dbl>   <dbl>\n",
       " 1     1   2.26  -0.358   0.379 -0.107   0.784  -1.28   -1.96  \n",
       " 2     1  10.5   -0.592  -0.540  1.14    1.46   -0.747   1.26  \n",
       " 3     1 -13.6   -1.91    0.719  0.758  -0.865  -1.70    0.0890\n",
       " 4     1   5.30  -0.106  -0.170  0.279   0.742  -0.0259  0.827 \n",
       " 5     1  11.0   -0.0209 -1.80   1.72    0.761  -0.562  -1.47  \n",
       " 6     1  -0.313  0.565   1.99  -0.437  -0.102   1.27    1.38  \n",
       " 7     1  -0.688 -0.451   0.906  2.23   -0.386  -1.83    0.276 \n",
       " 8     1  -4.50  -1.38   -0.527 -0.0893  0.210   1.19    1.49  \n",
       " 9     1   8.48   1.20    0.148  1.19    0.172   2.22    1.11  \n",
       "10     1  -4.39  -0.435   1.85  -0.146  -0.0681 -1.16    1.03  \n",
       "# ... with 1,740,109 more rows\n"
      ]
     },
     "execution_count": 47,
     "metadata": {},
     "output_type": "execute_result"
    }
   ],
   "source": [
    "R\"\"\"\n",
    "library(lme4)\n",
    "library(readr)\n",
    "library(magrittr)\n",
    "\n",
    "testdata <- read_csv(\"lmm_data.csv\")\n",
    "\"\"\""
   ]
  },
  {
   "cell_type": "code",
   "execution_count": 48,
   "metadata": {},
   "outputs": [
    {
     "data": {
      "text/plain": [
       "RObject{RealSxp}\n",
       "   user  system elapsed \n",
       " 102.72   28.89  137.98 \n"
      ]
     },
     "execution_count": 48,
     "metadata": {},
     "output_type": "execute_result"
    }
   ],
   "source": [
    "R\"\"\"\n",
    "rtime <- system.time(mmod <- \n",
    "  lmer(Y ~ X1 + X2 + X3 + X4 + (1 + Z1 + Z2 | ID), testdata, REML = FALSE))\n",
    "\"\"\""
   ]
  },
  {
   "cell_type": "code",
   "execution_count": 49,
   "metadata": {},
   "outputs": [],
   "source": [
    "R\"\"\"\n",
    "rtime <- rtime[\"elapsed\"]\n",
    "summary(mmod)\n",
    "rlogl <- logLik(mmod)\n",
    "\"\"\"\n",
    "runtime[2] = @rget rtime\n",
    "loglike[2] = @rget rlogl;"
   ]
  },
  {
   "cell_type": "markdown",
   "metadata": {},
   "source": [
    "### MixedModels.jl\n",
    "\n"
   ]
  },
  {
   "cell_type": "code",
   "execution_count": 50,
   "metadata": {},
   "outputs": [
    {
     "data": {
      "text/html": [
       "<table class=\"data-frame\"><thead><tr><th></th><th>ID</th><th>Y</th><th>X1</th><th>X2</th><th>X3</th><th>X4</th><th>Z1</th><th>Z2</th></tr><tr><th></th><th>String</th><th>Float64</th><th>Float64</th><th>Float64</th><th>Float64</th><th>Float64</th><th>Float64</th><th>Float64</th></tr></thead><tbody><p>1,740,119 rows × 8 columns</p><tr><th>1</th><td>1</td><td>2.26056</td><td>-0.358432</td><td>0.379066</td><td>-0.106696</td><td>0.783914</td><td>-1.27916</td><td>-1.9616</td></tr><tr><th>2</th><td>1</td><td>10.4825</td><td>-0.592442</td><td>-0.540181</td><td>1.13762</td><td>1.46277</td><td>-0.746512</td><td>1.26418</td></tr><tr><th>3</th><td>1</td><td>-13.5503</td><td>-1.91127</td><td>0.71865</td><td>0.757802</td><td>-0.86518</td><td>-1.69606</td><td>0.088986</td></tr><tr><th>4</th><td>1</td><td>5.29505</td><td>-0.106051</td><td>-0.16981</td><td>0.279181</td><td>0.741984</td><td>-0.0258785</td><td>0.827073</td></tr><tr><th>5</th><td>1</td><td>11.0453</td><td>-0.0209066</td><td>-1.7958</td><td>1.72241</td><td>0.760698</td><td>-0.561809</td><td>-1.46954</td></tr><tr><th>6</th><td>1</td><td>-0.31277</td><td>0.56542</td><td>1.98757</td><td>-0.437112</td><td>-0.102006</td><td>1.26906</td><td>1.382</td></tr><tr><th>7</th><td>1</td><td>-0.688038</td><td>-0.451169</td><td>0.905654</td><td>2.23043</td><td>-0.386278</td><td>-1.83272</td><td>0.276094</td></tr><tr><th>8</th><td>1</td><td>-4.50433</td><td>-1.37714</td><td>-0.527188</td><td>-0.0893463</td><td>0.210053</td><td>1.19325</td><td>1.49268</td></tr><tr><th>9</th><td>1</td><td>8.48327</td><td>1.19613</td><td>0.147975</td><td>1.18613</td><td>0.171897</td><td>2.21632</td><td>1.10782</td></tr><tr><th>10</th><td>1</td><td>-4.39333</td><td>-0.435225</td><td>1.85372</td><td>-0.146076</td><td>-0.0680953</td><td>-1.16104</td><td>1.03218</td></tr><tr><th>11</th><td>1</td><td>15.7926</td><td>0.595085</td><td>-0.232817</td><td>0.794726</td><td>1.00022</td><td>-1.15537</td><td>1.02629</td></tr><tr><th>12</th><td>1</td><td>9.95056</td><td>0.957732</td><td>0.583794</td><td>0.773587</td><td>0.625502</td><td>-1.27891</td><td>-1.50479</td></tr><tr><th>13</th><td>1</td><td>9.74998</td><td>0.322045</td><td>-0.560801</td><td>-1.53879</td><td>0.426649</td><td>-0.0684275</td><td>0.669316</td></tr><tr><th>14</th><td>1</td><td>-2.69394</td><td>-1.00551</td><td>0.961706</td><td>1.12846</td><td>1.44736</td><td>1.2569</td><td>-0.855953</td></tr><tr><th>15</th><td>1</td><td>6.89646</td><td>0.250805</td><td>0.44355</td><td>0.903055</td><td>1.27226</td><td>0.457537</td><td>-1.45829</td></tr><tr><th>16</th><td>1</td><td>20.3203</td><td>0.75816</td><td>-0.290027</td><td>1.94501</td><td>1.47178</td><td>-0.537222</td><td>1.24119</td></tr><tr><th>17</th><td>1</td><td>18.542</td><td>1.66944</td><td>-0.0432987</td><td>-1.38799</td><td>1.16964</td><td>-1.96713</td><td>-0.136738</td></tr><tr><th>18</th><td>1</td><td>-0.623921</td><td>0.220057</td><td>-0.674527</td><td>-1.06705</td><td>-0.418813</td><td>1.26056</td><td>-1.11447</td></tr><tr><th>19</th><td>1</td><td>2.3814</td><td>0.816658</td><td>-0.350844</td><td>1.6054</td><td>-0.762341</td><td>0.452624</td><td>-1.19017</td></tr><tr><th>20</th><td>1</td><td>-7.51737</td><td>-1.53388</td><td>-0.271443</td><td>-0.998628</td><td>0.00505767</td><td>0.161111</td><td>-0.243012</td></tr><tr><th>21</th><td>1</td><td>1.11256</td><td>0.224888</td><td>-0.191126</td><td>0.602739</td><td>-0.950823</td><td>-0.345051</td><td>0.692227</td></tr><tr><th>22</th><td>1</td><td>13.8549</td><td>1.5505</td><td>-0.764887</td><td>0.177658</td><td>-0.324024</td><td>-0.0803439</td><td>0.350911</td></tr><tr><th>23</th><td>1</td><td>-9.15891</td><td>-2.65739</td><td>-1.4452</td><td>-0.931399</td><td>1.23641</td><td>-0.0109637</td><td>-2.604</td></tr><tr><th>24</th><td>1</td><td>-10.4133</td><td>-0.96302</td><td>0.0324643</td><td>-0.362355</td><td>-1.96805</td><td>0.0457221</td><td>1.9613</td></tr><tr><th>25</th><td>1</td><td>2.21312</td><td>-0.77664</td><td>-1.13549</td><td>-1.46907</td><td>0.558622</td><td>0.0976433</td><td>0.336411</td></tr><tr><th>26</th><td>1</td><td>-9.90644</td><td>-1.58893</td><td>0.877787</td><td>0.766974</td><td>0.142447</td><td>-0.234025</td><td>0.882289</td></tr><tr><th>27</th><td>1</td><td>-9.87693</td><td>-0.714725</td><td>0.202852</td><td>-1.49619</td><td>-1.08926</td><td>1.07144</td><td>0.766411</td></tr><tr><th>28</th><td>1</td><td>-1.05933</td><td>-0.182876</td><td>0.970061</td><td>0.349735</td><td>0.765297</td><td>0.437909</td><td>-0.0972751</td></tr><tr><th>29</th><td>1</td><td>9.72701</td><td>0.502059</td><td>-0.355481</td><td>-0.0404538</td><td>0.408754</td><td>1.08286</td><td>2.08933</td></tr><tr><th>30</th><td>1</td><td>8.88389</td><td>0.774358</td><td>-0.99397</td><td>-1.31258</td><td>0.298631</td><td>-0.275272</td><td>-0.801766</td></tr><tr><th>&vellip;</th><td>&vellip;</td><td>&vellip;</td><td>&vellip;</td><td>&vellip;</td><td>&vellip;</td><td>&vellip;</td><td>&vellip;</td><td>&vellip;</td></tr></tbody></table>"
      ],
      "text/latex": [
       "\\begin{tabular}{r|cccccccc}\n",
       "\t& ID & Y & X1 & X2 & X3 & X4 & Z1 & Z2\\\\\n",
       "\t\\hline\n",
       "\t& String & Float64 & Float64 & Float64 & Float64 & Float64 & Float64 & Float64\\\\\n",
       "\t\\hline\n",
       "\t1 & 1 & 2.26056 & -0.358432 & 0.379066 & -0.106696 & 0.783914 & -1.27916 & -1.9616 \\\\\n",
       "\t2 & 1 & 10.4825 & -0.592442 & -0.540181 & 1.13762 & 1.46277 & -0.746512 & 1.26418 \\\\\n",
       "\t3 & 1 & -13.5503 & -1.91127 & 0.71865 & 0.757802 & -0.86518 & -1.69606 & 0.088986 \\\\\n",
       "\t4 & 1 & 5.29505 & -0.106051 & -0.16981 & 0.279181 & 0.741984 & -0.0258785 & 0.827073 \\\\\n",
       "\t5 & 1 & 11.0453 & -0.0209066 & -1.7958 & 1.72241 & 0.760698 & -0.561809 & -1.46954 \\\\\n",
       "\t6 & 1 & -0.31277 & 0.56542 & 1.98757 & -0.437112 & -0.102006 & 1.26906 & 1.382 \\\\\n",
       "\t7 & 1 & -0.688038 & -0.451169 & 0.905654 & 2.23043 & -0.386278 & -1.83272 & 0.276094 \\\\\n",
       "\t8 & 1 & -4.50433 & -1.37714 & -0.527188 & -0.0893463 & 0.210053 & 1.19325 & 1.49268 \\\\\n",
       "\t9 & 1 & 8.48327 & 1.19613 & 0.147975 & 1.18613 & 0.171897 & 2.21632 & 1.10782 \\\\\n",
       "\t10 & 1 & -4.39333 & -0.435225 & 1.85372 & -0.146076 & -0.0680953 & -1.16104 & 1.03218 \\\\\n",
       "\t11 & 1 & 15.7926 & 0.595085 & -0.232817 & 0.794726 & 1.00022 & -1.15537 & 1.02629 \\\\\n",
       "\t12 & 1 & 9.95056 & 0.957732 & 0.583794 & 0.773587 & 0.625502 & -1.27891 & -1.50479 \\\\\n",
       "\t13 & 1 & 9.74998 & 0.322045 & -0.560801 & -1.53879 & 0.426649 & -0.0684275 & 0.669316 \\\\\n",
       "\t14 & 1 & -2.69394 & -1.00551 & 0.961706 & 1.12846 & 1.44736 & 1.2569 & -0.855953 \\\\\n",
       "\t15 & 1 & 6.89646 & 0.250805 & 0.44355 & 0.903055 & 1.27226 & 0.457537 & -1.45829 \\\\\n",
       "\t16 & 1 & 20.3203 & 0.75816 & -0.290027 & 1.94501 & 1.47178 & -0.537222 & 1.24119 \\\\\n",
       "\t17 & 1 & 18.542 & 1.66944 & -0.0432987 & -1.38799 & 1.16964 & -1.96713 & -0.136738 \\\\\n",
       "\t18 & 1 & -0.623921 & 0.220057 & -0.674527 & -1.06705 & -0.418813 & 1.26056 & -1.11447 \\\\\n",
       "\t19 & 1 & 2.3814 & 0.816658 & -0.350844 & 1.6054 & -0.762341 & 0.452624 & -1.19017 \\\\\n",
       "\t20 & 1 & -7.51737 & -1.53388 & -0.271443 & -0.998628 & 0.00505767 & 0.161111 & -0.243012 \\\\\n",
       "\t21 & 1 & 1.11256 & 0.224888 & -0.191126 & 0.602739 & -0.950823 & -0.345051 & 0.692227 \\\\\n",
       "\t22 & 1 & 13.8549 & 1.5505 & -0.764887 & 0.177658 & -0.324024 & -0.0803439 & 0.350911 \\\\\n",
       "\t23 & 1 & -9.15891 & -2.65739 & -1.4452 & -0.931399 & 1.23641 & -0.0109637 & -2.604 \\\\\n",
       "\t24 & 1 & -10.4133 & -0.96302 & 0.0324643 & -0.362355 & -1.96805 & 0.0457221 & 1.9613 \\\\\n",
       "\t25 & 1 & 2.21312 & -0.77664 & -1.13549 & -1.46907 & 0.558622 & 0.0976433 & 0.336411 \\\\\n",
       "\t26 & 1 & -9.90644 & -1.58893 & 0.877787 & 0.766974 & 0.142447 & -0.234025 & 0.882289 \\\\\n",
       "\t27 & 1 & -9.87693 & -0.714725 & 0.202852 & -1.49619 & -1.08926 & 1.07144 & 0.766411 \\\\\n",
       "\t28 & 1 & -1.05933 & -0.182876 & 0.970061 & 0.349735 & 0.765297 & 0.437909 & -0.0972751 \\\\\n",
       "\t29 & 1 & 9.72701 & 0.502059 & -0.355481 & -0.0404538 & 0.408754 & 1.08286 & 2.08933 \\\\\n",
       "\t30 & 1 & 8.88389 & 0.774358 & -0.99397 & -1.31258 & 0.298631 & -0.275272 & -0.801766 \\\\\n",
       "\t$\\dots$ & $\\dots$ & $\\dots$ & $\\dots$ & $\\dots$ & $\\dots$ & $\\dots$ & $\\dots$ & $\\dots$ \\\\\n",
       "\\end{tabular}\n"
      ],
      "text/plain": [
       "\u001b[1m1740119×8 DataFrame\u001b[0m\n",
       "\u001b[1m     Row \u001b[0m│\u001b[1m ID     \u001b[0m\u001b[1m Y          \u001b[0m\u001b[1m X1         \u001b[0m\u001b[1m X2         \u001b[0m\u001b[1m X3         \u001b[0m\u001b[1m X4         \u001b[0m\u001b[1m\u001b[0m ⋯\n",
       "\u001b[1m         \u001b[0m│\u001b[90m String \u001b[0m\u001b[90m Float64    \u001b[0m\u001b[90m Float64    \u001b[0m\u001b[90m Float64    \u001b[0m\u001b[90m Float64    \u001b[0m\u001b[90m Float64    \u001b[0m\u001b[90m\u001b[0m ⋯\n",
       "─────────┼──────────────────────────────────────────────────────────────────────\n",
       "       1 │ 1         2.26056   -0.358432    0.379066   -0.106696    0.783914   ⋯\n",
       "       2 │ 1        10.4825    -0.592442   -0.540181    1.13762     1.46277\n",
       "       3 │ 1       -13.5503    -1.91127     0.71865     0.757802   -0.86518\n",
       "       4 │ 1         5.29505   -0.106051   -0.16981     0.279181    0.741984\n",
       "       5 │ 1        11.0453    -0.0209066  -1.7958      1.72241     0.760698   ⋯\n",
       "       6 │ 1        -0.31277    0.56542     1.98757    -0.437112   -0.102006\n",
       "       7 │ 1        -0.688038  -0.451169    0.905654    2.23043    -0.386278\n",
       "       8 │ 1        -4.50433   -1.37714    -0.527188   -0.0893463   0.210053\n",
       "       9 │ 1         8.48327    1.19613     0.147975    1.18613     0.171897   ⋯\n",
       "      10 │ 1        -4.39333   -0.435225    1.85372    -0.146076   -0.0680953\n",
       "      11 │ 1        15.7926     0.595085   -0.232817    0.794726    1.00022\n",
       "    ⋮    │   ⋮         ⋮           ⋮           ⋮           ⋮           ⋮       ⋱\n",
       " 1740110 │ 1000    -13.5062    -1.85752     0.591736    0.398962    0.300963\n",
       " 1740111 │ 1000     10.4863     1.13952    -0.644215    1.53642     0.0121005  ⋯\n",
       " 1740112 │ 1000      5.87307    1.13928     0.481375    0.0324381  -0.452974\n",
       " 1740113 │ 1000     -9.12574   -0.163416   -0.0116152   1.1094     -1.62655\n",
       " 1740114 │ 1000     -5.18885   -1.21116     0.273351   -1.33938     1.20792\n",
       " 1740115 │ 1000     -7.13686   -0.363287    0.166647    0.172267   -0.541405   ⋯\n",
       " 1740116 │ 1000      9.28008    1.1756     -0.463409    1.05948     0.125767\n",
       " 1740117 │ 1000    -13.2376    -1.55412    -0.342965   -0.2796     -1.25822\n",
       " 1740118 │ 1000     -7.75568   -1.21247     1.9239     -0.272451    1.53574\n",
       " 1740119 │ 1000     -8.13947   -0.559898    0.404145    0.836203   -0.960772   ⋯\n",
       "\u001b[36m                                              2 columns and 1740098 rows omitted\u001b[0m"
      ]
     },
     "execution_count": 50,
     "metadata": {},
     "output_type": "execute_result"
    }
   ],
   "source": [
    "testdata = CSV.File(\"lmm_data.csv\", types = Dict(1=>String)) |> DataFrame"
   ]
  },
  {
   "cell_type": "code",
   "execution_count": 51,
   "metadata": {},
   "outputs": [
    {
     "data": {
      "text/plain": [
       "1.0958445"
      ]
     },
     "execution_count": 51,
     "metadata": {},
     "output_type": "execute_result"
    }
   ],
   "source": [
    "mj = fit(MixedModel, @formula(Y ~ X1 + X2 + X3 + X4 + (1 + Z1 + Z2 | ID)), testdata)\n",
    "bm_mm = @benchmark fit(MixedModel, @formula(Y ~ X1 + X2 + X3 + X4 + (1 + Z1 + Z2 | ID)), testdata)\n",
    "loglike[3] = loglikelihood(mj)\n",
    "runtime[3] = median(bm_mm).time / 1e9"
   ]
  },
  {
   "cell_type": "code",
   "execution_count": 52,
   "metadata": {},
   "outputs": [
    {
     "data": {
      "text/plain": [
       "BenchmarkTools.Trial: \n",
       "  memory estimate:  879.30 MiB\n",
       "  allocs estimate:  5875\n",
       "  --------------\n",
       "  minimum time:     1.032 s (3.27% GC)\n",
       "  median time:      1.096 s (7.33% GC)\n",
       "  mean time:        1.091 s (7.25% GC)\n",
       "  maximum time:     1.157 s (10.79% GC)\n",
       "  --------------\n",
       "  samples:          5\n",
       "  evals/sample:     1"
      ]
     },
     "metadata": {},
     "output_type": "display_data"
    },
    {
     "data": {
      "text/latex": [
       "\\begin{tabular}\n",
       "{l | r | r | r | r | r}\n",
       " & Est. & SE & z & p & $\\sigma_\\text{ID}$ \\\\\n",
       "\\hline\n",
       "(Intercept) & 0.1238 & 0.0455 & 2.72 & 0.0064 & 1.4383 \\\\\n",
       "X1 & 6.4983 & 0.0009 & 6989.59 & <1e-99 &   \\\\\n",
       "X2 & -3.5005 & 0.0009 & -3765.89 & <1e-99 &   \\\\\n",
       "X3 & 1.0018 & 0.0009 & 1077.25 & <1e-99 &   \\\\\n",
       "X4 & 5.0020 & 0.0009 & 5377.18 & <1e-99 &   \\\\\n",
       "Z2 &  &  &  &  & 1.0060 \\\\\n",
       "Z1 &  &  &  &  & 1.0592 \\\\\n",
       "Residual & 1.2257 &  &  &  &  \\\\\n",
       "\\end{tabular}\n"
      ],
      "text/markdown": [
       "|             |    Est. |     SE |        z |      p |   σ_ID |\n",
       "|:----------- | -------:| ------:| --------:| ------:| ------:|\n",
       "| (Intercept) |  0.1238 | 0.0455 |     2.72 | 0.0064 | 1.4383 |\n",
       "| X1          |  6.4983 | 0.0009 |  6989.59 | <1e-99 |        |\n",
       "| X2          | -3.5005 | 0.0009 | -3765.89 | <1e-99 |        |\n",
       "| X3          |  1.0018 | 0.0009 |  1077.25 | <1e-99 |        |\n",
       "| X4          |  5.0020 | 0.0009 |  5377.18 | <1e-99 |        |\n",
       "| Z2          |         |        |          |        | 1.0060 |\n",
       "| Z1          |         |        |          |        | 1.0592 |\n",
       "| Residual    |  1.2257 |        |          |        |        |\n"
      ],
      "text/plain": [
       "Linear mixed model fit by maximum likelihood\n",
       " Y ~ 1 + X1 + X2 + X3 + X4 + (1 + Z1 + Z2 | ID)\n",
       "     logLik     -2 logLik        AIC           AICc          BIC      \n",
       " -2834264.5024  5668529.0047  5668553.0047  5668553.0049  5668701.4383\n",
       "\n",
       "Variance components:\n",
       "            Column   VarianceStd.Dev.  Corr.\n",
       "ID       (Intercept)  2.06881 1.43834\n",
       "         Z1           1.12182 1.05916 +0.03\n",
       "         Z2           1.01202 1.00599 +0.02 +0.05\n",
       "Residual              1.50235 1.22570\n",
       " Number of obs: 1740119; levels of grouping factors: 1000\n",
       "\n",
       "  Fixed-effects parameters:\n",
       "───────────────────────────────────────────────────────\n",
       "                 Coef.   Std. Error         z  Pr(>|z|)\n",
       "───────────────────────────────────────────────────────\n",
       "(Intercept)   0.123845  0.0454562        2.72    0.0064\n",
       "X1            6.49834   0.000929716   6989.59    <1e-99\n",
       "X2           -3.50051   0.000929532  -3765.89    <1e-99\n",
       "X3            1.00182   0.00092998    1077.25    <1e-99\n",
       "X4            5.00195   0.000930219   5377.18    <1e-99\n",
       "───────────────────────────────────────────────────────"
      ]
     },
     "execution_count": 52,
     "metadata": {},
     "output_type": "execute_result"
    }
   ],
   "source": [
    "display(bm_mm)\n",
    "mj"
   ]
  },
  {
   "cell_type": "markdown",
   "metadata": {},
   "source": [
    "### Summary"
   ]
  },
  {
   "cell_type": "code",
   "execution_count": 53,
   "metadata": {
    "scrolled": true
   },
   "outputs": [
    {
     "data": {
      "text/html": [
       "<table class=\"data-frame\"><thead><tr><th></th><th>method</th><th>runtime</th><th>logl</th></tr><tr><th></th><th>String</th><th>Float64</th><th>Float64</th></tr></thead><tbody><p>3 rows × 3 columns</p><tr><th>1</th><td>257</td><td>0.219616</td><td>-2.83426e6</td></tr><tr><th>2</th><td>lme4</td><td>137.98</td><td>-2.83426e6</td></tr><tr><th>3</th><td>MixedModels.jl</td><td>1.09584</td><td>-2.83426e6</td></tr></tbody></table>"
      ],
      "text/latex": [
       "\\begin{tabular}{r|ccc}\n",
       "\t& method & runtime & logl\\\\\n",
       "\t\\hline\n",
       "\t& String & Float64 & Float64\\\\\n",
       "\t\\hline\n",
       "\t1 & 257 & 0.219616 & -2.83426e6 \\\\\n",
       "\t2 & lme4 & 137.98 & -2.83426e6 \\\\\n",
       "\t3 & MixedModels.jl & 1.09584 & -2.83426e6 \\\\\n",
       "\\end{tabular}\n"
      ],
      "text/plain": [
       "\u001b[1m3×3 DataFrame\u001b[0m\n",
       "\u001b[1m Row \u001b[0m│\u001b[1m method         \u001b[0m\u001b[1m runtime    \u001b[0m\u001b[1m logl       \u001b[0m\n",
       "\u001b[1m     \u001b[0m│\u001b[90m String         \u001b[0m\u001b[90m Float64    \u001b[0m\u001b[90m Float64    \u001b[0m\n",
       "─────┼────────────────────────────────────────\n",
       "   1 │ 257               0.219616  -2.83426e6\n",
       "   2 │ lme4            137.98      -2.83426e6\n",
       "   3 │ MixedModels.jl    1.09584   -2.83426e6"
      ]
     },
     "execution_count": 53,
     "metadata": {},
     "output_type": "execute_result"
    }
   ],
   "source": [
    "DataFrame(method = method, runtime = runtime, logl = loglike)"
   ]
  },
  {
   "cell_type": "markdown",
   "metadata": {},
   "source": [
    "For the same log likelihood, my method is 50x faster than the Julia package, and 500x faster than the RStudio. This is very impressive!!"
   ]
  },
  {
   "cell_type": "markdown",
   "metadata": {},
   "source": [
    "## Q10. Be proud of yourself\n",
    "\n",
    "Go to your resume/cv and claim you have experience performing analysis on complex longitudinal data sets with millions of records. And you beat current software by XXX fold. "
   ]
  }
 ],
 "metadata": {
  "@webio": {
   "lastCommId": null,
   "lastKernelId": null
  },
  "kernelspec": {
   "display_name": "Julia 1.6.0",
   "language": "julia",
   "name": "julia-1.6"
  },
  "language_info": {
   "file_extension": ".jl",
   "mimetype": "application/julia",
   "name": "julia",
   "version": "1.6.0"
  },
  "toc": {
   "colors": {
    "hover_highlight": "#DAA520",
    "running_highlight": "#FF0000",
    "selected_highlight": "#FFD700"
   },
   "moveMenuLeft": true,
   "nav_menu": {
    "height": "87px",
    "width": "252px"
   },
   "navigate_menu": true,
   "number_sections": true,
   "sideBar": true,
   "skip_h1_title": true,
   "threshold": 4,
   "toc_cell": false,
   "toc_section_display": "block",
   "toc_window_display": false,
   "widenNotebook": false
  }
 },
 "nbformat": 4,
 "nbformat_minor": 4
}
