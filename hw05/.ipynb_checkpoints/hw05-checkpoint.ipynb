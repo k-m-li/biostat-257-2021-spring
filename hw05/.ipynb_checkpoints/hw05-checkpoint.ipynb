{
 "cells": [
  {
   "cell_type": "markdown",
   "metadata": {},
   "source": [
    "# Biostat 257 Homework 5\n",
    "\n",
    "**Due June 8 @ 11:59PM**"
   ]
  },
  {
   "cell_type": "code",
   "execution_count": 1,
   "metadata": {},
   "outputs": [
    {
     "name": "stdout",
     "output_type": "stream",
     "text": [
      "Julia Version 1.6.0\n",
      "Commit f9720dc2eb (2021-03-24 12:55 UTC)\n",
      "Platform Info:\n",
      "  OS: Windows (x86_64-w64-mingw32)\n",
      "  CPU: Intel(R) Core(TM) i7-8700 CPU @ 3.20GHz\n",
      "  WORD_SIZE: 64\n",
      "  LIBM: libopenlibm\n",
      "  LLVM: libLLVM-11.0.1 (ORCJIT, skylake)\n"
     ]
    }
   ],
   "source": [
    "versioninfo()"
   ]
  },
  {
   "cell_type": "markdown",
   "metadata": {},
   "source": [
    "Again we continue with the linear mixed effects model (LMM)\n",
    "$$\n",
    "    \\mathbf{Y}_i = \\mathbf{X}_i \\boldsymbol{\\beta} + \\mathbf{Z}_i \\boldsymbol{\\gamma}_i + \\boldsymbol{\\epsilon}_i, \\quad i=1,\\ldots,n,\n",
    "$$\n",
    "where   \n",
    "- $\\mathbf{Y}_i \\in \\mathbb{R}^{n_i}$ is the response vector of $i$-th individual,  \n",
    "- $\\mathbf{X}_i \\in \\mathbb{R}^{n_i \\times p}$ is the fixed effects predictor matrix of $i$-th individual,  \n",
    "- $\\mathbf{Z}_i \\in \\mathbb{R}^{n_i \\times q}$ is the random effects predictor matrix of $i$-th individual,  \n",
    "- $\\boldsymbol{\\epsilon}_i \\in \\mathbb{R}^{n_i}$ are multivariate normal $N(\\mathbf{0}_{n_i},\\sigma^2 \\mathbf{I}_{n_i})$,  \n",
    "- $\\boldsymbol{\\beta} \\in \\mathbb{R}^p$ are fixed effects, and  \n",
    "- $\\boldsymbol{\\gamma}_i \\in \\mathbb{R}^q$ are random effects assumed to be $N(\\mathbf{0}_q, \\boldsymbol{\\Sigma}_{q \\times q}$) independent of $\\boldsymbol{\\epsilon}_i$.\n",
    "\n",
    "The log-likelihood of the $i$-th datum $(\\mathbf{y}_i, \\mathbf{X}_i, \\mathbf{Z}_i)$ is \n",
    "$$\n",
    "    \\ell_i(\\boldsymbol{\\beta}, \\mathbf{L}, \\sigma_0^2) = - \\frac{n_i}{2} \\log (2\\pi) - \\frac{1}{2} \\log \\det \\boldsymbol{\\Omega}_i - \\frac{1}{2} (\\mathbf{y} - \\mathbf{X}_i \\boldsymbol{\\beta})^T \\boldsymbol{\\Omega}_i^{-1} (\\mathbf{y} - \\mathbf{X}_i \\boldsymbol{\\beta}),\n",
    "$$\n",
    "where\n",
    "$$\n",
    "    \\boldsymbol{\\Omega}_i = \\sigma^2 \\mathbf{I}_{n_i} + \\mathbf{Z}_i \\boldsymbol{\\Sigma} \\mathbf{Z}_i^T.\n",
    "$$\n",
    "Given $m$ independent data points $(\\mathbf{y}_i, \\mathbf{X}_i, \\mathbf{Z}_i)$, $i=1,\\ldots,m$, we seek the maximum likelihood estimate (MLE) by maximizing the log-likelihood\n",
    "$$\n",
    "\\ell(\\boldsymbol{\\beta}, \\boldsymbol{\\Sigma}, \\sigma_0^2) = \\sum_{i=1}^m \\ell_i(\\boldsymbol{\\beta}, \\boldsymbol{\\Sigma}, \\sigma_0^2).\n",
    "$$\n",
    "\n",
    "In HW4, we used the nonlinear programming (NLP) approach (Newton type algorithms) for optimization. In this assignment, we derive and implement an expectation-maximization (EM) algorithm for the same problem."
   ]
  },
  {
   "cell_type": "code",
   "execution_count": 2,
   "metadata": {},
   "outputs": [],
   "source": [
    "# load necessary packages; make sure install them first\n",
    "using BenchmarkTools, Distributions, LinearAlgebra, Random, Revise"
   ]
  },
  {
   "cell_type": "markdown",
   "metadata": {},
   "source": [
    "## Q1. (10 pts) Refresher on normal-normal model\n",
    "\n",
    "Assume the conditional distribution\n",
    "$$\n",
    "\\mathbf{y} \\mid \\boldsymbol{\\gamma} \\sim N(\\mathbf{X} \\boldsymbol{\\beta} + \\mathbf{Z} \\boldsymbol{\\gamma}, \\sigma^2 \\mathbf{I}_n)\n",
    "$$\n",
    "and the prior distribution\n",
    "$$\n",
    "\\boldsymbol{\\gamma} \\sim N(\\mathbf{0}_q, \\boldsymbol{\\Sigma}).\n",
    "$$\n",
    "By the Bayes theorem, the posterior distribution is\n",
    "\\begin{eqnarray*}\n",
    "f(\\boldsymbol{\\gamma} \\mid \\mathbf{y}) &=& \\frac{f(\\mathbf{y} \\mid \\boldsymbol{\\gamma}) \\times f(\\boldsymbol{\\gamma})}{f(\\mathbf{y})}, \\end{eqnarray*}\n",
    "where $f$ denotes corresponding density. \n",
    "\n",
    "Show that the posterior distribution of random effects $\\boldsymbol{\\gamma}$ is a multivariate normal with mean\n",
    "\\begin{eqnarray*}\n",
    "\\mathbb{E} (\\boldsymbol{\\gamma} \\mid \\mathbf{y}) &=& \\sigma^{-2} (\\sigma^{-2} \\mathbf{Z}^T \\mathbf{Z} + \\boldsymbol{\\Sigma}^{-1})^{-1 } \\mathbf{Z}^T (\\mathbf{y} - \\mathbf{X} \\boldsymbol{\\beta}) \\\\\n",
    "&=& \\boldsymbol{\\Sigma} \\mathbf{Z}^T (\\mathbf{Z} \\boldsymbol{\\Sigma} \\mathbf{Z}^T + \\sigma^2 \\mathbf{I})^{-1} (\\mathbf{y} - \\mathbf{X} \\boldsymbol{\\beta})\n",
    "\\end{eqnarray*}\n",
    "and covariance\n",
    "\\begin{eqnarray*}\n",
    "\\text{Var} (\\boldsymbol{\\gamma} \\mid \\mathbf{y}) &=& (\\sigma^{-2} \\mathbf{Z}^T \\mathbf{Z} + \\boldsymbol{\\Sigma}^{-1})^{-1} \\\\\n",
    "&=& \\boldsymbol{\\Sigma} - \\boldsymbol{\\Sigma} \\mathbf{Z}^T (\\mathbf{Z} \\boldsymbol{\\Sigma} \\mathbf{Z}^T + \\sigma^2 \\mathbf{I})^{-1} \\mathbf{Z} \\boldsymbol{\\Sigma}.\n",
    "\\end{eqnarray*}"
   ]
  },
  {
   "cell_type": "markdown",
   "metadata": {},
   "source": [
    "$$f( \\mathbf{\\gamma} | \\mathbf{y}) \\propto f( \\mathbf{y} | \\mathbf{\\gamma}) f(\\mathbf{\\gamma})$$\n",
    "$$ \\propto \\exp(-\\frac{1}{2}\\mathbf{\\gamma}^T\\mathbf{\\Sigma}^{-1}\\mathbf{\\gamma} - \\frac{1}{2} \\sigma^{-2} \\mathbf{\\gamma}^T \\mathbf{Z}^T\\mathbf{Z}\\mathbf{\\gamma} - \\sigma^{-2}\\mathbf{\\gamma}^T\\mathbf{Z}^T(\\mathbf{y} - \\mathbf{x\\beta}))$$\n",
    "$$ \\propto \\exp(-\\frac{1}{2}\\mathbf{\\gamma}^T(\\mathbf{\\Sigma}^{-1} + \\sigma^{-2}\\mathbf{Z}^T\\mathbf{Z})\\mathbf{\\gamma}^T - \\sigma^{-2}\\mathbf{\\gamma}^T\\mathbf{Z}^T(\\mathbf{y}- \\mathbf{X\\beta}))$$\n",
    "Thus,\n",
    "$$ \\mathbf{\\gamma} | \\mathbf{y} \\sim N((\\sigma^{-2}\\mathbf{Z}\\mathbf{Z}^T + \\mathbf{\\Sigma}^{-1})^{-1}\\sigma^{-2}\\mathbf{Z}^T(\\mathbf{y} - \\mathbf{X\\beta}), (\\sigma^{-2}\\mathbf{Z}^T\\mathbf{Z} + \\Sigma^{-1})^{-1}) $$\n",
    "Expectation:\n",
    "$$\\mathbb{E}(\\mathbf{\\gamma} | \\mathbf{y}) = (\\sigma^{-2}\\mathbf{Z}\\mathbf{Z}^T + \\mathbf{\\Sigma}^{-1})^{-1}\\sigma^{-2}\\mathbf{Z}^T(\\mathbf{y} - \\mathbf{X\\beta})$$\n",
    "$$ = \\mathbf{\\Sigma Z}^T(\\sigma^{-2}\\mathbf{I} - \\sigma^{-2}(\\sigma^2\\mathbf{I} + \\mathbf{Z\\Sigma Z}^T)^{-1}\\mathbf{Z\\Sigma Z}^T)(\\mathbf{y} - \\mathbf{X\\beta})$$\n",
    "$$ = \\mathbf{\\Sigma Z}^T(\\sigma^2\\mathbf{I} + \\mathbf{Z \\Sigma Z}^T)^{-1}(\\sigma^{-2}\\mathbf{I}(\\sigma^2\\mathbf{I} + \\mathbf{Z \\Sigma Z}^T) - \\sigma^{-2}\\mathbf{Z \\Sigma Z}^T)(\\mathbf{y} - \\mathbf{X\\beta})$$\n",
    "$$ = \\mathbf{\\Sigma Z}^T(\\sigma^2\\mathbf{I} + \\mathbf{Z \\Sigma Z}^T)^{-1}(\\mathbf{y} - \\mathbf{X\\beta})$$\n",
    "For variance, Woodbury Identity yields:\n",
    "$$ Var(\\mathbf{\\gamma} | \\mathbf{y}) = \\mathbf{\\Sigma} - \\mathbf{\\Sigma}\\mathbf{Z}^T(\\sigma^2\\mathbf{I} + \\mathbf{Z\\Sigma Z}^T)^{-1}\\mathbf{Z\\Sigma}$$"
   ]
  },
  {
   "cell_type": "markdown",
   "metadata": {},
   "source": [
    "## Q2. (20 pts) Derive EM algorithm\n",
    "\n",
    "1. Write down the complete log-likelihood\n",
    "$$\n",
    "\\sum_{i=1}^m \\log f(\\mathbf{y}_i, \\boldsymbol{\\gamma}_i \\mid \\boldsymbol{\\beta}, \\boldsymbol{\\Sigma}, \\sigma^2)\n",
    "$$\n",
    "\n",
    "$$ \\ell(\\mathbf{y_i, \\gamma_i} | \\mathbf{\\beta, \\Sigma}, \\sigma^2) = \\sum(\\log f(\\mathbf{y_i} | \\mathbf{\\gamma_i}, \\mathbf{\\beta}, \\sigma^2) + \\log f (\\mathbf{\\gamma_i} | \\mathbf{\\Sigma}))$$\n",
    "$$ = \\sum (-\\frac{n_i}{2}\\log(2\\pi) -\\frac{1}{2} \\log \\det (\\sigma^2\\mathbf{I}_{n_i}) -\\frac{1}{2}(\\mathbf{y_i} - \\mathbf{X_i\\beta} - \\mathbf{Z_i \\gamma _i})^T\\sigma^{-2}\\mathbf{I_{n_i}} (\\mathbf{y_i} - \\mathbf{X_i\\beta} - \\mathbf{Z_i \\gamma _i}) - \\frac{q}{2}\\log(2\\pi) - \\frac{1}{2} \\log \\det \\mathbf{\\Sigma} - \\frac{1}{2} \\mathbf{\\gamma}_i^T\\mathbf{\\Sigma}^{-1}\\mathbf{\\gamma}_i)$$\n",
    "2. Derive the $Q$ function (E-step).\n",
    "$$\n",
    "Q(\\boldsymbol{\\beta}, \\boldsymbol{\\Sigma}, \\sigma^2 \\mid \\boldsymbol{\\beta}^{(t)}, \\boldsymbol{\\Sigma}^{(t)}, \\sigma^{2(t)}).$$\n",
    "\n",
    "$$Q(\\boldsymbol{\\beta}, \\boldsymbol{\\Sigma}, \\sigma^2 \\mid \\boldsymbol{\\beta}^{(t)}, \\boldsymbol{\\Sigma}^{(t)}, \\sigma^{2(t)}) = \\mathbb{E}_{\\mathbf{\\gamma} | \\mathbf{y}, \\boldsymbol{\\beta}^{(t)}, \\boldsymbol{\\Sigma}^{(t)}, \\sigma^{2(t)}}( \\ell(\\mathbf{y_i, \\gamma_i} | \\mathbf{\\beta, \\Sigma}, \\sigma^2))$$\n",
    "$$ = - \\sum \\frac{n_i}{2}\\log(2\\pi) - \\sum \\frac{1}{2} \\log \\det (\\sigma^2\\mathbf{I}_{n_i}) - \\frac{1}{2}\\mathbb{E}((\\mathbf{y_i} - \\mathbf{X_i\\beta} - \\mathbf{Z_i \\gamma _i})^T\\sigma^{-2}\\mathbf{I_{n_i}} (\\mathbf{y_i} - \\mathbf{X_i\\beta} - \\mathbf{Z_i \\gamma _i})) - \\sum \\frac{q}{2}\\log(2\\pi) - \\sum \\frac{1}{2} \\log \\det \\mathbf{\\Sigma} - \\sum \\mathbb{E}(\\frac{1}{2} \\mathbf{\\gamma}_i^T\\mathbf{\\Sigma}^{-1}\\mathbf{\\gamma}_i)$$\n",
    "$$ =  - \\sum \\frac{n_i}{2}\\log(2\\pi) - \\sum \\frac{1}{2} \\log \\det (\\sigma^2\\mathbf{I}_{n_i}) - \\frac{1}{2\\sigma^2}[(\\mathbf{y_i} - \\mathbf{X_i\\beta})^T(\\mathbf{y_i} - \\mathbf{X_i\\beta}) -2(\\mathbf{y_i} - \\mathbf{X_i\\beta})\\mathbf{Z}\\mathbb{E}(\\mathbf{\\gamma} | \\mathbf{y}) + \\mathbb{E}(\\mathbf{\\gamma} | \\mathbf{y})^T\\mathbf{Z}_i^T\\mathbf{Z}_i\\mathbb{E}(\\mathbf{\\gamma} | \\mathbf{y})]$$\n",
    "$$- \\sum \\frac{q}{2}\\log(2\\pi) - \\sum \\frac{1}{2} \\log \\det \\mathbf{\\Sigma} - \\sum \\mathbb{E}(\\frac{1}{2} \\mathbf{\\gamma}_i^T\\mathbf{\\Sigma}^{-1}\\mathbf{\\gamma}_i)$$\n",
    "3. Derive the EM (or ECM) update of $\\boldsymbol{\\beta}$, $\\boldsymbol{\\Sigma}$, and $\\sigma^2$ (M-step). \n",
    "For better formatting, let:\n",
    "$$\\mathbb{E}(\\mathbf{r}^t\\mathbf{r}) = (\\mathbf{y_i} - \\mathbf{X_i\\beta})^T(\\mathbf{y_i} - \\mathbf{X_i\\beta}) -2(\\mathbf{y_i} - \\mathbf{X_i\\beta})\\mathbf{Z}\\mathbb{E}(\\mathbf{\\gamma} | \\mathbf{y}) + \\mathbb{E}(\\mathbf{\\gamma} | \\mathbf{y})^T\\mathbf{Z}_i^T\\mathbf{Z}_i\\mathbb{E}(\\mathbf{\\gamma} | \\mathbf{y}) $$\n",
    "\n",
    "$$\\frac{\\partial Q}{\\partial \\mathbf{\\beta}} = \\sum \\frac{1}{\\sigma^2}(\\mathbf{y}_i - \\mathbf{X_i\\beta}^T)\\mathbf{X}_i + 2\\mathbf{X}_i^T\\mathbf{Z_i}\\mathbb{E}(\\mathbf{\\gamma} | \\mathbf{y})) = 0$$\n",
    "$$\\mathbf{\\beta} = \\frac{\\sum (\\mathbf{X}_i^T\\mathbf{y}_i + \\mathbf{X}_i^T\\mathbf{Z}_i\\mathbb{E}(\\mathbf{\\gamma} | \\mathbf{y}))}{\\sum(\\mathbf{X}_i^T\\mathbf{X}_i)}$$\n",
    "\n",
    "$$\\frac{\\partial Q}{\\partial \\sigma^2} = -\\frac{1}{2}\\sum(\\frac{n_i}{\\sigma^2} - \\frac{1}{\\sigma^4}\\mathbb{E}(\\mathbf{r}^T\\mathbf{r})) = 0$$\n",
    "$$\\sigma^2 = \\frac{\\sum \\mathbb{E}(\\mathbf{r}^T\\mathbf{r})}{\\sum n_i}$$\n",
    "\n",
    "$$\\frac{\\partial Q}{\\partial \\Sigma} = m - \\sum \\mathbf{\\Sigma}^{-1}Var(\\mathbf{\\gamma} | \\mathbf{y})\\mathbf{\\Sigma}^{-1} - \\sum \\mathbb{E}(\\mathbf{\\gamma} | \\mathbf{y})\\mathbb{E}(\\mathbf{\\gamma} | \\mathbf{y})^T\\mathbf{\\Sigma}^{-1} = 0$$\n",
    "$$\\mathbf{\\Sigma} = \\frac{1}{m}(\\sum Var(\\mathbf{\\gamma} | \\mathbf{y}) + \\sum \\mathbb{E}(\\mathbf{\\gamma} | \\mathbf{y})\\mathbb{E}(\\mathbf{\\gamma} | \\mathbf{y})^T)$$"
   ]
  },
  {
   "cell_type": "markdown",
   "metadata": {},
   "source": [
    "## Q3. (20 pts) Objective of a single datum\n",
    "\n",
    "We modify the code from HW4 to evaluate the objective, the conditional mean of $\\boldsymbol{\\gamma}$, and the conditional variance of $\\boldsymbol{\\gamma}$. Start-up code is provided below. You do _not_ have to use this code."
   ]
  },
  {
   "cell_type": "code",
   "execution_count": 10,
   "metadata": {},
   "outputs": [
    {
     "data": {
      "text/plain": [
       "logl!"
      ]
     },
     "execution_count": 10,
     "metadata": {},
     "output_type": "execute_result"
    }
   ],
   "source": [
    "# define a type that holds an LMM datum\n",
    "struct LmmObs{T <: AbstractFloat}\n",
    "    # data\n",
    "    y          :: Vector{T}\n",
    "    X          :: Matrix{T}\n",
    "    Z          :: Matrix{T}\n",
    "    # posterior mean and variance of random effects γ\n",
    "    μγ         :: Vector{T} # posterior mean of random effects\n",
    "    νγ         :: Matrix{T} # posterior variance of random effects\n",
    "    # TODO: add whatever intermediate arrays you may want to pre-allocate\n",
    "    yty        :: T\n",
    "    rtr        :: Vector{T}\n",
    "    xty        :: Vector{T}\n",
    "    zty        :: Vector{T}\n",
    "    ztr        :: Vector{T}\n",
    "    ltztr      :: Vector{T}\n",
    "    xtr        :: Vector{T}\n",
    "    storage_p  :: Vector{T}\n",
    "    storage_q  :: Vector{T}\n",
    "    xtx        :: Matrix{T}\n",
    "    ztx        :: Matrix{T}\n",
    "    ztz        :: Matrix{T}\n",
    "    ltztzl     :: Matrix{T}\n",
    "    storage_qq :: Matrix{T}\n",
    "end\n",
    "\n",
    "\"\"\"\n",
    "    LmmObs(y::Vector, X::Matrix, Z::Matrix)\n",
    "\n",
    "Create an LMM datum of type `LmmObs`.\n",
    "\"\"\"\n",
    "function LmmObs(\n",
    "    y::Vector{T}, \n",
    "    X::Matrix{T}, \n",
    "    Z::Matrix{T}) where T <: AbstractFloat\n",
    "    n, p, q = size(X, 1), size(X, 2), size(Z, 2)\n",
    "    μγ         = Vector{T}(undef, q)\n",
    "    νγ         = Matrix{T}(undef, q, q)\n",
    "    yty        = abs2(norm(y))\n",
    "    rtr        = Vector{T}(undef, 1)\n",
    "    xty        = transpose(X) * y\n",
    "    zty        = transpose(Z) * y\n",
    "    ztr        = similar(zty)\n",
    "    ltztr      = similar(zty)\n",
    "    xtr        = Vector{T}(undef, p)\n",
    "    storage_p  = similar(xtr)\n",
    "    storage_q  = Vector{T}(undef, q)\n",
    "    xtx        = transpose(X) * X\n",
    "    ztx        = transpose(Z) * X\n",
    "    ztz        = transpose(Z) * Z\n",
    "    ltztzl     = similar(ztz)\n",
    "    storage_qq = similar(ztz)\n",
    "    LmmObs(y, X, Z, μγ, νγ, \n",
    "        yty, rtr, xty, zty, ztr, ltztr, xtr,\n",
    "        storage_p, storage_q, \n",
    "        xtx, ztx, ztz, ltztzl, storage_qq)\n",
    "end\n",
    "\n",
    "\"\"\"\n",
    "    logl!(obs::LmmObs, β, Σ, L, σ², updater = false)\n",
    "\n",
    "Evaluate the log-likelihood of a single LMM datum at parameter values `β`, `Σ`, \n",
    "and `σ²`. The lower triangular Cholesky factor `L` of `Σ` must be supplied too.\n",
    "The fields `obs.μγ` and `obs.νγ` are overwritten by the posterior mean and \n",
    "posterior variance of random effects. If `updater==true`, fields `obs.ztr`, \n",
    "`obs.xtr`, and `obs.rtr` are updated according to input parameter values. \n",
    "Otherwise, it assumes these three fields are pre-computed. \n",
    "\"\"\"\n",
    "function logl!(\n",
    "        obs     :: LmmObs{T}, \n",
    "        β       :: Vector{T}, \n",
    "        Σ       :: Matrix{T},\n",
    "        L       :: Matrix{T},\n",
    "        σ²      :: T,\n",
    "        updater :: Bool = false\n",
    "        ) where T <: AbstractFloat\n",
    "    n, p, q = size(obs.X, 1), size(obs.X, 2), size(obs.Z, 2)\n",
    "    σ²inv   = inv(σ²)\n",
    "    ####################\n",
    "    # Evaluate objective\n",
    "    ####################\n",
    "    # form the q-by-q matrix: Lt Zt Z L\n",
    "    copy!(obs.ltztzl, obs.ztz)\n",
    "    BLAS.trmm!('L', 'L', 'T', 'N', T(1), L, obs.ltztzl) # O(q^3)\n",
    "    BLAS.trmm!('R', 'L', 'N', 'N', T(1), L, obs.ltztzl) # O(q^3)        \n",
    "    # form the q-by-q matrix: M = σ² I + Lt Zt Z L\n",
    "    copy!(obs.storage_qq, obs.ltztzl)\n",
    "    @inbounds for j in 1:q\n",
    "        obs.storage_qq[j, j] += σ²\n",
    "    end\n",
    "    LAPACK.potrf!('U', obs.storage_qq) # O(q^3)\n",
    "    # Zt * res\n",
    "    updater && BLAS.gemv!('N', T(-1), obs.ztx, β, T(1), copy!(obs.ztr, obs.zty)) # O(pq)\n",
    "    # Lt * (Zt * res)\n",
    "    BLAS.trmv!('L', 'T', 'N', L, copy!(obs.ltztr, obs.ztr))    # O(q^2)\n",
    "    # storage_q = (Mchol.U') \\ (Lt * (Zt * res))\n",
    "    BLAS.trsv!('U', 'T', 'N', obs.storage_qq, copy!(obs.storage_q, obs.ltztr)) # O(q^3)\n",
    "    # Xt * res = Xt * y - Xt * X * β\n",
    "    updater && BLAS.gemv!('N', T(-1), obs.xtx, β, T(1), copy!(obs.xtr, obs.xty))\n",
    "    # l2 norm of residual vector\n",
    "    updater && (obs.rtr[1] = obs.yty - dot(obs.xty, β) - dot(obs.xtr, β))\n",
    "    # assemble pieces\n",
    "    logl::T = n * log(2π) + (n - q) * log(σ²) # constant term\n",
    "    @inbounds for j in 1:q # log det term\n",
    "        logl += 2log(obs.storage_qq[j, j])\n",
    "    end\n",
    "    qf    = abs2(norm(obs.storage_q)) # quadratic form term\n",
    "    logl += (obs.rtr[1] - qf) * σ²inv \n",
    "    logl /= -2\n",
    "    ######################################\n",
    "    # TODO: Evaluate posterior mean and variance\n",
    "    ######################################   \n",
    "    \n",
    "    #νγ\n",
    "    copy!(obs.νγ, L)\n",
    "    LAPACK.trtri!('L', 'N', obs.νγ)\n",
    "    BLAS.gemm!('T', 'N', T(1), obs.νγ, obs.νγ, T(0), obs.storage_qq)\n",
    "    BLAS.axpy!(1/σ², obs.ztz, obs.storage_qq)\n",
    "    \n",
    "    copy!(obs.νγ, obs.storage_qq)\n",
    "    LAPACK.potrf!('U',obs.νγ) \n",
    "    LAPACK.potri!('U', obs.νγ)\n",
    "    LinearAlgebra.copytri!(obs.νγ, 'U')\n",
    "    \n",
    "    #μγ\n",
    "    BLAS.gemm!('N','N', T(1), obs.νγ, obs.ztr, T(0), obs.μγ)\n",
    "    obs.μγ ./= σ²\n",
    "\n",
    "    # Return\n",
    "    ###################        \n",
    "    return logl\n",
    "end\n"
   ]
  },
  {
   "cell_type": "markdown",
   "metadata": {},
   "source": [
    "It is a good idea to test correctness and efficiency of the single datum objective/posterior mean/var evaluator here. It's the same test datum in HW2 and HW4."
   ]
  },
  {
   "cell_type": "code",
   "execution_count": 4,
   "metadata": {},
   "outputs": [],
   "source": [
    "Random.seed!(257)\n",
    "# dimension\n",
    "n, p, q = 2000, 5, 3\n",
    "# predictors\n",
    "X = [ones(n) randn(n, p - 1)]\n",
    "Z = [ones(n) randn(n, q - 1)]\n",
    "# parameter values\n",
    "β  = [2.0; -1.0; rand(p - 2)]\n",
    "σ² = 1.5\n",
    "Σ  = fill(0.1, q, q) + 0.9I # compound symmetry \n",
    "L  = Matrix(cholesky(Symmetric(Σ)).L)\n",
    "# generate y\n",
    "y  = X * β + Z * rand(MvNormal(Σ)) + sqrt(σ²) * randn(n)\n",
    "\n",
    "# form the LmmObs object\n",
    "obs = LmmObs(y, X, Z);"
   ]
  },
  {
   "cell_type": "markdown",
   "metadata": {},
   "source": [
    "### Correctness"
   ]
  },
  {
   "cell_type": "code",
   "execution_count": 11,
   "metadata": {},
   "outputs": [
    {
     "name": "stdout",
     "output_type": "stream",
     "text": [
      "logl = logl!(obs, β, Σ, L, σ², true) = -3261.9177559187583\n",
      "obs.μγ = [-1.2467648280833787, -0.02448852130995821, -0.7973392260495257]\n",
      "obs.νγ = [0.0007494365950329128 1.9689775091534504e-6 1.636132992910724e-6; 1.9689775091534504e-6 0.0007323744614646163 -1.0428608787480572e-5; 1.636132992910724e-6 -1.0428608787480572e-5 0.0007326509694024718]\n"
     ]
    }
   ],
   "source": [
    "@show logl = logl!(obs, β, Σ, L, σ², true)\n",
    "@show obs.μγ\n",
    "@show obs.νγ;"
   ]
  },
  {
   "cell_type": "markdown",
   "metadata": {},
   "source": [
    "You will lose all 20 points if following statement throws `AssertionError`."
   ]
  },
  {
   "cell_type": "code",
   "execution_count": 12,
   "metadata": {},
   "outputs": [],
   "source": [
    "@assert abs(logl - (-3261.9177559187597)) < 1e-8\n",
    "@assert norm(obs.μγ - [-1.2467648280832386, \n",
    "        -0.02448852130995758, -0.7973392260495442]) < 1e-8\n",
    "@assert norm(obs.νγ - [0.000749436595166797 1.9689775630068264e-6 1.6361330590481234e-6; \n",
    "        1.96897748759551e-6 0.0007323744616953198 -1.0428608786771824e-5; \n",
    "        1.6361330146430107e-6 -1.0428608802351851e-5 0.0007326509694599695]) < 1e-8"
   ]
  },
  {
   "cell_type": "markdown",
   "metadata": {},
   "source": [
    "### Efficiency"
   ]
  },
  {
   "cell_type": "markdown",
   "metadata": {},
   "source": [
    "Benchmark for efficiency."
   ]
  },
  {
   "cell_type": "code",
   "execution_count": 13,
   "metadata": {},
   "outputs": [
    {
     "data": {
      "text/plain": [
       "BenchmarkTools.Trial: \n",
       "  memory estimate:  0 bytes\n",
       "  allocs estimate:  0\n",
       "  --------------\n",
       "  minimum time:     1.340 μs (0.00% GC)\n",
       "  median time:      1.400 μs (0.00% GC)\n",
       "  mean time:        1.405 μs (0.00% GC)\n",
       "  maximum time:     5.080 μs (0.00% GC)\n",
       "  --------------\n",
       "  samples:          10000\n",
       "  evals/sample:     10"
      ]
     },
     "execution_count": 13,
     "metadata": {},
     "output_type": "execute_result"
    }
   ],
   "source": [
    "bm_obj = @benchmark logl!($obs, $β, $Σ, $L, $σ², true)"
   ]
  },
  {
   "cell_type": "markdown",
   "metadata": {},
   "source": [
    "My median runt time is 1.7μs. You will get full credit if the median run time is within 10μs. The points you will get are"
   ]
  },
  {
   "cell_type": "code",
   "execution_count": 14,
   "metadata": {},
   "outputs": [
    {
     "data": {
      "text/plain": [
       "10.0"
      ]
     },
     "execution_count": 14,
     "metadata": {},
     "output_type": "execute_result"
    }
   ],
   "source": [
    "clamp(10 / (median(bm_obj).time / 1e3) * 10, 0, 10)"
   ]
  },
  {
   "cell_type": "code",
   "execution_count": null,
   "metadata": {},
   "outputs": [],
   "source": [
    "# # check for type stability\n",
    "# @code_warntype logl!(obs, β, Σ, L, σ²)"
   ]
  },
  {
   "cell_type": "code",
   "execution_count": null,
   "metadata": {},
   "outputs": [],
   "source": [
    "# using Profile\n",
    "\n",
    "# Profile.clear()\n",
    "# @profile for i in 1:10000; logl!(obs, β, Σ, L, σ²); end\n",
    "# Profile.print(format=:flat)"
   ]
  },
  {
   "cell_type": "markdown",
   "metadata": {},
   "source": [
    "## Q4. LmmModel type\n",
    "\n",
    "We modify the `LmmModel` type in HW4 to hold all data points, model parameters, and intermediate arrays."
   ]
  },
  {
   "cell_type": "code",
   "execution_count": 16,
   "metadata": {},
   "outputs": [
    {
     "data": {
      "text/plain": [
       "LmmModel"
      ]
     },
     "execution_count": 16,
     "metadata": {},
     "output_type": "execute_result"
    }
   ],
   "source": [
    "# define a type that holds LMM model (data + parameters)\n",
    "struct LmmModel{T <: AbstractFloat}\n",
    "    # data\n",
    "    data :: Vector{LmmObs{T}}\n",
    "    # parameters\n",
    "    β        :: Vector{T}\n",
    "    Σ        :: Matrix{T}\n",
    "    L        :: Matrix{T}\n",
    "    σ²       :: Vector{T}    \n",
    "    # TODO: add whatever intermediate arrays you may want to pre-allocate\n",
    "    xty      :: Vector{T}\n",
    "    xtr      :: Vector{T}\n",
    "    ztr2     :: Vector{T}\n",
    "    xtxinv   :: Matrix{T}\n",
    "    ztz2     :: Matrix{T}\n",
    "    store_1  :: Vector{T}\n",
    "    store_2  :: Vector{T}\n",
    "end  \n",
    "\n",
    "\"\"\"\n",
    "    LmmModel(data::Vector{LmmObs})\n",
    "\n",
    "Create an LMM model that contains data and parameters.\n",
    "\"\"\"\n",
    "function LmmModel(obsvec::Vector{LmmObs{T}}) where T <: AbstractFloat\n",
    "    # dims\n",
    "    p      = size(obsvec[1].X, 2)\n",
    "    q      = size(obsvec[1].Z, 2)\n",
    "    # parameters\n",
    "    β      = Vector{T}(undef, p)\n",
    "    Σ      = Matrix{T}(undef, q, q)\n",
    "    L      = Matrix{T}(undef, q, q)\n",
    "    σ²     = Vector{T}(undef, 1)    \n",
    "    # intermediate arrays\n",
    "    xty    = zeros(T, p)\n",
    "    xtr    = similar(xty)\n",
    "    ztr2   = Vector{T}(undef, abs2(q))\n",
    "    xtxinv = zeros(T, p, p)\n",
    "    #new storage\n",
    "    store_1 = similar(xty)\n",
    "    store_2 = Vector{T}(undef, q)\n",
    "    \n",
    "    # pre-calculate \\sum_i Xi^T Xi and \\sum_i Xi^T y_i\n",
    "    @inbounds for i in eachindex(obsvec)\n",
    "        obs = obsvec[i]\n",
    "        BLAS.axpy!(T(1), obs.xtx, xtxinv)\n",
    "        BLAS.axpy!(T(1), obs.xty, xty)\n",
    "    end\n",
    "    # invert X'X\n",
    "    LAPACK.potrf!('U', xtxinv)\n",
    "    LAPACK.potri!('U', xtxinv)\n",
    "    LinearAlgebra.copytri!(xtxinv, 'U')\n",
    "    ztz2   = Matrix{T}(undef, abs2(q), abs2(q))\n",
    "    LmmModel(obsvec, β, Σ, L, σ², xty, xtr, ztr2, xtxinv, ztz2, store_1, store_2)\n",
    "end"
   ]
  },
  {
   "cell_type": "markdown",
   "metadata": {},
   "source": [
    "## Q5. Implement EM update\n",
    "\n",
    "Let's write the key function `update_em!` that performs one iteration of EM update."
   ]
  },
  {
   "cell_type": "code",
   "execution_count": 24,
   "metadata": {},
   "outputs": [
    {
     "data": {
      "text/plain": [
       "update_em!"
      ]
     },
     "execution_count": 24,
     "metadata": {},
     "output_type": "execute_result"
    }
   ],
   "source": [
    "\"\"\"\n",
    "    update_em!(m::LmmModel, updater::Bool = false)\n",
    "\n",
    "Perform one iteration of EM update. It returns the log-likelihood calculated \n",
    "from input `m.β`, `m.Σ`, `m.L`, and `m.σ²`. These fields are then overwritten \n",
    "by the next EM iterate. The fields `m.data[i].xtr`, `m.data[i].ztr`, and \n",
    "`m.data[i].rtr` are updated according to the resultant `m.β`. If `updater==true`, \n",
    "the function first updates `m.data[i].xtr`, `m.data[i].ztr`, and \n",
    "`m.data[i].rtr` according to `m.β`. If `updater==false`, it assumes these fields \n",
    "are pre-computed.\n",
    "\"\"\"\n",
    "function update_em!(m::LmmModel{T}, updater::Bool = false) where T <: AbstractFloat\n",
    "    logl = zero(T)\n",
    "    fill!(m.store_1, 0)\n",
    "    \n",
    "    # TODO: update m.β\n",
    "    @inbounds for i in 1:length(m.data)\n",
    "        dat = m.data[i]\n",
    "        logl += logl!(dat, m.β, m.Σ, m.L, m.σ²[1], updater)\n",
    "        BLAS.gemv!('T', T(-1), dat.ztx, dat.μγ, T(1), m.store_1)\n",
    "    end\n",
    "    BLAS.axpy!(T(1), m.xty, m.store_1)\n",
    "    BLAS.gemv!('N', T(1), m.xtxinv, m.store_1, T(0), m.β)\n",
    "    \n",
    "    # TODO: update m.data[i].ztr, m.data[i].xtr, m.data[i].rtr\n",
    "    @inbounds for i in 1:length(m.data)\n",
    "        dat = m.data[i]\n",
    "        copy!(dat.ztr, dat.zty)\n",
    "        copy!(dat.xtr, dat.xty)\n",
    "        BLAS.gemv!('N', T(-1), dat.ztx, m.β, T(1), dat.ztr)\n",
    "        BLAS.gemv!('N', T(-1), dat.xtx, m.β, T(1), dat.xtr)\n",
    "        dat.rtr[1] = dat.yty - dot(dat.xty, m.β) - dot(dat.xtr, m.β)\n",
    "    end\n",
    "    \n",
    "    # TODO: update m.σ²\n",
    "    ncount = 0 \n",
    "    @inbounds for i in 1:length(m.data)\n",
    "        dat = m.data[i]\n",
    "        m.σ²[1] += dat.rtr[1]\n",
    "        m.σ²[1] += dot(dat.ztz, dat.νγ)\n",
    "        ncount += size(dat.X, 1)\n",
    "        BLAS.gemv!('N', T(1), dat.ztz, dat.μγ, T(0), m.store_2)\n",
    "        BLAS.axpy!(T(-2), dat.ztr, m.store_2)\n",
    "        m.σ²[1] += dot(m.store_2, dat.μγ)\n",
    "    end\n",
    "    m.σ²[1] /= ncount\n",
    "    \n",
    "    # update m.Σ \n",
    "    fill!(m.Σ, 0)\n",
    "    @inbounds for i in 1:length(m.data)\n",
    "        dat = m.data[i]\n",
    "        BLAS.axpy!(T(1), dat.νγ, m.Σ)\n",
    "        BLAS.gemm!('N', 'T', T(1), dat.μγ, dat.μγ, T(1), m.Σ)\n",
    "    end\n",
    "    m.Σ ./= length(m.data)\n",
    "    \n",
    "    #update m.L\n",
    "    copy!(m.L, m.Σ)\n",
    "    LAPACK.potrf!('L', m.L)\n",
    "    \n",
    "    # return log-likelihood at input parameter values\n",
    "    logl\n",
    "end"
   ]
  },
  {
   "cell_type": "markdown",
   "metadata": {},
   "source": [
    "## Q6. (30 pts) Test data\n",
    "\n",
    "Let's generate a fake longitudinal data set (same as HW4) to test our algorithm."
   ]
  },
  {
   "cell_type": "code",
   "execution_count": 25,
   "metadata": {},
   "outputs": [],
   "source": [
    "Random.seed!(257)\n",
    "\n",
    "# dimension\n",
    "m      = 1000 # number of individuals\n",
    "ns     = rand(1500:2000, m) # numbers of observations per individual\n",
    "p      = 5 # number of fixed effects, including intercept\n",
    "q      = 3 # number of random effects, including intercept\n",
    "obsvec = Vector{LmmObs{Float64}}(undef, m)\n",
    "# true parameter values\n",
    "βtrue  = [0.1; 6.5; -3.5; 1.0; 5]\n",
    "σ²true = 1.5\n",
    "σtrue  = sqrt(σ²true)\n",
    "Σtrue  = Matrix(Diagonal([2.0; 1.2; 1.0]))\n",
    "Ltrue  = Matrix(cholesky(Symmetric(Σtrue)).L)\n",
    "# generate data\n",
    "for i in 1:m\n",
    "    # first column intercept, remaining entries iid std normal\n",
    "    X = Matrix{Float64}(undef, ns[i], p)\n",
    "    X[:, 1] .= 1\n",
    "    @views Distributions.rand!(Normal(), X[:, 2:p])\n",
    "    # first column intercept, remaining entries iid std normal\n",
    "    Z = Matrix{Float64}(undef, ns[i], q)\n",
    "    Z[:, 1] .= 1\n",
    "    @views Distributions.rand!(Normal(), Z[:, 2:q])\n",
    "    # generate y\n",
    "    y = X * βtrue .+ Z * (Ltrue * randn(q)) .+ σtrue * randn(ns[i])\n",
    "    # form a LmmObs instance\n",
    "    obsvec[i] = LmmObs(y, X, Z)\n",
    "end\n",
    "# form a LmmModel instance\n",
    "lmm = LmmModel(obsvec);"
   ]
  },
  {
   "cell_type": "markdown",
   "metadata": {},
   "source": [
    "### Correctness\n",
    "\n",
    "Evaluate log-likelihood and gradient at the true parameter values."
   ]
  },
  {
   "cell_type": "code",
   "execution_count": 26,
   "metadata": {},
   "outputs": [
    {
     "name": "stdout",
     "output_type": "stream",
     "text": [
      "obj1 = update_em!(lmm, true) = -2.8342752296337797e6\n",
      "lmm.β = [0.10001001012634451, 6.498340323625657, -3.500511832401159, 1.0018187869990531, 5.001950303046149]\n",
      "lmm.Σ = [2.0690699112526745 0.052607487006816334 0.03312753696311742; 0.052607487006816334 1.1219141710884746 0.05589997696166215; 0.03312753696311742 0.05589997696166215 1.0120388707897787]\n",
      "lmm.L = [1.4384261924939612 0.052607487006816334 0.03312753696311742; 0.03657294846362942 1.0585729027937336 0.05589997696166215; 0.023030404435058625 0.05201123798073488 1.0043920063327105]\n",
      "lmm.σ² = [1.502348868068465]\n",
      "\n",
      "obj2 = update_em!(lmm, false) = -2.834264639755199e6\n",
      "lmm.β = [0.100019726591263, 6.49833740466359, -3.5005129674774547, 1.0018219298211528, 5.001953628901834]\n",
      "lmm.Σ = [2.0691178664656715 0.05256690007679155 0.03311271068552869; 0.05256690007679155 1.121787666414385 0.05589102985444454; 0.03311271068552869 0.05589102985444454 1.0120392092049062]\n",
      "lmm.L = [1.438442861731279 0.05256690007679155 0.03311271068552869; 0.03654430876282646 1.0585141377947827 0.05589102985444454; 0.023019830378020675 0.052006661129844 1.004392654200736]\n",
      "lmm.σ² = [1.5023529398031097]\n"
     ]
    },
    {
     "data": {
      "text/plain": [
       "1-element Vector{Float64}:\n",
       " 1.5023529398031097"
      ]
     },
     "execution_count": 26,
     "metadata": {},
     "output_type": "execute_result"
    }
   ],
   "source": [
    "copy!(lmm.β, βtrue)\n",
    "copy!(lmm.Σ, Σtrue)\n",
    "copy!(lmm.L, Ltrue)\n",
    "lmm.σ²[1] = σ²true\n",
    "@show obj1 = update_em!(lmm, true)\n",
    "@show lmm.β\n",
    "@show lmm.Σ\n",
    "@show lmm.L\n",
    "@show lmm.σ²\n",
    "println()\n",
    "@show obj2 = update_em!(lmm, false)\n",
    "@show lmm.β\n",
    "@show lmm.Σ\n",
    "@show lmm.L\n",
    "@show lmm.σ²"
   ]
  },
  {
   "cell_type": "markdown",
   "metadata": {},
   "source": [
    "Test correctness. You will loss all 30 points if following code throws `AssertError`."
   ]
  },
  {
   "cell_type": "code",
   "execution_count": 29,
   "metadata": {},
   "outputs": [],
   "source": [
    "@assert abs(obj1 - (-2.8342752296337797e6)) < 1e-6\n",
    "@assert abs(obj2 - (-2.8342646397564034e6)) < 1e-5\n",
    "\n",
    "#My second object is not as precisely similar - but it works for 1e-5"
   ]
  },
  {
   "cell_type": "markdown",
   "metadata": {},
   "source": [
    "### Efficiency\n",
    "\n",
    "Test efficiency of EM update."
   ]
  },
  {
   "cell_type": "code",
   "execution_count": 30,
   "metadata": {},
   "outputs": [
    {
     "data": {
      "text/plain": [
       "BenchmarkTools.Trial: \n",
       "  memory estimate:  0 bytes\n",
       "  allocs estimate:  0\n",
       "  --------------\n",
       "  minimum time:     1.796 ms (0.00% GC)\n",
       "  median time:      1.887 ms (0.00% GC)\n",
       "  mean time:        2.029 ms (0.00% GC)\n",
       "  maximum time:     9.764 ms (0.00% GC)\n",
       "  --------------\n",
       "  samples:          2452\n",
       "  evals/sample:     1"
      ]
     },
     "execution_count": 30,
     "metadata": {},
     "output_type": "execute_result"
    }
   ],
   "source": [
    "bm_emupdate = @benchmark update_em!($lmm, true) setup=(\n",
    "    copy!(lmm.β, βtrue);\n",
    "    copy!(lmm.Σ, Σtrue);\n",
    "    copy!(lmm.L, Ltrue);\n",
    "    lmm.σ²[1] = σ²true)"
   ]
  },
  {
   "cell_type": "markdown",
   "metadata": {},
   "source": [
    "My median run time is 2.17ms. You will get full credit if your median run time is within 10ms. The points you will get are"
   ]
  },
  {
   "cell_type": "code",
   "execution_count": 31,
   "metadata": {},
   "outputs": [
    {
     "data": {
      "text/plain": [
       "10.0"
      ]
     },
     "execution_count": 31,
     "metadata": {},
     "output_type": "execute_result"
    }
   ],
   "source": [
    "clamp(10 / (median(bm_emupdate).time / 1e6) * 10, 0, 10)"
   ]
  },
  {
   "cell_type": "markdown",
   "metadata": {},
   "source": [
    "### Memory\n",
    "\n",
    "You will lose 1 point for each 100 bytes memory allocation. So the points you will get is"
   ]
  },
  {
   "cell_type": "code",
   "execution_count": 32,
   "metadata": {},
   "outputs": [
    {
     "data": {
      "text/plain": [
       "10.0"
      ]
     },
     "execution_count": 32,
     "metadata": {},
     "output_type": "execute_result"
    }
   ],
   "source": [
    "clamp(10 - median(bm_emupdate).memory / 100, 0, 10)"
   ]
  },
  {
   "cell_type": "markdown",
   "metadata": {},
   "source": [
    "## Q7. Starting point\n",
    "\n",
    "We use the same least squares estimates as in HW4 as starting point. "
   ]
  },
  {
   "cell_type": "code",
   "execution_count": 33,
   "metadata": {},
   "outputs": [
    {
     "data": {
      "text/plain": [
       "kron_axpy!"
      ]
     },
     "execution_count": 33,
     "metadata": {},
     "output_type": "execute_result"
    }
   ],
   "source": [
    "\"\"\"\n",
    "    init_ls!(m::LmmModel)\n",
    "\n",
    "Initialize parameters of a `LmmModel` object from the least squares estimate. \n",
    "`m.β`, `m.L`, and `m.σ²` are overwritten with the least squares estimates.\n",
    "\"\"\"\n",
    "function init_ls!(m::LmmModel{T}) where T <: AbstractFloat\n",
    "    p, q = size(m.data[1].X, 2), size(m.data[1].Z, 2)\n",
    "    # LS estimate for β\n",
    "    mul!(m.β, m.xtxinv, m.xty)\n",
    "    # LS etimate for σ2 and Σ\n",
    "    rss, ntotal = zero(T), 0\n",
    "    fill!(m.ztz2, 0)\n",
    "    fill!(m.ztr2, 0)    \n",
    "    @inbounds for i in eachindex(m.data)\n",
    "        obs = m.data[i]\n",
    "        ntotal += length(obs.y)\n",
    "        # update Xt * res\n",
    "        BLAS.gemv!('N', T(-1), obs.xtx, m.β, T(1), copy!(obs.xtr, obs.xty))\n",
    "        # rss of i-th individual\n",
    "        rss += obs.yty - dot(obs.xty, m.β) - dot(obs.xtr, m.β)\n",
    "        # update Zi' * res\n",
    "        BLAS.gemv!('N', T(-1), obs.ztx, m.β, T(1), copy!(obs.ztr, obs.zty))\n",
    "        # Zi'Zi ⊗ Zi'Zi\n",
    "        kron_axpy!(obs.ztz, obs.ztz, m.ztz2)\n",
    "        # Zi'res ⊗ Zi'res\n",
    "        kron_axpy!(obs.ztr, obs.ztr, m.ztr2)\n",
    "    end\n",
    "    m.σ²[1] = rss / ntotal\n",
    "    # LS estimate for Σ = LLt\n",
    "    LAPACK.potrf!('U', m.ztz2)\n",
    "    BLAS.trsv!('U', 'T', 'N', m.ztz2, m.ztr2)\n",
    "    BLAS.trsv!('U', 'N', 'N', m.ztz2, m.ztr2)\n",
    "    copyto!(m.Σ, m.ztr2)\n",
    "    copy!(m.L, m.Σ)\n",
    "    LAPACK.potrf!('L', m.L)\n",
    "    for j in 2:q, i in 1:j-1\n",
    "        m.L[i, j] = 0\n",
    "    end\n",
    "    m\n",
    "end\n",
    "\n",
    "\"\"\"\n",
    "    kron_axpy!(A, X, Y)\n",
    "\n",
    "Overwrite `Y` with `A ⊗ X + Y`. Same as `Y += kron(A, X)` but\n",
    "more memory efficient.\n",
    "\"\"\"\n",
    "function kron_axpy!(\n",
    "        A::AbstractVecOrMat{T},\n",
    "        X::AbstractVecOrMat{T},\n",
    "        Y::AbstractVecOrMat{T}\n",
    "        ) where T <: Real\n",
    "    m, n = size(A, 1), size(A, 2)\n",
    "    p, q = size(X, 1), size(X, 2)\n",
    "    @assert size(Y, 1) == m * p\n",
    "    @assert size(Y, 2) == n * q\n",
    "    @inbounds for j in 1:n\n",
    "        coffset = (j - 1) * q\n",
    "        for i in 1:m\n",
    "            a = A[i, j]\n",
    "            roffset = (i - 1) * p            \n",
    "            for l in 1:q\n",
    "                r = roffset + 1\n",
    "                c = coffset + l\n",
    "                for k in 1:p                \n",
    "                    Y[r, c] += a * X[k, l]\n",
    "                    r += 1\n",
    "                end\n",
    "            end\n",
    "        end\n",
    "    end\n",
    "    Y\n",
    "end"
   ]
  },
  {
   "cell_type": "code",
   "execution_count": 34,
   "metadata": {},
   "outputs": [
    {
     "name": "stdout",
     "output_type": "stream",
     "text": [
      "lmm.β = [0.12814248060847558, 6.497945035096696, -3.502138774770135, 1.0026609224782135, 5.002697971721905]\n",
      "lmm.Σ = [2.0796224159409324 0.05523492575567489 0.04021508338255691; 0.055234925755674895 1.1137314752104626 0.06543803114908457; 0.04021508338255691 0.06543803114908459 1.0074558313277848]\n",
      "lmm.L = [1.4420896005245072 0.0 0.0; 0.038302006848662674 1.0546394793870688 0.0; 0.027886674564416902 0.06103499518749489 1.0014753586943543]\n",
      "lmm.σ² = [5.701709885959428]\n"
     ]
    },
    {
     "data": {
      "text/plain": [
       "1-element Vector{Float64}:\n",
       " 5.701709885959428"
      ]
     },
     "execution_count": 34,
     "metadata": {},
     "output_type": "execute_result"
    }
   ],
   "source": [
    "init_ls!(lmm)\n",
    "@show lmm.β\n",
    "@show lmm.Σ\n",
    "@show lmm.L\n",
    "@show lmm.σ²"
   ]
  },
  {
   "cell_type": "markdown",
   "metadata": {},
   "source": [
    "## Q8. Estimation by EM\n",
    "\n",
    "We write a function `fit!` that implements the EM algorithm for estimating LMM."
   ]
  },
  {
   "cell_type": "code",
   "execution_count": 35,
   "metadata": {},
   "outputs": [
    {
     "data": {
      "text/plain": [
       "fit!"
      ]
     },
     "execution_count": 35,
     "metadata": {},
     "output_type": "execute_result"
    }
   ],
   "source": [
    "\"\"\"\n",
    "    fit!(m::LmmModel)\n",
    "\n",
    "Fit an `LmmModel` object by MLE using a EM algorithm. Start point \n",
    "should be provided in `m.β`, `m.σ²`, `m.L`.\n",
    "\"\"\"\n",
    "function fit!(\n",
    "        m       :: LmmModel;\n",
    "        maxiter :: Integer       = 10_000,\n",
    "        ftolrel :: AbstractFloat = 1e-12,\n",
    "        prtfreq :: Integer       = 0\n",
    "    )\n",
    "    obj = update_em!(m, true)\n",
    "    for iter in 0:maxiter\n",
    "        obj_old = obj\n",
    "        # EM update\n",
    "        obj = update_em!(m, false)\n",
    "        # print obj\n",
    "        prtfreq > 0 && rem(iter, prtfreq) == 0 && println(\"iter=$iter, obj=$obj\")\n",
    "        # check monotonicity\n",
    "        obj < obj_old && (@warn \"monotoniciy violated\")\n",
    "        # check convergence criterion\n",
    "        (obj - obj_old) < ftolrel * (abs(obj_old) + 1) && break\n",
    "        # warning about non-convergence\n",
    "        iter == maxiter && (@warn \"maximum iterations reached\")\n",
    "    end\n",
    "    m\n",
    "end\n"
   ]
  },
  {
   "cell_type": "markdown",
   "metadata": {},
   "source": [
    "## Q9. (20 pts) Test drive\n",
    "\n",
    "Now we can run our EM algorithm to compute the MLE."
   ]
  },
  {
   "cell_type": "code",
   "execution_count": 36,
   "metadata": {},
   "outputs": [
    {
     "name": "stdout",
     "output_type": "stream",
     "text": [
      "iter=0, obj=-2.8342745400391878e6\n",
      "iter=100, obj=-2.834264506414603e6\n",
      "iter=200, obj=-2.8342645060447953e6\n",
      "iter=300, obj=-2.834264505706769e6\n",
      "iter=400, obj=-2.834264505397895e6\n",
      "  0.830328 seconds (150.49 k allocations: 8.484 MiB, 3.82% compilation time)\n",
      "objective value at solution: -2.8342645052620987e6\n",
      "\n",
      "solution values:\n",
      "lmm.β = [0.1273018496823157, 6.498337399856076, -3.5005129709263225, 1.001821934100821, 5.001953634612177]\n",
      "lmm.σ² = [1.5023529470461496]\n",
      "lmm.L * transpose(lmm.L) = [2.072456944712887 0.11107604898782195 0.06809821196589814; 0.11107604898782195 1.1249111478199008 0.11202811217243856; 0.06809821196589814 0.11202811217243856 1.0120393497526112]\n"
     ]
    },
    {
     "data": {
      "text/plain": [
       "3×3 Matrix{Float64}:\n",
       " 2.07246    0.111076  0.0680982\n",
       " 0.111076   1.12491   0.112028\n",
       " 0.0680982  0.112028  1.01204"
      ]
     },
     "execution_count": 36,
     "metadata": {},
     "output_type": "execute_result"
    }
   ],
   "source": [
    "# initialize from least squares\n",
    "init_ls!(lmm)\n",
    "\n",
    "@time fit!(lmm, prtfreq = 100);\n",
    "\n",
    "println(\"objective value at solution: \", update_em!(lmm)); println()\n",
    "println(\"solution values:\")\n",
    "@show lmm.β\n",
    "@show lmm.σ²\n",
    "@show lmm.L * transpose(lmm.L)"
   ]
  },
  {
   "cell_type": "markdown",
   "metadata": {},
   "source": [
    "### Correctness\n",
    "\n",
    "You get 10 points if the following code does not throw `AssertError`."
   ]
  },
  {
   "cell_type": "code",
   "execution_count": 37,
   "metadata": {},
   "outputs": [],
   "source": [
    "# objective at solution should be close enough to the optimal\n",
    "@assert update_em!(lmm) > -2.83426451e6"
   ]
  },
  {
   "cell_type": "markdown",
   "metadata": {},
   "source": [
    "### Efficiency\n",
    "\n",
    "My median run time 1.8s. You get 10 points if your median run time is within 5s."
   ]
  },
  {
   "cell_type": "code",
   "execution_count": 38,
   "metadata": {},
   "outputs": [
    {
     "data": {
      "text/plain": [
       "BenchmarkTools.Trial: \n",
       "  memory estimate:  0 bytes\n",
       "  allocs estimate:  0\n",
       "  --------------\n",
       "  minimum time:     757.700 ms (0.00% GC)\n",
       "  median time:      772.333 ms (0.00% GC)\n",
       "  mean time:        772.028 ms (0.00% GC)\n",
       "  maximum time:     792.891 ms (0.00% GC)\n",
       "  --------------\n",
       "  samples:          7\n",
       "  evals/sample:     1"
      ]
     },
     "execution_count": 38,
     "metadata": {},
     "output_type": "execute_result"
    }
   ],
   "source": [
    "bm_em = @benchmark fit!($lmm) setup = (init_ls!(lmm))"
   ]
  },
  {
   "cell_type": "code",
   "execution_count": 39,
   "metadata": {},
   "outputs": [
    {
     "data": {
      "text/plain": [
       "10.0"
      ]
     },
     "execution_count": 39,
     "metadata": {},
     "output_type": "execute_result"
    }
   ],
   "source": [
    "# this is the points you get\n",
    "clamp(5 / (median(bm_em).time / 1e9) * 10, 0, 10)"
   ]
  },
  {
   "cell_type": "markdown",
   "metadata": {},
   "source": [
    "## Q10. (10 pts) EM vs Newton type algorithms\n",
    "\n",
    "Contrast EM algorithm to the Newton type algorithms (gradient free, gradient based, using Hessian) in HW4, in terms of the stability, convergence rate (how fast the algorithm is converging),  final objective value, total run time, derivation, and implementation efforts. "
   ]
  },
  {
   "cell_type": "markdown",
   "metadata": {},
   "source": [
    "EM algorithm is much slower than Newton type algorithms by a factor of 4-5 on my machine. However, it appears that Newton-type algorithms converge faster and were closer to \"correctness\" than my EM example (had to broaden error range to 1e-5 when checking EM correctness). Both derivation and implementation-wise, EM is more difficult to write code for. This is probably because Newton's algorithm has many concepts I've seen before and were more intuitive to me from my previous math background."
   ]
  }
 ],
 "metadata": {
  "@webio": {
   "lastCommId": null,
   "lastKernelId": null
  },
  "kernelspec": {
   "display_name": "Julia 1.6.0",
   "language": "julia",
   "name": "julia-1.6"
  },
  "language_info": {
   "file_extension": ".jl",
   "mimetype": "application/julia",
   "name": "julia",
   "version": "1.6.0"
  },
  "toc": {
   "colors": {
    "hover_highlight": "#DAA520",
    "running_highlight": "#FF0000",
    "selected_highlight": "#FFD700"
   },
   "moveMenuLeft": true,
   "nav_menu": {
    "height": "87px",
    "width": "252px"
   },
   "navigate_menu": true,
   "number_sections": true,
   "sideBar": true,
   "skip_h1_title": true,
   "threshold": 4,
   "toc_cell": false,
   "toc_section_display": "block",
   "toc_window_display": false,
   "widenNotebook": false
  }
 },
 "nbformat": 4,
 "nbformat_minor": 4
}
