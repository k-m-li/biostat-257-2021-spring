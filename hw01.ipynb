{
 "cells": [
  {
   "cell_type": "markdown",
   "metadata": {},
   "source": [
    "# Biostat 257 Homework 1\n",
    "\n",
    "#### Due Apr 16 @ 11:59PM"
   ]
  },
  {
   "cell_type": "markdown",
   "metadata": {},
   "source": [
    "## Q1\n",
    "\n",
    "**No handwritten homework reports are accepted for this course.**  We work with Git/GitHub.  Efficient and abundant use of Git, e.g., **frequent and well-documented** commits, is an important criterion for grading your homework.\n",
    "\n",
    "1. If you don't have a GitHub account, apply for the [Student Developer Pack](https://education.github.com/pack) at GitHub using your UCLA email.\n",
    "\n",
    "2. Create a **private** repository `biostat-257-2021-spring` and add `Hua-Zhou` and `Chris-German` (TA) as your collaborators.\n",
    "\n",
    "3. Top directories of the repository should be `hw1`, `hw2`, ... You may create other branches for developing your homework solutions; but the `master` branch will be your presentation area. Put your homework submission files (Jupyter notebook `.ipynb`, html converted from notebook, all code and data set to reproduce results) in the `master` branch. \n",
    "\n",
    "4. After each homework due date, teaching assistant and instructor will check out your `master` branch for grading. Tag each of your homework submissions with tag names `hw1`, `hw2`, ...  Tagging time will be used as your submission time. That means if you tag your hw1 submission after deadline, penalty points will be deducted for late submission.  \n",
    "\n",
    "5. Read the [style guide](https://github.com/johnmyleswhite/Style.jl) for Julia programming. Following rules in the style guide will be strictly enforced when grading: (4) four space indenting rule, (6) 80 charcter rule, (7) space after comma rule, (8) no space before comma rule, (9) space around operator rule."
   ]
  },
  {
   "cell_type": "markdown",
   "metadata": {},
   "source": [
    "## Q2\n",
    "\n",
    "Let's check whether floating-point numbers obey certain algebraic rules. For 2-5, one counter-example suffices.\n",
    "\n",
    "1. Associative rule for addition says `(x + y) + z == x + (y + z)`. Check association rule using `x = 0.1`, `y = 0.1` and `z = 1.0` in Julia. Explain what you find."
   ]
  },
  {
   "cell_type": "code",
   "execution_count": 1,
   "metadata": {
    "scrolled": true
   },
   "outputs": [
    {
     "data": {
      "text/plain": [
       "false"
      ]
     },
     "execution_count": 1,
     "metadata": {},
     "output_type": "execute_result"
    }
   ],
   "source": [
    "x = 0.1\n",
    "y = 0.1\n",
    "z = 1.0\n",
    "(x + y) + z == x + (y + z)"
   ]
  },
  {
   "cell_type": "markdown",
   "metadata": {},
   "source": [
    "Since the numbers are floating-point numbers, associativity will not hold. The inaccuracy between adding `x + y` first as opposed to `y + z` is different, and rounding will go to the nearest representable floating point number, which could lead to differences when adding the same values in different orders. "
   ]
  },
  {
   "cell_type": "markdown",
   "metadata": {},
   "source": [
    "2. Do floating-point numbers obey the associative rule for multiplication: `(x * y) * z == x * (y * z)`?"
   ]
  },
  {
   "cell_type": "code",
   "execution_count": 2,
   "metadata": {},
   "outputs": [
    {
     "data": {
      "text/plain": [
       "true"
      ]
     },
     "execution_count": 2,
     "metadata": {},
     "output_type": "execute_result"
    }
   ],
   "source": [
    "(x * y) * z == x * (y * z)"
   ]
  },
  {
   "cell_type": "code",
   "execution_count": 3,
   "metadata": {},
   "outputs": [
    {
     "data": {
      "text/plain": [
       "false"
      ]
     },
     "execution_count": 3,
     "metadata": {},
     "output_type": "execute_result"
    }
   ],
   "source": [
    "a = 0.1\n",
    "b = 10\n",
    "c = 257257257257257257\n",
    "(a * b) * c == a * (b * c)"
   ]
  },
  {
   "cell_type": "markdown",
   "metadata": {},
   "source": [
    "The same issue with rounding in addition also occurs in multiplication. Since `0.1` is not representable fully accurately as a floating point number, eventually multiplication will lead to rounding errors in the intermediate terms when different orders of which numbers to multiply first are used (associative property)."
   ]
  },
  {
   "cell_type": "markdown",
   "metadata": {},
   "source": [
    "3. Do floating-point numbers obey the distributive rule: `a * (x + y) == a * x + a * y`?  "
   ]
  },
  {
   "cell_type": "code",
   "execution_count": 4,
   "metadata": {},
   "outputs": [
    {
     "data": {
      "text/plain": [
       "false"
      ]
     },
     "execution_count": 4,
     "metadata": {},
     "output_type": "execute_result"
    }
   ],
   "source": [
    "100 * (0.1 + 1.0) == 100 * 0.1 + 100 * 1.0"
   ]
  },
  {
   "cell_type": "markdown",
   "metadata": {},
   "source": [
    "Rounding errors when adding as opposed to multiplying first will result in a violation of distributive property."
   ]
  },
  {
   "cell_type": "markdown",
   "metadata": {},
   "source": [
    "4. Is `0 * x == 0` true for all floating-point number `x`? "
   ]
  },
  {
   "cell_type": "code",
   "execution_count": 5,
   "metadata": {},
   "outputs": [
    {
     "data": {
      "text/plain": [
       "NaN"
      ]
     },
     "execution_count": 5,
     "metadata": {},
     "output_type": "execute_result"
    }
   ],
   "source": [
    "Inf * 0"
   ]
  },
  {
   "cell_type": "code",
   "execution_count": 6,
   "metadata": {},
   "outputs": [
    {
     "data": {
      "text/plain": [
       "NaN"
      ]
     },
     "execution_count": 6,
     "metadata": {},
     "output_type": "execute_result"
    }
   ],
   "source": [
    "NaN * 0"
   ]
  },
  {
   "cell_type": "markdown",
   "metadata": {},
   "source": [
    "For all finite floating point numbers, multiplication by 0 will end in 0. However, for values greater than all finite floating-point values, or for a value not equivalent to any floating-point value (not a number), this will not hold."
   ]
  },
  {
   "cell_type": "markdown",
   "metadata": {},
   "source": [
    "5. Is `x / a == x * (1 / a)` always true?"
   ]
  },
  {
   "cell_type": "code",
   "execution_count": 7,
   "metadata": {},
   "outputs": [
    {
     "data": {
      "text/plain": [
       "false"
      ]
     },
     "execution_count": 7,
     "metadata": {},
     "output_type": "execute_result"
    }
   ],
   "source": [
    "a = 257257257257257257\n",
    "b = 0.1\n",
    "a/b == a * (1 / b)"
   ]
  },
  {
   "cell_type": "markdown",
   "metadata": {},
   "source": [
    "## Q3\n",
    "\n",
    "Consider Julia function\n",
    "```julia\n",
    "function g(k)\n",
    "    for i in 1:10\n",
    "        k = 5k - 1\n",
    "    end\n",
    "    k\n",
    "end\n",
    "```\n",
    "1. Use `@code_llvm` to find the LLVM bitcode of compiled `g` with `Int64` input.   \n",
    "2. Use `@code_llvm` to find the LLVM bitcode of compiled `g` with `Float64` input.  \n",
    "3. Compare the bitcode from questions 1 and 2. What do you find?  \n",
    "4. Read Julia documentation on `@fastmath` and repeat the questions 1-3 on the function  \n",
    "\n",
    "```julia\n",
    "function g_fastmath(k)  \n",
    "    @fastmath for i in 1:10  \n",
    "        k = 5k - 1\n",
    "    end\n",
    "    k\n",
    "end\n",
    "```\n",
    "    Explain what does macro `@fastmath` do?"
   ]
  },
  {
   "cell_type": "code",
   "execution_count": 8,
   "metadata": {
    "scrolled": true
   },
   "outputs": [
    {
     "name": "stdout",
     "output_type": "stream",
     "text": [
      "\u001b[90m;  @ In[8]:1 within `g'\u001b[39m\n",
      "\u001b[90m; Function Attrs: uwtable\u001b[39m\n",
      "\u001b[95mdefine\u001b[39m \u001b[36mi64\u001b[39m \u001b[93m@julia_g_1241\u001b[39m\u001b[33m(\u001b[39m\u001b[36mi64\u001b[39m \u001b[95msignext\u001b[39m \u001b[0m%0\u001b[33m)\u001b[39m \u001b[0m#0 \u001b[33m{\u001b[39m\n",
      "\u001b[91mtop:\u001b[39m\n",
      "\u001b[90m;  @ In[8]:3 within `g'\u001b[39m\n",
      "\u001b[90m; ┌ @ int.jl:88 within `*'\u001b[39m\n",
      "   \u001b[0m%1 \u001b[0m= \u001b[96m\u001b[1mmul\u001b[22m\u001b[39m \u001b[36mi64\u001b[39m \u001b[0m%0\u001b[0m, \u001b[33m9765625\u001b[39m\n",
      "\u001b[90m; └\u001b[39m\n",
      "\u001b[90m; ┌ @ int.jl:86 within `-'\u001b[39m\n",
      "   \u001b[0m%2 \u001b[0m= \u001b[96m\u001b[1madd\u001b[22m\u001b[39m \u001b[36mi64\u001b[39m \u001b[0m%1\u001b[0m, \u001b[33m-2441406\u001b[39m\n",
      "\u001b[90m; └\u001b[39m\n",
      "\u001b[90m;  @ In[8]:5 within `g'\u001b[39m\n",
      "  \u001b[96m\u001b[1mret\u001b[22m\u001b[39m \u001b[36mi64\u001b[39m \u001b[0m%2\n",
      "\u001b[33m}\u001b[39m\n",
      "\u001b[90m;  @ In[8]:1 within `g'\u001b[39m\n",
      "\u001b[90m; Function Attrs: uwtable\u001b[39m\n",
      "\u001b[95mdefine\u001b[39m \u001b[36mdouble\u001b[39m \u001b[93m@julia_g_1269\u001b[39m\u001b[33m(\u001b[39m\u001b[36mdouble\u001b[39m \u001b[0m%0\u001b[33m)\u001b[39m \u001b[0m#0 \u001b[33m{\u001b[39m\n",
      "\u001b[91mtop:\u001b[39m\n",
      "\u001b[90m;  @ In[8]:3 within `g'\u001b[39m\n",
      "\u001b[90m; ┌ @ promotion.jl:322 within `*' @ float.jl:332\u001b[39m\n",
      "   \u001b[0m%1 \u001b[0m= \u001b[96m\u001b[1mfmul\u001b[22m\u001b[39m \u001b[36mdouble\u001b[39m \u001b[0m%0\u001b[0m, \u001b[33m5.000000e+00\u001b[39m\n",
      "\u001b[90m; └\u001b[39m\n",
      "\u001b[90m; ┌ @ promotion.jl:323 within `-' @ float.jl:329\u001b[39m\n",
      "   \u001b[0m%2 \u001b[0m= \u001b[96m\u001b[1mfadd\u001b[22m\u001b[39m \u001b[36mdouble\u001b[39m \u001b[0m%1\u001b[0m, \u001b[33m-1.000000e+00\u001b[39m\n",
      "\u001b[90m; └\u001b[39m\n",
      "\u001b[90m; ┌ @ promotion.jl:322 within `*' @ float.jl:332\u001b[39m\n",
      "   \u001b[0m%3 \u001b[0m= \u001b[96m\u001b[1mfmul\u001b[22m\u001b[39m \u001b[36mdouble\u001b[39m \u001b[0m%2\u001b[0m, \u001b[33m5.000000e+00\u001b[39m\n",
      "\u001b[90m; └\u001b[39m\n",
      "\u001b[90m; ┌ @ promotion.jl:323 within `-' @ float.jl:329\u001b[39m\n",
      "   \u001b[0m%4 \u001b[0m= \u001b[96m\u001b[1mfadd\u001b[22m\u001b[39m \u001b[36mdouble\u001b[39m \u001b[0m%3\u001b[0m, \u001b[33m-1.000000e+00\u001b[39m\n",
      "\u001b[90m; └\u001b[39m\n",
      "\u001b[90m; ┌ @ promotion.jl:322 within `*' @ float.jl:332\u001b[39m\n",
      "   \u001b[0m%5 \u001b[0m= \u001b[96m\u001b[1mfmul\u001b[22m\u001b[39m \u001b[36mdouble\u001b[39m \u001b[0m%4\u001b[0m, \u001b[33m5.000000e+00\u001b[39m\n",
      "\u001b[90m; └\u001b[39m\n",
      "\u001b[90m; ┌ @ promotion.jl:323 within `-' @ float.jl:329\u001b[39m\n",
      "   \u001b[0m%6 \u001b[0m= \u001b[96m\u001b[1mfadd\u001b[22m\u001b[39m \u001b[36mdouble\u001b[39m \u001b[0m%5\u001b[0m, \u001b[33m-1.000000e+00\u001b[39m\n",
      "\u001b[90m; └\u001b[39m\n",
      "\u001b[90m; ┌ @ promotion.jl:322 within `*' @ float.jl:332\u001b[39m\n",
      "   \u001b[0m%7 \u001b[0m= \u001b[96m\u001b[1mfmul\u001b[22m\u001b[39m \u001b[36mdouble\u001b[39m \u001b[0m%6\u001b[0m, \u001b[33m5.000000e+00\u001b[39m\n",
      "\u001b[90m; └\u001b[39m\n",
      "\u001b[90m; ┌ @ promotion.jl:323 within `-' @ float.jl:329\u001b[39m\n",
      "   \u001b[0m%8 \u001b[0m= \u001b[96m\u001b[1mfadd\u001b[22m\u001b[39m \u001b[36mdouble\u001b[39m \u001b[0m%7\u001b[0m, \u001b[33m-1.000000e+00\u001b[39m\n",
      "\u001b[90m; └\u001b[39m\n",
      "\u001b[90m; ┌ @ promotion.jl:322 within `*' @ float.jl:332\u001b[39m\n",
      "   \u001b[0m%9 \u001b[0m= \u001b[96m\u001b[1mfmul\u001b[22m\u001b[39m \u001b[36mdouble\u001b[39m \u001b[0m%8\u001b[0m, \u001b[33m5.000000e+00\u001b[39m\n",
      "\u001b[90m; └\u001b[39m\n",
      "\u001b[90m; ┌ @ promotion.jl:323 within `-' @ float.jl:329\u001b[39m\n",
      "   \u001b[0m%10 \u001b[0m= \u001b[96m\u001b[1mfadd\u001b[22m\u001b[39m \u001b[36mdouble\u001b[39m \u001b[0m%9\u001b[0m, \u001b[33m-1.000000e+00\u001b[39m\n",
      "\u001b[90m; └\u001b[39m\n",
      "\u001b[90m; ┌ @ promotion.jl:322 within `*' @ float.jl:332\u001b[39m\n",
      "   \u001b[0m%11 \u001b[0m= \u001b[96m\u001b[1mfmul\u001b[22m\u001b[39m \u001b[36mdouble\u001b[39m \u001b[0m%10\u001b[0m, \u001b[33m5.000000e+00\u001b[39m\n",
      "\u001b[90m; └\u001b[39m\n",
      "\u001b[90m; ┌ @ promotion.jl:323 within `-' @ float.jl:329\u001b[39m\n",
      "   \u001b[0m%12 \u001b[0m= \u001b[96m\u001b[1mfadd\u001b[22m\u001b[39m \u001b[36mdouble\u001b[39m \u001b[0m%11\u001b[0m, \u001b[33m-1.000000e+00\u001b[39m\n",
      "\u001b[90m; └\u001b[39m\n",
      "\u001b[90m; ┌ @ promotion.jl:322 within `*' @ float.jl:332\u001b[39m\n",
      "   \u001b[0m%13 \u001b[0m= \u001b[96m\u001b[1mfmul\u001b[22m\u001b[39m \u001b[36mdouble\u001b[39m \u001b[0m%12\u001b[0m, \u001b[33m5.000000e+00\u001b[39m\n",
      "\u001b[90m; └\u001b[39m\n",
      "\u001b[90m; ┌ @ promotion.jl:323 within `-' @ float.jl:329\u001b[39m\n",
      "   \u001b[0m%14 \u001b[0m= \u001b[96m\u001b[1mfadd\u001b[22m\u001b[39m \u001b[36mdouble\u001b[39m \u001b[0m%13\u001b[0m, \u001b[33m-1.000000e+00\u001b[39m\n",
      "\u001b[90m; └\u001b[39m\n",
      "\u001b[90m; ┌ @ promotion.jl:322 within `*' @ float.jl:332\u001b[39m\n",
      "   \u001b[0m%15 \u001b[0m= \u001b[96m\u001b[1mfmul\u001b[22m\u001b[39m \u001b[36mdouble\u001b[39m \u001b[0m%14\u001b[0m, \u001b[33m5.000000e+00\u001b[39m\n",
      "\u001b[90m; └\u001b[39m\n",
      "\u001b[90m; ┌ @ promotion.jl:323 within `-' @ float.jl:329\u001b[39m\n",
      "   \u001b[0m%16 \u001b[0m= \u001b[96m\u001b[1mfadd\u001b[22m\u001b[39m \u001b[36mdouble\u001b[39m \u001b[0m%15\u001b[0m, \u001b[33m-1.000000e+00\u001b[39m\n",
      "\u001b[90m; └\u001b[39m\n",
      "\u001b[90m; ┌ @ promotion.jl:322 within `*' @ float.jl:332\u001b[39m\n",
      "   \u001b[0m%17 \u001b[0m= \u001b[96m\u001b[1mfmul\u001b[22m\u001b[39m \u001b[36mdouble\u001b[39m \u001b[0m%16\u001b[0m, \u001b[33m5.000000e+00\u001b[39m\n",
      "\u001b[90m; └\u001b[39m\n",
      "\u001b[90m; ┌ @ promotion.jl:323 within `-' @ float.jl:329\u001b[39m\n",
      "   \u001b[0m%18 \u001b[0m= \u001b[96m\u001b[1mfadd\u001b[22m\u001b[39m \u001b[36mdouble\u001b[39m \u001b[0m%17\u001b[0m, \u001b[33m-1.000000e+00\u001b[39m\n",
      "\u001b[90m; └\u001b[39m\n",
      "\u001b[90m; ┌ @ promotion.jl:322 within `*' @ float.jl:332\u001b[39m\n",
      "   \u001b[0m%19 \u001b[0m= \u001b[96m\u001b[1mfmul\u001b[22m\u001b[39m \u001b[36mdouble\u001b[39m \u001b[0m%18\u001b[0m, \u001b[33m5.000000e+00\u001b[39m\n",
      "\u001b[90m; └\u001b[39m\n",
      "\u001b[90m; ┌ @ promotion.jl:323 within `-' @ float.jl:329\u001b[39m\n",
      "   \u001b[0m%20 \u001b[0m= \u001b[96m\u001b[1mfadd\u001b[22m\u001b[39m \u001b[36mdouble\u001b[39m \u001b[0m%19\u001b[0m, \u001b[33m-1.000000e+00\u001b[39m\n",
      "\u001b[90m; └\u001b[39m\n",
      "\u001b[90m;  @ In[8]:5 within `g'\u001b[39m\n",
      "  \u001b[96m\u001b[1mret\u001b[22m\u001b[39m \u001b[36mdouble\u001b[39m \u001b[0m%20\n",
      "\u001b[33m}\u001b[39m\n"
     ]
    }
   ],
   "source": [
    "function g(k)\n",
    "    for i in 1:10\n",
    "        k = 5k - 1\n",
    "    end\n",
    "    k\n",
    "end\n",
    "@code_llvm g(257)\n",
    "@code_llvm g(257.0)"
   ]
  },
  {
   "cell_type": "markdown",
   "metadata": {},
   "source": [
    "For `Int64` input, the compiler immediately multiplies by $5^{10}$ and subtracts $5^9 + 5^8 + \\cdots + 5^0$ (by adding its negative). Meanwhile, for the `Float64` input, the compiler multiplies by $5$ and subtracts $1$, then iterates this $10$ times. "
   ]
  },
  {
   "cell_type": "code",
   "execution_count": 9,
   "metadata": {},
   "outputs": [
    {
     "name": "stdout",
     "output_type": "stream",
     "text": [
      "\u001b[90m;  @ In[9]:1 within `g_fastmath'\u001b[39m\n",
      "\u001b[90m; Function Attrs: uwtable\u001b[39m\n",
      "\u001b[95mdefine\u001b[39m \u001b[36mi64\u001b[39m \u001b[93m@julia_g_fastmath_1277\u001b[39m\u001b[33m(\u001b[39m\u001b[36mi64\u001b[39m \u001b[95msignext\u001b[39m \u001b[0m%0\u001b[33m)\u001b[39m \u001b[0m#0 \u001b[33m{\u001b[39m\n",
      "\u001b[91mtop:\u001b[39m\n",
      "\u001b[90m;  @ In[9]:3 within `g_fastmath'\u001b[39m\n",
      "\u001b[90m; ┌ @ fastmath.jl:270 within `mul_fast'\u001b[39m\n",
      "\u001b[90m; │┌ @ int.jl:88 within `*'\u001b[39m\n",
      "    \u001b[0m%1 \u001b[0m= \u001b[96m\u001b[1mmul\u001b[22m\u001b[39m \u001b[36mi64\u001b[39m \u001b[0m%0\u001b[0m, \u001b[33m9765625\u001b[39m\n",
      "\u001b[90m; └└\u001b[39m\n",
      "\u001b[90m; ┌ @ fastmath.jl:270 within `sub_fast'\u001b[39m\n",
      "\u001b[90m; │┌ @ int.jl:86 within `-'\u001b[39m\n",
      "    \u001b[0m%2 \u001b[0m= \u001b[96m\u001b[1madd\u001b[22m\u001b[39m \u001b[36mi64\u001b[39m \u001b[0m%1\u001b[0m, \u001b[33m-2441406\u001b[39m\n",
      "\u001b[90m; └└\u001b[39m\n",
      "\u001b[90m;  @ In[9]:5 within `g_fastmath'\u001b[39m\n",
      "  \u001b[96m\u001b[1mret\u001b[22m\u001b[39m \u001b[36mi64\u001b[39m \u001b[0m%2\n",
      "\u001b[33m}\u001b[39m\n",
      "\u001b[90m;  @ In[9]:1 within `g_fastmath'\u001b[39m\n",
      "\u001b[90m; Function Attrs: uwtable\u001b[39m\n",
      "\u001b[95mdefine\u001b[39m \u001b[36mdouble\u001b[39m \u001b[93m@julia_g_fastmath_1279\u001b[39m\u001b[33m(\u001b[39m\u001b[36mdouble\u001b[39m \u001b[0m%0\u001b[33m)\u001b[39m \u001b[0m#0 \u001b[33m{\u001b[39m\n",
      "\u001b[91mtop:\u001b[39m\n",
      "\u001b[90m;  @ In[9]:3 within `g_fastmath'\u001b[39m\n",
      "\u001b[90m; ┌ @ fastmath.jl:267 within `mul_fast' @ fastmath.jl:167\u001b[39m\n",
      "   \u001b[0m%1 \u001b[0m= \u001b[96m\u001b[1mfmul\u001b[22m\u001b[39m \u001b[95mfast\u001b[39m \u001b[36mdouble\u001b[39m \u001b[0m%0\u001b[0m, \u001b[33m0x4162A05F20000000\u001b[39m\n",
      "\u001b[90m; └\u001b[39m\n",
      "\u001b[90m; ┌ @ fastmath.jl:267 within `sub_fast' @ fastmath.jl:166\u001b[39m\n",
      "   \u001b[0m%2 \u001b[0m= \u001b[96m\u001b[1mfadd\u001b[22m\u001b[39m \u001b[95mfast\u001b[39m \u001b[36mdouble\u001b[39m \u001b[0m%1\u001b[0m, \u001b[33m0xC142A05F00000000\u001b[39m\n",
      "\u001b[90m; └\u001b[39m\n",
      "\u001b[90m;  @ In[9]:5 within `g_fastmath'\u001b[39m\n",
      "  \u001b[96m\u001b[1mret\u001b[22m\u001b[39m \u001b[36mdouble\u001b[39m \u001b[0m%2\n",
      "\u001b[33m}\u001b[39m\n"
     ]
    }
   ],
   "source": [
    "function g_fastmath(k)  \n",
    "    @fastmath for i in 1:10  \n",
    "        k = 5k - 1\n",
    "    end\n",
    "    k\n",
    "end\n",
    "@code_llvm g_fastmath(257)\n",
    "@code_llvm g_fastmath(257.0)"
   ]
  },
  {
   "cell_type": "markdown",
   "metadata": {},
   "source": [
    "`@fastmath` executes a faster transformation of the expression. This sacrifices precision for speed. Both types of inputs in this case now do the same thing, where the compiler conducts one multiplication and one subtraction for each. For `Float64` input, the terms for these operations are in double precision hexadecimal format."
   ]
  },
  {
   "cell_type": "markdown",
   "metadata": {},
   "source": [
    "## Q4\n",
    "\n",
    "Create the vector `x = (0.988, 0.989, 0.990, ..., 1.010, 1.011, 1.012)`.   \n",
    "\n",
    "1. Plot the polynomial `y = x^7 - 7x^6 + 21x^5 - 35x^4 + 35x^3 - 21x^2 + 7x - 1` at points `x`.  \n",
    "\n",
    "2. Plot the polynomial `y = (x - 1)^7` at points `x`.  \n",
    "\n",
    "3. Explain what you found."
   ]
  },
  {
   "cell_type": "code",
   "execution_count": 10,
   "metadata": {},
   "outputs": [
    {
     "data": {
      "image/svg+xml": [
       "<?xml version=\"1.0\" encoding=\"utf-8\"?>\n",
       "<svg xmlns=\"http://www.w3.org/2000/svg\" xmlns:xlink=\"http://www.w3.org/1999/xlink\" width=\"600\" height=\"400\" viewBox=\"0 0 2400 1600\">\n",
       "<defs>\n",
       "  <clipPath id=\"clip520\">\n",
       "    <rect x=\"0\" y=\"0\" width=\"2400\" height=\"1600\"/>\n",
       "  </clipPath>\n",
       "</defs>\n",
       "<path clip-path=\"url(#clip520)\" d=\"\n",
       "M0 1600 L2400 1600 L2400 0 L0 0  Z\n",
       "  \" fill=\"#ffffff\" fill-rule=\"evenodd\" fill-opacity=\"1\"/>\n",
       "<defs>\n",
       "  <clipPath id=\"clip521\">\n",
       "    <rect x=\"480\" y=\"0\" width=\"1681\" height=\"1600\"/>\n",
       "  </clipPath>\n",
       "</defs>\n",
       "<path clip-path=\"url(#clip520)\" d=\"\n",
       "M369.025 1486.45 L2352.76 1486.45 L2352.76 47.2441 L369.025 47.2441  Z\n",
       "  \" fill=\"#ffffff\" fill-rule=\"evenodd\" fill-opacity=\"1\"/>\n",
       "<defs>\n",
       "  <clipPath id=\"clip522\">\n",
       "    <rect x=\"369\" y=\"47\" width=\"1985\" height=\"1440\"/>\n",
       "  </clipPath>\n",
       "</defs>\n",
       "<polyline clip-path=\"url(#clip522)\" style=\"stroke:#000000; stroke-width:2; stroke-opacity:0.1; fill:none\" points=\"\n",
       "  425.168,1486.45 425.168,47.2441 \n",
       "  \"/>\n",
       "<polyline clip-path=\"url(#clip522)\" style=\"stroke:#000000; stroke-width:2; stroke-opacity:0.1; fill:none\" points=\"\n",
       "  737.076,1486.45 737.076,47.2441 \n",
       "  \"/>\n",
       "<polyline clip-path=\"url(#clip522)\" style=\"stroke:#000000; stroke-width:2; stroke-opacity:0.1; fill:none\" points=\"\n",
       "  1048.98,1486.45 1048.98,47.2441 \n",
       "  \"/>\n",
       "<polyline clip-path=\"url(#clip522)\" style=\"stroke:#000000; stroke-width:2; stroke-opacity:0.1; fill:none\" points=\"\n",
       "  1360.89,1486.45 1360.89,47.2441 \n",
       "  \"/>\n",
       "<polyline clip-path=\"url(#clip522)\" style=\"stroke:#000000; stroke-width:2; stroke-opacity:0.1; fill:none\" points=\"\n",
       "  1672.8,1486.45 1672.8,47.2441 \n",
       "  \"/>\n",
       "<polyline clip-path=\"url(#clip522)\" style=\"stroke:#000000; stroke-width:2; stroke-opacity:0.1; fill:none\" points=\"\n",
       "  1984.71,1486.45 1984.71,47.2441 \n",
       "  \"/>\n",
       "<polyline clip-path=\"url(#clip522)\" style=\"stroke:#000000; stroke-width:2; stroke-opacity:0.1; fill:none\" points=\"\n",
       "  2296.61,1486.45 2296.61,47.2441 \n",
       "  \"/>\n",
       "<polyline clip-path=\"url(#clip520)\" style=\"stroke:#000000; stroke-width:4; stroke-opacity:1; fill:none\" points=\"\n",
       "  369.025,1486.45 2352.76,1486.45 \n",
       "  \"/>\n",
       "<polyline clip-path=\"url(#clip520)\" style=\"stroke:#000000; stroke-width:4; stroke-opacity:1; fill:none\" points=\"\n",
       "  425.168,1486.45 425.168,1469.18 \n",
       "  \"/>\n",
       "<polyline clip-path=\"url(#clip520)\" style=\"stroke:#000000; stroke-width:4; stroke-opacity:1; fill:none\" points=\"\n",
       "  737.076,1486.45 737.076,1469.18 \n",
       "  \"/>\n",
       "<polyline clip-path=\"url(#clip520)\" style=\"stroke:#000000; stroke-width:4; stroke-opacity:1; fill:none\" points=\"\n",
       "  1048.98,1486.45 1048.98,1469.18 \n",
       "  \"/>\n",
       "<polyline clip-path=\"url(#clip520)\" style=\"stroke:#000000; stroke-width:4; stroke-opacity:1; fill:none\" points=\"\n",
       "  1360.89,1486.45 1360.89,1469.18 \n",
       "  \"/>\n",
       "<polyline clip-path=\"url(#clip520)\" style=\"stroke:#000000; stroke-width:4; stroke-opacity:1; fill:none\" points=\"\n",
       "  1672.8,1486.45 1672.8,1469.18 \n",
       "  \"/>\n",
       "<polyline clip-path=\"url(#clip520)\" style=\"stroke:#000000; stroke-width:4; stroke-opacity:1; fill:none\" points=\"\n",
       "  1984.71,1486.45 1984.71,1469.18 \n",
       "  \"/>\n",
       "<polyline clip-path=\"url(#clip520)\" style=\"stroke:#000000; stroke-width:4; stroke-opacity:1; fill:none\" points=\"\n",
       "  2296.61,1486.45 2296.61,1469.18 \n",
       "  \"/>\n",
       "<path clip-path=\"url(#clip520)\" d=\"M 0 0 M372.888 1515.64 Q369.277 1515.64 367.448 1519.2 Q365.643 1522.75 365.643 1529.87 Q365.643 1536.98 367.448 1540.55 Q369.277 1544.09 372.888 1544.09 Q376.523 1544.09 378.328 1540.55 Q380.157 1536.98 380.157 1529.87 Q380.157 1522.75 378.328 1519.2 Q376.523 1515.64 372.888 1515.64 M372.888 1511.93 Q378.698 1511.93 381.754 1516.54 Q384.833 1521.12 384.833 1529.87 Q384.833 1538.6 381.754 1543.21 Q378.698 1547.79 372.888 1547.79 Q367.078 1547.79 363.999 1543.21 Q360.944 1538.6 360.944 1529.87 Q360.944 1521.12 363.999 1516.54 Q367.078 1511.93 372.888 1511.93 Z\" fill=\"#000000\" fill-rule=\"evenodd\" fill-opacity=\"1\" /><path clip-path=\"url(#clip520)\" d=\"M 0 0 M393.05 1541.24 L397.934 1541.24 L397.934 1547.12 L393.05 1547.12 L393.05 1541.24 Z\" fill=\"#000000\" fill-rule=\"evenodd\" fill-opacity=\"1\" /><path clip-path=\"url(#clip520)\" d=\"M 0 0 M408.258 1546.4 L408.258 1542.14 Q410.018 1542.98 411.823 1543.42 Q413.629 1543.86 415.365 1543.86 Q419.995 1543.86 422.425 1540.75 Q424.879 1537.63 425.226 1531.29 Q423.883 1533.28 421.823 1534.34 Q419.763 1535.41 417.263 1535.41 Q412.078 1535.41 409.045 1532.28 Q406.036 1529.13 406.036 1523.69 Q406.036 1518.37 409.184 1515.15 Q412.333 1511.93 417.564 1511.93 Q423.559 1511.93 426.707 1516.54 Q429.879 1521.12 429.879 1529.87 Q429.879 1538.05 425.99 1542.93 Q422.124 1547.79 415.573 1547.79 Q413.814 1547.79 412.008 1547.44 Q410.203 1547.1 408.258 1546.4 M417.564 1531.75 Q420.712 1531.75 422.541 1529.6 Q424.393 1527.44 424.393 1523.69 Q424.393 1519.97 422.541 1517.81 Q420.712 1515.64 417.564 1515.64 Q414.416 1515.64 412.564 1517.81 Q410.735 1519.97 410.735 1523.69 Q410.735 1527.44 412.564 1529.6 Q414.416 1531.75 417.564 1531.75 Z\" fill=\"#000000\" fill-rule=\"evenodd\" fill-opacity=\"1\" /><path clip-path=\"url(#clip520)\" d=\"M 0 0 M448.281 1530.71 Q444.948 1530.71 443.027 1532.49 Q441.129 1534.27 441.129 1537.4 Q441.129 1540.52 443.027 1542.31 Q444.948 1544.09 448.281 1544.09 Q451.615 1544.09 453.536 1542.31 Q455.457 1540.5 455.457 1537.4 Q455.457 1534.27 453.536 1532.49 Q451.638 1530.71 448.281 1530.71 M443.605 1528.72 Q440.596 1527.98 438.906 1525.92 Q437.24 1523.86 437.24 1520.89 Q437.24 1516.75 440.18 1514.34 Q443.143 1511.93 448.281 1511.93 Q453.443 1511.93 456.383 1514.34 Q459.323 1516.75 459.323 1520.89 Q459.323 1523.86 457.633 1525.92 Q455.967 1527.98 452.98 1528.72 Q456.36 1529.5 458.235 1531.8 Q460.133 1534.09 460.133 1537.4 Q460.133 1542.42 457.054 1545.11 Q453.999 1547.79 448.281 1547.79 Q442.564 1547.79 439.485 1545.11 Q436.43 1542.42 436.43 1537.4 Q436.43 1534.09 438.328 1531.8 Q440.226 1529.5 443.605 1528.72 M441.893 1521.33 Q441.893 1524.02 443.559 1525.52 Q445.249 1527.03 448.281 1527.03 Q451.291 1527.03 452.98 1525.52 Q454.693 1524.02 454.693 1521.33 Q454.693 1518.65 452.98 1517.14 Q451.291 1515.64 448.281 1515.64 Q445.249 1515.64 443.559 1517.14 Q441.893 1518.65 441.893 1521.33 Z\" fill=\"#000000\" fill-rule=\"evenodd\" fill-opacity=\"1\" /><path clip-path=\"url(#clip520)\" d=\"M 0 0 M468.49 1512.56 L486.846 1512.56 L486.846 1516.5 L472.772 1516.5 L472.772 1524.97 Q473.791 1524.62 474.809 1524.46 Q475.828 1524.27 476.846 1524.27 Q482.633 1524.27 486.013 1527.44 Q489.392 1530.62 489.392 1536.03 Q489.392 1541.61 485.92 1544.71 Q482.448 1547.79 476.128 1547.79 Q473.953 1547.79 471.684 1547.42 Q469.439 1547.05 467.031 1546.31 L467.031 1541.61 Q469.115 1542.74 471.337 1543.3 Q473.559 1543.86 476.036 1543.86 Q480.04 1543.86 482.378 1541.75 Q484.716 1539.64 484.716 1536.03 Q484.716 1532.42 482.378 1530.31 Q480.04 1528.21 476.036 1528.21 Q474.161 1528.21 472.286 1528.62 Q470.434 1529.04 468.49 1529.92 L468.49 1512.56 Z\" fill=\"#000000\" fill-rule=\"evenodd\" fill-opacity=\"1\" /><path clip-path=\"url(#clip520)\" d=\"M 0 0 M684.298 1515.64 Q680.687 1515.64 678.858 1519.2 Q677.053 1522.75 677.053 1529.87 Q677.053 1536.98 678.858 1540.55 Q680.687 1544.09 684.298 1544.09 Q687.932 1544.09 689.738 1540.55 Q691.566 1536.98 691.566 1529.87 Q691.566 1522.75 689.738 1519.2 Q687.932 1515.64 684.298 1515.64 M684.298 1511.93 Q690.108 1511.93 693.164 1516.54 Q696.242 1521.12 696.242 1529.87 Q696.242 1538.6 693.164 1543.21 Q690.108 1547.79 684.298 1547.79 Q678.488 1547.79 675.409 1543.21 Q672.354 1538.6 672.354 1529.87 Q672.354 1521.12 675.409 1516.54 Q678.488 1511.93 684.298 1511.93 Z\" fill=\"#000000\" fill-rule=\"evenodd\" fill-opacity=\"1\" /><path clip-path=\"url(#clip520)\" d=\"M 0 0 M704.46 1541.24 L709.344 1541.24 L709.344 1547.12 L704.46 1547.12 L704.46 1541.24 Z\" fill=\"#000000\" fill-rule=\"evenodd\" fill-opacity=\"1\" /><path clip-path=\"url(#clip520)\" d=\"M 0 0 M719.668 1546.4 L719.668 1542.14 Q721.427 1542.98 723.233 1543.42 Q725.039 1543.86 726.775 1543.86 Q731.404 1543.86 733.835 1540.75 Q736.288 1537.63 736.636 1531.29 Q735.293 1533.28 733.233 1534.34 Q731.173 1535.41 728.673 1535.41 Q723.488 1535.41 720.455 1532.28 Q717.446 1529.13 717.446 1523.69 Q717.446 1518.37 720.594 1515.15 Q723.742 1511.93 728.974 1511.93 Q734.969 1511.93 738.117 1516.54 Q741.288 1521.12 741.288 1529.87 Q741.288 1538.05 737.4 1542.93 Q733.534 1547.79 726.983 1547.79 Q725.224 1547.79 723.418 1547.44 Q721.613 1547.1 719.668 1546.4 M728.974 1531.75 Q732.122 1531.75 733.951 1529.6 Q735.802 1527.44 735.802 1523.69 Q735.802 1519.97 733.951 1517.81 Q732.122 1515.64 728.974 1515.64 Q725.826 1515.64 723.974 1517.81 Q722.145 1519.97 722.145 1523.69 Q722.145 1527.44 723.974 1529.6 Q725.826 1531.75 728.974 1531.75 Z\" fill=\"#000000\" fill-rule=\"evenodd\" fill-opacity=\"1\" /><path clip-path=\"url(#clip520)\" d=\"M 0 0 M749.83 1546.4 L749.83 1542.14 Q751.589 1542.98 753.395 1543.42 Q755.2 1543.86 756.937 1543.86 Q761.566 1543.86 763.997 1540.75 Q766.45 1537.63 766.798 1531.29 Q765.455 1533.28 763.395 1534.34 Q761.335 1535.41 758.835 1535.41 Q753.649 1535.41 750.617 1532.28 Q747.608 1529.13 747.608 1523.69 Q747.608 1518.37 750.756 1515.15 Q753.904 1511.93 759.136 1511.93 Q765.131 1511.93 768.279 1516.54 Q771.45 1521.12 771.45 1529.87 Q771.45 1538.05 767.561 1542.93 Q763.696 1547.79 757.145 1547.79 Q755.386 1547.79 753.58 1547.44 Q751.775 1547.1 749.83 1546.4 M759.136 1531.75 Q762.284 1531.75 764.112 1529.6 Q765.964 1527.44 765.964 1523.69 Q765.964 1519.97 764.112 1517.81 Q762.284 1515.64 759.136 1515.64 Q755.987 1515.64 754.136 1517.81 Q752.307 1519.97 752.307 1523.69 Q752.307 1527.44 754.136 1529.6 Q755.987 1531.75 759.136 1531.75 Z\" fill=\"#000000\" fill-rule=\"evenodd\" fill-opacity=\"1\" /><path clip-path=\"url(#clip520)\" d=\"M 0 0 M789.853 1515.64 Q786.242 1515.64 784.413 1519.2 Q782.608 1522.75 782.608 1529.87 Q782.608 1536.98 784.413 1540.55 Q786.242 1544.09 789.853 1544.09 Q793.487 1544.09 795.293 1540.55 Q797.121 1536.98 797.121 1529.87 Q797.121 1522.75 795.293 1519.2 Q793.487 1515.64 789.853 1515.64 M789.853 1511.93 Q795.663 1511.93 798.719 1516.54 Q801.797 1521.12 801.797 1529.87 Q801.797 1538.6 798.719 1543.21 Q795.663 1547.79 789.853 1547.79 Q784.043 1547.79 780.964 1543.21 Q777.909 1538.6 777.909 1529.87 Q777.909 1521.12 780.964 1516.54 Q784.043 1511.93 789.853 1511.93 Z\" fill=\"#000000\" fill-rule=\"evenodd\" fill-opacity=\"1\" /><path clip-path=\"url(#clip520)\" d=\"M 0 0 M996.703 1515.64 Q993.092 1515.64 991.263 1519.2 Q989.458 1522.75 989.458 1529.87 Q989.458 1536.98 991.263 1540.55 Q993.092 1544.09 996.703 1544.09 Q1000.34 1544.09 1002.14 1540.55 Q1003.97 1536.98 1003.97 1529.87 Q1003.97 1522.75 1002.14 1519.2 Q1000.34 1515.64 996.703 1515.64 M996.703 1511.93 Q1002.51 1511.93 1005.57 1516.54 Q1008.65 1521.12 1008.65 1529.87 Q1008.65 1538.6 1005.57 1543.21 Q1002.51 1547.79 996.703 1547.79 Q990.893 1547.79 987.814 1543.21 Q984.759 1538.6 984.759 1529.87 Q984.759 1521.12 987.814 1516.54 Q990.893 1511.93 996.703 1511.93 Z\" fill=\"#000000\" fill-rule=\"evenodd\" fill-opacity=\"1\" /><path clip-path=\"url(#clip520)\" d=\"M 0 0 M1016.87 1541.24 L1021.75 1541.24 L1021.75 1547.12 L1016.87 1547.12 L1016.87 1541.24 Z\" fill=\"#000000\" fill-rule=\"evenodd\" fill-opacity=\"1\" /><path clip-path=\"url(#clip520)\" d=\"M 0 0 M1032.07 1546.4 L1032.07 1542.14 Q1033.83 1542.98 1035.64 1543.42 Q1037.44 1543.86 1039.18 1543.86 Q1043.81 1543.86 1046.24 1540.75 Q1048.69 1537.63 1049.04 1531.29 Q1047.7 1533.28 1045.64 1534.34 Q1043.58 1535.41 1041.08 1535.41 Q1035.89 1535.41 1032.86 1532.28 Q1029.85 1529.13 1029.85 1523.69 Q1029.85 1518.37 1033 1515.15 Q1036.15 1511.93 1041.38 1511.93 Q1047.37 1511.93 1050.52 1516.54 Q1053.69 1521.12 1053.69 1529.87 Q1053.69 1538.05 1049.8 1542.93 Q1045.94 1547.79 1039.39 1547.79 Q1037.63 1547.79 1035.82 1547.44 Q1034.02 1547.1 1032.07 1546.4 M1041.38 1531.75 Q1044.53 1531.75 1046.36 1529.6 Q1048.21 1527.44 1048.21 1523.69 Q1048.21 1519.97 1046.36 1517.81 Q1044.53 1515.64 1041.38 1515.64 Q1038.23 1515.64 1036.38 1517.81 Q1034.55 1519.97 1034.55 1523.69 Q1034.55 1527.44 1036.38 1529.6 Q1038.23 1531.75 1041.38 1531.75 Z\" fill=\"#000000\" fill-rule=\"evenodd\" fill-opacity=\"1\" /><path clip-path=\"url(#clip520)\" d=\"M 0 0 M1062.24 1546.4 L1062.24 1542.14 Q1063.99 1542.98 1065.8 1543.42 Q1067.61 1543.86 1069.34 1543.86 Q1073.97 1543.86 1076.4 1540.75 Q1078.86 1537.63 1079.2 1531.29 Q1077.86 1533.28 1075.8 1534.34 Q1073.74 1535.41 1071.24 1535.41 Q1066.05 1535.41 1063.02 1532.28 Q1060.01 1529.13 1060.01 1523.69 Q1060.01 1518.37 1063.16 1515.15 Q1066.31 1511.93 1071.54 1511.93 Q1077.54 1511.93 1080.68 1516.54 Q1083.86 1521.12 1083.86 1529.87 Q1083.86 1538.05 1079.97 1542.93 Q1076.1 1547.79 1069.55 1547.79 Q1067.79 1547.79 1065.99 1547.44 Q1064.18 1547.1 1062.24 1546.4 M1071.54 1531.75 Q1074.69 1531.75 1076.52 1529.6 Q1078.37 1527.44 1078.37 1523.69 Q1078.37 1519.97 1076.52 1517.81 Q1074.69 1515.64 1071.54 1515.64 Q1068.39 1515.64 1066.54 1517.81 Q1064.71 1519.97 1064.71 1523.69 Q1064.71 1527.44 1066.54 1529.6 Q1068.39 1531.75 1071.54 1531.75 Z\" fill=\"#000000\" fill-rule=\"evenodd\" fill-opacity=\"1\" /><path clip-path=\"url(#clip520)\" d=\"M 0 0 M1092.3 1512.56 L1110.66 1512.56 L1110.66 1516.5 L1096.59 1516.5 L1096.59 1524.97 Q1097.61 1524.62 1098.62 1524.46 Q1099.64 1524.27 1100.66 1524.27 Q1106.45 1524.27 1109.83 1527.44 Q1113.21 1530.62 1113.21 1536.03 Q1113.21 1541.61 1109.73 1544.71 Q1106.26 1547.79 1099.94 1547.79 Q1097.77 1547.79 1095.5 1547.42 Q1093.25 1547.05 1090.85 1546.31 L1090.85 1541.61 Q1092.93 1542.74 1095.15 1543.3 Q1097.37 1543.86 1099.85 1543.86 Q1103.86 1543.86 1106.19 1541.75 Q1108.53 1539.64 1108.53 1536.03 Q1108.53 1532.42 1106.19 1530.31 Q1103.86 1528.21 1099.85 1528.21 Q1097.98 1528.21 1096.1 1528.62 Q1094.25 1529.04 1092.3 1529.92 L1092.3 1512.56 Z\" fill=\"#000000\" fill-rule=\"evenodd\" fill-opacity=\"1\" /><path clip-path=\"url(#clip520)\" d=\"M 0 0 M1297.88 1543.18 L1305.52 1543.18 L1305.52 1516.82 L1297.21 1518.49 L1297.21 1514.23 L1305.47 1512.56 L1310.15 1512.56 L1310.15 1543.18 L1317.79 1543.18 L1317.79 1547.12 L1297.88 1547.12 L1297.88 1543.18 Z\" fill=\"#000000\" fill-rule=\"evenodd\" fill-opacity=\"1\" /><path clip-path=\"url(#clip520)\" d=\"M 0 0 M1327.23 1541.24 L1332.12 1541.24 L1332.12 1547.12 L1327.23 1547.12 L1327.23 1541.24 Z\" fill=\"#000000\" fill-rule=\"evenodd\" fill-opacity=\"1\" /><path clip-path=\"url(#clip520)\" d=\"M 0 0 M1352.3 1515.64 Q1348.69 1515.64 1346.86 1519.2 Q1345.06 1522.75 1345.06 1529.87 Q1345.06 1536.98 1346.86 1540.55 Q1348.69 1544.09 1352.3 1544.09 Q1355.94 1544.09 1357.74 1540.55 Q1359.57 1536.98 1359.57 1529.87 Q1359.57 1522.75 1357.74 1519.2 Q1355.94 1515.64 1352.3 1515.64 M1352.3 1511.93 Q1358.11 1511.93 1361.17 1516.54 Q1364.25 1521.12 1364.25 1529.87 Q1364.25 1538.6 1361.17 1543.21 Q1358.11 1547.79 1352.3 1547.79 Q1346.49 1547.79 1343.41 1543.21 Q1340.36 1538.6 1340.36 1529.87 Q1340.36 1521.12 1343.41 1516.54 Q1346.49 1511.93 1352.3 1511.93 Z\" fill=\"#000000\" fill-rule=\"evenodd\" fill-opacity=\"1\" /><path clip-path=\"url(#clip520)\" d=\"M 0 0 M1382.46 1515.64 Q1378.85 1515.64 1377.02 1519.2 Q1375.22 1522.75 1375.22 1529.87 Q1375.22 1536.98 1377.02 1540.55 Q1378.85 1544.09 1382.46 1544.09 Q1386.1 1544.09 1387.9 1540.55 Q1389.73 1536.98 1389.73 1529.87 Q1389.73 1522.75 1387.9 1519.2 Q1386.1 1515.64 1382.46 1515.64 M1382.46 1511.93 Q1388.27 1511.93 1391.33 1516.54 Q1394.41 1521.12 1394.41 1529.87 Q1394.41 1538.6 1391.33 1543.21 Q1388.27 1547.79 1382.46 1547.79 Q1376.65 1547.79 1373.58 1543.21 Q1370.52 1538.6 1370.52 1529.87 Q1370.52 1521.12 1373.58 1516.54 Q1376.65 1511.93 1382.46 1511.93 Z\" fill=\"#000000\" fill-rule=\"evenodd\" fill-opacity=\"1\" /><path clip-path=\"url(#clip520)\" d=\"M 0 0 M1412.63 1515.64 Q1409.02 1515.64 1407.19 1519.2 Q1405.38 1522.75 1405.38 1529.87 Q1405.38 1536.98 1407.19 1540.55 Q1409.02 1544.09 1412.63 1544.09 Q1416.26 1544.09 1418.07 1540.55 Q1419.89 1536.98 1419.89 1529.87 Q1419.89 1522.75 1418.07 1519.2 Q1416.26 1515.64 1412.63 1515.64 M1412.63 1511.93 Q1418.44 1511.93 1421.49 1516.54 Q1424.57 1521.12 1424.57 1529.87 Q1424.57 1538.6 1421.49 1543.21 Q1418.44 1547.79 1412.63 1547.79 Q1406.82 1547.79 1403.74 1543.21 Q1400.68 1538.6 1400.68 1529.87 Q1400.68 1521.12 1403.74 1516.54 Q1406.82 1511.93 1412.63 1511.93 Z\" fill=\"#000000\" fill-rule=\"evenodd\" fill-opacity=\"1\" /><path clip-path=\"url(#clip520)\" d=\"M 0 0 M1610.29 1543.18 L1617.93 1543.18 L1617.93 1516.82 L1609.62 1518.49 L1609.62 1514.23 L1617.88 1512.56 L1622.55 1512.56 L1622.55 1543.18 L1630.19 1543.18 L1630.19 1547.12 L1610.29 1547.12 L1610.29 1543.18 Z\" fill=\"#000000\" fill-rule=\"evenodd\" fill-opacity=\"1\" /><path clip-path=\"url(#clip520)\" d=\"M 0 0 M1639.64 1541.24 L1644.52 1541.24 L1644.52 1547.12 L1639.64 1547.12 L1639.64 1541.24 Z\" fill=\"#000000\" fill-rule=\"evenodd\" fill-opacity=\"1\" /><path clip-path=\"url(#clip520)\" d=\"M 0 0 M1664.71 1515.64 Q1661.1 1515.64 1659.27 1519.2 Q1657.46 1522.75 1657.46 1529.87 Q1657.46 1536.98 1659.27 1540.55 Q1661.1 1544.09 1664.71 1544.09 Q1668.34 1544.09 1670.15 1540.55 Q1671.98 1536.98 1671.98 1529.87 Q1671.98 1522.75 1670.15 1519.2 Q1668.34 1515.64 1664.71 1515.64 M1664.71 1511.93 Q1670.52 1511.93 1673.57 1516.54 Q1676.65 1521.12 1676.65 1529.87 Q1676.65 1538.6 1673.57 1543.21 Q1670.52 1547.79 1664.71 1547.79 Q1658.9 1547.79 1655.82 1543.21 Q1652.76 1538.6 1652.76 1529.87 Q1652.76 1521.12 1655.82 1516.54 Q1658.9 1511.93 1664.71 1511.93 Z\" fill=\"#000000\" fill-rule=\"evenodd\" fill-opacity=\"1\" /><path clip-path=\"url(#clip520)\" d=\"M 0 0 M1694.87 1515.64 Q1691.26 1515.64 1689.43 1519.2 Q1687.62 1522.75 1687.62 1529.87 Q1687.62 1536.98 1689.43 1540.55 Q1691.26 1544.09 1694.87 1544.09 Q1698.5 1544.09 1700.31 1540.55 Q1702.14 1536.98 1702.14 1529.87 Q1702.14 1522.75 1700.31 1519.2 Q1698.5 1515.64 1694.87 1515.64 M1694.87 1511.93 Q1700.68 1511.93 1703.74 1516.54 Q1706.81 1521.12 1706.81 1529.87 Q1706.81 1538.6 1703.74 1543.21 Q1700.68 1547.79 1694.87 1547.79 Q1689.06 1547.79 1685.98 1543.21 Q1682.93 1538.6 1682.93 1529.87 Q1682.93 1521.12 1685.98 1516.54 Q1689.06 1511.93 1694.87 1511.93 Z\" fill=\"#000000\" fill-rule=\"evenodd\" fill-opacity=\"1\" /><path clip-path=\"url(#clip520)\" d=\"M 0 0 M1715.08 1512.56 L1733.43 1512.56 L1733.43 1516.5 L1719.36 1516.5 L1719.36 1524.97 Q1720.38 1524.62 1721.4 1524.46 Q1722.42 1524.27 1723.43 1524.27 Q1729.22 1524.27 1732.6 1527.44 Q1735.98 1530.62 1735.98 1536.03 Q1735.98 1541.61 1732.51 1544.71 Q1729.04 1547.79 1722.72 1547.79 Q1720.54 1547.79 1718.27 1547.42 Q1716.03 1547.05 1713.62 1546.31 L1713.62 1541.61 Q1715.7 1542.74 1717.92 1543.3 Q1720.15 1543.86 1722.62 1543.86 Q1726.63 1543.86 1728.97 1541.75 Q1731.3 1539.64 1731.3 1536.03 Q1731.3 1532.42 1728.97 1530.31 Q1726.63 1528.21 1722.62 1528.21 Q1720.75 1528.21 1718.87 1528.62 Q1717.02 1529.04 1715.08 1529.92 L1715.08 1512.56 Z\" fill=\"#000000\" fill-rule=\"evenodd\" fill-opacity=\"1\" /><path clip-path=\"url(#clip520)\" d=\"M 0 0 M1921.7 1543.18 L1929.34 1543.18 L1929.34 1516.82 L1921.02 1518.49 L1921.02 1514.23 L1929.29 1512.56 L1933.96 1512.56 L1933.96 1543.18 L1941.6 1543.18 L1941.6 1547.12 L1921.7 1547.12 L1921.7 1543.18 Z\" fill=\"#000000\" fill-rule=\"evenodd\" fill-opacity=\"1\" /><path clip-path=\"url(#clip520)\" d=\"M 0 0 M1951.05 1541.24 L1955.93 1541.24 L1955.93 1547.12 L1951.05 1547.12 L1951.05 1541.24 Z\" fill=\"#000000\" fill-rule=\"evenodd\" fill-opacity=\"1\" /><path clip-path=\"url(#clip520)\" d=\"M 0 0 M1976.12 1515.64 Q1972.51 1515.64 1970.68 1519.2 Q1968.87 1522.75 1968.87 1529.87 Q1968.87 1536.98 1970.68 1540.55 Q1972.51 1544.09 1976.12 1544.09 Q1979.75 1544.09 1981.56 1540.55 Q1983.39 1536.98 1983.39 1529.87 Q1983.39 1522.75 1981.56 1519.2 Q1979.75 1515.64 1976.12 1515.64 M1976.12 1511.93 Q1981.93 1511.93 1984.98 1516.54 Q1988.06 1521.12 1988.06 1529.87 Q1988.06 1538.6 1984.98 1543.21 Q1981.93 1547.79 1976.12 1547.79 Q1970.31 1547.79 1967.23 1543.21 Q1964.17 1538.6 1964.17 1529.87 Q1964.17 1521.12 1967.23 1516.54 Q1970.31 1511.93 1976.12 1511.93 Z\" fill=\"#000000\" fill-rule=\"evenodd\" fill-opacity=\"1\" /><path clip-path=\"url(#clip520)\" d=\"M 0 0 M1997.09 1543.18 L2004.73 1543.18 L2004.73 1516.82 L1996.42 1518.49 L1996.42 1514.23 L2004.68 1512.56 L2009.36 1512.56 L2009.36 1543.18 L2017 1543.18 L2017 1547.12 L1997.09 1547.12 L1997.09 1543.18 Z\" fill=\"#000000\" fill-rule=\"evenodd\" fill-opacity=\"1\" /><path clip-path=\"url(#clip520)\" d=\"M 0 0 M2036.44 1515.64 Q2032.83 1515.64 2031 1519.2 Q2029.2 1522.75 2029.2 1529.87 Q2029.2 1536.98 2031 1540.55 Q2032.83 1544.09 2036.44 1544.09 Q2040.08 1544.09 2041.88 1540.55 Q2043.71 1536.98 2043.71 1529.87 Q2043.71 1522.75 2041.88 1519.2 Q2040.08 1515.64 2036.44 1515.64 M2036.44 1511.93 Q2042.25 1511.93 2045.31 1516.54 Q2048.39 1521.12 2048.39 1529.87 Q2048.39 1538.6 2045.31 1543.21 Q2042.25 1547.79 2036.44 1547.79 Q2030.63 1547.79 2027.55 1543.21 Q2024.5 1538.6 2024.5 1529.87 Q2024.5 1521.12 2027.55 1516.54 Q2030.63 1511.93 2036.44 1511.93 Z\" fill=\"#000000\" fill-rule=\"evenodd\" fill-opacity=\"1\" /><path clip-path=\"url(#clip520)\" d=\"M 0 0 M2234.1 1543.18 L2241.74 1543.18 L2241.74 1516.82 L2233.43 1518.49 L2233.43 1514.23 L2241.69 1512.56 L2246.37 1512.56 L2246.37 1543.18 L2254.01 1543.18 L2254.01 1547.12 L2234.1 1547.12 L2234.1 1543.18 Z\" fill=\"#000000\" fill-rule=\"evenodd\" fill-opacity=\"1\" /><path clip-path=\"url(#clip520)\" d=\"M 0 0 M2263.45 1541.24 L2268.34 1541.24 L2268.34 1547.12 L2263.45 1547.12 L2263.45 1541.24 Z\" fill=\"#000000\" fill-rule=\"evenodd\" fill-opacity=\"1\" /><path clip-path=\"url(#clip520)\" d=\"M 0 0 M2288.52 1515.64 Q2284.91 1515.64 2283.08 1519.2 Q2281.28 1522.75 2281.28 1529.87 Q2281.28 1536.98 2283.08 1540.55 Q2284.91 1544.09 2288.52 1544.09 Q2292.16 1544.09 2293.96 1540.55 Q2295.79 1536.98 2295.79 1529.87 Q2295.79 1522.75 2293.96 1519.2 Q2292.16 1515.64 2288.52 1515.64 M2288.52 1511.93 Q2294.33 1511.93 2297.39 1516.54 Q2300.47 1521.12 2300.47 1529.87 Q2300.47 1538.6 2297.39 1543.21 Q2294.33 1547.79 2288.52 1547.79 Q2282.71 1547.79 2279.63 1543.21 Q2276.58 1538.6 2276.58 1529.87 Q2276.58 1521.12 2279.63 1516.54 Q2282.71 1511.93 2288.52 1511.93 Z\" fill=\"#000000\" fill-rule=\"evenodd\" fill-opacity=\"1\" /><path clip-path=\"url(#clip520)\" d=\"M 0 0 M2309.49 1543.18 L2317.13 1543.18 L2317.13 1516.82 L2308.82 1518.49 L2308.82 1514.23 L2317.09 1512.56 L2321.76 1512.56 L2321.76 1543.18 L2329.4 1543.18 L2329.4 1547.12 L2309.49 1547.12 L2309.49 1543.18 Z\" fill=\"#000000\" fill-rule=\"evenodd\" fill-opacity=\"1\" /><path clip-path=\"url(#clip520)\" d=\"M 0 0 M2338.89 1512.56 L2357.25 1512.56 L2357.25 1516.5 L2343.17 1516.5 L2343.17 1524.97 Q2344.19 1524.62 2345.21 1524.46 Q2346.23 1524.27 2347.25 1524.27 Q2353.04 1524.27 2356.42 1527.44 Q2359.8 1530.62 2359.8 1536.03 Q2359.8 1541.61 2356.32 1544.71 Q2352.85 1547.79 2346.53 1547.79 Q2344.36 1547.79 2342.09 1547.42 Q2339.84 1547.05 2337.43 1546.31 L2337.43 1541.61 Q2339.52 1542.74 2341.74 1543.3 Q2343.96 1543.86 2346.44 1543.86 Q2350.44 1543.86 2352.78 1541.75 Q2355.12 1539.64 2355.12 1536.03 Q2355.12 1532.42 2352.78 1530.31 Q2350.44 1528.21 2346.44 1528.21 Q2344.56 1528.21 2342.69 1528.62 Q2340.84 1529.04 2338.89 1529.92 L2338.89 1512.56 Z\" fill=\"#000000\" fill-rule=\"evenodd\" fill-opacity=\"1\" /><polyline clip-path=\"url(#clip522)\" style=\"stroke:#000000; stroke-width:2; stroke-opacity:0.1; fill:none\" points=\"\n",
       "  369.025,1337.67 2352.76,1337.67 \n",
       "  \"/>\n",
       "<polyline clip-path=\"url(#clip522)\" style=\"stroke:#000000; stroke-width:2; stroke-opacity:0.1; fill:none\" points=\"\n",
       "  369.025,1142.19 2352.76,1142.19 \n",
       "  \"/>\n",
       "<polyline clip-path=\"url(#clip522)\" style=\"stroke:#000000; stroke-width:2; stroke-opacity:0.1; fill:none\" points=\"\n",
       "  369.025,946.703 2352.76,946.703 \n",
       "  \"/>\n",
       "<polyline clip-path=\"url(#clip522)\" style=\"stroke:#000000; stroke-width:2; stroke-opacity:0.1; fill:none\" points=\"\n",
       "  369.025,751.22 2352.76,751.22 \n",
       "  \"/>\n",
       "<polyline clip-path=\"url(#clip522)\" style=\"stroke:#000000; stroke-width:2; stroke-opacity:0.1; fill:none\" points=\"\n",
       "  369.025,555.737 2352.76,555.737 \n",
       "  \"/>\n",
       "<polyline clip-path=\"url(#clip522)\" style=\"stroke:#000000; stroke-width:2; stroke-opacity:0.1; fill:none\" points=\"\n",
       "  369.025,360.253 2352.76,360.253 \n",
       "  \"/>\n",
       "<polyline clip-path=\"url(#clip522)\" style=\"stroke:#000000; stroke-width:2; stroke-opacity:0.1; fill:none\" points=\"\n",
       "  369.025,164.77 2352.76,164.77 \n",
       "  \"/>\n",
       "<polyline clip-path=\"url(#clip520)\" style=\"stroke:#000000; stroke-width:4; stroke-opacity:1; fill:none\" points=\"\n",
       "  369.025,1486.45 369.025,47.2441 \n",
       "  \"/>\n",
       "<polyline clip-path=\"url(#clip520)\" style=\"stroke:#000000; stroke-width:4; stroke-opacity:1; fill:none\" points=\"\n",
       "  369.025,1337.67 392.83,1337.67 \n",
       "  \"/>\n",
       "<polyline clip-path=\"url(#clip520)\" style=\"stroke:#000000; stroke-width:4; stroke-opacity:1; fill:none\" points=\"\n",
       "  369.025,1142.19 392.83,1142.19 \n",
       "  \"/>\n",
       "<polyline clip-path=\"url(#clip520)\" style=\"stroke:#000000; stroke-width:4; stroke-opacity:1; fill:none\" points=\"\n",
       "  369.025,946.703 392.83,946.703 \n",
       "  \"/>\n",
       "<polyline clip-path=\"url(#clip520)\" style=\"stroke:#000000; stroke-width:4; stroke-opacity:1; fill:none\" points=\"\n",
       "  369.025,751.22 392.83,751.22 \n",
       "  \"/>\n",
       "<polyline clip-path=\"url(#clip520)\" style=\"stroke:#000000; stroke-width:4; stroke-opacity:1; fill:none\" points=\"\n",
       "  369.025,555.737 392.83,555.737 \n",
       "  \"/>\n",
       "<polyline clip-path=\"url(#clip520)\" style=\"stroke:#000000; stroke-width:4; stroke-opacity:1; fill:none\" points=\"\n",
       "  369.025,360.253 392.83,360.253 \n",
       "  \"/>\n",
       "<polyline clip-path=\"url(#clip520)\" style=\"stroke:#000000; stroke-width:4; stroke-opacity:1; fill:none\" points=\"\n",
       "  369.025,164.77 392.83,164.77 \n",
       "  \"/>\n",
       "<path clip-path=\"url(#clip520)\" d=\"M 0 0 M51.9137 1344.57 L81.5895 1344.57 L81.5895 1348.5 L51.9137 1348.5 L51.9137 1344.57 Z\" fill=\"#000000\" fill-rule=\"evenodd\" fill-opacity=\"1\" /><path clip-path=\"url(#clip520)\" d=\"M 0 0 M92.4922 1357.46 L100.131 1357.46 L100.131 1331.1 L91.8209 1332.76 L91.8209 1328.5 L100.085 1326.84 L104.761 1326.84 L104.761 1357.46 L112.399 1357.46 L112.399 1361.4 L92.4922 1361.4 L92.4922 1357.46 Z\" fill=\"#000000\" fill-rule=\"evenodd\" fill-opacity=\"1\" /><path clip-path=\"url(#clip520)\" d=\"M 0 0 M121.844 1355.52 L126.728 1355.52 L126.728 1361.4 L121.844 1361.4 L121.844 1355.52 Z\" fill=\"#000000\" fill-rule=\"evenodd\" fill-opacity=\"1\" /><path clip-path=\"url(#clip520)\" d=\"M 0 0 M136.96 1326.84 L155.316 1326.84 L155.316 1330.77 L141.242 1330.77 L141.242 1339.24 Q142.26 1338.9 143.279 1338.74 Q144.297 1338.55 145.316 1338.55 Q151.103 1338.55 154.483 1341.72 Q157.862 1344.89 157.862 1350.31 Q157.862 1355.89 154.39 1358.99 Q150.918 1362.07 144.598 1362.07 Q142.422 1362.07 140.154 1361.7 Q137.909 1361.33 135.501 1360.59 L135.501 1355.89 Q137.585 1357.02 139.807 1357.58 Q142.029 1358.13 144.506 1358.13 Q148.51 1358.13 150.848 1356.03 Q153.186 1353.92 153.186 1350.31 Q153.186 1346.7 150.848 1344.59 Q148.51 1342.49 144.506 1342.49 Q142.631 1342.49 140.756 1342.9 Q138.904 1343.32 136.96 1344.2 L136.96 1326.84 Z\" fill=\"#000000\" fill-rule=\"evenodd\" fill-opacity=\"1\" /><path clip-path=\"url(#clip520)\" d=\"M 0 0 M195.246 1335.93 L184.668 1346.56 L195.246 1357.14 L192.492 1359.94 L181.867 1349.31 L171.242 1359.94 L168.51 1357.14 L179.066 1346.56 L168.51 1335.93 L171.242 1333.13 L181.867 1343.76 L192.492 1333.13 L195.246 1335.93 Z\" fill=\"#000000\" fill-rule=\"evenodd\" fill-opacity=\"1\" /><path clip-path=\"url(#clip520)\" d=\"M 0 0 M207.607 1357.46 L215.246 1357.46 L215.246 1331.1 L206.936 1332.76 L206.936 1328.5 L215.2 1326.84 L219.876 1326.84 L219.876 1357.46 L227.515 1357.46 L227.515 1361.4 L207.607 1361.4 L207.607 1357.46 Z\" fill=\"#000000\" fill-rule=\"evenodd\" fill-opacity=\"1\" /><path clip-path=\"url(#clip520)\" d=\"M 0 0 M246.959 1329.92 Q243.348 1329.92 241.519 1333.48 Q239.714 1337.02 239.714 1344.15 Q239.714 1351.26 241.519 1354.82 Q243.348 1358.36 246.959 1358.36 Q250.593 1358.36 252.399 1354.82 Q254.227 1351.26 254.227 1344.15 Q254.227 1337.02 252.399 1333.48 Q250.593 1329.92 246.959 1329.92 M246.959 1326.21 Q252.769 1326.21 255.825 1330.82 Q258.903 1335.4 258.903 1344.15 Q258.903 1352.88 255.825 1357.49 Q252.769 1362.07 246.959 1362.07 Q241.149 1362.07 238.07 1357.49 Q235.015 1352.88 235.015 1344.15 Q235.015 1335.4 238.07 1330.82 Q241.149 1326.21 246.959 1326.21 Z\" fill=\"#000000\" fill-rule=\"evenodd\" fill-opacity=\"1\" /><path clip-path=\"url(#clip520)\" d=\"M 0 0 M258.903 1320.31 L283.015 1320.31 L283.015 1323.51 L258.903 1323.51 L258.903 1320.31 Z\" fill=\"#000000\" fill-rule=\"evenodd\" fill-opacity=\"1\" /><path clip-path=\"url(#clip520)\" d=\"M 0 0 M291.873 1330.79 L298.08 1330.79 L298.08 1309.37 L291.328 1310.72 L291.328 1307.26 L298.042 1305.91 L301.841 1305.91 L301.841 1330.79 L308.048 1330.79 L308.048 1333.99 L291.873 1333.99 L291.873 1330.79 Z\" fill=\"#000000\" fill-rule=\"evenodd\" fill-opacity=\"1\" /><path clip-path=\"url(#clip520)\" d=\"M 0 0 M327.232 1318.85 Q329.959 1319.43 331.483 1321.27 Q333.025 1323.12 333.025 1325.82 Q333.025 1329.98 330.166 1332.26 Q327.307 1334.53 322.041 1334.53 Q320.273 1334.53 318.392 1334.17 Q316.53 1333.84 314.537 1333.14 L314.537 1329.47 Q316.117 1330.39 317.997 1330.86 Q319.878 1331.33 321.928 1331.33 Q325.502 1331.33 327.364 1329.92 Q329.244 1328.51 329.244 1325.82 Q329.244 1323.34 327.495 1321.95 Q325.765 1320.54 322.662 1320.54 L319.389 1320.54 L319.389 1317.42 L322.812 1317.42 Q325.614 1317.42 327.1 1316.31 Q328.586 1315.18 328.586 1313.07 Q328.586 1310.91 327.044 1309.76 Q325.52 1308.6 322.662 1308.6 Q321.101 1308.6 319.314 1308.93 Q317.527 1309.27 315.383 1309.99 L315.383 1306.6 Q317.546 1306 319.427 1305.7 Q321.326 1305.4 323 1305.4 Q327.326 1305.4 329.846 1307.37 Q332.366 1309.33 332.366 1312.68 Q332.366 1315.01 331.031 1316.63 Q329.696 1318.23 327.232 1318.85 Z\" fill=\"#000000\" fill-rule=\"evenodd\" fill-opacity=\"1\" /><path clip-path=\"url(#clip520)\" d=\"M 0 0 M51.9137 1149.09 L81.5895 1149.09 L81.5895 1153.02 L51.9137 1153.02 L51.9137 1149.09 Z\" fill=\"#000000\" fill-rule=\"evenodd\" fill-opacity=\"1\" /><path clip-path=\"url(#clip520)\" d=\"M 0 0 M92.4922 1161.98 L100.131 1161.98 L100.131 1135.61 L91.8209 1137.28 L91.8209 1133.02 L100.085 1131.35 L104.761 1131.35 L104.761 1161.98 L112.399 1161.98 L112.399 1165.91 L92.4922 1165.91 L92.4922 1161.98 Z\" fill=\"#000000\" fill-rule=\"evenodd\" fill-opacity=\"1\" /><path clip-path=\"url(#clip520)\" d=\"M 0 0 M121.844 1160.03 L126.728 1160.03 L126.728 1165.91 L121.844 1165.91 L121.844 1160.03 Z\" fill=\"#000000\" fill-rule=\"evenodd\" fill-opacity=\"1\" /><path clip-path=\"url(#clip520)\" d=\"M 0 0 M146.913 1134.43 Q143.302 1134.43 141.473 1138 Q139.668 1141.54 139.668 1148.67 Q139.668 1155.78 141.473 1159.34 Q143.302 1162.88 146.913 1162.88 Q150.547 1162.88 152.353 1159.34 Q154.182 1155.78 154.182 1148.67 Q154.182 1141.54 152.353 1138 Q150.547 1134.43 146.913 1134.43 M146.913 1130.73 Q152.723 1130.73 155.779 1135.34 Q158.858 1139.92 158.858 1148.67 Q158.858 1157.4 155.779 1162 Q152.723 1166.59 146.913 1166.59 Q141.103 1166.59 138.024 1162 Q134.969 1157.4 134.969 1148.67 Q134.969 1139.92 138.024 1135.34 Q141.103 1130.73 146.913 1130.73 Z\" fill=\"#000000\" fill-rule=\"evenodd\" fill-opacity=\"1\" /><path clip-path=\"url(#clip520)\" d=\"M 0 0 M195.246 1140.45 L184.668 1151.08 L195.246 1161.65 L192.492 1164.46 L181.867 1153.83 L171.242 1164.46 L168.51 1161.65 L179.066 1151.08 L168.51 1140.45 L171.242 1137.65 L181.867 1148.28 L192.492 1137.65 L195.246 1140.45 Z\" fill=\"#000000\" fill-rule=\"evenodd\" fill-opacity=\"1\" /><path clip-path=\"url(#clip520)\" d=\"M 0 0 M207.607 1161.98 L215.246 1161.98 L215.246 1135.61 L206.936 1137.28 L206.936 1133.02 L215.2 1131.35 L219.876 1131.35 L219.876 1161.98 L227.515 1161.98 L227.515 1165.91 L207.607 1165.91 L207.607 1161.98 Z\" fill=\"#000000\" fill-rule=\"evenodd\" fill-opacity=\"1\" /><path clip-path=\"url(#clip520)\" d=\"M 0 0 M246.959 1134.43 Q243.348 1134.43 241.519 1138 Q239.714 1141.54 239.714 1148.67 Q239.714 1155.78 241.519 1159.34 Q243.348 1162.88 246.959 1162.88 Q250.593 1162.88 252.399 1159.34 Q254.227 1155.78 254.227 1148.67 Q254.227 1141.54 252.399 1138 Q250.593 1134.43 246.959 1134.43 M246.959 1130.73 Q252.769 1130.73 255.825 1135.34 Q258.903 1139.92 258.903 1148.67 Q258.903 1157.4 255.825 1162 Q252.769 1166.59 246.959 1166.59 Q241.149 1166.59 238.07 1162 Q235.015 1157.4 235.015 1148.67 Q235.015 1139.92 238.07 1135.34 Q241.149 1130.73 246.959 1130.73 Z\" fill=\"#000000\" fill-rule=\"evenodd\" fill-opacity=\"1\" /><path clip-path=\"url(#clip520)\" d=\"M 0 0 M258.903 1124.83 L283.015 1124.83 L283.015 1128.03 L258.903 1128.03 L258.903 1124.83 Z\" fill=\"#000000\" fill-rule=\"evenodd\" fill-opacity=\"1\" /><path clip-path=\"url(#clip520)\" d=\"M 0 0 M291.873 1135.31 L298.08 1135.31 L298.08 1113.88 L291.328 1115.24 L291.328 1111.78 L298.042 1110.42 L301.841 1110.42 L301.841 1135.31 L308.048 1135.31 L308.048 1138.5 L291.873 1138.5 L291.873 1135.31 Z\" fill=\"#000000\" fill-rule=\"evenodd\" fill-opacity=\"1\" /><path clip-path=\"url(#clip520)\" d=\"M 0 0 M327.232 1123.36 Q329.959 1123.95 331.483 1125.79 Q333.025 1127.63 333.025 1130.34 Q333.025 1134.5 330.166 1136.77 Q327.307 1139.05 322.041 1139.05 Q320.273 1139.05 318.392 1138.69 Q316.53 1138.35 314.537 1137.66 L314.537 1133.99 Q316.117 1134.91 317.997 1135.38 Q319.878 1135.85 321.928 1135.85 Q325.502 1135.85 327.364 1134.44 Q329.244 1133.03 329.244 1130.34 Q329.244 1127.86 327.495 1126.47 Q325.765 1125.06 322.662 1125.06 L319.389 1125.06 L319.389 1121.93 L322.812 1121.93 Q325.614 1121.93 327.1 1120.82 Q328.586 1119.7 328.586 1117.59 Q328.586 1115.43 327.044 1114.28 Q325.52 1113.11 322.662 1113.11 Q321.101 1113.11 319.314 1113.45 Q317.527 1113.79 315.383 1114.5 L315.383 1111.12 Q317.546 1110.52 319.427 1110.22 Q321.326 1109.92 323 1109.92 Q327.326 1109.92 329.846 1111.89 Q332.366 1113.85 332.366 1117.19 Q332.366 1119.53 331.031 1121.14 Q329.696 1122.74 327.232 1123.36 Z\" fill=\"#000000\" fill-rule=\"evenodd\" fill-opacity=\"1\" /><path clip-path=\"url(#clip520)\" d=\"M 0 0 M50.9921 953.602 L80.6679 953.602 L80.6679 957.537 L50.9921 957.537 L50.9921 953.602 Z\" fill=\"#000000\" fill-rule=\"evenodd\" fill-opacity=\"1\" /><path clip-path=\"url(#clip520)\" d=\"M 0 0 M90.8067 935.871 L109.163 935.871 L109.163 939.806 L95.0891 939.806 L95.0891 948.278 Q96.1076 947.931 97.1261 947.769 Q98.1447 947.584 99.1632 947.584 Q104.95 947.584 108.33 950.755 Q111.709 953.926 111.709 959.343 Q111.709 964.921 108.237 968.023 Q104.765 971.102 98.4456 971.102 Q96.2697 971.102 94.0012 970.732 Q91.7558 970.361 89.3484 969.62 L89.3484 964.921 Q91.4317 966.056 93.6539 966.611 Q95.8761 967.167 98.353 967.167 Q102.358 967.167 104.696 965.06 Q107.033 962.954 107.033 959.343 Q107.033 955.732 104.696 953.625 Q102.358 951.519 98.353 951.519 Q96.478 951.519 94.603 951.935 Q92.7512 952.352 90.8067 953.232 L90.8067 935.871 Z\" fill=\"#000000\" fill-rule=\"evenodd\" fill-opacity=\"1\" /><path clip-path=\"url(#clip520)\" d=\"M 0 0 M120.922 964.551 L125.807 964.551 L125.807 970.431 L120.922 970.431 L120.922 964.551 Z\" fill=\"#000000\" fill-rule=\"evenodd\" fill-opacity=\"1\" /><path clip-path=\"url(#clip520)\" d=\"M 0 0 M145.992 938.949 Q142.381 938.949 140.552 942.514 Q138.746 946.056 138.746 953.185 Q138.746 960.292 140.552 963.857 Q142.381 967.398 145.992 967.398 Q149.626 967.398 151.431 963.857 Q153.26 960.292 153.26 953.185 Q153.26 946.056 151.431 942.514 Q149.626 938.949 145.992 938.949 M145.992 935.246 Q151.802 935.246 154.857 939.852 Q157.936 944.435 157.936 953.185 Q157.936 961.912 154.857 966.519 Q151.802 971.102 145.992 971.102 Q140.181 971.102 137.103 966.519 Q134.047 961.912 134.047 953.185 Q134.047 944.435 137.103 939.852 Q140.181 935.246 145.992 935.246 Z\" fill=\"#000000\" fill-rule=\"evenodd\" fill-opacity=\"1\" /><path clip-path=\"url(#clip520)\" d=\"M 0 0 M194.325 944.968 L183.746 955.593 L194.325 966.171 L191.57 968.972 L180.945 958.347 L170.32 968.972 L167.589 966.171 L178.144 955.593 L167.589 944.968 L170.32 942.167 L180.945 952.792 L191.57 942.167 L194.325 944.968 Z\" fill=\"#000000\" fill-rule=\"evenodd\" fill-opacity=\"1\" /><path clip-path=\"url(#clip520)\" d=\"M 0 0 M206.686 966.495 L214.325 966.495 L214.325 940.13 L206.014 941.797 L206.014 937.537 L214.278 935.871 L218.954 935.871 L218.954 966.495 L226.593 966.495 L226.593 970.431 L206.686 970.431 L206.686 966.495 Z\" fill=\"#000000\" fill-rule=\"evenodd\" fill-opacity=\"1\" /><path clip-path=\"url(#clip520)\" d=\"M 0 0 M246.037 938.949 Q242.426 938.949 240.598 942.514 Q238.792 946.056 238.792 953.185 Q238.792 960.292 240.598 963.857 Q242.426 967.398 246.037 967.398 Q249.672 967.398 251.477 963.857 Q253.306 960.292 253.306 953.185 Q253.306 946.056 251.477 942.514 Q249.672 938.949 246.037 938.949 M246.037 935.246 Q251.848 935.246 254.903 939.852 Q257.982 944.435 257.982 953.185 Q257.982 961.912 254.903 966.519 Q251.848 971.102 246.037 971.102 Q240.227 971.102 237.149 966.519 Q234.093 961.912 234.093 953.185 Q234.093 944.435 237.149 939.852 Q240.227 935.246 246.037 935.246 Z\" fill=\"#000000\" fill-rule=\"evenodd\" fill-opacity=\"1\" /><path clip-path=\"url(#clip520)\" d=\"M 0 0 M257.982 929.347 L282.093 929.347 L282.093 932.544 L257.982 932.544 L257.982 929.347 Z\" fill=\"#000000\" fill-rule=\"evenodd\" fill-opacity=\"1\" /><path clip-path=\"url(#clip520)\" d=\"M 0 0 M290.952 939.823 L297.158 939.823 L297.158 918.401 L290.406 919.755 L290.406 916.294 L297.121 914.94 L300.92 914.94 L300.92 939.823 L307.126 939.823 L307.126 943.02 L290.952 943.02 L290.952 939.823 Z\" fill=\"#000000\" fill-rule=\"evenodd\" fill-opacity=\"1\" /><path clip-path=\"url(#clip520)\" d=\"M 0 0 M325.238 918.25 L315.646 933.24 L325.238 933.24 L325.238 918.25 M324.242 914.94 L329.019 914.94 L329.019 933.24 L333.025 933.24 L333.025 936.4 L329.019 936.4 L329.019 943.02 L325.238 943.02 L325.238 936.4 L312.562 936.4 L312.562 932.732 L324.242 914.94 Z\" fill=\"#000000\" fill-rule=\"evenodd\" fill-opacity=\"1\" /><path clip-path=\"url(#clip520)\" d=\"M 0 0 M321.08 737.019 Q317.469 737.019 315.641 740.583 Q313.835 744.125 313.835 751.255 Q313.835 758.361 315.641 761.926 Q317.469 765.467 321.08 765.467 Q324.715 765.467 326.52 761.926 Q328.349 758.361 328.349 751.255 Q328.349 744.125 326.52 740.583 Q324.715 737.019 321.08 737.019 M321.08 733.315 Q326.891 733.315 329.946 737.921 Q333.025 742.505 333.025 751.255 Q333.025 759.981 329.946 764.588 Q326.891 769.171 321.08 769.171 Q315.27 769.171 312.192 764.588 Q309.136 759.981 309.136 751.255 Q309.136 742.505 312.192 737.921 Q315.27 733.315 321.08 733.315 Z\" fill=\"#000000\" fill-rule=\"evenodd\" fill-opacity=\"1\" /><path clip-path=\"url(#clip520)\" d=\"M 0 0 M90.8067 544.904 L109.163 544.904 L109.163 548.839 L95.0891 548.839 L95.0891 557.312 Q96.1076 556.964 97.1261 556.802 Q98.1447 556.617 99.1632 556.617 Q104.95 556.617 108.33 559.788 Q111.709 562.96 111.709 568.376 Q111.709 573.955 108.237 577.057 Q104.765 580.136 98.4456 580.136 Q96.2697 580.136 94.0012 579.765 Q91.7558 579.395 89.3484 578.654 L89.3484 573.955 Q91.4317 575.089 93.6539 575.645 Q95.8761 576.2 98.353 576.2 Q102.358 576.2 104.696 574.094 Q107.033 571.987 107.033 568.376 Q107.033 564.765 104.696 562.659 Q102.358 560.552 98.353 560.552 Q96.478 560.552 94.603 560.969 Q92.7512 561.386 90.8067 562.265 L90.8067 544.904 Z\" fill=\"#000000\" fill-rule=\"evenodd\" fill-opacity=\"1\" /><path clip-path=\"url(#clip520)\" d=\"M 0 0 M120.922 573.585 L125.807 573.585 L125.807 579.464 L120.922 579.464 L120.922 573.585 Z\" fill=\"#000000\" fill-rule=\"evenodd\" fill-opacity=\"1\" /><path clip-path=\"url(#clip520)\" d=\"M 0 0 M145.992 547.983 Q142.381 547.983 140.552 551.548 Q138.746 555.089 138.746 562.219 Q138.746 569.325 140.552 572.89 Q142.381 576.432 145.992 576.432 Q149.626 576.432 151.431 572.89 Q153.26 569.325 153.26 562.219 Q153.26 555.089 151.431 551.548 Q149.626 547.983 145.992 547.983 M145.992 544.279 Q151.802 544.279 154.857 548.886 Q157.936 553.469 157.936 562.219 Q157.936 570.946 154.857 575.552 Q151.802 580.136 145.992 580.136 Q140.181 580.136 137.103 575.552 Q134.047 570.946 134.047 562.219 Q134.047 553.469 137.103 548.886 Q140.181 544.279 145.992 544.279 Z\" fill=\"#000000\" fill-rule=\"evenodd\" fill-opacity=\"1\" /><path clip-path=\"url(#clip520)\" d=\"M 0 0 M194.325 554.001 L183.746 564.626 L194.325 575.205 L191.57 578.006 L180.945 567.381 L170.32 578.006 L167.589 575.205 L178.144 564.626 L167.589 554.001 L170.32 551.2 L180.945 561.825 L191.57 551.2 L194.325 554.001 Z\" fill=\"#000000\" fill-rule=\"evenodd\" fill-opacity=\"1\" /><path clip-path=\"url(#clip520)\" d=\"M 0 0 M206.686 575.529 L214.325 575.529 L214.325 549.163 L206.014 550.83 L206.014 546.571 L214.278 544.904 L218.954 544.904 L218.954 575.529 L226.593 575.529 L226.593 579.464 L206.686 579.464 L206.686 575.529 Z\" fill=\"#000000\" fill-rule=\"evenodd\" fill-opacity=\"1\" /><path clip-path=\"url(#clip520)\" d=\"M 0 0 M246.037 547.983 Q242.426 547.983 240.598 551.548 Q238.792 555.089 238.792 562.219 Q238.792 569.325 240.598 572.89 Q242.426 576.432 246.037 576.432 Q249.672 576.432 251.477 572.89 Q253.306 569.325 253.306 562.219 Q253.306 555.089 251.477 551.548 Q249.672 547.983 246.037 547.983 M246.037 544.279 Q251.848 544.279 254.903 548.886 Q257.982 553.469 257.982 562.219 Q257.982 570.946 254.903 575.552 Q251.848 580.136 246.037 580.136 Q240.227 580.136 237.149 575.552 Q234.093 570.946 234.093 562.219 Q234.093 553.469 237.149 548.886 Q240.227 544.279 246.037 544.279 Z\" fill=\"#000000\" fill-rule=\"evenodd\" fill-opacity=\"1\" /><path clip-path=\"url(#clip520)\" d=\"M 0 0 M257.982 538.381 L282.093 538.381 L282.093 541.578 L257.982 541.578 L257.982 538.381 Z\" fill=\"#000000\" fill-rule=\"evenodd\" fill-opacity=\"1\" /><path clip-path=\"url(#clip520)\" d=\"M 0 0 M290.952 548.856 L297.158 548.856 L297.158 527.434 L290.406 528.789 L290.406 525.328 L297.121 523.974 L300.92 523.974 L300.92 548.856 L307.126 548.856 L307.126 552.054 L290.952 552.054 L290.952 548.856 Z\" fill=\"#000000\" fill-rule=\"evenodd\" fill-opacity=\"1\" /><path clip-path=\"url(#clip520)\" d=\"M 0 0 M325.238 527.284 L315.646 542.274 L325.238 542.274 L325.238 527.284 M324.242 523.974 L329.019 523.974 L329.019 542.274 L333.025 542.274 L333.025 545.433 L329.019 545.433 L329.019 552.054 L325.238 552.054 L325.238 545.433 L312.562 545.433 L312.562 541.766 L324.242 523.974 Z\" fill=\"#000000\" fill-rule=\"evenodd\" fill-opacity=\"1\" /><path clip-path=\"url(#clip520)\" d=\"M 0 0 M92.4922 380.046 L100.131 380.046 L100.131 353.68 L91.8209 355.347 L91.8209 351.088 L100.085 349.421 L104.761 349.421 L104.761 380.046 L112.399 380.046 L112.399 383.981 L92.4922 383.981 L92.4922 380.046 Z\" fill=\"#000000\" fill-rule=\"evenodd\" fill-opacity=\"1\" /><path clip-path=\"url(#clip520)\" d=\"M 0 0 M121.844 378.101 L126.728 378.101 L126.728 383.981 L121.844 383.981 L121.844 378.101 Z\" fill=\"#000000\" fill-rule=\"evenodd\" fill-opacity=\"1\" /><path clip-path=\"url(#clip520)\" d=\"M 0 0 M146.913 352.5 Q143.302 352.5 141.473 356.064 Q139.668 359.606 139.668 366.736 Q139.668 373.842 141.473 377.407 Q143.302 380.949 146.913 380.949 Q150.547 380.949 152.353 377.407 Q154.182 373.842 154.182 366.736 Q154.182 359.606 152.353 356.064 Q150.547 352.5 146.913 352.5 M146.913 348.796 Q152.723 348.796 155.779 353.402 Q158.858 357.986 158.858 366.736 Q158.858 375.463 155.779 380.069 Q152.723 384.652 146.913 384.652 Q141.103 384.652 138.024 380.069 Q134.969 375.463 134.969 366.736 Q134.969 357.986 138.024 353.402 Q141.103 348.796 146.913 348.796 Z\" fill=\"#000000\" fill-rule=\"evenodd\" fill-opacity=\"1\" /><path clip-path=\"url(#clip520)\" d=\"M 0 0 M195.246 358.518 L184.668 369.143 L195.246 379.722 L192.492 382.523 L181.867 371.898 L171.242 382.523 L168.51 379.722 L179.066 369.143 L168.51 358.518 L171.242 355.717 L181.867 366.342 L192.492 355.717 L195.246 358.518 Z\" fill=\"#000000\" fill-rule=\"evenodd\" fill-opacity=\"1\" /><path clip-path=\"url(#clip520)\" d=\"M 0 0 M207.607 380.046 L215.246 380.046 L215.246 353.68 L206.936 355.347 L206.936 351.088 L215.2 349.421 L219.876 349.421 L219.876 380.046 L227.515 380.046 L227.515 383.981 L207.607 383.981 L207.607 380.046 Z\" fill=\"#000000\" fill-rule=\"evenodd\" fill-opacity=\"1\" /><path clip-path=\"url(#clip520)\" d=\"M 0 0 M246.959 352.5 Q243.348 352.5 241.519 356.064 Q239.714 359.606 239.714 366.736 Q239.714 373.842 241.519 377.407 Q243.348 380.949 246.959 380.949 Q250.593 380.949 252.399 377.407 Q254.227 373.842 254.227 366.736 Q254.227 359.606 252.399 356.064 Q250.593 352.5 246.959 352.5 M246.959 348.796 Q252.769 348.796 255.825 353.402 Q258.903 357.986 258.903 366.736 Q258.903 375.463 255.825 380.069 Q252.769 384.652 246.959 384.652 Q241.149 384.652 238.07 380.069 Q235.015 375.463 235.015 366.736 Q235.015 357.986 238.07 353.402 Q241.149 348.796 246.959 348.796 Z\" fill=\"#000000\" fill-rule=\"evenodd\" fill-opacity=\"1\" /><path clip-path=\"url(#clip520)\" d=\"M 0 0 M258.903 342.897 L283.015 342.897 L283.015 346.095 L258.903 346.095 L258.903 342.897 Z\" fill=\"#000000\" fill-rule=\"evenodd\" fill-opacity=\"1\" /><path clip-path=\"url(#clip520)\" d=\"M 0 0 M291.873 353.373 L298.08 353.373 L298.08 331.951 L291.328 333.305 L291.328 329.845 L298.042 328.491 L301.841 328.491 L301.841 353.373 L308.048 353.373 L308.048 356.571 L291.873 356.571 L291.873 353.373 Z\" fill=\"#000000\" fill-rule=\"evenodd\" fill-opacity=\"1\" /><path clip-path=\"url(#clip520)\" d=\"M 0 0 M327.232 341.43 Q329.959 342.013 331.483 343.857 Q333.025 345.7 333.025 348.408 Q333.025 352.565 330.166 354.84 Q327.307 357.116 322.041 357.116 Q320.273 357.116 318.392 356.759 Q316.53 356.42 314.537 355.724 L314.537 352.057 Q316.117 352.978 317.997 353.449 Q319.878 353.919 321.928 353.919 Q325.502 353.919 327.364 352.508 Q329.244 351.098 329.244 348.408 Q329.244 345.925 327.495 344.534 Q325.765 343.123 322.662 343.123 L319.389 343.123 L319.389 340.001 L322.812 340.001 Q325.614 340.001 327.1 338.891 Q328.586 337.763 328.586 335.656 Q328.586 333.493 327.044 332.346 Q325.52 331.18 322.662 331.18 Q321.101 331.18 319.314 331.519 Q317.527 331.857 315.383 332.572 L315.383 329.187 Q317.546 328.585 319.427 328.284 Q321.326 327.983 323 327.983 Q327.326 327.983 329.846 329.958 Q332.366 331.914 332.366 335.261 Q332.366 337.594 331.031 339.211 Q329.696 340.81 327.232 341.43 Z\" fill=\"#000000\" fill-rule=\"evenodd\" fill-opacity=\"1\" /><path clip-path=\"url(#clip520)\" d=\"M 0 0 M92.4922 184.563 L100.131 184.563 L100.131 158.197 L91.8209 159.864 L91.8209 155.604 L100.085 153.938 L104.761 153.938 L104.761 184.563 L112.399 184.563 L112.399 188.498 L92.4922 188.498 L92.4922 184.563 Z\" fill=\"#000000\" fill-rule=\"evenodd\" fill-opacity=\"1\" /><path clip-path=\"url(#clip520)\" d=\"M 0 0 M121.844 182.618 L126.728 182.618 L126.728 188.498 L121.844 188.498 L121.844 182.618 Z\" fill=\"#000000\" fill-rule=\"evenodd\" fill-opacity=\"1\" /><path clip-path=\"url(#clip520)\" d=\"M 0 0 M136.96 153.938 L155.316 153.938 L155.316 157.873 L141.242 157.873 L141.242 166.345 Q142.26 165.998 143.279 165.836 Q144.297 165.651 145.316 165.651 Q151.103 165.651 154.483 168.822 Q157.862 171.993 157.862 177.41 Q157.862 182.989 154.39 186.09 Q150.918 189.169 144.598 189.169 Q142.422 189.169 140.154 188.799 Q137.909 188.428 135.501 187.688 L135.501 182.989 Q137.585 184.123 139.807 184.678 Q142.029 185.234 144.506 185.234 Q148.51 185.234 150.848 183.127 Q153.186 181.021 153.186 177.41 Q153.186 173.799 150.848 171.692 Q148.51 169.586 144.506 169.586 Q142.631 169.586 140.756 170.003 Q138.904 170.419 136.96 171.299 L136.96 153.938 Z\" fill=\"#000000\" fill-rule=\"evenodd\" fill-opacity=\"1\" /><path clip-path=\"url(#clip520)\" d=\"M 0 0 M195.246 163.035 L184.668 173.66 L195.246 184.239 L192.492 187.039 L181.867 176.415 L171.242 187.039 L168.51 184.239 L179.066 173.66 L168.51 163.035 L171.242 160.234 L181.867 170.859 L192.492 160.234 L195.246 163.035 Z\" fill=\"#000000\" fill-rule=\"evenodd\" fill-opacity=\"1\" /><path clip-path=\"url(#clip520)\" d=\"M 0 0 M207.607 184.563 L215.246 184.563 L215.246 158.197 L206.936 159.864 L206.936 155.604 L215.2 153.938 L219.876 153.938 L219.876 184.563 L227.515 184.563 L227.515 188.498 L207.607 188.498 L207.607 184.563 Z\" fill=\"#000000\" fill-rule=\"evenodd\" fill-opacity=\"1\" /><path clip-path=\"url(#clip520)\" d=\"M 0 0 M246.959 157.016 Q243.348 157.016 241.519 160.581 Q239.714 164.123 239.714 171.253 Q239.714 178.359 241.519 181.924 Q243.348 185.465 246.959 185.465 Q250.593 185.465 252.399 181.924 Q254.227 178.359 254.227 171.253 Q254.227 164.123 252.399 160.581 Q250.593 157.016 246.959 157.016 M246.959 153.313 Q252.769 153.313 255.825 157.919 Q258.903 162.503 258.903 171.253 Q258.903 179.979 255.825 184.586 Q252.769 189.169 246.959 189.169 Q241.149 189.169 238.07 184.586 Q235.015 179.979 235.015 171.253 Q235.015 162.503 238.07 157.919 Q241.149 153.313 246.959 153.313 Z\" fill=\"#000000\" fill-rule=\"evenodd\" fill-opacity=\"1\" /><path clip-path=\"url(#clip520)\" d=\"M 0 0 M258.903 147.414 L283.015 147.414 L283.015 150.611 L258.903 150.611 L258.903 147.414 Z\" fill=\"#000000\" fill-rule=\"evenodd\" fill-opacity=\"1\" /><path clip-path=\"url(#clip520)\" d=\"M 0 0 M291.873 157.89 L298.08 157.89 L298.08 136.468 L291.328 137.822 L291.328 134.362 L298.042 133.007 L301.841 133.007 L301.841 157.89 L308.048 157.89 L308.048 161.087 L291.873 161.087 L291.873 157.89 Z\" fill=\"#000000\" fill-rule=\"evenodd\" fill-opacity=\"1\" /><path clip-path=\"url(#clip520)\" d=\"M 0 0 M327.232 145.947 Q329.959 146.53 331.483 148.373 Q333.025 150.217 333.025 152.925 Q333.025 157.081 330.166 159.357 Q327.307 161.633 322.041 161.633 Q320.273 161.633 318.392 161.275 Q316.53 160.937 314.537 160.241 L314.537 156.574 Q316.117 157.495 317.997 157.965 Q319.878 158.436 321.928 158.436 Q325.502 158.436 327.364 157.025 Q329.244 155.614 329.244 152.925 Q329.244 150.442 327.495 149.05 Q325.765 147.64 322.662 147.64 L319.389 147.64 L319.389 144.518 L322.812 144.518 Q325.614 144.518 327.1 143.408 Q328.586 142.28 328.586 140.173 Q328.586 138.01 327.044 136.863 Q325.52 135.697 322.662 135.697 Q321.101 135.697 319.314 136.035 Q317.527 136.374 315.383 137.089 L315.383 133.703 Q317.546 133.101 319.427 132.801 Q321.326 132.5 323 132.5 Q327.326 132.5 329.846 134.474 Q332.366 136.43 332.366 139.778 Q332.366 142.11 331.031 143.728 Q329.696 145.326 327.232 145.947 Z\" fill=\"#000000\" fill-rule=\"evenodd\" fill-opacity=\"1\" /><polyline clip-path=\"url(#clip522)\" style=\"stroke:#009af9; stroke-width:4; stroke-opacity:1; fill:none\" points=\"\n",
       "  425.168,1445.72 429.737,1407.52 434.306,1383.21 438.875,1376.27 443.444,1351.96 448.725,1331.12 454.006,1306.82 455.326,1296.4 456.647,1272.09 457.967,1279.04 \n",
       "  459.287,1226.95 460.607,1285.98 461.928,1265.15 463.248,1258.2 464.568,1247.78 465.888,1223.48 467.208,1268.62 468.529,1261.67 469.849,1195.7 471.169,1213.06 \n",
       "  472.489,1192.22 473.81,1223.48 475.13,1202.64 476.45,1192.22 477.77,1181.81 479.091,1202.64 480.411,1206.11 481.731,1167.92 483.051,1160.97 484.371,1178.33 \n",
       "  485.692,1195.7 487.012,1185.28 488.332,1174.86 489.652,1154.03 490.973,1147.08 492.293,1164.44 493.613,1143.61 494.933,1133.19 496.254,1122.78 501.535,1112.36 \n",
       "  506.815,1091.52 509.456,1084.58 512.096,1095 514.737,1077.63 517.377,1056.8 518.698,1063.74 520.018,1067.22 521.338,1060.27 522.658,1049.85 523.978,1039.44 \n",
       "  525.299,1046.38 526.619,1049.85 527.939,1025.55 529.259,1056.8 530.58,1035.96 531.9,1015.13 533.22,1018.6 534.54,1035.96 535.861,1042.91 537.181,1032.49 \n",
       "  538.501,1035.96 541.141,1029.02 543.782,1011.66 545.102,1001.24 546.422,1008.18 547.743,987.348 549.063,990.821 554.344,994.293 559.625,987.348 564.906,976.931 \n",
       "  570.187,952.624 571.507,956.096 572.827,945.679 574.147,952.624 575.468,959.569 576.788,949.151 578.108,928.316 579.428,945.679 580.748,949.151 582.069,952.624 \n",
       "  583.389,942.206 584.709,935.261 586.029,910.954 587.35,931.789 588.67,910.954 589.99,928.316 591.31,931.789 592.631,893.591 593.951,924.844 595.271,931.789 \n",
       "  596.591,893.591 597.911,883.174 599.232,904.009 600.552,907.481 601.872,897.064 603.192,931.789 604.513,935.261 605.833,886.647 607.153,890.119 608.473,879.702 \n",
       "  609.794,886.647 611.114,917.899 612.434,893.591 613.227,869.284 614.021,862.339 614.814,879.702 615.608,914.426 616.401,879.702 617.194,897.064 617.988,876.229 \n",
       "  618.781,879.702 619.575,883.174 620.368,904.009 621.161,879.702 621.955,886.647 622.748,865.812 623.542,869.284 624.335,876.229 625.129,879.702 625.922,869.284 \n",
       "  626.715,872.757 627.509,876.229 628.302,886.647 629.096,879.702 629.889,855.394 630.682,886.647 631.476,848.449 632.269,841.504 633.063,890.119 633.856,883.174 \n",
       "  634.649,886.647 635.443,848.449 636.236,855.394 637.03,844.977 637.823,907.481 638.616,831.087 639.41,848.449 640.203,883.174 640.997,844.977 641.79,848.449 \n",
       "  642.583,841.504 643.377,848.449 644.17,855.394 644.964,872.757 645.757,848.449 646.55,855.394 647.344,862.339 648.137,841.504 648.931,831.087 649.724,834.559 \n",
       "  650.517,841.504 652.104,834.559 653.691,831.087 654.484,841.504 655.278,858.867 656.071,848.449 656.865,851.922 658.451,848.449 660.038,844.977 660.832,824.142 \n",
       "  661.625,855.394 662.419,848.449 663.212,824.142 664.005,855.394 664.799,848.449 665.592,824.142 666.386,831.087 667.179,838.032 667.972,827.614 668.766,834.559 \n",
       "  669.559,796.362 670.353,827.614 671.146,817.197 671.939,834.559 672.733,831.087 673.526,824.142 674.32,813.724 675.113,817.197 675.906,820.669 679.08,827.614 \n",
       "  682.254,834.559 685.427,827.614 688.601,820.669 694.948,820.669 701.295,806.779 707.643,789.417 713.99,779 724.723,782.472 735.456,785.945 746.189,789.417 \n",
       "  756.922,792.89 759.605,785.945 762.288,775.527 762.959,782.472 763.63,751.22 764.301,758.165 764.972,810.252 765.642,761.637 766.313,799.835 766.984,779 \n",
       "  767.655,785.945 768.326,779 768.997,785.945 769.667,806.779 770.338,747.747 771.009,758.165 771.68,779 772.351,744.275 773.021,782.472 773.692,792.89 \n",
       "  774.363,772.055 775.034,779 775.705,772.055 777.046,758.165 778.388,747.747 779.73,765.11 781.071,765.11 782.413,765.11 783.754,758.165 786.438,765.11 \n",
       "  789.121,768.582 789.792,758.165 790.463,796.362 791.133,789.417 791.804,785.945 792.475,751.22 793.146,747.747 793.817,768.582 794.487,779 795.158,758.165 \n",
       "  795.829,782.472 796.5,775.527 797.171,726.912 797.842,772.055 798.512,796.362 799.183,792.89 799.854,758.165 800.583,813.724 801.311,758.165 802.04,758.165 \n",
       "  802.769,744.275 803.497,758.165 804.226,785.945 804.955,772.055 805.683,772.055 806.412,758.165 807.141,772.055 807.87,785.945 808.598,758.165 809.327,772.055 \n",
       "  810.056,772.055 810.784,772.055 811.513,772.055 812.242,785.945 812.97,785.945 813.699,758.165 814.428,758.165 815.156,772.055 815.885,758.165 816.614,772.055 \n",
       "  817.343,772.055 820.257,772.055 823.172,775.527 823.901,765.11 824.629,751.22 825.358,765.11 826.087,737.33 827.544,751.22 829.002,765.11 829.73,779 \n",
       "  830.459,751.22 831.188,751.22 831.916,737.33 832.645,779 833.374,765.11 834.102,765.11 834.831,779 835.56,751.22 836.289,765.11 837.017,792.89 \n",
       "  837.746,779 839.203,765.11 840.661,751.22 841.389,737.33 842.118,765.11 842.847,765.11 843.575,779 844.304,751.22 845.033,765.11 845.762,765.11 \n",
       "  846.49,737.33 847.219,751.22 847.948,751.22 848.676,737.33 849.405,765.11 850.134,792.89 850.862,765.11 851.591,779 852.32,751.22 853.048,751.22 \n",
       "  853.777,765.11 854.506,751.22 855.235,723.44 855.963,751.22 856.692,737.33 857.421,765.11 858.149,751.22 859.607,751.22 861.064,751.22 862.521,751.22 \n",
       "  863.979,737.33 864.708,737.33 865.436,751.22 866.165,751.22 866.894,751.22 868.351,765.11 869.808,768.582 871.266,758.165 872.723,744.275 873.452,744.275 \n",
       "  874.18,758.165 874.909,758.165 875.638,730.385 876.367,744.275 877.095,772.055 877.824,785.945 878.553,772.055 879.281,772.055 880.01,730.385 880.739,744.275 \n",
       "  881.467,758.165 882.196,758.165 882.925,772.055 883.653,772.055 884.382,744.275 885.84,744.275 887.297,744.275 888.026,744.275 888.754,772.055 889.483,772.055 \n",
       "  890.212,785.945 890.94,744.275 891.669,772.055 892.398,758.165 893.126,744.275 894.47,747.747 895.814,751.22 897.157,754.692 898.501,744.275 899.173,747.747 \n",
       "  899.844,737.33 900.516,751.22 901.188,768.582 902.532,772.055 903.875,765.11 909.249,765.11 914.624,758.165 919.998,758.165 925.372,751.22 928.06,758.165 \n",
       "  930.747,751.22 931.418,754.692 932.09,758.165 932.762,785.945 933.434,733.857 934.106,765.11 934.777,751.22 935.449,768.582 936.121,716.495 936.793,758.165 \n",
       "  937.465,747.747 938.136,733.857 938.808,751.22 939.48,782.472 940.152,754.692 940.823,772.055 941.495,730.385 942.167,747.747 942.839,737.33 943.511,751.22 \n",
       "  944.182,754.692 944.854,744.275 945.526,785.945 946.198,761.637 946.87,737.33 947.541,737.33 948.213,768.582 948.885,726.912 949.557,758.165 950.9,761.637 \n",
       "  952.244,765.11 954.931,761.637 957.618,758.165 958.29,744.275 958.962,733.857 959.634,761.637 960.305,765.11 960.977,726.912 961.649,740.802 962.321,730.385 \n",
       "  962.993,744.275 963.664,747.747 964.336,765.11 965.008,751.22 965.68,740.802 966.351,744.275 967.023,758.165 967.695,747.747 968.367,751.22 969.039,779 \n",
       "  969.71,740.802 970.382,740.802 971.054,758.165 971.726,747.747 972.398,747.747 973.069,792.89 973.741,737.33 974.413,754.692 975.085,772.055 975.757,758.165 \n",
       "  976.428,775.527 977.772,765.11 979.115,758.165 979.836,737.33 980.556,758.165 981.276,765.11 981.996,744.275 982.717,761.637 983.437,754.692 984.157,751.22 \n",
       "  984.877,744.275 985.598,751.22 986.318,758.165 987.038,765.11 987.758,733.857 988.478,754.692 989.199,733.857 989.919,716.495 990.639,761.637 991.359,737.33 \n",
       "  992.08,730.385 992.8,754.692 993.52,761.637 994.24,796.362 994.961,737.33 995.681,758.165 996.401,737.33 997.121,758.165 997.841,751.22 998.562,733.857 \n",
       "  999.282,765.11 1000,744.275 1000.72,751.22 1001.44,758.165 1002.16,751.22 1002.88,758.165 1003.6,726.912 1004.32,761.637 1005.04,779 1005.76,758.165 \n",
       "  1006.48,723.44 1007.2,758.165 1007.92,765.11 1008.64,761.637 1009.37,768.582 1010.09,733.857 1010.81,744.275 1012.25,758.165 1013.69,758.165 1015.13,754.692 \n",
       "  1016.57,758.165 1017.29,737.33 1018.01,716.495 1018.73,737.33 1019.45,761.637 1020.17,726.912 1020.89,775.527 1021.61,744.275 1022.33,761.637 1023.05,765.11 \n",
       "  1023.77,730.385 1024.49,740.802 1025.21,761.637 1025.93,726.912 1026.65,737.33 1027.37,730.385 1028.09,775.527 1028.81,765.11 1029.53,761.637 1030.25,740.802 \n",
       "  1030.97,775.527 1031.69,758.165 1032.41,765.11 1033.13,758.165 1033.85,765.11 1034.57,772.055 1035.29,768.582 1036.01,775.527 1036.73,779 1037.45,744.275 \n",
       "  1038.17,765.11 1038.89,758.165 1039.61,737.33 1041.06,740.802 1042.5,744.275 1043.22,751.22 1043.94,744.275 1044.66,737.33 1045.38,730.385 1046.1,775.527 \n",
       "  1046.82,768.582 1047.54,737.33 1048.26,785.945 1048.98,765.11 1049.7,758.165 1050.42,765.11 1051.14,772.055 1051.86,761.637 1052.58,730.385 1053.3,779 \n",
       "  1054.02,758.165 1054.74,751.22 1055.46,744.275 1056.18,740.802 1056.9,744.275 1057.62,751.22 1058.34,744.275 1059.06,779 1059.78,772.055 1060.5,751.22 \n",
       "  1061.22,747.747 1061.94,754.692 1062.66,744.275 1063.38,779 1064.1,772.055 1064.82,737.33 1065.54,744.275 1066.26,768.582 1066.98,775.527 1067.7,740.802 \n",
       "  1068.42,765.11 1069.14,772.055 1069.86,751.22 1070.58,744.275 1071.3,737.33 1072.14,754.692 1072.97,747.747 1073.81,737.33 1074.64,754.692 1075.48,719.968 \n",
       "  1076.31,751.22 1077.15,754.692 1077.98,733.857 1078.81,765.11 1079.65,758.165 1080.48,779 1081.32,768.582 1082.15,758.165 1082.99,779 1083.82,740.802 \n",
       "  1084.66,730.385 1085.49,733.857 1086.32,751.22 1087.16,758.165 1087.99,761.637 1088.83,779 1089.66,716.495 1090.5,765.11 1091.33,740.802 1092.17,730.385 \n",
       "  1093,747.747 1093.84,782.472 1094.67,730.385 1095.5,761.637 1096.34,754.692 1097.17,744.275 1098.01,737.33 1099.68,744.275 1101.35,754.692 1102.18,744.275 \n",
       "  1103.01,751.22 1103.85,740.802 1104.68,772.055 1105.52,751.22 1106.35,754.692 1107.19,744.275 1108.02,737.33 1108.86,716.495 1109.69,775.527 1110.52,782.472 \n",
       "  1111.36,758.165 1113.03,754.692 1114.7,761.637 1116.37,758.165 1118.03,744.275 1121.37,733.857 1124.71,737.33 1131.39,733.857 1138.06,747.747 1144.74,758.165 \n",
       "  1151.41,754.692 1153.08,747.747 1154.75,744.275 1155.58,765.11 1156.42,758.165 1157.25,775.527 1158.09,779 1158.92,754.692 1159.76,758.165 1160.59,723.44 \n",
       "  1161.43,740.802 1162.26,758.165 1163.09,751.22 1163.93,754.692 1164.76,730.385 1165.6,765.11 1166.43,754.692 1167.27,747.747 1168.1,737.33 1168.94,754.692 \n",
       "  1169.77,761.637 1170.61,765.11 1171.44,768.582 1172.27,761.637 1173.11,737.33 1173.94,758.165 1174.78,723.44 1175.61,754.692 1176.45,758.165 1177.28,751.22 \n",
       "  1178.12,740.802 1178.86,751.22 1179.6,751.22 1180.34,754.692 1181.08,726.912 1181.82,754.692 1182.56,758.165 1183.31,730.385 1184.05,772.055 1184.79,744.275 \n",
       "  1185.53,744.275 1186.27,747.747 1187.01,747.747 1187.76,733.857 1188.5,751.22 1189.24,765.11 1189.98,733.857 1190.72,772.055 1191.46,761.637 1192.2,747.747 \n",
       "  1192.95,789.417 1193.69,765.11 1194.43,737.33 1195.17,751.22 1195.91,765.11 1196.65,737.33 1197.4,740.802 1198.14,726.912 1198.88,726.912 1199.62,758.165 \n",
       "  1200.36,758.165 1201.1,758.165 1201.85,768.582 1202.59,768.582 1203.33,768.582 1204.07,754.692 1204.81,744.275 1205.55,772.055 1206.29,744.275 1207.04,758.165 \n",
       "  1207.78,758.165 1210.74,751.22 1213.71,737.33 1215.19,733.857 1216.68,737.33 1218.16,751.22 1219.64,768.582 1220.38,768.582 1221.13,754.692 1221.87,772.055 \n",
       "  1222.61,772.055 1223.35,730.385 1224.09,758.165 1224.83,785.945 1225.58,730.385 1226.32,740.802 1227.06,730.385 1227.8,730.385 1228.54,744.275 1229.28,744.275 \n",
       "  1230.02,744.275 1230.77,747.747 1231.51,775.527 1232.25,733.857 1232.99,779 1233.73,737.33 1234.47,765.11 1235.22,737.33 1235.96,765.11 1236.7,754.692 \n",
       "  1237.44,751.22 1238.92,751.22 1240.41,751.22 1241.15,751.22 1241.89,768.582 1242.63,754.692 1243.37,726.912 1244.11,744.275 1244.86,730.385 1245.6,744.275 \n",
       "  1246.34,744.275 1247.82,747.747 1249.31,758.165 1250.05,744.275 1250.79,758.165 1251.53,744.275 1252.27,744.275 1253.01,761.637 1253.75,747.747 1254.5,733.857 \n",
       "  1255.24,779 1255.98,723.44 1256.72,765.11 1257.46,737.33 1258.2,737.33 1258.95,768.582 1259.69,768.582 1260.43,754.692 1261.17,740.802 1261.91,765.11 \n",
       "  1262.65,737.33 1263.4,779 1264.14,754.692 1264.88,754.692 1265.62,726.912 1266.36,758.165 1267.1,772.055 1267.84,730.385 1268.59,716.495 1269.33,730.385 \n",
       "  1270.07,775.527 1270.81,761.637 1271.55,747.747 1272.29,751.22 1273.04,775.527 1273.69,761.637 1274.34,737.33 1274.99,765.11 1275.64,754.692 1276.29,758.165 \n",
       "  1276.94,744.275 1277.59,761.637 1278.24,751.22 1278.89,740.802 1279.54,744.275 1280.19,744.275 1280.84,775.527 1281.49,779 1282.14,751.22 1282.79,740.802 \n",
       "  1283.44,744.275 1284.74,737.33 1286.04,740.802 1287.34,744.275 1288.64,747.747 1289.29,733.857 1289.94,765.11 1290.59,765.11 1291.24,768.582 1291.89,716.495 \n",
       "  1292.54,775.527 1293.19,737.33 1293.84,765.11 1294.5,782.472 1295.15,758.165 1295.8,772.055 1296.45,733.857 1297.1,765.11 1297.75,740.802 1298.4,744.275 \n",
       "  1299.05,768.582 1299.7,768.582 1300.35,716.495 1301,761.637 1301.65,765.11 1302.3,765.11 1302.95,740.802 1303.6,758.165 1304.25,744.275 1305.55,751.22 \n",
       "  1306.85,758.165 1308.15,761.637 1309.45,765.11 1312.05,758.165 1314.65,754.692 1315.3,758.165 1315.95,744.275 1316.6,761.637 1317.26,751.22 1317.91,737.33 \n",
       "  1318.56,740.802 1319.21,772.055 1319.86,772.055 1320.51,758.165 1321.16,758.165 1321.81,733.857 1322.46,723.44 1323.11,768.582 1323.76,785.945 1324.41,744.275 \n",
       "  1325.06,761.637 1325.71,779 1326.36,723.44 1327.01,740.802 1327.66,772.055 1328.31,747.747 1328.96,751.22 1329.61,723.44 1330.26,740.802 1330.91,785.945 \n",
       "  1331.56,744.275 1332.21,733.857 1332.86,723.44 1333.51,740.802 1334.16,758.165 1334.81,758.165 1335.46,772.055 1336.11,772.055 1336.76,719.968 1337.41,751.22 \n",
       "  1338.06,737.33 1338.71,740.802 1339.36,744.275 1340.02,744.275 1340.67,761.637 1341.32,737.33 1341.97,740.802 1342.62,744.275 1343.27,758.165 1343.92,775.527 \n",
       "  1344.57,723.44 1345.22,779 1345.87,754.692 1346.52,772.055 1347.17,747.747 1347.82,751.22 1348.47,765.11 1349.12,768.582 1349.77,772.055 1350.42,744.275 \n",
       "  1351.07,744.275 1352.37,747.747 1353.67,751.22 1354.97,758.165 1356.27,765.11 1356.98,733.857 1357.69,768.582 1358.4,765.11 1359.11,733.857 1359.82,744.275 \n",
       "  1360.53,737.33 1361.24,761.637 1361.94,730.385 1362.65,726.912 1363.36,765.11 1364.07,765.11 1364.78,761.637 1366.2,758.165 1367.62,758.165 1368.33,758.165 \n",
       "  1369.03,775.527 1369.74,730.385 1370.45,744.275 1371.16,754.692 1371.87,765.11 1372.58,789.417 1373.29,758.165 1374,772.055 1374.71,782.472 1375.41,785.945 \n",
       "  1376.12,758.165 1376.83,768.582 1377.54,758.165 1378.25,785.945 1378.96,796.362 1379.67,737.33 1380.38,751.22 1381.09,754.692 1381.8,765.11 1382.5,723.44 \n",
       "  1383.21,768.582 1383.92,765.11 1384.63,737.33 1385.34,747.747 1386.05,772.055 1386.76,740.802 1387.47,751.22 1388.89,747.747 1390.3,751.22 1391.72,751.22 \n",
       "  1393.14,747.747 1393.85,744.275 1394.56,772.055 1395.27,768.582 1395.98,779 1396.68,706.078 1397.39,730.385 1398.1,792.89 1398.81,733.857 1399.52,758.165 \n",
       "  1400.23,765.11 1400.94,789.417 1401.65,758.165 1402.36,758.165 1403.07,726.912 1403.77,716.495 1404.48,772.055 1405.19,768.582 1405.9,758.165 1406.61,758.165 \n",
       "  1407.32,713.023 1408.03,765.11 1408.74,792.89 1409.45,733.857 1410.16,730.385 1410.86,768.582 1411.57,751.22 1412.28,758.165 1412.99,713.023 1413.7,723.44 \n",
       "  1414.41,730.385 1415.12,768.582 1415.83,792.89 1416.54,751.22 1417.25,733.857 1417.95,772.055 1418.66,758.165 1419.37,726.912 1420.08,737.33 1420.79,758.165 \n",
       "  1421.5,740.802 1422.21,751.22 1422.92,730.385 1423.63,782.472 1424.33,779 1425.04,747.747 1425.75,758.165 1426.46,730.385 1427.17,754.692 1427.88,779 \n",
       "  1428.59,765.11 1429.3,713.023 1430.01,709.55 1430.72,737.33 1431.42,768.582 1432.13,765.11 1432.84,737.33 1433.55,775.527 1434.26,758.165 1434.97,740.802 \n",
       "  1435.68,765.11 1436.39,751.22 1437.1,775.527 1437.81,779 1438.51,737.33 1439.22,747.747 1439.93,737.33 1440.64,765.11 1441.35,761.637 1444.19,751.22 \n",
       "  1447.02,747.747 1449.88,737.33 1452.73,744.275 1454.15,737.33 1455.58,747.747 1456.29,758.165 1457.01,744.275 1457.72,740.802 1458.43,779 1459.15,733.857 \n",
       "  1459.86,772.055 1460.57,772.055 1461.29,740.802 1462,751.22 1462.71,723.44 1463.43,733.857 1464.14,772.055 1464.85,751.22 1465.57,761.637 1466.28,792.89 \n",
       "  1466.99,730.385 1467.71,754.692 1468.42,716.495 1469.13,709.55 1469.84,733.857 1470.56,758.165 1471.27,765.11 1471.98,726.912 1472.7,765.11 1473.41,758.165 \n",
       "  1474.12,761.637 1474.84,744.275 1475.55,751.22 1476.26,733.857 1476.98,744.275 1477.69,758.165 1478.4,740.802 1479.12,779 1479.83,765.11 1480.54,747.747 \n",
       "  1481.26,772.055 1481.97,726.912 1482.68,737.33 1483.4,751.22 1484.11,761.637 1484.82,785.945 1485.54,730.385 1486.25,754.692 1486.96,737.33 1487.67,744.275 \n",
       "  1488.39,754.692 1489.1,730.385 1489.81,737.33 1490.53,719.968 1491.24,765.11 1491.95,744.275 1492.67,754.692 1493.38,737.33 1494.09,758.165 1494.81,719.968 \n",
       "  1495.52,758.165 1496.23,723.44 1496.95,782.472 1497.66,695.66 1498.37,744.275 1499.09,768.582 1499.8,765.11 1500.51,737.33 1501.23,747.747 1501.94,744.275 \n",
       "  1502.65,758.165 1503.37,740.802 1504.08,751.22 1504.79,761.637 1505.5,730.385 1506.22,758.165 1506.93,768.582 1507.64,737.33 1508.36,765.11 1509.07,789.417 \n",
       "  1509.78,772.055 1510.5,737.33 1511.21,747.747 1511.92,765.11 1512.64,758.165 1513.35,740.802 1514.06,772.055 1514.78,751.22 1515.49,803.307 1516.2,744.275 \n",
       "  1516.92,723.44 1517.63,754.692 1518.34,765.11 1519.06,758.165 1519.77,747.747 1520.48,744.275 1521.2,765.11 1524.05,768.582 1526.9,772.055 1529.75,761.637 \n",
       "  1532.61,765.11 1535.46,758.165 1538.31,747.747 1539.1,758.165 1539.89,758.165 1540.68,740.802 1541.47,765.11 1542.25,730.385 1543.04,754.692 1543.83,751.22 \n",
       "  1544.62,744.275 1545.41,782.472 1546.2,765.11 1546.99,737.33 1547.77,761.637 1548.56,730.385 1549.35,744.275 1550.14,726.912 1550.93,765.11 1551.72,747.747 \n",
       "  1552.51,772.055 1553.29,751.22 1554.08,775.527 1554.87,744.275 1555.66,765.11 1556.45,754.692 1557.24,737.33 1558.03,772.055 1558.81,775.527 1559.6,716.495 \n",
       "  1560.39,792.89 1561.18,747.747 1561.97,730.385 1562.76,754.692 1563.55,779 1564.33,758.165 1565.12,740.802 1565.91,792.89 1566.7,730.385 1567.49,726.912 \n",
       "  1568.28,751.22 1569.07,737.33 1569.85,775.527 1570.64,758.165 1571.43,730.385 1572.22,768.582 1573.01,737.33 1573.8,775.527 1574.58,758.165 1575.37,737.33 \n",
       "  1576.16,775.527 1576.95,772.055 1577.74,779 1578.53,747.747 1579.32,785.945 1580.1,740.802 1580.89,737.33 1581.68,765.11 1582.47,733.857 1583.26,758.165 \n",
       "  1584.05,730.385 1584.84,740.802 1585.62,779 1586.41,730.385 1587.2,768.582 1587.99,751.22 1588.78,758.165 1591.93,758.165 1595.09,744.275 1596.66,744.275 \n",
       "  1598.24,747.747 1599.03,730.385 1599.82,751.22 1600.61,733.857 1601.39,772.055 1602.18,768.582 1602.97,737.33 1603.76,744.275 1604.55,740.802 1605.34,737.33 \n",
       "  1606.13,730.385 1606.91,761.637 1607.7,785.945 1608.49,751.22 1609.28,713.023 1610.07,737.33 1610.86,716.495 1611.65,740.802 1612.43,751.22 1613.22,747.747 \n",
       "  1614.01,772.055 1614.8,737.33 1615.59,761.637 1616.38,758.165 1617.17,737.33 1617.95,761.637 1618.74,744.275 1619.53,730.385 1620.32,768.582 1621.11,765.11 \n",
       "  1621.9,723.44 1622.69,733.857 1623.47,772.055 1624.26,754.692 1625.05,751.22 1625.84,744.275 1626.63,713.023 1627.42,737.33 1628.21,730.385 1628.99,775.527 \n",
       "  1629.78,772.055 1630.57,765.11 1631.36,782.472 1632.15,765.11 1632.94,744.275 1633.72,726.912 1634.51,723.44 1635.3,747.747 1636.09,744.275 1637.67,761.637 \n",
       "  1639.24,772.055 1639.99,765.11 1640.75,751.22 1641.5,740.802 1642.25,761.637 1643,730.385 1643.75,737.33 1644.5,785.945 1645.25,758.165 1646,754.692 \n",
       "  1646.75,733.857 1647.5,751.22 1648.25,737.33 1649,737.33 1649.75,740.802 1650.5,761.637 1651.25,716.495 1652,744.275 1652.75,751.22 1653.5,772.055 \n",
       "  1654.25,782.472 1655,737.33 1655.75,702.605 1656.5,737.33 1657.25,737.33 1658,761.637 1658.75,726.912 1659.5,772.055 1660.25,772.055 1661,730.385 \n",
       "  1661.75,747.747 1662.5,740.802 1663.25,751.22 1664,765.11 1664.75,758.165 1665.5,737.33 1666.25,719.968 1667,744.275 1667.75,792.89 1668.51,730.385 \n",
       "  1669.26,744.275 1670.01,740.802 1670.76,733.857 1671.51,765.11 1672.26,709.55 1673.01,751.22 1673.76,768.582 1674.51,747.747 1675.26,772.055 1676.01,744.275 \n",
       "  1676.76,765.11 1677.51,716.495 1678.26,754.692 1679.01,765.11 1679.76,716.495 1680.51,751.22 1681.26,737.33 1682.01,747.747 1682.76,782.472 1683.51,730.385 \n",
       "  1684.26,758.165 1685.01,758.165 1685.76,747.747 1686.51,782.472 1687.26,751.22 1688.01,737.33 1688.76,744.275 1689.51,709.55 1690.26,733.857 1691.01,744.275 \n",
       "  1691.76,723.44 1692.51,744.275 1693.26,785.945 1694.01,726.912 1694.76,706.078 1695.51,751.22 1696.27,737.33 1697.02,737.33 1697.77,740.802 1698.52,789.417 \n",
       "  1699.27,744.275 1700.02,785.945 1700.77,751.22 1701.52,730.385 1702.27,726.912 1703.02,765.11 1703.77,772.055 1704.52,779 1705.27,737.33 1706.02,719.968 \n",
       "  1706.77,740.802 1707.52,772.055 1708.27,744.275 1709.02,751.22 1709.77,744.275 1710.52,726.912 1711.27,747.747 1712.02,723.44 1712.77,765.11 1713.52,716.495 \n",
       "  1714.27,779 1715.02,719.968 1715.77,796.362 1716.52,744.275 1717.27,772.055 1718.02,744.275 1718.77,761.637 1719.52,740.802 1720.27,765.11 1721.77,758.165 \n",
       "  1723.27,747.747 1724.03,744.275 1724.78,751.22 1725.53,730.385 1726.28,702.605 1727.03,754.692 1727.78,789.417 1728.53,765.11 1729.28,779 1730.03,737.33 \n",
       "  1730.78,754.692 1731.53,719.968 1732.28,744.275 1733.03,758.165 1733.78,737.33 1734.53,730.385 1735.28,713.023 1736.06,740.802 1736.84,702.605 1737.62,758.165 \n",
       "  1738.4,799.835 1739.18,758.165 1739.96,716.495 1740.74,737.33 1741.52,754.692 1742.3,726.912 1743.08,733.857 1743.86,747.747 1744.64,751.22 1745.42,723.44 \n",
       "  1746.2,779 1746.98,723.44 1747.76,737.33 1748.54,754.692 1749.32,754.692 1750.1,768.582 1750.88,730.385 1751.66,758.165 1752.44,785.945 1753.22,765.11 \n",
       "  1754,723.44 1754.78,751.22 1755.56,772.055 1756.34,719.968 1757.12,761.637 1757.9,733.857 1758.68,737.33 1759.46,765.11 1760.24,723.44 1761.02,751.22 \n",
       "  1761.8,765.11 1762.58,726.912 1763.36,754.692 1764.14,768.582 1764.92,730.385 1765.7,751.22 1766.48,737.33 1767.26,737.33 1768.04,772.055 1768.82,758.165 \n",
       "  1769.6,772.055 1770.38,719.968 1771.16,719.968 1771.94,775.527 1772.72,737.33 1773.5,737.33 1774.28,765.11 1775.06,737.33 1775.84,765.11 1776.62,726.912 \n",
       "  1777.41,726.912 1778.19,789.417 1778.97,747.747 1779.75,765.11 1780.53,744.275 1781.31,785.945 1782.09,716.495 1782.87,730.385 1783.65,730.385 1784.43,747.747 \n",
       "  1785.21,761.637 1785.99,761.637 1786.77,737.33 1787.55,751.22 1788.33,737.33 1789.11,751.22 1789.89,751.22 1790.67,744.275 1791.45,747.747 1792.23,761.637 \n",
       "  1793.01,713.023 1793.79,754.692 1794.57,716.495 1795.35,702.605 1796.13,730.385 1796.91,758.165 1797.69,744.275 1798.47,733.857 1799.25,706.078 1800.03,733.857 \n",
       "  1800.81,751.22 1801.59,709.55 1802.37,751.22 1803.15,758.165 1803.93,744.275 1804.71,730.385 1805.49,751.22 1806.27,726.912 1807.05,740.802 1807.83,782.472 \n",
       "  1808.61,758.165 1809.39,785.945 1810.17,702.605 1810.95,716.495 1811.73,716.495 1812.51,775.527 1813.29,719.968 1814.07,761.637 1814.85,737.33 1815.63,744.275 \n",
       "  1816.41,744.275 1819.53,737.33 1822.65,730.385 1823.43,744.275 1824.21,758.165 1824.99,765.11 1825.77,765.11 1826.55,737.33 1827.33,744.275 1828.11,733.857 \n",
       "  1828.89,733.857 1829.67,719.968 1830.45,779 1831.23,709.55 1832.01,765.11 1832.79,765.11 1833.57,723.44 1834.35,744.275 1835.13,747.747 1835.79,747.747 \n",
       "  1836.45,726.912 1837.1,775.527 1837.76,713.023 1838.42,761.637 1839.07,775.527 1839.73,751.22 1840.39,702.605 1841.04,737.33 1841.7,730.385 1842.36,723.44 \n",
       "  1843.01,751.22 1843.67,723.44 1844.33,730.385 1844.98,751.22 1845.64,744.275 1846.3,737.33 1846.95,744.275 1847.61,751.22 1848.27,709.55 1848.92,723.44 \n",
       "  1849.58,744.275 1850.24,737.33 1850.89,730.385 1851.55,737.33 1852.21,772.055 1852.86,709.55 1853.52,699.133 1854.18,740.802 1854.83,747.747 1855.49,726.912 \n",
       "  1856.15,775.527 1856.8,768.582 1857.46,719.968 1858.12,726.912 1858.77,713.023 1859.43,730.385 1860.09,737.33 1860.74,772.055 1861.4,737.33 1862.06,730.385 \n",
       "  1862.71,744.275 1863.37,716.495 1864.03,779 1864.68,730.385 1865.34,765.11 1866,744.275 1866.65,744.275 1867.31,744.275 1867.97,765.11 1868.62,744.275 \n",
       "  1869.28,751.22 1869.94,730.385 1870.59,719.968 1871.25,733.857 1871.91,713.023 1872.56,719.968 1873.22,699.133 1873.88,747.747 1874.53,733.857 1875.19,723.44 \n",
       "  1875.85,702.605 1876.5,737.33 1877.16,702.605 1877.82,737.33 1878.47,744.275 1879.13,751.22 1879.79,751.22 1880.44,765.11 1881.1,716.495 1881.76,737.33 \n",
       "  1882.41,702.605 1883.07,765.11 1883.73,737.33 1884.38,751.22 1885.04,730.385 1885.7,737.33 1886.35,744.275 1887.01,737.33 1887.67,768.582 1888.32,740.802 \n",
       "  1888.98,775.527 1889.64,726.912 1890.29,719.968 1890.95,740.802 1891.61,726.912 1892.26,785.945 1892.92,723.44 1893.58,716.495 1894.23,751.22 1894.89,758.165 \n",
       "  1895.55,744.275 1896.2,730.385 1896.86,751.22 1897.52,744.275 1898.17,723.44 1898.83,744.275 1899.49,779 1900.14,716.495 1900.8,758.165 1901.46,758.165 \n",
       "  1902.11,751.22 1902.77,744.275 1903.43,723.44 1904.08,744.275 1904.74,747.747 1905.4,761.637 1906.05,768.582 1906.71,761.637 1907.37,713.023 1908.02,733.857 \n",
       "  1908.68,733.857 1913.94,730.385 1919.19,730.385 1932.02,730.385 1944.84,719.968 1948.05,709.55 1951.26,709.55 1952.06,702.605 1952.86,709.55 1953.66,730.385 \n",
       "  1954.46,730.385 1955.27,744.275 1956.07,709.55 1956.87,744.275 1957.67,751.22 1958.47,730.385 1959.28,723.44 1960.08,730.385 1960.88,702.605 1961.68,716.495 \n",
       "  1962.48,737.33 1963.28,758.165 1964.09,723.44 1965.69,723.44 1967.29,726.912 1968.9,733.857 1970.5,733.857 1972.1,733.857 1973.71,740.802 1974.51,751.22 \n",
       "  1975.31,716.495 1976.11,709.55 1976.91,702.605 1977.72,737.33 1978.52,688.715 1979.32,723.44 1980.12,730.385 1980.92,737.33 1981.72,730.385 1982.53,723.44 \n",
       "  1983.33,695.66 1984.13,667.88 1984.93,716.495 1985.73,667.88 1986.53,688.715 1987.34,709.55 1988.14,716.495 1988.94,681.77 1989.74,730.385 1990.54,695.66 \n",
       "  1991.34,744.275 1992.15,723.44 1992.95,695.66 1993.75,709.55 1994.55,702.605 1995.35,667.88 1996.16,744.275 1996.96,737.33 1997.76,702.605 1998.56,681.77 \n",
       "  1999.36,747.747 2000.16,719.968 2000.97,685.243 2001.77,719.968 2002.57,713.023 2003.37,678.298 2004.17,685.243 2004.97,719.968 2005.78,733.857 2006.58,702.605 \n",
       "  2007.38,695.66 2008.18,688.715 2008.98,695.66 2009.78,674.825 2010.59,709.55 2011.39,688.715 2012.19,660.935 2012.99,702.605 2013.79,667.88 2014.6,674.825 \n",
       "  2015.4,695.66 2016.2,660.935 2017,737.33 2017.8,702.605 2018.6,667.88 2019.41,702.605 2020.21,709.55 2021.01,702.605 2021.81,716.495 2022.56,702.605 \n",
       "  2023.32,695.66 2024.07,699.133 2024.83,699.133 2025.58,671.353 2026.33,688.715 2027.09,702.605 2027.84,660.935 2028.59,688.715 2029.35,688.715 2030.1,685.243 \n",
       "  2030.85,671.353 2031.61,688.715 2032.36,709.55 2033.12,681.77 2033.87,667.88 2034.62,685.243 2035.38,685.243 2036.13,695.66 2036.88,695.66 2037.64,723.44 \n",
       "  2038.39,688.715 2039.14,706.078 2039.9,664.408 2040.65,719.968 2041.41,681.77 2042.16,647.045 2042.91,633.156 2043.67,674.825 2044.42,671.353 2045.17,671.353 \n",
       "  2045.93,674.825 2051.96,667.88 2057.99,660.935 2061,674.825 2064.02,671.353 2067.03,667.88 2070.04,653.99 2082.1,640.1 2094.16,619.266 2097.18,615.793 \n",
       "  2100.19,626.211 2101.7,626.211 2103.21,622.738 2103.96,626.211 2104.71,633.156 2105.47,647.045 2106.22,605.376 2106.97,594.958 2107.73,594.958 2108.48,591.486 \n",
       "  2109.24,619.266 2109.99,619.266 2110.74,626.211 2111.5,615.793 2112.25,629.683 2113,601.903 2113.76,577.596 2114.51,605.376 2115.26,591.486 2116.02,619.266 \n",
       "  2116.77,591.486 2117.53,601.903 2118.28,615.793 2119.49,612.321 2120.69,598.431 2121.9,584.541 2123.11,584.541 2124.32,598.431 2125.52,598.431 2126.73,584.541 \n",
       "  2127.94,570.651 2129.15,584.541 2130.35,570.651 2131.56,584.541 2132.77,549.816 2133.98,570.651 2135.18,584.541 2136.39,570.651 2137.6,584.541 2138.8,556.761 \n",
       "  2140.01,598.431 2141.22,584.541 2142.43,528.981 2143.63,584.541 2144.84,556.761 2146.05,528.981 2147.26,549.816 2148.46,556.761 2149.67,542.871 2150.88,584.541 \n",
       "  2152.09,556.761 2153.29,570.651 2154.5,515.091 2155.71,528.981 2156.92,542.871 2158.12,542.871 2159.33,542.871 2160.54,542.871 2161.75,473.421 2162.95,528.981 \n",
       "  2164.16,528.981 2165.37,515.091 2166.58,497.729 2167.78,476.894 2168.99,532.454 2170.2,504.674 2171.41,518.564 2172.61,518.564 2173.82,463.004 2175.03,476.894 \n",
       "  2176.23,490.784 2177.44,546.344 2178.65,504.674 2179.86,463.004 2181.06,483.839 2182.27,508.146 2183.48,522.036 2184.69,494.256 2185.89,466.477 2187.1,452.587 \n",
       "  2188.31,466.477 2189.52,452.587 2190.72,494.256 2191.93,466.477 2193.14,438.697 2194.35,466.477 2195.55,445.642 2200.38,424.807 2205.21,410.917 2210.04,390.082 \n",
       "  2214.87,383.137 2217.29,369.247 2219.7,355.357 2220.91,341.467 2222.12,383.137 2223.32,383.137 2224.53,379.665 2226.95,372.72 2229.36,358.83 2230.57,372.72 \n",
       "  2231.78,344.94 2232.98,344.94 2234.19,372.72 2235.4,344.94 2236.61,303.27 2237.81,317.16 2239.02,358.83 2240.23,317.16 2241.44,331.05 2242.64,344.94 \n",
       "  2243.85,268.545 2245.06,306.742 2246.26,292.853 2247.47,265.073 2248.68,320.632 2249.89,265.073 2251.09,278.963 2252.3,278.963 2253.51,251.183 2254.72,278.963 \n",
       "  2255.92,237.293 2257.13,292.853 2258.34,272.018 2259.55,265.073 2260.75,223.403 2261.96,223.403 2263.17,223.403 2265.58,223.403 2268,209.513 2269.21,223.403 \n",
       "  2270.41,209.513 2271.62,153.953 2272.83,174.788 2273.01,202.568 2273.2,199.096 2273.39,181.733 2273.57,202.568 2273.76,181.733 2273.94,226.875 2274.13,143.536 \n",
       "  2274.31,167.843 2274.5,188.678 2274.69,202.568 2274.87,160.898 2275.06,171.316 2275.24,181.733 2275.43,195.623 2275.62,181.733 2275.8,147.008 2275.99,185.206 \n",
       "  2276.17,171.316 2276.36,188.678 2276.54,181.733 2276.73,174.788 2276.92,185.206 2277.1,195.623 2277.29,195.623 2277.47,153.953 2277.66,133.119 2277.85,171.316 \n",
       "  2278.03,195.623 2278.22,188.678 2278.4,160.898 2278.59,160.898 2278.77,199.096 2278.96,181.733 2279.15,181.733 2279.33,167.843 2279.52,160.898 2279.7,157.426 \n",
       "  2279.89,181.733 2280.07,188.678 2280.26,160.898 2280.45,133.119 2280.63,157.426 2280.82,167.843 2281,160.898 2281.19,153.953 2281.38,115.756 2281.56,157.426 \n",
       "  2281.75,167.843 2281.93,160.898 2282.12,160.898 2282.3,160.898 2282.49,143.536 2282.68,167.843 2282.86,112.284 2283.05,140.063 2283.23,160.898 2283.42,185.206 \n",
       "  2283.61,157.426 2283.79,147.008 2283.98,140.063 2284.35,143.536 2284.72,140.063 2284.91,126.174 2285.09,119.229 2285.28,157.426 2285.46,167.843 2285.65,119.229 \n",
       "  2285.84,119.229 2286.02,119.229 2286.21,129.646 2286.39,126.174 2286.58,112.284 2286.76,112.284 2286.95,147.008 2287.14,101.866 2287.32,115.756 2287.51,147.008 \n",
       "  2287.69,126.174 2287.88,119.229 2288.07,164.371 2288.25,108.811 2288.44,119.229 2288.62,112.284 2288.81,119.229 2288.99,143.536 2289.18,157.426 2289.37,119.229 \n",
       "  2289.55,112.284 2289.74,147.008 2289.92,129.646 2290.11,112.284 2290.29,112.284 2290.48,98.3937 2290.67,91.4488 2292.15,98.3937 2293.64,101.866 2295.13,98.3937 \n",
       "  2296.61,87.9763 \n",
       "  \"/>\n",
       "<circle clip-path=\"url(#clip522)\" cx=\"1236.13\" cy=\"754.692\" r=\"14\" fill=\"#e26f46\" fill-rule=\"evenodd\" fill-opacity=\"1\" stroke=\"#000000\" stroke-opacity=\"1\" stroke-width=\"3.2\"/>\n",
       "<circle clip-path=\"url(#clip522)\" cx=\"1298.51\" cy=\"758.165\" r=\"14\" fill=\"#e26f46\" fill-rule=\"evenodd\" fill-opacity=\"1\" stroke=\"#000000\" stroke-opacity=\"1\" stroke-width=\"3.2\"/>\n",
       "<circle clip-path=\"url(#clip522)\" cx=\"1360.89\" cy=\"751.22\" r=\"14\" fill=\"#e26f46\" fill-rule=\"evenodd\" fill-opacity=\"1\" stroke=\"#000000\" stroke-opacity=\"1\" stroke-width=\"3.2\"/>\n",
       "<circle clip-path=\"url(#clip522)\" cx=\"1423.27\" cy=\"772.055\" r=\"14\" fill=\"#e26f46\" fill-rule=\"evenodd\" fill-opacity=\"1\" stroke=\"#000000\" stroke-opacity=\"1\" stroke-width=\"3.2\"/>\n",
       "<circle clip-path=\"url(#clip522)\" cx=\"1485.65\" cy=\"775.527\" r=\"14\" fill=\"#e26f46\" fill-rule=\"evenodd\" fill-opacity=\"1\" stroke=\"#000000\" stroke-opacity=\"1\" stroke-width=\"3.2\"/>\n",
       "<circle clip-path=\"url(#clip522)\" cx=\"1548.03\" cy=\"744.275\" r=\"14\" fill=\"#e26f46\" fill-rule=\"evenodd\" fill-opacity=\"1\" stroke=\"#000000\" stroke-opacity=\"1\" stroke-width=\"3.2\"/>\n",
       "<circle clip-path=\"url(#clip522)\" cx=\"1610.42\" cy=\"758.165\" r=\"14\" fill=\"#e26f46\" fill-rule=\"evenodd\" fill-opacity=\"1\" stroke=\"#000000\" stroke-opacity=\"1\" stroke-width=\"3.2\"/>\n",
       "<circle clip-path=\"url(#clip522)\" cx=\"1672.8\" cy=\"754.692\" r=\"14\" fill=\"#e26f46\" fill-rule=\"evenodd\" fill-opacity=\"1\" stroke=\"#000000\" stroke-opacity=\"1\" stroke-width=\"3.2\"/>\n",
       "<circle clip-path=\"url(#clip522)\" cx=\"1735.18\" cy=\"758.165\" r=\"14\" fill=\"#e26f46\" fill-rule=\"evenodd\" fill-opacity=\"1\" stroke=\"#000000\" stroke-opacity=\"1\" stroke-width=\"3.2\"/>\n",
       "<circle clip-path=\"url(#clip522)\" cx=\"1797.56\" cy=\"751.22\" r=\"14\" fill=\"#e26f46\" fill-rule=\"evenodd\" fill-opacity=\"1\" stroke=\"#000000\" stroke-opacity=\"1\" stroke-width=\"3.2\"/>\n",
       "<circle clip-path=\"url(#clip522)\" cx=\"1859.94\" cy=\"740.802\" r=\"14\" fill=\"#e26f46\" fill-rule=\"evenodd\" fill-opacity=\"1\" stroke=\"#000000\" stroke-opacity=\"1\" stroke-width=\"3.2\"/>\n",
       "<circle clip-path=\"url(#clip522)\" cx=\"1922.32\" cy=\"765.11\" r=\"14\" fill=\"#e26f46\" fill-rule=\"evenodd\" fill-opacity=\"1\" stroke=\"#000000\" stroke-opacity=\"1\" stroke-width=\"3.2\"/>\n",
       "<circle clip-path=\"url(#clip522)\" cx=\"1984.71\" cy=\"723.44\" r=\"14\" fill=\"#e26f46\" fill-rule=\"evenodd\" fill-opacity=\"1\" stroke=\"#000000\" stroke-opacity=\"1\" stroke-width=\"3.2\"/>\n",
       "<circle clip-path=\"url(#clip522)\" cx=\"2047.09\" cy=\"678.298\" r=\"14\" fill=\"#e26f46\" fill-rule=\"evenodd\" fill-opacity=\"1\" stroke=\"#000000\" stroke-opacity=\"1\" stroke-width=\"3.2\"/>\n",
       "<circle clip-path=\"url(#clip522)\" cx=\"2109.47\" cy=\"570.651\" r=\"14\" fill=\"#e26f46\" fill-rule=\"evenodd\" fill-opacity=\"1\" stroke=\"#000000\" stroke-opacity=\"1\" stroke-width=\"3.2\"/>\n",
       "<path clip-path=\"url(#clip520)\" d=\"\n",
       "M2013.79 276.658 L2286.63 276.658 L2286.63 95.2176 L2013.79 95.2176  Z\n",
       "  \" fill=\"#ffffff\" fill-rule=\"evenodd\" fill-opacity=\"1\"/>\n",
       "<polyline clip-path=\"url(#clip520)\" style=\"stroke:#000000; stroke-width:4; stroke-opacity:1; fill:none\" points=\"\n",
       "  2013.79,276.658 2286.63,276.658 2286.63,95.2176 2013.79,95.2176 2013.79,276.658 \n",
       "  \"/>\n",
       "<polyline clip-path=\"url(#clip520)\" style=\"stroke:#009af9; stroke-width:4; stroke-opacity:1; fill:none\" points=\"\n",
       "  2035.83,155.698 2168.08,155.698 \n",
       "  \"/>\n",
       "<path clip-path=\"url(#clip520)\" d=\"M 0 0 M2203.96 175.385 Q2202.16 180.015 2200.44 181.427 Q2198.73 182.839 2195.86 182.839 L2192.46 182.839 L2192.46 179.274 L2194.96 179.274 Q2196.72 179.274 2197.69 178.44 Q2198.66 177.607 2199.84 174.505 L2200.6 172.561 L2190.12 147.052 L2194.63 147.052 L2202.73 167.329 L2210.84 147.052 L2215.35 147.052 L2203.96 175.385 Z\" fill=\"#000000\" fill-rule=\"evenodd\" fill-opacity=\"1\" /><path clip-path=\"url(#clip520)\" d=\"M 0 0 M2222.64 169.042 L2230.28 169.042 L2230.28 142.677 L2221.97 144.343 L2221.97 140.084 L2230.23 138.418 L2234.91 138.418 L2234.91 169.042 L2242.55 169.042 L2242.55 172.978 L2222.64 172.978 L2222.64 169.042 Z\" fill=\"#000000\" fill-rule=\"evenodd\" fill-opacity=\"1\" /><circle clip-path=\"url(#clip520)\" cx=\"2101.95\" cy=\"216.178\" r=\"23\" fill=\"#e26f46\" fill-rule=\"evenodd\" fill-opacity=\"1\" stroke=\"#000000\" stroke-opacity=\"1\" stroke-width=\"5.12\"/>\n",
       "<path clip-path=\"url(#clip520)\" d=\"M 0 0 M2203.96 235.865 Q2202.16 240.495 2200.44 241.907 Q2198.73 243.319 2195.86 243.319 L2192.46 243.319 L2192.46 239.754 L2194.96 239.754 Q2196.72 239.754 2197.69 238.92 Q2198.66 238.087 2199.84 234.985 L2200.6 233.041 L2190.12 207.532 L2194.63 207.532 L2202.73 227.809 L2210.84 207.532 L2215.35 207.532 L2203.96 235.865 Z\" fill=\"#000000\" fill-rule=\"evenodd\" fill-opacity=\"1\" /><path clip-path=\"url(#clip520)\" d=\"M 0 0 M2225.86 229.522 L2242.18 229.522 L2242.18 233.458 L2220.23 233.458 L2220.23 229.522 Q2222.9 226.768 2227.48 222.138 Q2232.09 217.485 2233.27 216.143 Q2235.51 213.62 2236.39 211.884 Q2237.29 210.124 2237.29 208.435 Q2237.29 205.68 2235.35 203.944 Q2233.43 202.208 2230.33 202.208 Q2228.13 202.208 2225.67 202.972 Q2223.24 203.735 2220.47 205.286 L2220.47 200.564 Q2223.29 199.43 2225.74 198.851 Q2228.2 198.273 2230.23 198.273 Q2235.6 198.273 2238.8 200.958 Q2241.99 203.643 2241.99 208.134 Q2241.99 210.263 2241.18 212.185 Q2240.4 214.083 2238.29 216.675 Q2237.71 217.347 2234.61 220.564 Q2231.51 223.759 2225.86 229.522 Z\" fill=\"#000000\" fill-rule=\"evenodd\" fill-opacity=\"1\" /></svg>\n"
      ]
     },
     "execution_count": 10,
     "metadata": {},
     "output_type": "execute_result"
    }
   ],
   "source": [
    "using Plots\n",
    "x = collect(998:1012)/1000\n",
    "f(x) = x^7 - 7x^6 + 21x^5 - 35x^4 + 35x^3 - 21x^2 + 7x - 1\n",
    "y = f.(x)\n",
    "Plots.plot(f, 0.985, 1.015)\n",
    "scatter!(x, y)"
   ]
  },
  {
   "cell_type": "code",
   "execution_count": 11,
   "metadata": {},
   "outputs": [
    {
     "data": {
      "image/svg+xml": [
       "<?xml version=\"1.0\" encoding=\"utf-8\"?>\n",
       "<svg xmlns=\"http://www.w3.org/2000/svg\" xmlns:xlink=\"http://www.w3.org/1999/xlink\" width=\"600\" height=\"400\" viewBox=\"0 0 2400 1600\">\n",
       "<defs>\n",
       "  <clipPath id=\"clip560\">\n",
       "    <rect x=\"0\" y=\"0\" width=\"2400\" height=\"1600\"/>\n",
       "  </clipPath>\n",
       "</defs>\n",
       "<path clip-path=\"url(#clip560)\" d=\"\n",
       "M0 1600 L2400 1600 L2400 0 L0 0  Z\n",
       "  \" fill=\"#ffffff\" fill-rule=\"evenodd\" fill-opacity=\"1\"/>\n",
       "<defs>\n",
       "  <clipPath id=\"clip561\">\n",
       "    <rect x=\"480\" y=\"0\" width=\"1681\" height=\"1600\"/>\n",
       "  </clipPath>\n",
       "</defs>\n",
       "<path clip-path=\"url(#clip560)\" d=\"\n",
       "M286.78 1486.45 L2352.76 1486.45 L2352.76 47.2441 L286.78 47.2441  Z\n",
       "  \" fill=\"#ffffff\" fill-rule=\"evenodd\" fill-opacity=\"1\"/>\n",
       "<defs>\n",
       "  <clipPath id=\"clip562\">\n",
       "    <rect x=\"286\" y=\"47\" width=\"2067\" height=\"1440\"/>\n",
       "  </clipPath>\n",
       "</defs>\n",
       "<polyline clip-path=\"url(#clip562)\" style=\"stroke:#000000; stroke-width:2; stroke-opacity:0.1; fill:none\" points=\"\n",
       "  623.684,1486.45 623.684,47.2441 \n",
       "  \"/>\n",
       "<polyline clip-path=\"url(#clip562)\" style=\"stroke:#000000; stroke-width:2; stroke-opacity:0.1; fill:none\" points=\"\n",
       "  971.726,1486.45 971.726,47.2441 \n",
       "  \"/>\n",
       "<polyline clip-path=\"url(#clip562)\" style=\"stroke:#000000; stroke-width:2; stroke-opacity:0.1; fill:none\" points=\"\n",
       "  1319.77,1486.45 1319.77,47.2441 \n",
       "  \"/>\n",
       "<polyline clip-path=\"url(#clip562)\" style=\"stroke:#000000; stroke-width:2; stroke-opacity:0.1; fill:none\" points=\"\n",
       "  1667.81,1486.45 1667.81,47.2441 \n",
       "  \"/>\n",
       "<polyline clip-path=\"url(#clip562)\" style=\"stroke:#000000; stroke-width:2; stroke-opacity:0.1; fill:none\" points=\"\n",
       "  2015.85,1486.45 2015.85,47.2441 \n",
       "  \"/>\n",
       "<polyline clip-path=\"url(#clip560)\" style=\"stroke:#000000; stroke-width:4; stroke-opacity:1; fill:none\" points=\"\n",
       "  286.78,1486.45 2352.76,1486.45 \n",
       "  \"/>\n",
       "<polyline clip-path=\"url(#clip560)\" style=\"stroke:#000000; stroke-width:4; stroke-opacity:1; fill:none\" points=\"\n",
       "  623.684,1486.45 623.684,1469.18 \n",
       "  \"/>\n",
       "<polyline clip-path=\"url(#clip560)\" style=\"stroke:#000000; stroke-width:4; stroke-opacity:1; fill:none\" points=\"\n",
       "  971.726,1486.45 971.726,1469.18 \n",
       "  \"/>\n",
       "<polyline clip-path=\"url(#clip560)\" style=\"stroke:#000000; stroke-width:4; stroke-opacity:1; fill:none\" points=\"\n",
       "  1319.77,1486.45 1319.77,1469.18 \n",
       "  \"/>\n",
       "<polyline clip-path=\"url(#clip560)\" style=\"stroke:#000000; stroke-width:4; stroke-opacity:1; fill:none\" points=\"\n",
       "  1667.81,1486.45 1667.81,1469.18 \n",
       "  \"/>\n",
       "<polyline clip-path=\"url(#clip560)\" style=\"stroke:#000000; stroke-width:4; stroke-opacity:1; fill:none\" points=\"\n",
       "  2015.85,1486.45 2015.85,1469.18 \n",
       "  \"/>\n",
       "<path clip-path=\"url(#clip560)\" d=\"M 0 0 M545.594 1543.18 L553.233 1543.18 L553.233 1516.82 L544.923 1518.49 L544.923 1514.23 L553.187 1512.56 L557.863 1512.56 L557.863 1543.18 L565.502 1543.18 L565.502 1547.12 L545.594 1547.12 L545.594 1543.18 Z\" fill=\"#000000\" fill-rule=\"evenodd\" fill-opacity=\"1\" /><path clip-path=\"url(#clip560)\" d=\"M 0 0 M574.946 1541.24 L579.83 1541.24 L579.83 1547.12 L574.946 1547.12 L574.946 1541.24 Z\" fill=\"#000000\" fill-rule=\"evenodd\" fill-opacity=\"1\" /><path clip-path=\"url(#clip560)\" d=\"M 0 0 M600.015 1515.64 Q596.404 1515.64 594.576 1519.2 Q592.77 1522.75 592.77 1529.87 Q592.77 1536.98 594.576 1540.55 Q596.404 1544.09 600.015 1544.09 Q603.65 1544.09 605.455 1540.55 Q607.284 1536.98 607.284 1529.87 Q607.284 1522.75 605.455 1519.2 Q603.65 1515.64 600.015 1515.64 M600.015 1511.93 Q605.826 1511.93 608.881 1516.54 Q611.96 1521.12 611.96 1529.87 Q611.96 1538.6 608.881 1543.21 Q605.826 1547.79 600.015 1547.79 Q594.205 1547.79 591.127 1543.21 Q588.071 1538.6 588.071 1529.87 Q588.071 1521.12 591.127 1516.54 Q594.205 1511.93 600.015 1511.93 Z\" fill=\"#000000\" fill-rule=\"evenodd\" fill-opacity=\"1\" /><path clip-path=\"url(#clip560)\" d=\"M 0 0 M630.177 1515.64 Q626.566 1515.64 624.738 1519.2 Q622.932 1522.75 622.932 1529.87 Q622.932 1536.98 624.738 1540.55 Q626.566 1544.09 630.177 1544.09 Q633.812 1544.09 635.617 1540.55 Q637.446 1536.98 637.446 1529.87 Q637.446 1522.75 635.617 1519.2 Q633.812 1515.64 630.177 1515.64 M630.177 1511.93 Q635.987 1511.93 639.043 1516.54 Q642.122 1521.12 642.122 1529.87 Q642.122 1538.6 639.043 1543.21 Q635.987 1547.79 630.177 1547.79 Q624.367 1547.79 621.288 1543.21 Q618.233 1538.6 618.233 1529.87 Q618.233 1521.12 621.288 1516.54 Q624.367 1511.93 630.177 1511.93 Z\" fill=\"#000000\" fill-rule=\"evenodd\" fill-opacity=\"1\" /><path clip-path=\"url(#clip560)\" d=\"M 0 0 M660.339 1515.64 Q656.728 1515.64 654.899 1519.2 Q653.094 1522.75 653.094 1529.87 Q653.094 1536.98 654.899 1540.55 Q656.728 1544.09 660.339 1544.09 Q663.973 1544.09 665.779 1540.55 Q667.608 1536.98 667.608 1529.87 Q667.608 1522.75 665.779 1519.2 Q663.973 1515.64 660.339 1515.64 M660.339 1511.93 Q666.149 1511.93 669.205 1516.54 Q672.284 1521.12 672.284 1529.87 Q672.284 1538.6 669.205 1543.21 Q666.149 1547.79 660.339 1547.79 Q654.529 1547.79 651.45 1543.21 Q648.395 1538.6 648.395 1529.87 Q648.395 1521.12 651.45 1516.54 Q654.529 1511.93 660.339 1511.93 Z\" fill=\"#000000\" fill-rule=\"evenodd\" fill-opacity=\"1\" /><path clip-path=\"url(#clip560)\" d=\"M 0 0 M690.501 1515.64 Q686.89 1515.64 685.061 1519.2 Q683.256 1522.75 683.256 1529.87 Q683.256 1536.98 685.061 1540.55 Q686.89 1544.09 690.501 1544.09 Q694.135 1544.09 695.941 1540.55 Q697.77 1536.98 697.77 1529.87 Q697.77 1522.75 695.941 1519.2 Q694.135 1515.64 690.501 1515.64 M690.501 1511.93 Q696.311 1511.93 699.367 1516.54 Q702.445 1521.12 702.445 1529.87 Q702.445 1538.6 699.367 1543.21 Q696.311 1547.79 690.501 1547.79 Q684.691 1547.79 681.612 1543.21 Q678.557 1538.6 678.557 1529.87 Q678.557 1521.12 681.612 1516.54 Q684.691 1511.93 690.501 1511.93 Z\" fill=\"#000000\" fill-rule=\"evenodd\" fill-opacity=\"1\" /><path clip-path=\"url(#clip560)\" d=\"M 0 0 M894.134 1543.18 L901.773 1543.18 L901.773 1516.82 L893.463 1518.49 L893.463 1514.23 L901.726 1512.56 L906.402 1512.56 L906.402 1543.18 L914.041 1543.18 L914.041 1547.12 L894.134 1547.12 L894.134 1543.18 Z\" fill=\"#000000\" fill-rule=\"evenodd\" fill-opacity=\"1\" /><path clip-path=\"url(#clip560)\" d=\"M 0 0 M923.486 1541.24 L928.37 1541.24 L928.37 1547.12 L923.486 1547.12 L923.486 1541.24 Z\" fill=\"#000000\" fill-rule=\"evenodd\" fill-opacity=\"1\" /><path clip-path=\"url(#clip560)\" d=\"M 0 0 M948.555 1515.64 Q944.944 1515.64 943.115 1519.2 Q941.31 1522.75 941.31 1529.87 Q941.31 1536.98 943.115 1540.55 Q944.944 1544.09 948.555 1544.09 Q952.189 1544.09 953.995 1540.55 Q955.823 1536.98 955.823 1529.87 Q955.823 1522.75 953.995 1519.2 Q952.189 1515.64 948.555 1515.64 M948.555 1511.93 Q954.365 1511.93 957.421 1516.54 Q960.499 1521.12 960.499 1529.87 Q960.499 1538.6 957.421 1543.21 Q954.365 1547.79 948.555 1547.79 Q942.745 1547.79 939.666 1543.21 Q936.611 1538.6 936.611 1529.87 Q936.611 1521.12 939.666 1516.54 Q942.745 1511.93 948.555 1511.93 Z\" fill=\"#000000\" fill-rule=\"evenodd\" fill-opacity=\"1\" /><path clip-path=\"url(#clip560)\" d=\"M 0 0 M978.717 1515.64 Q975.106 1515.64 973.277 1519.2 Q971.471 1522.75 971.471 1529.87 Q971.471 1536.98 973.277 1540.55 Q975.106 1544.09 978.717 1544.09 Q982.351 1544.09 984.157 1540.55 Q985.985 1536.98 985.985 1529.87 Q985.985 1522.75 984.157 1519.2 Q982.351 1515.64 978.717 1515.64 M978.717 1511.93 Q984.527 1511.93 987.582 1516.54 Q990.661 1521.12 990.661 1529.87 Q990.661 1538.6 987.582 1543.21 Q984.527 1547.79 978.717 1547.79 Q972.907 1547.79 969.828 1543.21 Q966.772 1538.6 966.772 1529.87 Q966.772 1521.12 969.828 1516.54 Q972.907 1511.93 978.717 1511.93 Z\" fill=\"#000000\" fill-rule=\"evenodd\" fill-opacity=\"1\" /><path clip-path=\"url(#clip560)\" d=\"M 0 0 M1002.91 1543.18 L1019.23 1543.18 L1019.23 1547.12 L997.281 1547.12 L997.281 1543.18 Q999.944 1540.43 1004.53 1535.8 Q1009.13 1531.15 1010.31 1529.81 Q1012.56 1527.28 1013.44 1525.55 Q1014.34 1523.79 1014.34 1522.1 Q1014.34 1519.34 1012.4 1517.61 Q1010.48 1515.87 1007.37 1515.87 Q1005.17 1515.87 1002.72 1516.63 Q1000.29 1517.4 997.513 1518.95 L997.513 1514.23 Q1000.34 1513.09 1002.79 1512.51 Q1005.24 1511.93 1007.28 1511.93 Q1012.65 1511.93 1015.85 1514.62 Q1019.04 1517.31 1019.04 1521.8 Q1019.04 1523.93 1018.23 1525.85 Q1017.44 1527.74 1015.34 1530.34 Q1014.76 1531.01 1011.66 1534.23 Q1008.55 1537.42 1002.91 1543.18 Z\" fill=\"#000000\" fill-rule=\"evenodd\" fill-opacity=\"1\" /><path clip-path=\"url(#clip560)\" d=\"M 0 0 M1029.09 1512.56 L1047.44 1512.56 L1047.44 1516.5 L1033.37 1516.5 L1033.37 1524.97 Q1034.39 1524.62 1035.41 1524.46 Q1036.42 1524.27 1037.44 1524.27 Q1043.23 1524.27 1046.61 1527.44 Q1049.99 1530.62 1049.99 1536.03 Q1049.99 1541.61 1046.52 1544.71 Q1043.05 1547.79 1036.73 1547.79 Q1034.55 1547.79 1032.28 1547.42 Q1030.04 1547.05 1027.63 1546.31 L1027.63 1541.61 Q1029.71 1542.74 1031.93 1543.3 Q1034.16 1543.86 1036.63 1543.86 Q1040.64 1543.86 1042.98 1541.75 Q1045.31 1539.64 1045.31 1536.03 Q1045.31 1532.42 1042.98 1530.31 Q1040.64 1528.21 1036.63 1528.21 Q1034.76 1528.21 1032.88 1528.62 Q1031.03 1529.04 1029.09 1529.92 L1029.09 1512.56 Z\" fill=\"#000000\" fill-rule=\"evenodd\" fill-opacity=\"1\" /><path clip-path=\"url(#clip560)\" d=\"M 0 0 M1241.68 1543.18 L1249.32 1543.18 L1249.32 1516.82 L1241.01 1518.49 L1241.01 1514.23 L1249.27 1512.56 L1253.95 1512.56 L1253.95 1543.18 L1261.59 1543.18 L1261.59 1547.12 L1241.68 1547.12 L1241.68 1543.18 Z\" fill=\"#000000\" fill-rule=\"evenodd\" fill-opacity=\"1\" /><path clip-path=\"url(#clip560)\" d=\"M 0 0 M1271.03 1541.24 L1275.91 1541.24 L1275.91 1547.12 L1271.03 1547.12 L1271.03 1541.24 Z\" fill=\"#000000\" fill-rule=\"evenodd\" fill-opacity=\"1\" /><path clip-path=\"url(#clip560)\" d=\"M 0 0 M1296.1 1515.64 Q1292.49 1515.64 1290.66 1519.2 Q1288.85 1522.75 1288.85 1529.87 Q1288.85 1536.98 1290.66 1540.55 Q1292.49 1544.09 1296.1 1544.09 Q1299.73 1544.09 1301.54 1540.55 Q1303.37 1536.98 1303.37 1529.87 Q1303.37 1522.75 1301.54 1519.2 Q1299.73 1515.64 1296.1 1515.64 M1296.1 1511.93 Q1301.91 1511.93 1304.96 1516.54 Q1308.04 1521.12 1308.04 1529.87 Q1308.04 1538.6 1304.96 1543.21 Q1301.91 1547.79 1296.1 1547.79 Q1290.29 1547.79 1287.21 1543.21 Q1284.15 1538.6 1284.15 1529.87 Q1284.15 1521.12 1287.21 1516.54 Q1290.29 1511.93 1296.1 1511.93 Z\" fill=\"#000000\" fill-rule=\"evenodd\" fill-opacity=\"1\" /><path clip-path=\"url(#clip560)\" d=\"M 0 0 M1326.26 1515.64 Q1322.65 1515.64 1320.82 1519.2 Q1319.02 1522.75 1319.02 1529.87 Q1319.02 1536.98 1320.82 1540.55 Q1322.65 1544.09 1326.26 1544.09 Q1329.9 1544.09 1331.7 1540.55 Q1333.53 1536.98 1333.53 1529.87 Q1333.53 1522.75 1331.7 1519.2 Q1329.9 1515.64 1326.26 1515.64 M1326.26 1511.93 Q1332.07 1511.93 1335.13 1516.54 Q1338.21 1521.12 1338.21 1529.87 Q1338.21 1538.6 1335.13 1543.21 Q1332.07 1547.79 1326.26 1547.79 Q1320.45 1547.79 1317.37 1543.21 Q1314.32 1538.6 1314.32 1529.87 Q1314.32 1521.12 1317.37 1516.54 Q1320.45 1511.93 1326.26 1511.93 Z\" fill=\"#000000\" fill-rule=\"evenodd\" fill-opacity=\"1\" /><path clip-path=\"url(#clip560)\" d=\"M 0 0 M1346.47 1512.56 L1364.83 1512.56 L1364.83 1516.5 L1350.75 1516.5 L1350.75 1524.97 Q1351.77 1524.62 1352.79 1524.46 Q1353.81 1524.27 1354.83 1524.27 Q1360.61 1524.27 1363.99 1527.44 Q1367.37 1530.62 1367.37 1536.03 Q1367.37 1541.61 1363.9 1544.71 Q1360.43 1547.79 1354.11 1547.79 Q1351.93 1547.79 1349.66 1547.42 Q1347.42 1547.05 1345.01 1546.31 L1345.01 1541.61 Q1347.09 1542.74 1349.32 1543.3 Q1351.54 1543.86 1354.02 1543.86 Q1358.02 1543.86 1360.36 1541.75 Q1362.7 1539.64 1362.7 1536.03 Q1362.7 1532.42 1360.36 1530.31 Q1358.02 1528.21 1354.02 1528.21 Q1352.14 1528.21 1350.27 1528.62 Q1348.41 1529.04 1346.47 1529.92 L1346.47 1512.56 Z\" fill=\"#000000\" fill-rule=\"evenodd\" fill-opacity=\"1\" /><path clip-path=\"url(#clip560)\" d=\"M 0 0 M1386.58 1515.64 Q1382.97 1515.64 1381.14 1519.2 Q1379.34 1522.75 1379.34 1529.87 Q1379.34 1536.98 1381.14 1540.55 Q1382.97 1544.09 1386.58 1544.09 Q1390.22 1544.09 1392.02 1540.55 Q1393.85 1536.98 1393.85 1529.87 Q1393.85 1522.75 1392.02 1519.2 Q1390.22 1515.64 1386.58 1515.64 M1386.58 1511.93 Q1392.39 1511.93 1395.45 1516.54 Q1398.53 1521.12 1398.53 1529.87 Q1398.53 1538.6 1395.45 1543.21 Q1392.39 1547.79 1386.58 1547.79 Q1380.77 1547.79 1377.7 1543.21 Q1374.64 1538.6 1374.64 1529.87 Q1374.64 1521.12 1377.7 1516.54 Q1380.77 1511.93 1386.58 1511.93 Z\" fill=\"#000000\" fill-rule=\"evenodd\" fill-opacity=\"1\" /><path clip-path=\"url(#clip560)\" d=\"M 0 0 M1590.22 1543.18 L1597.86 1543.18 L1597.86 1516.82 L1589.55 1518.49 L1589.55 1514.23 L1597.81 1512.56 L1602.49 1512.56 L1602.49 1543.18 L1610.12 1543.18 L1610.12 1547.12 L1590.22 1547.12 L1590.22 1543.18 Z\" fill=\"#000000\" fill-rule=\"evenodd\" fill-opacity=\"1\" /><path clip-path=\"url(#clip560)\" d=\"M 0 0 M1619.57 1541.24 L1624.45 1541.24 L1624.45 1547.12 L1619.57 1547.12 L1619.57 1541.24 Z\" fill=\"#000000\" fill-rule=\"evenodd\" fill-opacity=\"1\" /><path clip-path=\"url(#clip560)\" d=\"M 0 0 M1644.64 1515.64 Q1641.03 1515.64 1639.2 1519.2 Q1637.39 1522.75 1637.39 1529.87 Q1637.39 1536.98 1639.2 1540.55 Q1641.03 1544.09 1644.64 1544.09 Q1648.27 1544.09 1650.08 1540.55 Q1651.91 1536.98 1651.91 1529.87 Q1651.91 1522.75 1650.08 1519.2 Q1648.27 1515.64 1644.64 1515.64 M1644.64 1511.93 Q1650.45 1511.93 1653.5 1516.54 Q1656.58 1521.12 1656.58 1529.87 Q1656.58 1538.6 1653.5 1543.21 Q1650.45 1547.79 1644.64 1547.79 Q1638.83 1547.79 1635.75 1543.21 Q1632.69 1538.6 1632.69 1529.87 Q1632.69 1521.12 1635.75 1516.54 Q1638.83 1511.93 1644.64 1511.93 Z\" fill=\"#000000\" fill-rule=\"evenodd\" fill-opacity=\"1\" /><path clip-path=\"url(#clip560)\" d=\"M 0 0 M1674.8 1515.64 Q1671.19 1515.64 1669.36 1519.2 Q1667.56 1522.75 1667.56 1529.87 Q1667.56 1536.98 1669.36 1540.55 Q1671.19 1544.09 1674.8 1544.09 Q1678.43 1544.09 1680.24 1540.55 Q1682.07 1536.98 1682.07 1529.87 Q1682.07 1522.75 1680.24 1519.2 Q1678.43 1515.64 1674.8 1515.64 M1674.8 1511.93 Q1680.61 1511.93 1683.67 1516.54 Q1686.74 1521.12 1686.74 1529.87 Q1686.74 1538.6 1683.67 1543.21 Q1680.61 1547.79 1674.8 1547.79 Q1668.99 1547.79 1665.91 1543.21 Q1662.86 1538.6 1662.86 1529.87 Q1662.86 1521.12 1665.91 1516.54 Q1668.99 1511.93 1674.8 1511.93 Z\" fill=\"#000000\" fill-rule=\"evenodd\" fill-opacity=\"1\" /><path clip-path=\"url(#clip560)\" d=\"M 0 0 M1693.78 1512.56 L1716 1512.56 L1716 1514.55 L1703.46 1547.12 L1698.57 1547.12 L1710.38 1516.5 L1693.78 1516.5 L1693.78 1512.56 Z\" fill=\"#000000\" fill-rule=\"evenodd\" fill-opacity=\"1\" /><path clip-path=\"url(#clip560)\" d=\"M 0 0 M1725.17 1512.56 L1743.53 1512.56 L1743.53 1516.5 L1729.45 1516.5 L1729.45 1524.97 Q1730.47 1524.62 1731.49 1524.46 Q1732.51 1524.27 1733.53 1524.27 Q1739.31 1524.27 1742.69 1527.44 Q1746.07 1530.62 1746.07 1536.03 Q1746.07 1541.61 1742.6 1544.71 Q1739.13 1547.79 1732.81 1547.79 Q1730.63 1547.79 1728.36 1547.42 Q1726.12 1547.05 1723.71 1546.31 L1723.71 1541.61 Q1725.8 1542.74 1728.02 1543.3 Q1730.24 1543.86 1732.72 1543.86 Q1736.72 1543.86 1739.06 1541.75 Q1741.4 1539.64 1741.4 1536.03 Q1741.4 1532.42 1739.06 1530.31 Q1736.72 1528.21 1732.72 1528.21 Q1730.84 1528.21 1728.97 1528.62 Q1727.11 1529.04 1725.17 1529.92 L1725.17 1512.56 Z\" fill=\"#000000\" fill-rule=\"evenodd\" fill-opacity=\"1\" /><path clip-path=\"url(#clip560)\" d=\"M 0 0 M1937.76 1543.18 L1945.4 1543.18 L1945.4 1516.82 L1937.09 1518.49 L1937.09 1514.23 L1945.35 1512.56 L1950.03 1512.56 L1950.03 1543.18 L1957.67 1543.18 L1957.67 1547.12 L1937.76 1547.12 L1937.76 1543.18 Z\" fill=\"#000000\" fill-rule=\"evenodd\" fill-opacity=\"1\" /><path clip-path=\"url(#clip560)\" d=\"M 0 0 M1967.11 1541.24 L1972 1541.24 L1972 1547.12 L1967.11 1547.12 L1967.11 1541.24 Z\" fill=\"#000000\" fill-rule=\"evenodd\" fill-opacity=\"1\" /><path clip-path=\"url(#clip560)\" d=\"M 0 0 M1992.18 1515.64 Q1988.57 1515.64 1986.74 1519.2 Q1984.94 1522.75 1984.94 1529.87 Q1984.94 1536.98 1986.74 1540.55 Q1988.57 1544.09 1992.18 1544.09 Q1995.82 1544.09 1997.62 1540.55 Q1999.45 1536.98 1999.45 1529.87 Q1999.45 1522.75 1997.62 1519.2 Q1995.82 1515.64 1992.18 1515.64 M1992.18 1511.93 Q1997.99 1511.93 2001.05 1516.54 Q2004.13 1521.12 2004.13 1529.87 Q2004.13 1538.6 2001.05 1543.21 Q1997.99 1547.79 1992.18 1547.79 Q1986.37 1547.79 1983.29 1543.21 Q1980.24 1538.6 1980.24 1529.87 Q1980.24 1521.12 1983.29 1516.54 Q1986.37 1511.93 1992.18 1511.93 Z\" fill=\"#000000\" fill-rule=\"evenodd\" fill-opacity=\"1\" /><path clip-path=\"url(#clip560)\" d=\"M 0 0 M2013.15 1543.18 L2020.79 1543.18 L2020.79 1516.82 L2012.48 1518.49 L2012.48 1514.23 L2020.75 1512.56 L2025.42 1512.56 L2025.42 1543.18 L2033.06 1543.18 L2033.06 1547.12 L2013.15 1547.12 L2013.15 1543.18 Z\" fill=\"#000000\" fill-rule=\"evenodd\" fill-opacity=\"1\" /><path clip-path=\"url(#clip560)\" d=\"M 0 0 M2052.51 1515.64 Q2048.9 1515.64 2047.07 1519.2 Q2045.26 1522.75 2045.26 1529.87 Q2045.26 1536.98 2047.07 1540.55 Q2048.9 1544.09 2052.51 1544.09 Q2056.14 1544.09 2057.95 1540.55 Q2059.77 1536.98 2059.77 1529.87 Q2059.77 1522.75 2057.95 1519.2 Q2056.14 1515.64 2052.51 1515.64 M2052.51 1511.93 Q2058.32 1511.93 2061.37 1516.54 Q2064.45 1521.12 2064.45 1529.87 Q2064.45 1538.6 2061.37 1543.21 Q2058.32 1547.79 2052.51 1547.79 Q2046.7 1547.79 2043.62 1543.21 Q2040.56 1538.6 2040.56 1529.87 Q2040.56 1521.12 2043.62 1516.54 Q2046.7 1511.93 2052.51 1511.93 Z\" fill=\"#000000\" fill-rule=\"evenodd\" fill-opacity=\"1\" /><path clip-path=\"url(#clip560)\" d=\"M 0 0 M2082.67 1515.64 Q2079.06 1515.64 2077.23 1519.2 Q2075.42 1522.75 2075.42 1529.87 Q2075.42 1536.98 2077.23 1540.55 Q2079.06 1544.09 2082.67 1544.09 Q2086.3 1544.09 2088.11 1540.55 Q2089.94 1536.98 2089.94 1529.87 Q2089.94 1522.75 2088.11 1519.2 Q2086.3 1515.64 2082.67 1515.64 M2082.67 1511.93 Q2088.48 1511.93 2091.53 1516.54 Q2094.61 1521.12 2094.61 1529.87 Q2094.61 1538.6 2091.53 1543.21 Q2088.48 1547.79 2082.67 1547.79 Q2076.86 1547.79 2073.78 1543.21 Q2070.72 1538.6 2070.72 1529.87 Q2070.72 1521.12 2073.78 1516.54 Q2076.86 1511.93 2082.67 1511.93 Z\" fill=\"#000000\" fill-rule=\"evenodd\" fill-opacity=\"1\" /><polyline clip-path=\"url(#clip562)\" style=\"stroke:#000000; stroke-width:2; stroke-opacity:0.1; fill:none\" points=\"\n",
       "  286.78,1284.63 2352.76,1284.63 \n",
       "  \"/>\n",
       "<polyline clip-path=\"url(#clip562)\" style=\"stroke:#000000; stroke-width:2; stroke-opacity:0.1; fill:none\" points=\"\n",
       "  286.78,1025.53 2352.76,1025.53 \n",
       "  \"/>\n",
       "<polyline clip-path=\"url(#clip562)\" style=\"stroke:#000000; stroke-width:2; stroke-opacity:0.1; fill:none\" points=\"\n",
       "  286.78,766.432 2352.76,766.432 \n",
       "  \"/>\n",
       "<polyline clip-path=\"url(#clip562)\" style=\"stroke:#000000; stroke-width:2; stroke-opacity:0.1; fill:none\" points=\"\n",
       "  286.78,507.334 2352.76,507.334 \n",
       "  \"/>\n",
       "<polyline clip-path=\"url(#clip562)\" style=\"stroke:#000000; stroke-width:2; stroke-opacity:0.1; fill:none\" points=\"\n",
       "  286.78,248.236 2352.76,248.236 \n",
       "  \"/>\n",
       "<polyline clip-path=\"url(#clip560)\" style=\"stroke:#000000; stroke-width:4; stroke-opacity:1; fill:none\" points=\"\n",
       "  286.78,1486.45 286.78,47.2441 \n",
       "  \"/>\n",
       "<polyline clip-path=\"url(#clip560)\" style=\"stroke:#000000; stroke-width:4; stroke-opacity:1; fill:none\" points=\"\n",
       "  286.78,1284.63 311.572,1284.63 \n",
       "  \"/>\n",
       "<polyline clip-path=\"url(#clip560)\" style=\"stroke:#000000; stroke-width:4; stroke-opacity:1; fill:none\" points=\"\n",
       "  286.78,1025.53 311.572,1025.53 \n",
       "  \"/>\n",
       "<polyline clip-path=\"url(#clip560)\" style=\"stroke:#000000; stroke-width:4; stroke-opacity:1; fill:none\" points=\"\n",
       "  286.78,766.432 311.572,766.432 \n",
       "  \"/>\n",
       "<polyline clip-path=\"url(#clip560)\" style=\"stroke:#000000; stroke-width:4; stroke-opacity:1; fill:none\" points=\"\n",
       "  286.78,507.334 311.572,507.334 \n",
       "  \"/>\n",
       "<polyline clip-path=\"url(#clip560)\" style=\"stroke:#000000; stroke-width:4; stroke-opacity:1; fill:none\" points=\"\n",
       "  286.78,248.236 311.572,248.236 \n",
       "  \"/>\n",
       "<path clip-path=\"url(#clip560)\" d=\"M 0 0 M238.835 1270.43 Q235.224 1270.43 233.396 1273.99 Q231.59 1277.53 231.59 1284.66 Q231.59 1291.77 233.396 1295.33 Q235.224 1298.88 238.835 1298.88 Q242.47 1298.88 244.275 1295.33 Q246.104 1291.77 246.104 1284.66 Q246.104 1277.53 244.275 1273.99 Q242.47 1270.43 238.835 1270.43 M238.835 1266.72 Q244.646 1266.72 247.701 1271.33 Q250.78 1275.91 250.78 1284.66 Q250.78 1293.39 247.701 1298 Q244.646 1302.58 238.835 1302.58 Q233.025 1302.58 229.947 1298 Q226.891 1293.39 226.891 1284.66 Q226.891 1275.91 229.947 1271.33 Q233.025 1266.72 238.835 1266.72 Z\" fill=\"#000000\" fill-rule=\"evenodd\" fill-opacity=\"1\" /><path clip-path=\"url(#clip560)\" d=\"M 0 0 M54.5569 1045.32 L62.1958 1045.32 L62.1958 1018.96 L53.8856 1020.62 L53.8856 1016.36 L62.1495 1014.7 L66.8254 1014.7 L66.8254 1045.32 L74.4642 1045.32 L74.4642 1049.26 L54.5569 1049.26 L54.5569 1045.32 Z\" fill=\"#000000\" fill-rule=\"evenodd\" fill-opacity=\"1\" /><path clip-path=\"url(#clip560)\" d=\"M 0 0 M112.08 1023.79 L101.501 1034.42 L112.08 1045 L109.325 1047.8 L98.7002 1037.17 L88.0753 1047.8 L85.3438 1045 L95.8993 1034.42 L85.3438 1023.79 L88.0753 1020.99 L98.7002 1031.62 L109.325 1020.99 L112.08 1023.79 Z\" fill=\"#000000\" fill-rule=\"evenodd\" fill-opacity=\"1\" /><path clip-path=\"url(#clip560)\" d=\"M 0 0 M124.441 1045.32 L132.08 1045.32 L132.08 1018.96 L123.77 1020.62 L123.77 1016.36 L132.033 1014.7 L136.709 1014.7 L136.709 1045.32 L144.348 1045.32 L144.348 1049.26 L124.441 1049.26 L124.441 1045.32 Z\" fill=\"#000000\" fill-rule=\"evenodd\" fill-opacity=\"1\" /><path clip-path=\"url(#clip560)\" d=\"M 0 0 M163.792 1017.78 Q160.181 1017.78 158.353 1021.34 Q156.547 1024.88 156.547 1032.01 Q156.547 1039.12 158.353 1042.68 Q160.181 1046.23 163.792 1046.23 Q167.427 1046.23 169.232 1042.68 Q171.061 1039.12 171.061 1032.01 Q171.061 1024.88 169.232 1021.34 Q167.427 1017.78 163.792 1017.78 M163.792 1014.07 Q169.603 1014.07 172.658 1018.68 Q175.737 1023.26 175.737 1032.01 Q175.737 1040.74 172.658 1045.35 Q169.603 1049.93 163.792 1049.93 Q157.982 1049.93 154.904 1045.35 Q151.848 1040.74 151.848 1032.01 Q151.848 1023.26 154.904 1018.68 Q157.982 1014.07 163.792 1014.07 Z\" fill=\"#000000\" fill-rule=\"evenodd\" fill-opacity=\"1\" /><path clip-path=\"url(#clip560)\" d=\"M 0 0 M175.737 1008.17 L199.848 1008.17 L199.848 1011.37 L175.737 1011.37 L175.737 1008.17 Z\" fill=\"#000000\" fill-rule=\"evenodd\" fill-opacity=\"1\" /><path clip-path=\"url(#clip560)\" d=\"M 0 0 M208.707 1018.65 L214.913 1018.65 L214.913 997.228 L208.161 998.582 L208.161 995.121 L214.876 993.767 L218.675 993.767 L218.675 1018.65 L224.882 1018.65 L224.882 1021.85 L208.707 1021.85 L208.707 1018.65 Z\" fill=\"#000000\" fill-rule=\"evenodd\" fill-opacity=\"1\" /><path clip-path=\"url(#clip560)\" d=\"M 0 0 M242.993 997.077 L233.401 1012.07 L242.993 1012.07 L242.993 997.077 M241.997 993.767 L246.774 993.767 L246.774 1012.07 L250.78 1012.07 L250.78 1015.23 L246.774 1015.23 L246.774 1021.85 L242.993 1021.85 L242.993 1015.23 L230.317 1015.23 L230.317 1011.56 L241.997 993.767 Z\" fill=\"#000000\" fill-rule=\"evenodd\" fill-opacity=\"1\" /><path clip-path=\"url(#clip560)\" d=\"M 0 0 M57.7745 786.224 L74.0939 786.224 L74.0939 790.159 L52.1495 790.159 L52.1495 786.224 Q54.8115 783.47 59.3949 778.84 Q64.0013 774.187 65.1819 772.845 Q67.4272 770.322 68.3068 768.585 Q69.2096 766.826 69.2096 765.136 Q69.2096 762.382 67.2652 760.646 Q65.3439 758.91 62.2421 758.91 Q60.043 758.91 57.5893 759.673 Q55.1588 760.437 52.381 761.988 L52.381 757.266 Q55.2051 756.132 57.6588 755.553 Q60.1124 754.974 62.1495 754.974 Q67.5198 754.974 70.7142 757.66 Q73.9087 760.345 73.9087 764.835 Q73.9087 766.965 73.0985 768.886 Q72.3115 770.785 70.205 773.377 Q69.6263 774.048 66.5245 777.266 Q63.4226 780.46 57.7745 786.224 Z\" fill=\"#000000\" fill-rule=\"evenodd\" fill-opacity=\"1\" /><path clip-path=\"url(#clip560)\" d=\"M 0 0 M112.08 764.697 L101.501 775.322 L112.08 785.9 L109.325 788.701 L98.7002 778.076 L88.0753 788.701 L85.3438 785.9 L95.8993 775.322 L85.3438 764.697 L88.0753 761.896 L98.7002 772.521 L109.325 761.896 L112.08 764.697 Z\" fill=\"#000000\" fill-rule=\"evenodd\" fill-opacity=\"1\" /><path clip-path=\"url(#clip560)\" d=\"M 0 0 M124.441 786.224 L132.08 786.224 L132.08 759.859 L123.77 761.525 L123.77 757.266 L132.033 755.599 L136.709 755.599 L136.709 786.224 L144.348 786.224 L144.348 790.159 L124.441 790.159 L124.441 786.224 Z\" fill=\"#000000\" fill-rule=\"evenodd\" fill-opacity=\"1\" /><path clip-path=\"url(#clip560)\" d=\"M 0 0 M163.792 758.678 Q160.181 758.678 158.353 762.243 Q156.547 765.785 156.547 772.914 Q156.547 780.021 158.353 783.585 Q160.181 787.127 163.792 787.127 Q167.427 787.127 169.232 783.585 Q171.061 780.021 171.061 772.914 Q171.061 765.785 169.232 762.243 Q167.427 758.678 163.792 758.678 M163.792 754.974 Q169.603 754.974 172.658 759.581 Q175.737 764.164 175.737 772.914 Q175.737 781.641 172.658 786.247 Q169.603 790.831 163.792 790.831 Q157.982 790.831 154.904 786.247 Q151.848 781.641 151.848 772.914 Q151.848 764.164 154.904 759.581 Q157.982 754.974 163.792 754.974 Z\" fill=\"#000000\" fill-rule=\"evenodd\" fill-opacity=\"1\" /><path clip-path=\"url(#clip560)\" d=\"M 0 0 M175.737 749.076 L199.848 749.076 L199.848 752.273 L175.737 752.273 L175.737 749.076 Z\" fill=\"#000000\" fill-rule=\"evenodd\" fill-opacity=\"1\" /><path clip-path=\"url(#clip560)\" d=\"M 0 0 M208.707 759.552 L214.913 759.552 L214.913 738.13 L208.161 739.484 L208.161 736.023 L214.876 734.669 L218.675 734.669 L218.675 759.552 L224.882 759.552 L224.882 762.749 L208.707 762.749 L208.707 759.552 Z\" fill=\"#000000\" fill-rule=\"evenodd\" fill-opacity=\"1\" /><path clip-path=\"url(#clip560)\" d=\"M 0 0 M242.993 737.979 L233.401 752.969 L242.993 752.969 L242.993 737.979 M241.997 734.669 L246.774 734.669 L246.774 752.969 L250.78 752.969 L250.78 756.129 L246.774 756.129 L246.774 762.749 L242.993 762.749 L242.993 756.129 L230.317 756.129 L230.317 752.461 L241.997 734.669 Z\" fill=\"#000000\" fill-rule=\"evenodd\" fill-opacity=\"1\" /><path clip-path=\"url(#clip560)\" d=\"M 0 0 M67.9133 512.427 Q71.2698 513.145 73.1448 515.413 Q75.0429 517.682 75.0429 521.015 Q75.0429 526.131 71.5244 528.932 Q68.0059 531.733 61.5245 531.733 Q59.3486 531.733 57.0338 531.293 Q54.7421 530.876 52.2884 530.02 L52.2884 525.506 Q54.2328 526.64 56.5477 527.219 Q58.8625 527.797 61.3856 527.797 Q65.7837 527.797 68.0754 526.061 Q70.3902 524.325 70.3902 521.015 Q70.3902 517.96 68.2374 516.247 Q66.1078 514.51 62.2884 514.51 L58.2606 514.51 L58.2606 510.668 L62.4735 510.668 Q65.9226 510.668 67.7513 509.302 Q69.58 507.913 69.58 505.321 Q69.58 502.659 67.6819 501.247 Q65.8069 499.811 62.2884 499.811 Q60.3671 499.811 58.168 500.228 Q55.969 500.645 53.3301 501.524 L53.3301 497.358 Q55.9921 496.617 58.3069 496.247 Q60.6449 495.876 62.705 495.876 Q68.0291 495.876 71.1309 498.307 Q74.2327 500.714 74.2327 504.835 Q74.2327 507.705 72.5892 509.696 Q70.9457 511.663 67.9133 512.427 Z\" fill=\"#000000\" fill-rule=\"evenodd\" fill-opacity=\"1\" /><path clip-path=\"url(#clip560)\" d=\"M 0 0 M112.08 505.598 L101.501 516.223 L112.08 526.802 L109.325 529.603 L98.7002 518.978 L88.0753 529.603 L85.3438 526.802 L95.8993 516.223 L85.3438 505.598 L88.0753 502.798 L98.7002 513.423 L109.325 502.798 L112.08 505.598 Z\" fill=\"#000000\" fill-rule=\"evenodd\" fill-opacity=\"1\" /><path clip-path=\"url(#clip560)\" d=\"M 0 0 M124.441 527.126 L132.08 527.126 L132.08 500.761 L123.77 502.427 L123.77 498.168 L132.033 496.501 L136.709 496.501 L136.709 527.126 L144.348 527.126 L144.348 531.061 L124.441 531.061 L124.441 527.126 Z\" fill=\"#000000\" fill-rule=\"evenodd\" fill-opacity=\"1\" /><path clip-path=\"url(#clip560)\" d=\"M 0 0 M163.792 499.58 Q160.181 499.58 158.353 503.145 Q156.547 506.686 156.547 513.816 Q156.547 520.922 158.353 524.487 Q160.181 528.029 163.792 528.029 Q167.427 528.029 169.232 524.487 Q171.061 520.922 171.061 513.816 Q171.061 506.686 169.232 503.145 Q167.427 499.58 163.792 499.58 M163.792 495.876 Q169.603 495.876 172.658 500.483 Q175.737 505.066 175.737 513.816 Q175.737 522.543 172.658 527.149 Q169.603 531.733 163.792 531.733 Q157.982 531.733 154.904 527.149 Q151.848 522.543 151.848 513.816 Q151.848 505.066 154.904 500.483 Q157.982 495.876 163.792 495.876 Z\" fill=\"#000000\" fill-rule=\"evenodd\" fill-opacity=\"1\" /><path clip-path=\"url(#clip560)\" d=\"M 0 0 M175.737 489.978 L199.848 489.978 L199.848 493.175 L175.737 493.175 L175.737 489.978 Z\" fill=\"#000000\" fill-rule=\"evenodd\" fill-opacity=\"1\" /><path clip-path=\"url(#clip560)\" d=\"M 0 0 M208.707 500.454 L214.913 500.454 L214.913 479.032 L208.161 480.386 L208.161 476.925 L214.876 475.571 L218.675 475.571 L218.675 500.454 L224.882 500.454 L224.882 503.651 L208.707 503.651 L208.707 500.454 Z\" fill=\"#000000\" fill-rule=\"evenodd\" fill-opacity=\"1\" /><path clip-path=\"url(#clip560)\" d=\"M 0 0 M242.993 478.881 L233.401 493.871 L242.993 493.871 L242.993 478.881 M241.997 475.571 L246.774 475.571 L246.774 493.871 L250.78 493.871 L250.78 497.031 L246.774 497.031 L246.774 503.651 L242.993 503.651 L242.993 497.031 L230.317 497.031 L230.317 493.363 L241.997 475.571 Z\" fill=\"#000000\" fill-rule=\"evenodd\" fill-opacity=\"1\" /><path clip-path=\"url(#clip560)\" d=\"M 0 0 M66.5939 241.477 L54.7884 259.926 L66.5939 259.926 L66.5939 241.477 M65.367 237.403 L71.2466 237.403 L71.2466 259.926 L76.1772 259.926 L76.1772 263.815 L71.2466 263.815 L71.2466 271.963 L66.5939 271.963 L66.5939 263.815 L50.9921 263.815 L50.9921 259.301 L65.367 237.403 Z\" fill=\"#000000\" fill-rule=\"evenodd\" fill-opacity=\"1\" /><path clip-path=\"url(#clip560)\" d=\"M 0 0 M112.08 246.5 L101.501 257.125 L112.08 267.704 L109.325 270.505 L98.7002 259.88 L88.0753 270.505 L85.3438 267.704 L95.8993 257.125 L85.3438 246.5 L88.0753 243.7 L98.7002 254.324 L109.325 243.7 L112.08 246.5 Z\" fill=\"#000000\" fill-rule=\"evenodd\" fill-opacity=\"1\" /><path clip-path=\"url(#clip560)\" d=\"M 0 0 M124.441 268.028 L132.08 268.028 L132.08 241.662 L123.77 243.329 L123.77 239.07 L132.033 237.403 L136.709 237.403 L136.709 268.028 L144.348 268.028 L144.348 271.963 L124.441 271.963 L124.441 268.028 Z\" fill=\"#000000\" fill-rule=\"evenodd\" fill-opacity=\"1\" /><path clip-path=\"url(#clip560)\" d=\"M 0 0 M163.792 240.482 Q160.181 240.482 158.353 244.047 Q156.547 247.588 156.547 254.718 Q156.547 261.824 158.353 265.389 Q160.181 268.931 163.792 268.931 Q167.427 268.931 169.232 265.389 Q171.061 261.824 171.061 254.718 Q171.061 247.588 169.232 244.047 Q167.427 240.482 163.792 240.482 M163.792 236.778 Q169.603 236.778 172.658 241.385 Q175.737 245.968 175.737 254.718 Q175.737 263.445 172.658 268.051 Q169.603 272.635 163.792 272.635 Q157.982 272.635 154.904 268.051 Q151.848 263.445 151.848 254.718 Q151.848 245.968 154.904 241.385 Q157.982 236.778 163.792 236.778 Z\" fill=\"#000000\" fill-rule=\"evenodd\" fill-opacity=\"1\" /><path clip-path=\"url(#clip560)\" d=\"M 0 0 M175.737 230.88 L199.848 230.88 L199.848 234.077 L175.737 234.077 L175.737 230.88 Z\" fill=\"#000000\" fill-rule=\"evenodd\" fill-opacity=\"1\" /><path clip-path=\"url(#clip560)\" d=\"M 0 0 M208.707 241.356 L214.913 241.356 L214.913 219.933 L208.161 221.288 L208.161 217.827 L214.876 216.473 L218.675 216.473 L218.675 241.356 L224.882 241.356 L224.882 244.553 L208.707 244.553 L208.707 241.356 Z\" fill=\"#000000\" fill-rule=\"evenodd\" fill-opacity=\"1\" /><path clip-path=\"url(#clip560)\" d=\"M 0 0 M242.993 219.783 L233.401 234.773 L242.993 234.773 L242.993 219.783 M241.997 216.473 L246.774 216.473 L246.774 234.773 L250.78 234.773 L250.78 237.933 L246.774 237.933 L246.774 244.553 L242.993 244.553 L242.993 237.933 L230.317 237.933 L230.317 234.265 L241.997 216.473 Z\" fill=\"#000000\" fill-rule=\"evenodd\" fill-opacity=\"1\" /><circle clip-path=\"url(#clip562)\" cx=\"345.251\" cy=\"1307.64\" r=\"14\" fill=\"#009af9\" fill-rule=\"evenodd\" fill-opacity=\"1\" stroke=\"#000000\" stroke-opacity=\"1\" stroke-width=\"3.2\"/>\n",
       "<circle clip-path=\"url(#clip562)\" cx=\"484.468\" cy=\"1330.65\" r=\"14\" fill=\"#009af9\" fill-rule=\"evenodd\" fill-opacity=\"1\" stroke=\"#000000\" stroke-opacity=\"1\" stroke-width=\"3.2\"/>\n",
       "<circle clip-path=\"url(#clip562)\" cx=\"623.684\" cy=\"1284.63\" r=\"14\" fill=\"#009af9\" fill-rule=\"evenodd\" fill-opacity=\"1\" stroke=\"#000000\" stroke-opacity=\"1\" stroke-width=\"3.2\"/>\n",
       "<circle clip-path=\"url(#clip562)\" cx=\"762.901\" cy=\"1422.7\" r=\"14\" fill=\"#009af9\" fill-rule=\"evenodd\" fill-opacity=\"1\" stroke=\"#000000\" stroke-opacity=\"1\" stroke-width=\"3.2\"/>\n",
       "<circle clip-path=\"url(#clip562)\" cx=\"902.118\" cy=\"1445.72\" r=\"14\" fill=\"#009af9\" fill-rule=\"evenodd\" fill-opacity=\"1\" stroke=\"#000000\" stroke-opacity=\"1\" stroke-width=\"3.2\"/>\n",
       "<circle clip-path=\"url(#clip562)\" cx=\"1041.33\" cy=\"1238.6\" r=\"14\" fill=\"#009af9\" fill-rule=\"evenodd\" fill-opacity=\"1\" stroke=\"#000000\" stroke-opacity=\"1\" stroke-width=\"3.2\"/>\n",
       "<circle clip-path=\"url(#clip562)\" cx=\"1180.55\" cy=\"1330.65\" r=\"14\" fill=\"#009af9\" fill-rule=\"evenodd\" fill-opacity=\"1\" stroke=\"#000000\" stroke-opacity=\"1\" stroke-width=\"3.2\"/>\n",
       "<circle clip-path=\"url(#clip562)\" cx=\"1319.77\" cy=\"1307.64\" r=\"14\" fill=\"#009af9\" fill-rule=\"evenodd\" fill-opacity=\"1\" stroke=\"#000000\" stroke-opacity=\"1\" stroke-width=\"3.2\"/>\n",
       "<circle clip-path=\"url(#clip562)\" cx=\"1458.98\" cy=\"1330.65\" r=\"14\" fill=\"#009af9\" fill-rule=\"evenodd\" fill-opacity=\"1\" stroke=\"#000000\" stroke-opacity=\"1\" stroke-width=\"3.2\"/>\n",
       "<circle clip-path=\"url(#clip562)\" cx=\"1598.2\" cy=\"1284.63\" r=\"14\" fill=\"#009af9\" fill-rule=\"evenodd\" fill-opacity=\"1\" stroke=\"#000000\" stroke-opacity=\"1\" stroke-width=\"3.2\"/>\n",
       "<circle clip-path=\"url(#clip562)\" cx=\"1737.42\" cy=\"1215.59\" r=\"14\" fill=\"#009af9\" fill-rule=\"evenodd\" fill-opacity=\"1\" stroke=\"#000000\" stroke-opacity=\"1\" stroke-width=\"3.2\"/>\n",
       "<circle clip-path=\"url(#clip562)\" cx=\"1876.63\" cy=\"1376.68\" r=\"14\" fill=\"#009af9\" fill-rule=\"evenodd\" fill-opacity=\"1\" stroke=\"#000000\" stroke-opacity=\"1\" stroke-width=\"3.2\"/>\n",
       "<circle clip-path=\"url(#clip562)\" cx=\"2015.85\" cy=\"1100.53\" r=\"14\" fill=\"#009af9\" fill-rule=\"evenodd\" fill-opacity=\"1\" stroke=\"#000000\" stroke-opacity=\"1\" stroke-width=\"3.2\"/>\n",
       "<circle clip-path=\"url(#clip562)\" cx=\"2155.07\" cy=\"801.365\" r=\"14\" fill=\"#009af9\" fill-rule=\"evenodd\" fill-opacity=\"1\" stroke=\"#000000\" stroke-opacity=\"1\" stroke-width=\"3.2\"/>\n",
       "<circle clip-path=\"url(#clip562)\" cx=\"2294.28\" cy=\"87.9763\" r=\"14\" fill=\"#009af9\" fill-rule=\"evenodd\" fill-opacity=\"1\" stroke=\"#000000\" stroke-opacity=\"1\" stroke-width=\"3.2\"/>\n",
       "<path clip-path=\"url(#clip560)\" d=\"\n",
       "M2001.91 216.178 L2283.89 216.178 L2283.89 95.2176 L2001.91 95.2176  Z\n",
       "  \" fill=\"#ffffff\" fill-rule=\"evenodd\" fill-opacity=\"1\"/>\n",
       "<polyline clip-path=\"url(#clip560)\" style=\"stroke:#000000; stroke-width:4; stroke-opacity:1; fill:none\" points=\"\n",
       "  2001.91,216.178 2283.89,216.178 2283.89,95.2176 2001.91,95.2176 2001.91,216.178 \n",
       "  \"/>\n",
       "<circle clip-path=\"url(#clip560)\" cx=\"2093.73\" cy=\"155.698\" r=\"23\" fill=\"#009af9\" fill-rule=\"evenodd\" fill-opacity=\"1\" stroke=\"#000000\" stroke-opacity=\"1\" stroke-width=\"5.12\"/>\n",
       "<path clip-path=\"url(#clip560)\" d=\"M 0 0 M2199.39 175.385 Q2197.59 180.015 2195.87 181.427 Q2194.16 182.839 2191.29 182.839 L2187.89 182.839 L2187.89 179.274 L2190.39 179.274 Q2192.15 179.274 2193.12 178.44 Q2194.09 177.607 2195.27 174.505 L2196.04 172.561 L2185.55 147.052 L2190.06 147.052 L2198.16 167.329 L2206.27 147.052 L2210.78 147.052 L2199.39 175.385 Z\" fill=\"#000000\" fill-rule=\"evenodd\" fill-opacity=\"1\" /><path clip-path=\"url(#clip560)\" d=\"M 0 0 M2218.07 169.042 L2225.71 169.042 L2225.71 142.677 L2217.4 144.343 L2217.4 140.084 L2225.66 138.418 L2230.34 138.418 L2230.34 169.042 L2237.98 169.042 L2237.98 172.978 L2218.07 172.978 L2218.07 169.042 Z\" fill=\"#000000\" fill-rule=\"evenodd\" fill-opacity=\"1\" /></svg>\n"
      ]
     },
     "execution_count": 11,
     "metadata": {},
     "output_type": "execute_result"
    }
   ],
   "source": [
    "scatter(x, y)"
   ]
  },
  {
   "cell_type": "code",
   "execution_count": 12,
   "metadata": {},
   "outputs": [
    {
     "data": {
      "image/svg+xml": [
       "<?xml version=\"1.0\" encoding=\"utf-8\"?>\n",
       "<svg xmlns=\"http://www.w3.org/2000/svg\" xmlns:xlink=\"http://www.w3.org/1999/xlink\" width=\"600\" height=\"400\" viewBox=\"0 0 2400 1600\">\n",
       "<defs>\n",
       "  <clipPath id=\"clip600\">\n",
       "    <rect x=\"0\" y=\"0\" width=\"2400\" height=\"1600\"/>\n",
       "  </clipPath>\n",
       "</defs>\n",
       "<path clip-path=\"url(#clip600)\" d=\"\n",
       "M0 1600 L2400 1600 L2400 0 L0 0  Z\n",
       "  \" fill=\"#ffffff\" fill-rule=\"evenodd\" fill-opacity=\"1\"/>\n",
       "<defs>\n",
       "  <clipPath id=\"clip601\">\n",
       "    <rect x=\"480\" y=\"0\" width=\"1681\" height=\"1600\"/>\n",
       "  </clipPath>\n",
       "</defs>\n",
       "<path clip-path=\"url(#clip600)\" d=\"\n",
       "M369.025 1486.45 L2352.76 1486.45 L2352.76 47.2441 L369.025 47.2441  Z\n",
       "  \" fill=\"#ffffff\" fill-rule=\"evenodd\" fill-opacity=\"1\"/>\n",
       "<defs>\n",
       "  <clipPath id=\"clip602\">\n",
       "    <rect x=\"369\" y=\"47\" width=\"1985\" height=\"1440\"/>\n",
       "  </clipPath>\n",
       "</defs>\n",
       "<polyline clip-path=\"url(#clip602)\" style=\"stroke:#000000; stroke-width:2; stroke-opacity:0.1; fill:none\" points=\"\n",
       "  425.168,1486.45 425.168,47.2441 \n",
       "  \"/>\n",
       "<polyline clip-path=\"url(#clip602)\" style=\"stroke:#000000; stroke-width:2; stroke-opacity:0.1; fill:none\" points=\"\n",
       "  737.076,1486.45 737.076,47.2441 \n",
       "  \"/>\n",
       "<polyline clip-path=\"url(#clip602)\" style=\"stroke:#000000; stroke-width:2; stroke-opacity:0.1; fill:none\" points=\"\n",
       "  1048.98,1486.45 1048.98,47.2441 \n",
       "  \"/>\n",
       "<polyline clip-path=\"url(#clip602)\" style=\"stroke:#000000; stroke-width:2; stroke-opacity:0.1; fill:none\" points=\"\n",
       "  1360.89,1486.45 1360.89,47.2441 \n",
       "  \"/>\n",
       "<polyline clip-path=\"url(#clip602)\" style=\"stroke:#000000; stroke-width:2; stroke-opacity:0.1; fill:none\" points=\"\n",
       "  1672.8,1486.45 1672.8,47.2441 \n",
       "  \"/>\n",
       "<polyline clip-path=\"url(#clip602)\" style=\"stroke:#000000; stroke-width:2; stroke-opacity:0.1; fill:none\" points=\"\n",
       "  1984.71,1486.45 1984.71,47.2441 \n",
       "  \"/>\n",
       "<polyline clip-path=\"url(#clip602)\" style=\"stroke:#000000; stroke-width:2; stroke-opacity:0.1; fill:none\" points=\"\n",
       "  2296.61,1486.45 2296.61,47.2441 \n",
       "  \"/>\n",
       "<polyline clip-path=\"url(#clip600)\" style=\"stroke:#000000; stroke-width:4; stroke-opacity:1; fill:none\" points=\"\n",
       "  369.025,1486.45 2352.76,1486.45 \n",
       "  \"/>\n",
       "<polyline clip-path=\"url(#clip600)\" style=\"stroke:#000000; stroke-width:4; stroke-opacity:1; fill:none\" points=\"\n",
       "  425.168,1486.45 425.168,1469.18 \n",
       "  \"/>\n",
       "<polyline clip-path=\"url(#clip600)\" style=\"stroke:#000000; stroke-width:4; stroke-opacity:1; fill:none\" points=\"\n",
       "  737.076,1486.45 737.076,1469.18 \n",
       "  \"/>\n",
       "<polyline clip-path=\"url(#clip600)\" style=\"stroke:#000000; stroke-width:4; stroke-opacity:1; fill:none\" points=\"\n",
       "  1048.98,1486.45 1048.98,1469.18 \n",
       "  \"/>\n",
       "<polyline clip-path=\"url(#clip600)\" style=\"stroke:#000000; stroke-width:4; stroke-opacity:1; fill:none\" points=\"\n",
       "  1360.89,1486.45 1360.89,1469.18 \n",
       "  \"/>\n",
       "<polyline clip-path=\"url(#clip600)\" style=\"stroke:#000000; stroke-width:4; stroke-opacity:1; fill:none\" points=\"\n",
       "  1672.8,1486.45 1672.8,1469.18 \n",
       "  \"/>\n",
       "<polyline clip-path=\"url(#clip600)\" style=\"stroke:#000000; stroke-width:4; stroke-opacity:1; fill:none\" points=\"\n",
       "  1984.71,1486.45 1984.71,1469.18 \n",
       "  \"/>\n",
       "<polyline clip-path=\"url(#clip600)\" style=\"stroke:#000000; stroke-width:4; stroke-opacity:1; fill:none\" points=\"\n",
       "  2296.61,1486.45 2296.61,1469.18 \n",
       "  \"/>\n",
       "<path clip-path=\"url(#clip600)\" d=\"M 0 0 M372.888 1515.64 Q369.277 1515.64 367.448 1519.2 Q365.643 1522.75 365.643 1529.87 Q365.643 1536.98 367.448 1540.55 Q369.277 1544.09 372.888 1544.09 Q376.523 1544.09 378.328 1540.55 Q380.157 1536.98 380.157 1529.87 Q380.157 1522.75 378.328 1519.2 Q376.523 1515.64 372.888 1515.64 M372.888 1511.93 Q378.698 1511.93 381.754 1516.54 Q384.833 1521.12 384.833 1529.87 Q384.833 1538.6 381.754 1543.21 Q378.698 1547.79 372.888 1547.79 Q367.078 1547.79 363.999 1543.21 Q360.944 1538.6 360.944 1529.87 Q360.944 1521.12 363.999 1516.54 Q367.078 1511.93 372.888 1511.93 Z\" fill=\"#000000\" fill-rule=\"evenodd\" fill-opacity=\"1\" /><path clip-path=\"url(#clip600)\" d=\"M 0 0 M393.05 1541.24 L397.934 1541.24 L397.934 1547.12 L393.05 1547.12 L393.05 1541.24 Z\" fill=\"#000000\" fill-rule=\"evenodd\" fill-opacity=\"1\" /><path clip-path=\"url(#clip600)\" d=\"M 0 0 M408.258 1546.4 L408.258 1542.14 Q410.018 1542.98 411.823 1543.42 Q413.629 1543.86 415.365 1543.86 Q419.995 1543.86 422.425 1540.75 Q424.879 1537.63 425.226 1531.29 Q423.883 1533.28 421.823 1534.34 Q419.763 1535.41 417.263 1535.41 Q412.078 1535.41 409.045 1532.28 Q406.036 1529.13 406.036 1523.69 Q406.036 1518.37 409.184 1515.15 Q412.333 1511.93 417.564 1511.93 Q423.559 1511.93 426.707 1516.54 Q429.879 1521.12 429.879 1529.87 Q429.879 1538.05 425.99 1542.93 Q422.124 1547.79 415.573 1547.79 Q413.814 1547.79 412.008 1547.44 Q410.203 1547.1 408.258 1546.4 M417.564 1531.75 Q420.712 1531.75 422.541 1529.6 Q424.393 1527.44 424.393 1523.69 Q424.393 1519.97 422.541 1517.81 Q420.712 1515.64 417.564 1515.64 Q414.416 1515.64 412.564 1517.81 Q410.735 1519.97 410.735 1523.69 Q410.735 1527.44 412.564 1529.6 Q414.416 1531.75 417.564 1531.75 Z\" fill=\"#000000\" fill-rule=\"evenodd\" fill-opacity=\"1\" /><path clip-path=\"url(#clip600)\" d=\"M 0 0 M448.281 1530.71 Q444.948 1530.71 443.027 1532.49 Q441.129 1534.27 441.129 1537.4 Q441.129 1540.52 443.027 1542.31 Q444.948 1544.09 448.281 1544.09 Q451.615 1544.09 453.536 1542.31 Q455.457 1540.5 455.457 1537.4 Q455.457 1534.27 453.536 1532.49 Q451.638 1530.71 448.281 1530.71 M443.605 1528.72 Q440.596 1527.98 438.906 1525.92 Q437.24 1523.86 437.24 1520.89 Q437.24 1516.75 440.18 1514.34 Q443.143 1511.93 448.281 1511.93 Q453.443 1511.93 456.383 1514.34 Q459.323 1516.75 459.323 1520.89 Q459.323 1523.86 457.633 1525.92 Q455.967 1527.98 452.98 1528.72 Q456.36 1529.5 458.235 1531.8 Q460.133 1534.09 460.133 1537.4 Q460.133 1542.42 457.054 1545.11 Q453.999 1547.79 448.281 1547.79 Q442.564 1547.79 439.485 1545.11 Q436.43 1542.42 436.43 1537.4 Q436.43 1534.09 438.328 1531.8 Q440.226 1529.5 443.605 1528.72 M441.893 1521.33 Q441.893 1524.02 443.559 1525.52 Q445.249 1527.03 448.281 1527.03 Q451.291 1527.03 452.98 1525.52 Q454.693 1524.02 454.693 1521.33 Q454.693 1518.65 452.98 1517.14 Q451.291 1515.64 448.281 1515.64 Q445.249 1515.64 443.559 1517.14 Q441.893 1518.65 441.893 1521.33 Z\" fill=\"#000000\" fill-rule=\"evenodd\" fill-opacity=\"1\" /><path clip-path=\"url(#clip600)\" d=\"M 0 0 M468.49 1512.56 L486.846 1512.56 L486.846 1516.5 L472.772 1516.5 L472.772 1524.97 Q473.791 1524.62 474.809 1524.46 Q475.828 1524.27 476.846 1524.27 Q482.633 1524.27 486.013 1527.44 Q489.392 1530.62 489.392 1536.03 Q489.392 1541.61 485.92 1544.71 Q482.448 1547.79 476.128 1547.79 Q473.953 1547.79 471.684 1547.42 Q469.439 1547.05 467.031 1546.31 L467.031 1541.61 Q469.115 1542.74 471.337 1543.3 Q473.559 1543.86 476.036 1543.86 Q480.04 1543.86 482.378 1541.75 Q484.716 1539.64 484.716 1536.03 Q484.716 1532.42 482.378 1530.31 Q480.04 1528.21 476.036 1528.21 Q474.161 1528.21 472.286 1528.62 Q470.434 1529.04 468.49 1529.92 L468.49 1512.56 Z\" fill=\"#000000\" fill-rule=\"evenodd\" fill-opacity=\"1\" /><path clip-path=\"url(#clip600)\" d=\"M 0 0 M684.298 1515.64 Q680.687 1515.64 678.858 1519.2 Q677.053 1522.75 677.053 1529.87 Q677.053 1536.98 678.858 1540.55 Q680.687 1544.09 684.298 1544.09 Q687.932 1544.09 689.738 1540.55 Q691.566 1536.98 691.566 1529.87 Q691.566 1522.75 689.738 1519.2 Q687.932 1515.64 684.298 1515.64 M684.298 1511.93 Q690.108 1511.93 693.164 1516.54 Q696.242 1521.12 696.242 1529.87 Q696.242 1538.6 693.164 1543.21 Q690.108 1547.79 684.298 1547.79 Q678.488 1547.79 675.409 1543.21 Q672.354 1538.6 672.354 1529.87 Q672.354 1521.12 675.409 1516.54 Q678.488 1511.93 684.298 1511.93 Z\" fill=\"#000000\" fill-rule=\"evenodd\" fill-opacity=\"1\" /><path clip-path=\"url(#clip600)\" d=\"M 0 0 M704.46 1541.24 L709.344 1541.24 L709.344 1547.12 L704.46 1547.12 L704.46 1541.24 Z\" fill=\"#000000\" fill-rule=\"evenodd\" fill-opacity=\"1\" /><path clip-path=\"url(#clip600)\" d=\"M 0 0 M719.668 1546.4 L719.668 1542.14 Q721.427 1542.98 723.233 1543.42 Q725.039 1543.86 726.775 1543.86 Q731.404 1543.86 733.835 1540.75 Q736.288 1537.63 736.636 1531.29 Q735.293 1533.28 733.233 1534.34 Q731.173 1535.41 728.673 1535.41 Q723.488 1535.41 720.455 1532.28 Q717.446 1529.13 717.446 1523.69 Q717.446 1518.37 720.594 1515.15 Q723.742 1511.93 728.974 1511.93 Q734.969 1511.93 738.117 1516.54 Q741.288 1521.12 741.288 1529.87 Q741.288 1538.05 737.4 1542.93 Q733.534 1547.79 726.983 1547.79 Q725.224 1547.79 723.418 1547.44 Q721.613 1547.1 719.668 1546.4 M728.974 1531.75 Q732.122 1531.75 733.951 1529.6 Q735.802 1527.44 735.802 1523.69 Q735.802 1519.97 733.951 1517.81 Q732.122 1515.64 728.974 1515.64 Q725.826 1515.64 723.974 1517.81 Q722.145 1519.97 722.145 1523.69 Q722.145 1527.44 723.974 1529.6 Q725.826 1531.75 728.974 1531.75 Z\" fill=\"#000000\" fill-rule=\"evenodd\" fill-opacity=\"1\" /><path clip-path=\"url(#clip600)\" d=\"M 0 0 M749.83 1546.4 L749.83 1542.14 Q751.589 1542.98 753.395 1543.42 Q755.2 1543.86 756.937 1543.86 Q761.566 1543.86 763.997 1540.75 Q766.45 1537.63 766.798 1531.29 Q765.455 1533.28 763.395 1534.34 Q761.335 1535.41 758.835 1535.41 Q753.649 1535.41 750.617 1532.28 Q747.608 1529.13 747.608 1523.69 Q747.608 1518.37 750.756 1515.15 Q753.904 1511.93 759.136 1511.93 Q765.131 1511.93 768.279 1516.54 Q771.45 1521.12 771.45 1529.87 Q771.45 1538.05 767.561 1542.93 Q763.696 1547.79 757.145 1547.79 Q755.386 1547.79 753.58 1547.44 Q751.775 1547.1 749.83 1546.4 M759.136 1531.75 Q762.284 1531.75 764.112 1529.6 Q765.964 1527.44 765.964 1523.69 Q765.964 1519.97 764.112 1517.81 Q762.284 1515.64 759.136 1515.64 Q755.987 1515.64 754.136 1517.81 Q752.307 1519.97 752.307 1523.69 Q752.307 1527.44 754.136 1529.6 Q755.987 1531.75 759.136 1531.75 Z\" fill=\"#000000\" fill-rule=\"evenodd\" fill-opacity=\"1\" /><path clip-path=\"url(#clip600)\" d=\"M 0 0 M789.853 1515.64 Q786.242 1515.64 784.413 1519.2 Q782.608 1522.75 782.608 1529.87 Q782.608 1536.98 784.413 1540.55 Q786.242 1544.09 789.853 1544.09 Q793.487 1544.09 795.293 1540.55 Q797.121 1536.98 797.121 1529.87 Q797.121 1522.75 795.293 1519.2 Q793.487 1515.64 789.853 1515.64 M789.853 1511.93 Q795.663 1511.93 798.719 1516.54 Q801.797 1521.12 801.797 1529.87 Q801.797 1538.6 798.719 1543.21 Q795.663 1547.79 789.853 1547.79 Q784.043 1547.79 780.964 1543.21 Q777.909 1538.6 777.909 1529.87 Q777.909 1521.12 780.964 1516.54 Q784.043 1511.93 789.853 1511.93 Z\" fill=\"#000000\" fill-rule=\"evenodd\" fill-opacity=\"1\" /><path clip-path=\"url(#clip600)\" d=\"M 0 0 M996.703 1515.64 Q993.092 1515.64 991.263 1519.2 Q989.458 1522.75 989.458 1529.87 Q989.458 1536.98 991.263 1540.55 Q993.092 1544.09 996.703 1544.09 Q1000.34 1544.09 1002.14 1540.55 Q1003.97 1536.98 1003.97 1529.87 Q1003.97 1522.75 1002.14 1519.2 Q1000.34 1515.64 996.703 1515.64 M996.703 1511.93 Q1002.51 1511.93 1005.57 1516.54 Q1008.65 1521.12 1008.65 1529.87 Q1008.65 1538.6 1005.57 1543.21 Q1002.51 1547.79 996.703 1547.79 Q990.893 1547.79 987.814 1543.21 Q984.759 1538.6 984.759 1529.87 Q984.759 1521.12 987.814 1516.54 Q990.893 1511.93 996.703 1511.93 Z\" fill=\"#000000\" fill-rule=\"evenodd\" fill-opacity=\"1\" /><path clip-path=\"url(#clip600)\" d=\"M 0 0 M1016.87 1541.24 L1021.75 1541.24 L1021.75 1547.12 L1016.87 1547.12 L1016.87 1541.24 Z\" fill=\"#000000\" fill-rule=\"evenodd\" fill-opacity=\"1\" /><path clip-path=\"url(#clip600)\" d=\"M 0 0 M1032.07 1546.4 L1032.07 1542.14 Q1033.83 1542.98 1035.64 1543.42 Q1037.44 1543.86 1039.18 1543.86 Q1043.81 1543.86 1046.24 1540.75 Q1048.69 1537.63 1049.04 1531.29 Q1047.7 1533.28 1045.64 1534.34 Q1043.58 1535.41 1041.08 1535.41 Q1035.89 1535.41 1032.86 1532.28 Q1029.85 1529.13 1029.85 1523.69 Q1029.85 1518.37 1033 1515.15 Q1036.15 1511.93 1041.38 1511.93 Q1047.37 1511.93 1050.52 1516.54 Q1053.69 1521.12 1053.69 1529.87 Q1053.69 1538.05 1049.8 1542.93 Q1045.94 1547.79 1039.39 1547.79 Q1037.63 1547.79 1035.82 1547.44 Q1034.02 1547.1 1032.07 1546.4 M1041.38 1531.75 Q1044.53 1531.75 1046.36 1529.6 Q1048.21 1527.44 1048.21 1523.69 Q1048.21 1519.97 1046.36 1517.81 Q1044.53 1515.64 1041.38 1515.64 Q1038.23 1515.64 1036.38 1517.81 Q1034.55 1519.97 1034.55 1523.69 Q1034.55 1527.44 1036.38 1529.6 Q1038.23 1531.75 1041.38 1531.75 Z\" fill=\"#000000\" fill-rule=\"evenodd\" fill-opacity=\"1\" /><path clip-path=\"url(#clip600)\" d=\"M 0 0 M1062.24 1546.4 L1062.24 1542.14 Q1063.99 1542.98 1065.8 1543.42 Q1067.61 1543.86 1069.34 1543.86 Q1073.97 1543.86 1076.4 1540.75 Q1078.86 1537.63 1079.2 1531.29 Q1077.86 1533.28 1075.8 1534.34 Q1073.74 1535.41 1071.24 1535.41 Q1066.05 1535.41 1063.02 1532.28 Q1060.01 1529.13 1060.01 1523.69 Q1060.01 1518.37 1063.16 1515.15 Q1066.31 1511.93 1071.54 1511.93 Q1077.54 1511.93 1080.68 1516.54 Q1083.86 1521.12 1083.86 1529.87 Q1083.86 1538.05 1079.97 1542.93 Q1076.1 1547.79 1069.55 1547.79 Q1067.79 1547.79 1065.99 1547.44 Q1064.18 1547.1 1062.24 1546.4 M1071.54 1531.75 Q1074.69 1531.75 1076.52 1529.6 Q1078.37 1527.44 1078.37 1523.69 Q1078.37 1519.97 1076.52 1517.81 Q1074.69 1515.64 1071.54 1515.64 Q1068.39 1515.64 1066.54 1517.81 Q1064.71 1519.97 1064.71 1523.69 Q1064.71 1527.44 1066.54 1529.6 Q1068.39 1531.75 1071.54 1531.75 Z\" fill=\"#000000\" fill-rule=\"evenodd\" fill-opacity=\"1\" /><path clip-path=\"url(#clip600)\" d=\"M 0 0 M1092.3 1512.56 L1110.66 1512.56 L1110.66 1516.5 L1096.59 1516.5 L1096.59 1524.97 Q1097.61 1524.62 1098.62 1524.46 Q1099.64 1524.27 1100.66 1524.27 Q1106.45 1524.27 1109.83 1527.44 Q1113.21 1530.62 1113.21 1536.03 Q1113.21 1541.61 1109.73 1544.71 Q1106.26 1547.79 1099.94 1547.79 Q1097.77 1547.79 1095.5 1547.42 Q1093.25 1547.05 1090.85 1546.31 L1090.85 1541.61 Q1092.93 1542.74 1095.15 1543.3 Q1097.37 1543.86 1099.85 1543.86 Q1103.86 1543.86 1106.19 1541.75 Q1108.53 1539.64 1108.53 1536.03 Q1108.53 1532.42 1106.19 1530.31 Q1103.86 1528.21 1099.85 1528.21 Q1097.98 1528.21 1096.1 1528.62 Q1094.25 1529.04 1092.3 1529.92 L1092.3 1512.56 Z\" fill=\"#000000\" fill-rule=\"evenodd\" fill-opacity=\"1\" /><path clip-path=\"url(#clip600)\" d=\"M 0 0 M1297.88 1543.18 L1305.52 1543.18 L1305.52 1516.82 L1297.21 1518.49 L1297.21 1514.23 L1305.47 1512.56 L1310.15 1512.56 L1310.15 1543.18 L1317.79 1543.18 L1317.79 1547.12 L1297.88 1547.12 L1297.88 1543.18 Z\" fill=\"#000000\" fill-rule=\"evenodd\" fill-opacity=\"1\" /><path clip-path=\"url(#clip600)\" d=\"M 0 0 M1327.23 1541.24 L1332.12 1541.24 L1332.12 1547.12 L1327.23 1547.12 L1327.23 1541.24 Z\" fill=\"#000000\" fill-rule=\"evenodd\" fill-opacity=\"1\" /><path clip-path=\"url(#clip600)\" d=\"M 0 0 M1352.3 1515.64 Q1348.69 1515.64 1346.86 1519.2 Q1345.06 1522.75 1345.06 1529.87 Q1345.06 1536.98 1346.86 1540.55 Q1348.69 1544.09 1352.3 1544.09 Q1355.94 1544.09 1357.74 1540.55 Q1359.57 1536.98 1359.57 1529.87 Q1359.57 1522.75 1357.74 1519.2 Q1355.94 1515.64 1352.3 1515.64 M1352.3 1511.93 Q1358.11 1511.93 1361.17 1516.54 Q1364.25 1521.12 1364.25 1529.87 Q1364.25 1538.6 1361.17 1543.21 Q1358.11 1547.79 1352.3 1547.79 Q1346.49 1547.79 1343.41 1543.21 Q1340.36 1538.6 1340.36 1529.87 Q1340.36 1521.12 1343.41 1516.54 Q1346.49 1511.93 1352.3 1511.93 Z\" fill=\"#000000\" fill-rule=\"evenodd\" fill-opacity=\"1\" /><path clip-path=\"url(#clip600)\" d=\"M 0 0 M1382.46 1515.64 Q1378.85 1515.64 1377.02 1519.2 Q1375.22 1522.75 1375.22 1529.87 Q1375.22 1536.98 1377.02 1540.55 Q1378.85 1544.09 1382.46 1544.09 Q1386.1 1544.09 1387.9 1540.55 Q1389.73 1536.98 1389.73 1529.87 Q1389.73 1522.75 1387.9 1519.2 Q1386.1 1515.64 1382.46 1515.64 M1382.46 1511.93 Q1388.27 1511.93 1391.33 1516.54 Q1394.41 1521.12 1394.41 1529.87 Q1394.41 1538.6 1391.33 1543.21 Q1388.27 1547.79 1382.46 1547.79 Q1376.65 1547.79 1373.58 1543.21 Q1370.52 1538.6 1370.52 1529.87 Q1370.52 1521.12 1373.58 1516.54 Q1376.65 1511.93 1382.46 1511.93 Z\" fill=\"#000000\" fill-rule=\"evenodd\" fill-opacity=\"1\" /><path clip-path=\"url(#clip600)\" d=\"M 0 0 M1412.63 1515.64 Q1409.02 1515.64 1407.19 1519.2 Q1405.38 1522.75 1405.38 1529.87 Q1405.38 1536.98 1407.19 1540.55 Q1409.02 1544.09 1412.63 1544.09 Q1416.26 1544.09 1418.07 1540.55 Q1419.89 1536.98 1419.89 1529.87 Q1419.89 1522.75 1418.07 1519.2 Q1416.26 1515.64 1412.63 1515.64 M1412.63 1511.93 Q1418.44 1511.93 1421.49 1516.54 Q1424.57 1521.12 1424.57 1529.87 Q1424.57 1538.6 1421.49 1543.21 Q1418.44 1547.79 1412.63 1547.79 Q1406.82 1547.79 1403.74 1543.21 Q1400.68 1538.6 1400.68 1529.87 Q1400.68 1521.12 1403.74 1516.54 Q1406.82 1511.93 1412.63 1511.93 Z\" fill=\"#000000\" fill-rule=\"evenodd\" fill-opacity=\"1\" /><path clip-path=\"url(#clip600)\" d=\"M 0 0 M1610.29 1543.18 L1617.93 1543.18 L1617.93 1516.82 L1609.62 1518.49 L1609.62 1514.23 L1617.88 1512.56 L1622.55 1512.56 L1622.55 1543.18 L1630.19 1543.18 L1630.19 1547.12 L1610.29 1547.12 L1610.29 1543.18 Z\" fill=\"#000000\" fill-rule=\"evenodd\" fill-opacity=\"1\" /><path clip-path=\"url(#clip600)\" d=\"M 0 0 M1639.64 1541.24 L1644.52 1541.24 L1644.52 1547.12 L1639.64 1547.12 L1639.64 1541.24 Z\" fill=\"#000000\" fill-rule=\"evenodd\" fill-opacity=\"1\" /><path clip-path=\"url(#clip600)\" d=\"M 0 0 M1664.71 1515.64 Q1661.1 1515.64 1659.27 1519.2 Q1657.46 1522.75 1657.46 1529.87 Q1657.46 1536.98 1659.27 1540.55 Q1661.1 1544.09 1664.71 1544.09 Q1668.34 1544.09 1670.15 1540.55 Q1671.98 1536.98 1671.98 1529.87 Q1671.98 1522.75 1670.15 1519.2 Q1668.34 1515.64 1664.71 1515.64 M1664.71 1511.93 Q1670.52 1511.93 1673.57 1516.54 Q1676.65 1521.12 1676.65 1529.87 Q1676.65 1538.6 1673.57 1543.21 Q1670.52 1547.79 1664.71 1547.79 Q1658.9 1547.79 1655.82 1543.21 Q1652.76 1538.6 1652.76 1529.87 Q1652.76 1521.12 1655.82 1516.54 Q1658.9 1511.93 1664.71 1511.93 Z\" fill=\"#000000\" fill-rule=\"evenodd\" fill-opacity=\"1\" /><path clip-path=\"url(#clip600)\" d=\"M 0 0 M1694.87 1515.64 Q1691.26 1515.64 1689.43 1519.2 Q1687.62 1522.75 1687.62 1529.87 Q1687.62 1536.98 1689.43 1540.55 Q1691.26 1544.09 1694.87 1544.09 Q1698.5 1544.09 1700.31 1540.55 Q1702.14 1536.98 1702.14 1529.87 Q1702.14 1522.75 1700.31 1519.2 Q1698.5 1515.64 1694.87 1515.64 M1694.87 1511.93 Q1700.68 1511.93 1703.74 1516.54 Q1706.81 1521.12 1706.81 1529.87 Q1706.81 1538.6 1703.74 1543.21 Q1700.68 1547.79 1694.87 1547.79 Q1689.06 1547.79 1685.98 1543.21 Q1682.93 1538.6 1682.93 1529.87 Q1682.93 1521.12 1685.98 1516.54 Q1689.06 1511.93 1694.87 1511.93 Z\" fill=\"#000000\" fill-rule=\"evenodd\" fill-opacity=\"1\" /><path clip-path=\"url(#clip600)\" d=\"M 0 0 M1715.08 1512.56 L1733.43 1512.56 L1733.43 1516.5 L1719.36 1516.5 L1719.36 1524.97 Q1720.38 1524.62 1721.4 1524.46 Q1722.42 1524.27 1723.43 1524.27 Q1729.22 1524.27 1732.6 1527.44 Q1735.98 1530.62 1735.98 1536.03 Q1735.98 1541.61 1732.51 1544.71 Q1729.04 1547.79 1722.72 1547.79 Q1720.54 1547.79 1718.27 1547.42 Q1716.03 1547.05 1713.62 1546.31 L1713.62 1541.61 Q1715.7 1542.74 1717.92 1543.3 Q1720.15 1543.86 1722.62 1543.86 Q1726.63 1543.86 1728.97 1541.75 Q1731.3 1539.64 1731.3 1536.03 Q1731.3 1532.42 1728.97 1530.31 Q1726.63 1528.21 1722.62 1528.21 Q1720.75 1528.21 1718.87 1528.62 Q1717.02 1529.04 1715.08 1529.92 L1715.08 1512.56 Z\" fill=\"#000000\" fill-rule=\"evenodd\" fill-opacity=\"1\" /><path clip-path=\"url(#clip600)\" d=\"M 0 0 M1921.7 1543.18 L1929.34 1543.18 L1929.34 1516.82 L1921.02 1518.49 L1921.02 1514.23 L1929.29 1512.56 L1933.96 1512.56 L1933.96 1543.18 L1941.6 1543.18 L1941.6 1547.12 L1921.7 1547.12 L1921.7 1543.18 Z\" fill=\"#000000\" fill-rule=\"evenodd\" fill-opacity=\"1\" /><path clip-path=\"url(#clip600)\" d=\"M 0 0 M1951.05 1541.24 L1955.93 1541.24 L1955.93 1547.12 L1951.05 1547.12 L1951.05 1541.24 Z\" fill=\"#000000\" fill-rule=\"evenodd\" fill-opacity=\"1\" /><path clip-path=\"url(#clip600)\" d=\"M 0 0 M1976.12 1515.64 Q1972.51 1515.64 1970.68 1519.2 Q1968.87 1522.75 1968.87 1529.87 Q1968.87 1536.98 1970.68 1540.55 Q1972.51 1544.09 1976.12 1544.09 Q1979.75 1544.09 1981.56 1540.55 Q1983.39 1536.98 1983.39 1529.87 Q1983.39 1522.75 1981.56 1519.2 Q1979.75 1515.64 1976.12 1515.64 M1976.12 1511.93 Q1981.93 1511.93 1984.98 1516.54 Q1988.06 1521.12 1988.06 1529.87 Q1988.06 1538.6 1984.98 1543.21 Q1981.93 1547.79 1976.12 1547.79 Q1970.31 1547.79 1967.23 1543.21 Q1964.17 1538.6 1964.17 1529.87 Q1964.17 1521.12 1967.23 1516.54 Q1970.31 1511.93 1976.12 1511.93 Z\" fill=\"#000000\" fill-rule=\"evenodd\" fill-opacity=\"1\" /><path clip-path=\"url(#clip600)\" d=\"M 0 0 M1997.09 1543.18 L2004.73 1543.18 L2004.73 1516.82 L1996.42 1518.49 L1996.42 1514.23 L2004.68 1512.56 L2009.36 1512.56 L2009.36 1543.18 L2017 1543.18 L2017 1547.12 L1997.09 1547.12 L1997.09 1543.18 Z\" fill=\"#000000\" fill-rule=\"evenodd\" fill-opacity=\"1\" /><path clip-path=\"url(#clip600)\" d=\"M 0 0 M2036.44 1515.64 Q2032.83 1515.64 2031 1519.2 Q2029.2 1522.75 2029.2 1529.87 Q2029.2 1536.98 2031 1540.55 Q2032.83 1544.09 2036.44 1544.09 Q2040.08 1544.09 2041.88 1540.55 Q2043.71 1536.98 2043.71 1529.87 Q2043.71 1522.75 2041.88 1519.2 Q2040.08 1515.64 2036.44 1515.64 M2036.44 1511.93 Q2042.25 1511.93 2045.31 1516.54 Q2048.39 1521.12 2048.39 1529.87 Q2048.39 1538.6 2045.31 1543.21 Q2042.25 1547.79 2036.44 1547.79 Q2030.63 1547.79 2027.55 1543.21 Q2024.5 1538.6 2024.5 1529.87 Q2024.5 1521.12 2027.55 1516.54 Q2030.63 1511.93 2036.44 1511.93 Z\" fill=\"#000000\" fill-rule=\"evenodd\" fill-opacity=\"1\" /><path clip-path=\"url(#clip600)\" d=\"M 0 0 M2234.1 1543.18 L2241.74 1543.18 L2241.74 1516.82 L2233.43 1518.49 L2233.43 1514.23 L2241.69 1512.56 L2246.37 1512.56 L2246.37 1543.18 L2254.01 1543.18 L2254.01 1547.12 L2234.1 1547.12 L2234.1 1543.18 Z\" fill=\"#000000\" fill-rule=\"evenodd\" fill-opacity=\"1\" /><path clip-path=\"url(#clip600)\" d=\"M 0 0 M2263.45 1541.24 L2268.34 1541.24 L2268.34 1547.12 L2263.45 1547.12 L2263.45 1541.24 Z\" fill=\"#000000\" fill-rule=\"evenodd\" fill-opacity=\"1\" /><path clip-path=\"url(#clip600)\" d=\"M 0 0 M2288.52 1515.64 Q2284.91 1515.64 2283.08 1519.2 Q2281.28 1522.75 2281.28 1529.87 Q2281.28 1536.98 2283.08 1540.55 Q2284.91 1544.09 2288.52 1544.09 Q2292.16 1544.09 2293.96 1540.55 Q2295.79 1536.98 2295.79 1529.87 Q2295.79 1522.75 2293.96 1519.2 Q2292.16 1515.64 2288.52 1515.64 M2288.52 1511.93 Q2294.33 1511.93 2297.39 1516.54 Q2300.47 1521.12 2300.47 1529.87 Q2300.47 1538.6 2297.39 1543.21 Q2294.33 1547.79 2288.52 1547.79 Q2282.71 1547.79 2279.63 1543.21 Q2276.58 1538.6 2276.58 1529.87 Q2276.58 1521.12 2279.63 1516.54 Q2282.71 1511.93 2288.52 1511.93 Z\" fill=\"#000000\" fill-rule=\"evenodd\" fill-opacity=\"1\" /><path clip-path=\"url(#clip600)\" d=\"M 0 0 M2309.49 1543.18 L2317.13 1543.18 L2317.13 1516.82 L2308.82 1518.49 L2308.82 1514.23 L2317.09 1512.56 L2321.76 1512.56 L2321.76 1543.18 L2329.4 1543.18 L2329.4 1547.12 L2309.49 1547.12 L2309.49 1543.18 Z\" fill=\"#000000\" fill-rule=\"evenodd\" fill-opacity=\"1\" /><path clip-path=\"url(#clip600)\" d=\"M 0 0 M2338.89 1512.56 L2357.25 1512.56 L2357.25 1516.5 L2343.17 1516.5 L2343.17 1524.97 Q2344.19 1524.62 2345.21 1524.46 Q2346.23 1524.27 2347.25 1524.27 Q2353.04 1524.27 2356.42 1527.44 Q2359.8 1530.62 2359.8 1536.03 Q2359.8 1541.61 2356.32 1544.71 Q2352.85 1547.79 2346.53 1547.79 Q2344.36 1547.79 2342.09 1547.42 Q2339.84 1547.05 2337.43 1546.31 L2337.43 1541.61 Q2339.52 1542.74 2341.74 1543.3 Q2343.96 1543.86 2346.44 1543.86 Q2350.44 1543.86 2352.78 1541.75 Q2355.12 1539.64 2355.12 1536.03 Q2355.12 1532.42 2352.78 1530.31 Q2350.44 1528.21 2346.44 1528.21 Q2344.56 1528.21 2342.69 1528.62 Q2340.84 1529.04 2338.89 1529.92 L2338.89 1512.56 Z\" fill=\"#000000\" fill-rule=\"evenodd\" fill-opacity=\"1\" /><polyline clip-path=\"url(#clip602)\" style=\"stroke:#000000; stroke-width:2; stroke-opacity:0.1; fill:none\" points=\"\n",
       "  369.025,1362.84 2352.76,1362.84 \n",
       "  \"/>\n",
       "<polyline clip-path=\"url(#clip602)\" style=\"stroke:#000000; stroke-width:2; stroke-opacity:0.1; fill:none\" points=\"\n",
       "  369.025,1164.17 2352.76,1164.17 \n",
       "  \"/>\n",
       "<polyline clip-path=\"url(#clip602)\" style=\"stroke:#000000; stroke-width:2; stroke-opacity:0.1; fill:none\" points=\"\n",
       "  369.025,965.509 2352.76,965.509 \n",
       "  \"/>\n",
       "<polyline clip-path=\"url(#clip602)\" style=\"stroke:#000000; stroke-width:2; stroke-opacity:0.1; fill:none\" points=\"\n",
       "  369.025,766.846 2352.76,766.846 \n",
       "  \"/>\n",
       "<polyline clip-path=\"url(#clip602)\" style=\"stroke:#000000; stroke-width:2; stroke-opacity:0.1; fill:none\" points=\"\n",
       "  369.025,568.183 2352.76,568.183 \n",
       "  \"/>\n",
       "<polyline clip-path=\"url(#clip602)\" style=\"stroke:#000000; stroke-width:2; stroke-opacity:0.1; fill:none\" points=\"\n",
       "  369.025,369.519 2352.76,369.519 \n",
       "  \"/>\n",
       "<polyline clip-path=\"url(#clip602)\" style=\"stroke:#000000; stroke-width:2; stroke-opacity:0.1; fill:none\" points=\"\n",
       "  369.025,170.856 2352.76,170.856 \n",
       "  \"/>\n",
       "<polyline clip-path=\"url(#clip600)\" style=\"stroke:#000000; stroke-width:4; stroke-opacity:1; fill:none\" points=\"\n",
       "  369.025,1486.45 369.025,47.2441 \n",
       "  \"/>\n",
       "<polyline clip-path=\"url(#clip600)\" style=\"stroke:#000000; stroke-width:4; stroke-opacity:1; fill:none\" points=\"\n",
       "  369.025,1362.84 392.83,1362.84 \n",
       "  \"/>\n",
       "<polyline clip-path=\"url(#clip600)\" style=\"stroke:#000000; stroke-width:4; stroke-opacity:1; fill:none\" points=\"\n",
       "  369.025,1164.17 392.83,1164.17 \n",
       "  \"/>\n",
       "<polyline clip-path=\"url(#clip600)\" style=\"stroke:#000000; stroke-width:4; stroke-opacity:1; fill:none\" points=\"\n",
       "  369.025,965.509 392.83,965.509 \n",
       "  \"/>\n",
       "<polyline clip-path=\"url(#clip600)\" style=\"stroke:#000000; stroke-width:4; stroke-opacity:1; fill:none\" points=\"\n",
       "  369.025,766.846 392.83,766.846 \n",
       "  \"/>\n",
       "<polyline clip-path=\"url(#clip600)\" style=\"stroke:#000000; stroke-width:4; stroke-opacity:1; fill:none\" points=\"\n",
       "  369.025,568.183 392.83,568.183 \n",
       "  \"/>\n",
       "<polyline clip-path=\"url(#clip600)\" style=\"stroke:#000000; stroke-width:4; stroke-opacity:1; fill:none\" points=\"\n",
       "  369.025,369.519 392.83,369.519 \n",
       "  \"/>\n",
       "<polyline clip-path=\"url(#clip600)\" style=\"stroke:#000000; stroke-width:4; stroke-opacity:1; fill:none\" points=\"\n",
       "  369.025,170.856 392.83,170.856 \n",
       "  \"/>\n",
       "<path clip-path=\"url(#clip600)\" d=\"M 0 0 M51.9137 1369.73 L81.5895 1369.73 L81.5895 1373.67 L51.9137 1373.67 L51.9137 1369.73 Z\" fill=\"#000000\" fill-rule=\"evenodd\" fill-opacity=\"1\" /><path clip-path=\"url(#clip600)\" d=\"M 0 0 M92.4922 1382.63 L100.131 1382.63 L100.131 1356.26 L91.8209 1357.93 L91.8209 1353.67 L100.085 1352 L104.761 1352 L104.761 1382.63 L112.399 1382.63 L112.399 1386.56 L92.4922 1386.56 L92.4922 1382.63 Z\" fill=\"#000000\" fill-rule=\"evenodd\" fill-opacity=\"1\" /><path clip-path=\"url(#clip600)\" d=\"M 0 0 M121.844 1380.68 L126.728 1380.68 L126.728 1386.56 L121.844 1386.56 L121.844 1380.68 Z\" fill=\"#000000\" fill-rule=\"evenodd\" fill-opacity=\"1\" /><path clip-path=\"url(#clip600)\" d=\"M 0 0 M136.96 1352 L155.316 1352 L155.316 1355.94 L141.242 1355.94 L141.242 1364.41 Q142.26 1364.06 143.279 1363.9 Q144.297 1363.72 145.316 1363.72 Q151.103 1363.72 154.483 1366.89 Q157.862 1370.06 157.862 1375.48 Q157.862 1381.05 154.39 1384.16 Q150.918 1387.23 144.598 1387.23 Q142.422 1387.23 140.154 1386.86 Q137.909 1386.49 135.501 1385.75 L135.501 1381.05 Q137.585 1382.19 139.807 1382.74 Q142.029 1383.3 144.506 1383.3 Q148.51 1383.3 150.848 1381.19 Q153.186 1379.09 153.186 1375.48 Q153.186 1371.86 150.848 1369.76 Q148.51 1367.65 144.506 1367.65 Q142.631 1367.65 140.756 1368.07 Q138.904 1368.48 136.96 1369.36 L136.96 1352 Z\" fill=\"#000000\" fill-rule=\"evenodd\" fill-opacity=\"1\" /><path clip-path=\"url(#clip600)\" d=\"M 0 0 M195.246 1361.1 L184.668 1371.73 L195.246 1382.3 L192.492 1385.11 L181.867 1374.48 L171.242 1385.11 L168.51 1382.3 L179.066 1371.73 L168.51 1361.1 L171.242 1358.3 L181.867 1368.92 L192.492 1358.3 L195.246 1361.1 Z\" fill=\"#000000\" fill-rule=\"evenodd\" fill-opacity=\"1\" /><path clip-path=\"url(#clip600)\" d=\"M 0 0 M207.607 1382.63 L215.246 1382.63 L215.246 1356.26 L206.936 1357.93 L206.936 1353.67 L215.2 1352 L219.876 1352 L219.876 1382.63 L227.515 1382.63 L227.515 1386.56 L207.607 1386.56 L207.607 1382.63 Z\" fill=\"#000000\" fill-rule=\"evenodd\" fill-opacity=\"1\" /><path clip-path=\"url(#clip600)\" d=\"M 0 0 M246.959 1355.08 Q243.348 1355.08 241.519 1358.65 Q239.714 1362.19 239.714 1369.32 Q239.714 1376.42 241.519 1379.99 Q243.348 1383.53 246.959 1383.53 Q250.593 1383.53 252.399 1379.99 Q254.227 1376.42 254.227 1369.32 Q254.227 1362.19 252.399 1358.65 Q250.593 1355.08 246.959 1355.08 M246.959 1351.38 Q252.769 1351.38 255.825 1355.98 Q258.903 1360.57 258.903 1369.32 Q258.903 1378.04 255.825 1382.65 Q252.769 1387.23 246.959 1387.23 Q241.149 1387.23 238.07 1382.65 Q235.015 1378.04 235.015 1369.32 Q235.015 1360.57 238.07 1355.98 Q241.149 1351.38 246.959 1351.38 Z\" fill=\"#000000\" fill-rule=\"evenodd\" fill-opacity=\"1\" /><path clip-path=\"url(#clip600)\" d=\"M 0 0 M258.903 1345.48 L283.015 1345.48 L283.015 1348.68 L258.903 1348.68 L258.903 1345.48 Z\" fill=\"#000000\" fill-rule=\"evenodd\" fill-opacity=\"1\" /><path clip-path=\"url(#clip600)\" d=\"M 0 0 M291.873 1355.96 L298.08 1355.96 L298.08 1334.53 L291.328 1335.89 L291.328 1332.43 L298.042 1331.07 L301.841 1331.07 L301.841 1355.96 L308.048 1355.96 L308.048 1359.15 L291.873 1359.15 L291.873 1355.96 Z\" fill=\"#000000\" fill-rule=\"evenodd\" fill-opacity=\"1\" /><path clip-path=\"url(#clip600)\" d=\"M 0 0 M327.232 1344.01 Q329.959 1344.6 331.483 1346.44 Q333.025 1348.28 333.025 1350.99 Q333.025 1355.15 330.166 1357.42 Q327.307 1359.7 322.041 1359.7 Q320.273 1359.7 318.392 1359.34 Q316.53 1359 314.537 1358.31 L314.537 1354.64 Q316.117 1355.56 317.997 1356.03 Q319.878 1356.5 321.928 1356.5 Q325.502 1356.5 327.364 1355.09 Q329.244 1353.68 329.244 1350.99 Q329.244 1348.51 327.495 1347.12 Q325.765 1345.71 322.662 1345.71 L319.389 1345.71 L319.389 1342.58 L322.812 1342.58 Q325.614 1342.58 327.1 1341.47 Q328.586 1340.35 328.586 1338.24 Q328.586 1336.08 327.044 1334.93 Q325.52 1333.76 322.662 1333.76 Q321.101 1333.76 319.314 1334.1 Q317.527 1334.44 315.383 1335.15 L315.383 1331.77 Q317.546 1331.17 319.427 1330.87 Q321.326 1330.57 323 1330.57 Q327.326 1330.57 329.846 1332.54 Q332.366 1334.5 332.366 1337.84 Q332.366 1340.18 331.031 1341.79 Q329.696 1343.39 327.232 1344.01 Z\" fill=\"#000000\" fill-rule=\"evenodd\" fill-opacity=\"1\" /><path clip-path=\"url(#clip600)\" d=\"M 0 0 M51.9137 1171.07 L81.5895 1171.07 L81.5895 1175.01 L51.9137 1175.01 L51.9137 1171.07 Z\" fill=\"#000000\" fill-rule=\"evenodd\" fill-opacity=\"1\" /><path clip-path=\"url(#clip600)\" d=\"M 0 0 M92.4922 1183.96 L100.131 1183.96 L100.131 1157.6 L91.8209 1159.27 L91.8209 1155.01 L100.085 1153.34 L104.761 1153.34 L104.761 1183.96 L112.399 1183.96 L112.399 1187.9 L92.4922 1187.9 L92.4922 1183.96 Z\" fill=\"#000000\" fill-rule=\"evenodd\" fill-opacity=\"1\" /><path clip-path=\"url(#clip600)\" d=\"M 0 0 M121.844 1182.02 L126.728 1182.02 L126.728 1187.9 L121.844 1187.9 L121.844 1182.02 Z\" fill=\"#000000\" fill-rule=\"evenodd\" fill-opacity=\"1\" /><path clip-path=\"url(#clip600)\" d=\"M 0 0 M146.913 1156.42 Q143.302 1156.42 141.473 1159.98 Q139.668 1163.53 139.668 1170.65 Q139.668 1177.76 141.473 1181.33 Q143.302 1184.87 146.913 1184.87 Q150.547 1184.87 152.353 1181.33 Q154.182 1177.76 154.182 1170.65 Q154.182 1163.53 152.353 1159.98 Q150.547 1156.42 146.913 1156.42 M146.913 1152.72 Q152.723 1152.72 155.779 1157.32 Q158.858 1161.9 158.858 1170.65 Q158.858 1179.38 155.779 1183.99 Q152.723 1188.57 146.913 1188.57 Q141.103 1188.57 138.024 1183.99 Q134.969 1179.38 134.969 1170.65 Q134.969 1161.9 138.024 1157.32 Q141.103 1152.72 146.913 1152.72 Z\" fill=\"#000000\" fill-rule=\"evenodd\" fill-opacity=\"1\" /><path clip-path=\"url(#clip600)\" d=\"M 0 0 M195.246 1162.44 L184.668 1173.06 L195.246 1183.64 L192.492 1186.44 L181.867 1175.82 L171.242 1186.44 L168.51 1183.64 L179.066 1173.06 L168.51 1162.44 L171.242 1159.64 L181.867 1170.26 L192.492 1159.64 L195.246 1162.44 Z\" fill=\"#000000\" fill-rule=\"evenodd\" fill-opacity=\"1\" /><path clip-path=\"url(#clip600)\" d=\"M 0 0 M207.607 1183.96 L215.246 1183.96 L215.246 1157.6 L206.936 1159.27 L206.936 1155.01 L215.2 1153.34 L219.876 1153.34 L219.876 1183.96 L227.515 1183.96 L227.515 1187.9 L207.607 1187.9 L207.607 1183.96 Z\" fill=\"#000000\" fill-rule=\"evenodd\" fill-opacity=\"1\" /><path clip-path=\"url(#clip600)\" d=\"M 0 0 M246.959 1156.42 Q243.348 1156.42 241.519 1159.98 Q239.714 1163.53 239.714 1170.65 Q239.714 1177.76 241.519 1181.33 Q243.348 1184.87 246.959 1184.87 Q250.593 1184.87 252.399 1181.33 Q254.227 1177.76 254.227 1170.65 Q254.227 1163.53 252.399 1159.98 Q250.593 1156.42 246.959 1156.42 M246.959 1152.72 Q252.769 1152.72 255.825 1157.32 Q258.903 1161.9 258.903 1170.65 Q258.903 1179.38 255.825 1183.99 Q252.769 1188.57 246.959 1188.57 Q241.149 1188.57 238.07 1183.99 Q235.015 1179.38 235.015 1170.65 Q235.015 1161.9 238.07 1157.32 Q241.149 1152.72 246.959 1152.72 Z\" fill=\"#000000\" fill-rule=\"evenodd\" fill-opacity=\"1\" /><path clip-path=\"url(#clip600)\" d=\"M 0 0 M258.903 1146.82 L283.015 1146.82 L283.015 1150.01 L258.903 1150.01 L258.903 1146.82 Z\" fill=\"#000000\" fill-rule=\"evenodd\" fill-opacity=\"1\" /><path clip-path=\"url(#clip600)\" d=\"M 0 0 M291.873 1157.29 L298.08 1157.29 L298.08 1135.87 L291.328 1137.22 L291.328 1133.76 L298.042 1132.41 L301.841 1132.41 L301.841 1157.29 L308.048 1157.29 L308.048 1160.49 L291.873 1160.49 L291.873 1157.29 Z\" fill=\"#000000\" fill-rule=\"evenodd\" fill-opacity=\"1\" /><path clip-path=\"url(#clip600)\" d=\"M 0 0 M327.232 1145.35 Q329.959 1145.93 331.483 1147.78 Q333.025 1149.62 333.025 1152.33 Q333.025 1156.48 330.166 1158.76 Q327.307 1161.04 322.041 1161.04 Q320.273 1161.04 318.392 1160.68 Q316.53 1160.34 314.537 1159.64 L314.537 1155.98 Q316.117 1156.9 317.997 1157.37 Q319.878 1157.84 321.928 1157.84 Q325.502 1157.84 327.364 1156.43 Q329.244 1155.02 329.244 1152.33 Q329.244 1149.84 327.495 1148.45 Q325.765 1147.04 322.662 1147.04 L319.389 1147.04 L319.389 1143.92 L322.812 1143.92 Q325.614 1143.92 327.1 1142.81 Q328.586 1141.68 328.586 1139.58 Q328.586 1137.41 327.044 1136.27 Q325.52 1135.1 322.662 1135.1 Q321.101 1135.1 319.314 1135.44 Q317.527 1135.78 315.383 1136.49 L315.383 1133.11 Q317.546 1132.5 319.427 1132.2 Q321.326 1131.9 323 1131.9 Q327.326 1131.9 329.846 1133.88 Q332.366 1135.83 332.366 1139.18 Q332.366 1141.51 331.031 1143.13 Q329.696 1144.73 327.232 1145.35 Z\" fill=\"#000000\" fill-rule=\"evenodd\" fill-opacity=\"1\" /><path clip-path=\"url(#clip600)\" d=\"M 0 0 M50.9921 972.408 L80.6679 972.408 L80.6679 976.343 L50.9921 976.343 L50.9921 972.408 Z\" fill=\"#000000\" fill-rule=\"evenodd\" fill-opacity=\"1\" /><path clip-path=\"url(#clip600)\" d=\"M 0 0 M90.8067 954.677 L109.163 954.677 L109.163 958.612 L95.0891 958.612 L95.0891 967.084 Q96.1076 966.737 97.1261 966.575 Q98.1447 966.39 99.1632 966.39 Q104.95 966.39 108.33 969.561 Q111.709 972.732 111.709 978.149 Q111.709 983.728 108.237 986.829 Q104.765 989.908 98.4456 989.908 Q96.2697 989.908 94.0012 989.538 Q91.7558 989.167 89.3484 988.427 L89.3484 983.728 Q91.4317 984.862 93.6539 985.417 Q95.8761 985.973 98.353 985.973 Q102.358 985.973 104.696 983.867 Q107.033 981.76 107.033 978.149 Q107.033 974.538 104.696 972.431 Q102.358 970.325 98.353 970.325 Q96.478 970.325 94.603 970.742 Q92.7512 971.158 90.8067 972.038 L90.8067 954.677 Z\" fill=\"#000000\" fill-rule=\"evenodd\" fill-opacity=\"1\" /><path clip-path=\"url(#clip600)\" d=\"M 0 0 M120.922 983.357 L125.807 983.357 L125.807 989.237 L120.922 989.237 L120.922 983.357 Z\" fill=\"#000000\" fill-rule=\"evenodd\" fill-opacity=\"1\" /><path clip-path=\"url(#clip600)\" d=\"M 0 0 M145.992 957.756 Q142.381 957.756 140.552 961.32 Q138.746 964.862 138.746 971.992 Q138.746 979.098 140.552 982.663 Q142.381 986.204 145.992 986.204 Q149.626 986.204 151.431 982.663 Q153.26 979.098 153.26 971.992 Q153.26 964.862 151.431 961.32 Q149.626 957.756 145.992 957.756 M145.992 954.052 Q151.802 954.052 154.857 958.658 Q157.936 963.242 157.936 971.992 Q157.936 980.718 154.857 985.325 Q151.802 989.908 145.992 989.908 Q140.181 989.908 137.103 985.325 Q134.047 980.718 134.047 971.992 Q134.047 963.242 137.103 958.658 Q140.181 954.052 145.992 954.052 Z\" fill=\"#000000\" fill-rule=\"evenodd\" fill-opacity=\"1\" /><path clip-path=\"url(#clip600)\" d=\"M 0 0 M194.325 963.774 L183.746 974.399 L194.325 984.978 L191.57 987.779 L180.945 977.154 L170.32 987.779 L167.589 984.978 L178.144 974.399 L167.589 963.774 L170.32 960.973 L180.945 971.598 L191.57 960.973 L194.325 963.774 Z\" fill=\"#000000\" fill-rule=\"evenodd\" fill-opacity=\"1\" /><path clip-path=\"url(#clip600)\" d=\"M 0 0 M206.686 985.302 L214.325 985.302 L214.325 958.936 L206.014 960.603 L206.014 956.344 L214.278 954.677 L218.954 954.677 L218.954 985.302 L226.593 985.302 L226.593 989.237 L206.686 989.237 L206.686 985.302 Z\" fill=\"#000000\" fill-rule=\"evenodd\" fill-opacity=\"1\" /><path clip-path=\"url(#clip600)\" d=\"M 0 0 M246.037 957.756 Q242.426 957.756 240.598 961.32 Q238.792 964.862 238.792 971.992 Q238.792 979.098 240.598 982.663 Q242.426 986.204 246.037 986.204 Q249.672 986.204 251.477 982.663 Q253.306 979.098 253.306 971.992 Q253.306 964.862 251.477 961.32 Q249.672 957.756 246.037 957.756 M246.037 954.052 Q251.848 954.052 254.903 958.658 Q257.982 963.242 257.982 971.992 Q257.982 980.718 254.903 985.325 Q251.848 989.908 246.037 989.908 Q240.227 989.908 237.149 985.325 Q234.093 980.718 234.093 971.992 Q234.093 963.242 237.149 958.658 Q240.227 954.052 246.037 954.052 Z\" fill=\"#000000\" fill-rule=\"evenodd\" fill-opacity=\"1\" /><path clip-path=\"url(#clip600)\" d=\"M 0 0 M257.982 948.153 L282.093 948.153 L282.093 951.351 L257.982 951.351 L257.982 948.153 Z\" fill=\"#000000\" fill-rule=\"evenodd\" fill-opacity=\"1\" /><path clip-path=\"url(#clip600)\" d=\"M 0 0 M290.952 958.629 L297.158 958.629 L297.158 937.207 L290.406 938.561 L290.406 935.101 L297.121 933.746 L300.92 933.746 L300.92 958.629 L307.126 958.629 L307.126 961.826 L290.952 961.826 L290.952 958.629 Z\" fill=\"#000000\" fill-rule=\"evenodd\" fill-opacity=\"1\" /><path clip-path=\"url(#clip600)\" d=\"M 0 0 M325.238 937.057 L315.646 952.046 L325.238 952.046 L325.238 937.057 M324.242 933.746 L329.019 933.746 L329.019 952.046 L333.025 952.046 L333.025 955.206 L329.019 955.206 L329.019 961.826 L325.238 961.826 L325.238 955.206 L312.562 955.206 L312.562 951.539 L324.242 933.746 Z\" fill=\"#000000\" fill-rule=\"evenodd\" fill-opacity=\"1\" /><path clip-path=\"url(#clip600)\" d=\"M 0 0 M321.08 752.645 Q317.469 752.645 315.641 756.209 Q313.835 759.751 313.835 766.881 Q313.835 773.987 315.641 777.552 Q317.469 781.094 321.08 781.094 Q324.715 781.094 326.52 777.552 Q328.349 773.987 328.349 766.881 Q328.349 759.751 326.52 756.209 Q324.715 752.645 321.08 752.645 M321.08 748.941 Q326.891 748.941 329.946 753.547 Q333.025 758.131 333.025 766.881 Q333.025 775.608 329.946 780.214 Q326.891 784.797 321.08 784.797 Q315.27 784.797 312.192 780.214 Q309.136 775.608 309.136 766.881 Q309.136 758.131 312.192 753.547 Q315.27 748.941 321.08 748.941 Z\" fill=\"#000000\" fill-rule=\"evenodd\" fill-opacity=\"1\" /><path clip-path=\"url(#clip600)\" d=\"M 0 0 M90.8067 557.35 L109.163 557.35 L109.163 561.285 L95.0891 561.285 L95.0891 569.758 Q96.1076 569.41 97.1261 569.248 Q98.1447 569.063 99.1632 569.063 Q104.95 569.063 108.33 572.234 Q111.709 575.406 111.709 580.822 Q111.709 586.401 108.237 589.503 Q104.765 592.582 98.4456 592.582 Q96.2697 592.582 94.0012 592.211 Q91.7558 591.841 89.3484 591.1 L89.3484 586.401 Q91.4317 587.535 93.6539 588.091 Q95.8761 588.646 98.353 588.646 Q102.358 588.646 104.696 586.54 Q107.033 584.433 107.033 580.822 Q107.033 577.211 104.696 575.105 Q102.358 572.998 98.353 572.998 Q96.478 572.998 94.603 573.415 Q92.7512 573.832 90.8067 574.711 L90.8067 557.35 Z\" fill=\"#000000\" fill-rule=\"evenodd\" fill-opacity=\"1\" /><path clip-path=\"url(#clip600)\" d=\"M 0 0 M120.922 586.031 L125.807 586.031 L125.807 591.91 L120.922 591.91 L120.922 586.031 Z\" fill=\"#000000\" fill-rule=\"evenodd\" fill-opacity=\"1\" /><path clip-path=\"url(#clip600)\" d=\"M 0 0 M145.992 560.429 Q142.381 560.429 140.552 563.994 Q138.746 567.535 138.746 574.665 Q138.746 581.771 140.552 585.336 Q142.381 588.878 145.992 588.878 Q149.626 588.878 151.431 585.336 Q153.26 581.771 153.26 574.665 Q153.26 567.535 151.431 563.994 Q149.626 560.429 145.992 560.429 M145.992 556.725 Q151.802 556.725 154.857 561.332 Q157.936 565.915 157.936 574.665 Q157.936 583.392 154.857 587.998 Q151.802 592.582 145.992 592.582 Q140.181 592.582 137.103 587.998 Q134.047 583.392 134.047 574.665 Q134.047 565.915 137.103 561.332 Q140.181 556.725 145.992 556.725 Z\" fill=\"#000000\" fill-rule=\"evenodd\" fill-opacity=\"1\" /><path clip-path=\"url(#clip600)\" d=\"M 0 0 M194.325 566.447 L183.746 577.072 L194.325 587.651 L191.57 590.452 L180.945 579.827 L170.32 590.452 L167.589 587.651 L178.144 577.072 L167.589 566.447 L170.32 563.647 L180.945 574.272 L191.57 563.647 L194.325 566.447 Z\" fill=\"#000000\" fill-rule=\"evenodd\" fill-opacity=\"1\" /><path clip-path=\"url(#clip600)\" d=\"M 0 0 M206.686 587.975 L214.325 587.975 L214.325 561.61 L206.014 563.276 L206.014 559.017 L214.278 557.35 L218.954 557.35 L218.954 587.975 L226.593 587.975 L226.593 591.91 L206.686 591.91 L206.686 587.975 Z\" fill=\"#000000\" fill-rule=\"evenodd\" fill-opacity=\"1\" /><path clip-path=\"url(#clip600)\" d=\"M 0 0 M246.037 560.429 Q242.426 560.429 240.598 563.994 Q238.792 567.535 238.792 574.665 Q238.792 581.771 240.598 585.336 Q242.426 588.878 246.037 588.878 Q249.672 588.878 251.477 585.336 Q253.306 581.771 253.306 574.665 Q253.306 567.535 251.477 563.994 Q249.672 560.429 246.037 560.429 M246.037 556.725 Q251.848 556.725 254.903 561.332 Q257.982 565.915 257.982 574.665 Q257.982 583.392 254.903 587.998 Q251.848 592.582 246.037 592.582 Q240.227 592.582 237.149 587.998 Q234.093 583.392 234.093 574.665 Q234.093 565.915 237.149 561.332 Q240.227 556.725 246.037 556.725 Z\" fill=\"#000000\" fill-rule=\"evenodd\" fill-opacity=\"1\" /><path clip-path=\"url(#clip600)\" d=\"M 0 0 M257.982 550.827 L282.093 550.827 L282.093 554.024 L257.982 554.024 L257.982 550.827 Z\" fill=\"#000000\" fill-rule=\"evenodd\" fill-opacity=\"1\" /><path clip-path=\"url(#clip600)\" d=\"M 0 0 M290.952 561.303 L297.158 561.303 L297.158 539.881 L290.406 541.235 L290.406 537.774 L297.121 536.42 L300.92 536.42 L300.92 561.303 L307.126 561.303 L307.126 564.5 L290.952 564.5 L290.952 561.303 Z\" fill=\"#000000\" fill-rule=\"evenodd\" fill-opacity=\"1\" /><path clip-path=\"url(#clip600)\" d=\"M 0 0 M325.238 539.73 L315.646 554.72 L325.238 554.72 L325.238 539.73 M324.242 536.42 L329.019 536.42 L329.019 554.72 L333.025 554.72 L333.025 557.88 L329.019 557.88 L329.019 564.5 L325.238 564.5 L325.238 557.88 L312.562 557.88 L312.562 554.212 L324.242 536.42 Z\" fill=\"#000000\" fill-rule=\"evenodd\" fill-opacity=\"1\" /><path clip-path=\"url(#clip600)\" d=\"M 0 0 M92.4922 389.312 L100.131 389.312 L100.131 362.946 L91.8209 364.613 L91.8209 360.354 L100.085 358.687 L104.761 358.687 L104.761 389.312 L112.399 389.312 L112.399 393.247 L92.4922 393.247 L92.4922 389.312 Z\" fill=\"#000000\" fill-rule=\"evenodd\" fill-opacity=\"1\" /><path clip-path=\"url(#clip600)\" d=\"M 0 0 M121.844 387.367 L126.728 387.367 L126.728 393.247 L121.844 393.247 L121.844 387.367 Z\" fill=\"#000000\" fill-rule=\"evenodd\" fill-opacity=\"1\" /><path clip-path=\"url(#clip600)\" d=\"M 0 0 M146.913 361.766 Q143.302 361.766 141.473 365.33 Q139.668 368.872 139.668 376.002 Q139.668 383.108 141.473 386.673 Q143.302 390.215 146.913 390.215 Q150.547 390.215 152.353 386.673 Q154.182 383.108 154.182 376.002 Q154.182 368.872 152.353 365.33 Q150.547 361.766 146.913 361.766 M146.913 358.062 Q152.723 358.062 155.779 362.668 Q158.858 367.252 158.858 376.002 Q158.858 384.729 155.779 389.335 Q152.723 393.918 146.913 393.918 Q141.103 393.918 138.024 389.335 Q134.969 384.729 134.969 376.002 Q134.969 367.252 138.024 362.668 Q141.103 358.062 146.913 358.062 Z\" fill=\"#000000\" fill-rule=\"evenodd\" fill-opacity=\"1\" /><path clip-path=\"url(#clip600)\" d=\"M 0 0 M195.246 367.784 L184.668 378.409 L195.246 388.988 L192.492 391.789 L181.867 381.164 L171.242 391.789 L168.51 388.988 L179.066 378.409 L168.51 367.784 L171.242 364.983 L181.867 375.608 L192.492 364.983 L195.246 367.784 Z\" fill=\"#000000\" fill-rule=\"evenodd\" fill-opacity=\"1\" /><path clip-path=\"url(#clip600)\" d=\"M 0 0 M207.607 389.312 L215.246 389.312 L215.246 362.946 L206.936 364.613 L206.936 360.354 L215.2 358.687 L219.876 358.687 L219.876 389.312 L227.515 389.312 L227.515 393.247 L207.607 393.247 L207.607 389.312 Z\" fill=\"#000000\" fill-rule=\"evenodd\" fill-opacity=\"1\" /><path clip-path=\"url(#clip600)\" d=\"M 0 0 M246.959 361.766 Q243.348 361.766 241.519 365.33 Q239.714 368.872 239.714 376.002 Q239.714 383.108 241.519 386.673 Q243.348 390.215 246.959 390.215 Q250.593 390.215 252.399 386.673 Q254.227 383.108 254.227 376.002 Q254.227 368.872 252.399 365.33 Q250.593 361.766 246.959 361.766 M246.959 358.062 Q252.769 358.062 255.825 362.668 Q258.903 367.252 258.903 376.002 Q258.903 384.729 255.825 389.335 Q252.769 393.918 246.959 393.918 Q241.149 393.918 238.07 389.335 Q235.015 384.729 235.015 376.002 Q235.015 367.252 238.07 362.668 Q241.149 358.062 246.959 358.062 Z\" fill=\"#000000\" fill-rule=\"evenodd\" fill-opacity=\"1\" /><path clip-path=\"url(#clip600)\" d=\"M 0 0 M258.903 352.163 L283.015 352.163 L283.015 355.361 L258.903 355.361 L258.903 352.163 Z\" fill=\"#000000\" fill-rule=\"evenodd\" fill-opacity=\"1\" /><path clip-path=\"url(#clip600)\" d=\"M 0 0 M291.873 362.639 L298.08 362.639 L298.08 341.217 L291.328 342.571 L291.328 339.111 L298.042 337.757 L301.841 337.757 L301.841 362.639 L308.048 362.639 L308.048 365.837 L291.873 365.837 L291.873 362.639 Z\" fill=\"#000000\" fill-rule=\"evenodd\" fill-opacity=\"1\" /><path clip-path=\"url(#clip600)\" d=\"M 0 0 M327.232 350.696 Q329.959 351.279 331.483 353.123 Q333.025 354.966 333.025 357.674 Q333.025 361.831 330.166 364.106 Q327.307 366.382 322.041 366.382 Q320.273 366.382 318.392 366.025 Q316.53 365.686 314.537 364.99 L314.537 361.323 Q316.117 362.244 317.997 362.715 Q319.878 363.185 321.928 363.185 Q325.502 363.185 327.364 361.774 Q329.244 360.364 329.244 357.674 Q329.244 355.191 327.495 353.8 Q325.765 352.389 322.662 352.389 L319.389 352.389 L319.389 349.267 L322.812 349.267 Q325.614 349.267 327.1 348.157 Q328.586 347.029 328.586 344.922 Q328.586 342.759 327.044 341.612 Q325.52 340.446 322.662 340.446 Q321.101 340.446 319.314 340.785 Q317.527 341.123 315.383 341.838 L315.383 338.452 Q317.546 337.851 319.427 337.55 Q321.326 337.249 323 337.249 Q327.326 337.249 329.846 339.224 Q332.366 341.18 332.366 344.527 Q332.366 346.86 331.031 348.477 Q329.696 350.076 327.232 350.696 Z\" fill=\"#000000\" fill-rule=\"evenodd\" fill-opacity=\"1\" /><path clip-path=\"url(#clip600)\" d=\"M 0 0 M92.4922 190.649 L100.131 190.649 L100.131 164.283 L91.8209 165.95 L91.8209 161.69 L100.085 160.024 L104.761 160.024 L104.761 190.649 L112.399 190.649 L112.399 194.584 L92.4922 194.584 L92.4922 190.649 Z\" fill=\"#000000\" fill-rule=\"evenodd\" fill-opacity=\"1\" /><path clip-path=\"url(#clip600)\" d=\"M 0 0 M121.844 188.704 L126.728 188.704 L126.728 194.584 L121.844 194.584 L121.844 188.704 Z\" fill=\"#000000\" fill-rule=\"evenodd\" fill-opacity=\"1\" /><path clip-path=\"url(#clip600)\" d=\"M 0 0 M136.96 160.024 L155.316 160.024 L155.316 163.959 L141.242 163.959 L141.242 172.431 Q142.26 172.084 143.279 171.922 Q144.297 171.737 145.316 171.737 Q151.103 171.737 154.483 174.908 Q157.862 178.079 157.862 183.496 Q157.862 189.074 154.39 192.176 Q150.918 195.255 144.598 195.255 Q142.422 195.255 140.154 194.885 Q137.909 194.514 135.501 193.774 L135.501 189.074 Q137.585 190.209 139.807 190.764 Q142.029 191.32 144.506 191.32 Q148.51 191.32 150.848 189.213 Q153.186 187.107 153.186 183.496 Q153.186 179.885 150.848 177.778 Q148.51 175.672 144.506 175.672 Q142.631 175.672 140.756 176.088 Q138.904 176.505 136.96 177.385 L136.96 160.024 Z\" fill=\"#000000\" fill-rule=\"evenodd\" fill-opacity=\"1\" /><path clip-path=\"url(#clip600)\" d=\"M 0 0 M195.246 169.121 L184.668 179.746 L195.246 190.324 L192.492 193.125 L181.867 182.5 L171.242 193.125 L168.51 190.324 L179.066 179.746 L168.51 169.121 L171.242 166.32 L181.867 176.945 L192.492 166.32 L195.246 169.121 Z\" fill=\"#000000\" fill-rule=\"evenodd\" fill-opacity=\"1\" /><path clip-path=\"url(#clip600)\" d=\"M 0 0 M207.607 190.649 L215.246 190.649 L215.246 164.283 L206.936 165.95 L206.936 161.69 L215.2 160.024 L219.876 160.024 L219.876 190.649 L227.515 190.649 L227.515 194.584 L207.607 194.584 L207.607 190.649 Z\" fill=\"#000000\" fill-rule=\"evenodd\" fill-opacity=\"1\" /><path clip-path=\"url(#clip600)\" d=\"M 0 0 M246.959 163.102 Q243.348 163.102 241.519 166.667 Q239.714 170.209 239.714 177.338 Q239.714 184.445 241.519 188.01 Q243.348 191.551 246.959 191.551 Q250.593 191.551 252.399 188.01 Q254.227 184.445 254.227 177.338 Q254.227 170.209 252.399 166.667 Q250.593 163.102 246.959 163.102 M246.959 159.399 Q252.769 159.399 255.825 164.005 Q258.903 168.588 258.903 177.338 Q258.903 186.065 255.825 190.672 Q252.769 195.255 246.959 195.255 Q241.149 195.255 238.07 190.672 Q235.015 186.065 235.015 177.338 Q235.015 168.588 238.07 164.005 Q241.149 159.399 246.959 159.399 Z\" fill=\"#000000\" fill-rule=\"evenodd\" fill-opacity=\"1\" /><path clip-path=\"url(#clip600)\" d=\"M 0 0 M258.903 153.5 L283.015 153.5 L283.015 156.697 L258.903 156.697 L258.903 153.5 Z\" fill=\"#000000\" fill-rule=\"evenodd\" fill-opacity=\"1\" /><path clip-path=\"url(#clip600)\" d=\"M 0 0 M291.873 163.976 L298.08 163.976 L298.08 142.554 L291.328 143.908 L291.328 140.447 L298.042 139.093 L301.841 139.093 L301.841 163.976 L308.048 163.976 L308.048 167.173 L291.873 167.173 L291.873 163.976 Z\" fill=\"#000000\" fill-rule=\"evenodd\" fill-opacity=\"1\" /><path clip-path=\"url(#clip600)\" d=\"M 0 0 M327.232 152.033 Q329.959 152.616 331.483 154.459 Q333.025 156.302 333.025 159.011 Q333.025 163.167 330.166 165.443 Q327.307 167.719 322.041 167.719 Q320.273 167.719 318.392 167.361 Q316.53 167.023 314.537 166.327 L314.537 162.659 Q316.117 163.581 317.997 164.051 Q319.878 164.521 321.928 164.521 Q325.502 164.521 327.364 163.111 Q329.244 161.7 329.244 159.011 Q329.244 156.528 327.495 155.136 Q325.765 153.726 322.662 153.726 L319.389 153.726 L319.389 150.604 L322.812 150.604 Q325.614 150.604 327.1 149.494 Q328.586 148.366 328.586 146.259 Q328.586 144.096 327.044 142.949 Q325.52 141.783 322.662 141.783 Q321.101 141.783 319.314 142.121 Q317.527 142.46 315.383 143.175 L315.383 139.789 Q317.546 139.187 319.427 138.886 Q321.326 138.586 323 138.586 Q327.326 138.586 329.846 140.56 Q332.366 142.516 332.366 145.864 Q332.366 148.196 331.031 149.814 Q329.696 151.412 327.232 152.033 Z\" fill=\"#000000\" fill-rule=\"evenodd\" fill-opacity=\"1\" /><polyline clip-path=\"url(#clip602)\" style=\"stroke:#009af9; stroke-width:4; stroke-opacity:1; fill:none\" points=\"\n",
       "  425.168,1445.72 429.737,1422.85 434.306,1400.65 438.875,1379.09 443.444,1358.16 464.568,1269.2 485.692,1191.96 506.815,1125.13 527.939,1067.52 549.063,1018.04 \n",
       "  570.187,975.706 591.31,939.642 612.434,909.054 637.823,878.535 663.212,853.811 688.601,833.935 713.99,818.087 756.922,798.531 799.854,785.756 893.126,772.142 \n",
       "  979.115,768.124 1071.3,767.031 1178.12,766.853 1273.04,766.846 1356.27,766.846 1447.02,766.846 1538.31,766.84 1639.24,766.706 1735.28,765.732 1835.13,761.015 \n",
       "  1919.19,748.572 1970.5,733.03 2021.81,707.307 2045.93,690.329 2070.04,669.36 2094.16,643.646 2118.28,612.324 2137.6,582.532 2156.92,547.945 2176.23,507.938 \n",
       "  2195.55,461.82 2214.87,408.833 2234.19,348.145 2253.51,278.845 2272.83,199.936 2278.77,173.549 2284.72,146.117 2290.67,117.604 2296.61,87.9763 \n",
       "  \"/>\n",
       "<circle clip-path=\"url(#clip602)\" cx=\"1236.13\" cy=\"766.846\" r=\"14\" fill=\"#e26f46\" fill-rule=\"evenodd\" fill-opacity=\"1\" stroke=\"#000000\" stroke-opacity=\"1\" stroke-width=\"3.2\"/>\n",
       "<circle clip-path=\"url(#clip602)\" cx=\"1298.51\" cy=\"766.846\" r=\"14\" fill=\"#e26f46\" fill-rule=\"evenodd\" fill-opacity=\"1\" stroke=\"#000000\" stroke-opacity=\"1\" stroke-width=\"3.2\"/>\n",
       "<circle clip-path=\"url(#clip602)\" cx=\"1360.89\" cy=\"766.846\" r=\"14\" fill=\"#e26f46\" fill-rule=\"evenodd\" fill-opacity=\"1\" stroke=\"#000000\" stroke-opacity=\"1\" stroke-width=\"3.2\"/>\n",
       "<circle clip-path=\"url(#clip602)\" cx=\"1423.27\" cy=\"766.846\" r=\"14\" fill=\"#e26f46\" fill-rule=\"evenodd\" fill-opacity=\"1\" stroke=\"#000000\" stroke-opacity=\"1\" stroke-width=\"3.2\"/>\n",
       "<circle clip-path=\"url(#clip602)\" cx=\"1485.65\" cy=\"766.845\" r=\"14\" fill=\"#e26f46\" fill-rule=\"evenodd\" fill-opacity=\"1\" stroke=\"#000000\" stroke-opacity=\"1\" stroke-width=\"3.2\"/>\n",
       "<circle clip-path=\"url(#clip602)\" cx=\"1548.03\" cy=\"766.837\" r=\"14\" fill=\"#e26f46\" fill-rule=\"evenodd\" fill-opacity=\"1\" stroke=\"#000000\" stroke-opacity=\"1\" stroke-width=\"3.2\"/>\n",
       "<circle clip-path=\"url(#clip602)\" cx=\"1610.42\" cy=\"766.781\" r=\"14\" fill=\"#e26f46\" fill-rule=\"evenodd\" fill-opacity=\"1\" stroke=\"#000000\" stroke-opacity=\"1\" stroke-width=\"3.2\"/>\n",
       "<circle clip-path=\"url(#clip602)\" cx=\"1672.8\" cy=\"766.536\" r=\"14\" fill=\"#e26f46\" fill-rule=\"evenodd\" fill-opacity=\"1\" stroke=\"#000000\" stroke-opacity=\"1\" stroke-width=\"3.2\"/>\n",
       "<circle clip-path=\"url(#clip602)\" cx=\"1735.18\" cy=\"765.734\" r=\"14\" fill=\"#e26f46\" fill-rule=\"evenodd\" fill-opacity=\"1\" stroke=\"#000000\" stroke-opacity=\"1\" stroke-width=\"3.2\"/>\n",
       "<circle clip-path=\"url(#clip602)\" cx=\"1797.56\" cy=\"763.574\" r=\"14\" fill=\"#e26f46\" fill-rule=\"evenodd\" fill-opacity=\"1\" stroke=\"#000000\" stroke-opacity=\"1\" stroke-width=\"3.2\"/>\n",
       "<circle clip-path=\"url(#clip602)\" cx=\"1859.94\" cy=\"758.513\" r=\"14\" fill=\"#e26f46\" fill-rule=\"evenodd\" fill-opacity=\"1\" stroke=\"#000000\" stroke-opacity=\"1\" stroke-width=\"3.2\"/>\n",
       "<circle clip-path=\"url(#clip602)\" cx=\"1922.32\" cy=\"747.842\" r=\"14\" fill=\"#e26f46\" fill-rule=\"evenodd\" fill-opacity=\"1\" stroke=\"#000000\" stroke-opacity=\"1\" stroke-width=\"3.2\"/>\n",
       "<circle clip-path=\"url(#clip602)\" cx=\"1984.71\" cy=\"727.113\" r=\"14\" fill=\"#e26f46\" fill-rule=\"evenodd\" fill-opacity=\"1\" stroke=\"#000000\" stroke-opacity=\"1\" stroke-width=\"3.2\"/>\n",
       "<circle clip-path=\"url(#clip602)\" cx=\"2047.09\" cy=\"689.418\" r=\"14\" fill=\"#e26f46\" fill-rule=\"evenodd\" fill-opacity=\"1\" stroke=\"#000000\" stroke-opacity=\"1\" stroke-width=\"3.2\"/>\n",
       "<circle clip-path=\"url(#clip602)\" cx=\"2109.47\" cy=\"624.477\" r=\"14\" fill=\"#e26f46\" fill-rule=\"evenodd\" fill-opacity=\"1\" stroke=\"#000000\" stroke-opacity=\"1\" stroke-width=\"3.2\"/>\n",
       "<path clip-path=\"url(#clip600)\" d=\"\n",
       "M2013.79 276.658 L2286.63 276.658 L2286.63 95.2176 L2013.79 95.2176  Z\n",
       "  \" fill=\"#ffffff\" fill-rule=\"evenodd\" fill-opacity=\"1\"/>\n",
       "<polyline clip-path=\"url(#clip600)\" style=\"stroke:#000000; stroke-width:4; stroke-opacity:1; fill:none\" points=\"\n",
       "  2013.79,276.658 2286.63,276.658 2286.63,95.2176 2013.79,95.2176 2013.79,276.658 \n",
       "  \"/>\n",
       "<polyline clip-path=\"url(#clip600)\" style=\"stroke:#009af9; stroke-width:4; stroke-opacity:1; fill:none\" points=\"\n",
       "  2035.83,155.698 2168.08,155.698 \n",
       "  \"/>\n",
       "<path clip-path=\"url(#clip600)\" d=\"M 0 0 M2203.96 175.385 Q2202.16 180.015 2200.44 181.427 Q2198.73 182.839 2195.86 182.839 L2192.46 182.839 L2192.46 179.274 L2194.96 179.274 Q2196.72 179.274 2197.69 178.44 Q2198.66 177.607 2199.84 174.505 L2200.6 172.561 L2190.12 147.052 L2194.63 147.052 L2202.73 167.329 L2210.84 147.052 L2215.35 147.052 L2203.96 175.385 Z\" fill=\"#000000\" fill-rule=\"evenodd\" fill-opacity=\"1\" /><path clip-path=\"url(#clip600)\" d=\"M 0 0 M2222.64 169.042 L2230.28 169.042 L2230.28 142.677 L2221.97 144.343 L2221.97 140.084 L2230.23 138.418 L2234.91 138.418 L2234.91 169.042 L2242.55 169.042 L2242.55 172.978 L2222.64 172.978 L2222.64 169.042 Z\" fill=\"#000000\" fill-rule=\"evenodd\" fill-opacity=\"1\" /><circle clip-path=\"url(#clip600)\" cx=\"2101.95\" cy=\"216.178\" r=\"23\" fill=\"#e26f46\" fill-rule=\"evenodd\" fill-opacity=\"1\" stroke=\"#000000\" stroke-opacity=\"1\" stroke-width=\"5.12\"/>\n",
       "<path clip-path=\"url(#clip600)\" d=\"M 0 0 M2203.96 235.865 Q2202.16 240.495 2200.44 241.907 Q2198.73 243.319 2195.86 243.319 L2192.46 243.319 L2192.46 239.754 L2194.96 239.754 Q2196.72 239.754 2197.69 238.92 Q2198.66 238.087 2199.84 234.985 L2200.6 233.041 L2190.12 207.532 L2194.63 207.532 L2202.73 227.809 L2210.84 207.532 L2215.35 207.532 L2203.96 235.865 Z\" fill=\"#000000\" fill-rule=\"evenodd\" fill-opacity=\"1\" /><path clip-path=\"url(#clip600)\" d=\"M 0 0 M2225.86 229.522 L2242.18 229.522 L2242.18 233.458 L2220.23 233.458 L2220.23 229.522 Q2222.9 226.768 2227.48 222.138 Q2232.09 217.485 2233.27 216.143 Q2235.51 213.62 2236.39 211.884 Q2237.29 210.124 2237.29 208.435 Q2237.29 205.68 2235.35 203.944 Q2233.43 202.208 2230.33 202.208 Q2228.13 202.208 2225.67 202.972 Q2223.24 203.735 2220.47 205.286 L2220.47 200.564 Q2223.29 199.43 2225.74 198.851 Q2228.2 198.273 2230.23 198.273 Q2235.6 198.273 2238.8 200.958 Q2241.99 203.643 2241.99 208.134 Q2241.99 210.263 2241.18 212.185 Q2240.4 214.083 2238.29 216.675 Q2237.71 217.347 2234.61 220.564 Q2231.51 223.759 2225.86 229.522 Z\" fill=\"#000000\" fill-rule=\"evenodd\" fill-opacity=\"1\" /></svg>\n"
      ]
     },
     "execution_count": 12,
     "metadata": {},
     "output_type": "execute_result"
    }
   ],
   "source": [
    "f(x) = (x - 1)^7\n",
    "y = f.(x)\n",
    "Plots.plot(f, 0.985, 1.015)\n",
    "scatter!(x,y)"
   ]
  },
  {
   "cell_type": "code",
   "execution_count": 13,
   "metadata": {},
   "outputs": [
    {
     "data": {
      "image/svg+xml": [
       "<?xml version=\"1.0\" encoding=\"utf-8\"?>\n",
       "<svg xmlns=\"http://www.w3.org/2000/svg\" xmlns:xlink=\"http://www.w3.org/1999/xlink\" width=\"600\" height=\"400\" viewBox=\"0 0 2400 1600\">\n",
       "<defs>\n",
       "  <clipPath id=\"clip640\">\n",
       "    <rect x=\"0\" y=\"0\" width=\"2400\" height=\"1600\"/>\n",
       "  </clipPath>\n",
       "</defs>\n",
       "<path clip-path=\"url(#clip640)\" d=\"\n",
       "M0 1600 L2400 1600 L2400 0 L0 0  Z\n",
       "  \" fill=\"#ffffff\" fill-rule=\"evenodd\" fill-opacity=\"1\"/>\n",
       "<defs>\n",
       "  <clipPath id=\"clip641\">\n",
       "    <rect x=\"480\" y=\"0\" width=\"1681\" height=\"1600\"/>\n",
       "  </clipPath>\n",
       "</defs>\n",
       "<path clip-path=\"url(#clip640)\" d=\"\n",
       "M285.622 1486.45 L2352.76 1486.45 L2352.76 47.2441 L285.622 47.2441  Z\n",
       "  \" fill=\"#ffffff\" fill-rule=\"evenodd\" fill-opacity=\"1\"/>\n",
       "<defs>\n",
       "  <clipPath id=\"clip642\">\n",
       "    <rect x=\"285\" y=\"47\" width=\"2068\" height=\"1440\"/>\n",
       "  </clipPath>\n",
       "</defs>\n",
       "<polyline clip-path=\"url(#clip642)\" style=\"stroke:#000000; stroke-width:2; stroke-opacity:0.1; fill:none\" points=\"\n",
       "  622.716,1486.45 622.716,47.2441 \n",
       "  \"/>\n",
       "<polyline clip-path=\"url(#clip642)\" style=\"stroke:#000000; stroke-width:2; stroke-opacity:0.1; fill:none\" points=\"\n",
       "  970.952,1486.45 970.952,47.2441 \n",
       "  \"/>\n",
       "<polyline clip-path=\"url(#clip642)\" style=\"stroke:#000000; stroke-width:2; stroke-opacity:0.1; fill:none\" points=\"\n",
       "  1319.19,1486.45 1319.19,47.2441 \n",
       "  \"/>\n",
       "<polyline clip-path=\"url(#clip642)\" style=\"stroke:#000000; stroke-width:2; stroke-opacity:0.1; fill:none\" points=\"\n",
       "  1667.43,1486.45 1667.43,47.2441 \n",
       "  \"/>\n",
       "<polyline clip-path=\"url(#clip642)\" style=\"stroke:#000000; stroke-width:2; stroke-opacity:0.1; fill:none\" points=\"\n",
       "  2015.66,1486.45 2015.66,47.2441 \n",
       "  \"/>\n",
       "<polyline clip-path=\"url(#clip640)\" style=\"stroke:#000000; stroke-width:4; stroke-opacity:1; fill:none\" points=\"\n",
       "  285.622,1486.45 2352.76,1486.45 \n",
       "  \"/>\n",
       "<polyline clip-path=\"url(#clip640)\" style=\"stroke:#000000; stroke-width:4; stroke-opacity:1; fill:none\" points=\"\n",
       "  622.716,1486.45 622.716,1469.18 \n",
       "  \"/>\n",
       "<polyline clip-path=\"url(#clip640)\" style=\"stroke:#000000; stroke-width:4; stroke-opacity:1; fill:none\" points=\"\n",
       "  970.952,1486.45 970.952,1469.18 \n",
       "  \"/>\n",
       "<polyline clip-path=\"url(#clip640)\" style=\"stroke:#000000; stroke-width:4; stroke-opacity:1; fill:none\" points=\"\n",
       "  1319.19,1486.45 1319.19,1469.18 \n",
       "  \"/>\n",
       "<polyline clip-path=\"url(#clip640)\" style=\"stroke:#000000; stroke-width:4; stroke-opacity:1; fill:none\" points=\"\n",
       "  1667.43,1486.45 1667.43,1469.18 \n",
       "  \"/>\n",
       "<polyline clip-path=\"url(#clip640)\" style=\"stroke:#000000; stroke-width:4; stroke-opacity:1; fill:none\" points=\"\n",
       "  2015.66,1486.45 2015.66,1469.18 \n",
       "  \"/>\n",
       "<path clip-path=\"url(#clip640)\" d=\"M 0 0 M544.626 1543.18 L552.265 1543.18 L552.265 1516.82 L543.954 1518.49 L543.954 1514.23 L552.218 1512.56 L556.894 1512.56 L556.894 1543.18 L564.533 1543.18 L564.533 1547.12 L544.626 1547.12 L544.626 1543.18 Z\" fill=\"#000000\" fill-rule=\"evenodd\" fill-opacity=\"1\" /><path clip-path=\"url(#clip640)\" d=\"M 0 0 M573.977 1541.24 L578.862 1541.24 L578.862 1547.12 L573.977 1547.12 L573.977 1541.24 Z\" fill=\"#000000\" fill-rule=\"evenodd\" fill-opacity=\"1\" /><path clip-path=\"url(#clip640)\" d=\"M 0 0 M599.047 1515.64 Q595.436 1515.64 593.607 1519.2 Q591.801 1522.75 591.801 1529.87 Q591.801 1536.98 593.607 1540.55 Q595.436 1544.09 599.047 1544.09 Q602.681 1544.09 604.487 1540.55 Q606.315 1536.98 606.315 1529.87 Q606.315 1522.75 604.487 1519.2 Q602.681 1515.64 599.047 1515.64 M599.047 1511.93 Q604.857 1511.93 607.912 1516.54 Q610.991 1521.12 610.991 1529.87 Q610.991 1538.6 607.912 1543.21 Q604.857 1547.79 599.047 1547.79 Q593.237 1547.79 590.158 1543.21 Q587.102 1538.6 587.102 1529.87 Q587.102 1521.12 590.158 1516.54 Q593.237 1511.93 599.047 1511.93 Z\" fill=\"#000000\" fill-rule=\"evenodd\" fill-opacity=\"1\" /><path clip-path=\"url(#clip640)\" d=\"M 0 0 M629.209 1515.64 Q625.598 1515.64 623.769 1519.2 Q621.963 1522.75 621.963 1529.87 Q621.963 1536.98 623.769 1540.55 Q625.598 1544.09 629.209 1544.09 Q632.843 1544.09 634.648 1540.55 Q636.477 1536.98 636.477 1529.87 Q636.477 1522.75 634.648 1519.2 Q632.843 1515.64 629.209 1515.64 M629.209 1511.93 Q635.019 1511.93 638.074 1516.54 Q641.153 1521.12 641.153 1529.87 Q641.153 1538.6 638.074 1543.21 Q635.019 1547.79 629.209 1547.79 Q623.398 1547.79 620.32 1543.21 Q617.264 1538.6 617.264 1529.87 Q617.264 1521.12 620.32 1516.54 Q623.398 1511.93 629.209 1511.93 Z\" fill=\"#000000\" fill-rule=\"evenodd\" fill-opacity=\"1\" /><path clip-path=\"url(#clip640)\" d=\"M 0 0 M659.371 1515.64 Q655.759 1515.64 653.931 1519.2 Q652.125 1522.75 652.125 1529.87 Q652.125 1536.98 653.931 1540.55 Q655.759 1544.09 659.371 1544.09 Q663.005 1544.09 664.81 1540.55 Q666.639 1536.98 666.639 1529.87 Q666.639 1522.75 664.81 1519.2 Q663.005 1515.64 659.371 1515.64 M659.371 1511.93 Q665.181 1511.93 668.236 1516.54 Q671.315 1521.12 671.315 1529.87 Q671.315 1538.6 668.236 1543.21 Q665.181 1547.79 659.371 1547.79 Q653.56 1547.79 650.482 1543.21 Q647.426 1538.6 647.426 1529.87 Q647.426 1521.12 650.482 1516.54 Q653.56 1511.93 659.371 1511.93 Z\" fill=\"#000000\" fill-rule=\"evenodd\" fill-opacity=\"1\" /><path clip-path=\"url(#clip640)\" d=\"M 0 0 M689.532 1515.64 Q685.921 1515.64 684.093 1519.2 Q682.287 1522.75 682.287 1529.87 Q682.287 1536.98 684.093 1540.55 Q685.921 1544.09 689.532 1544.09 Q693.167 1544.09 694.972 1540.55 Q696.801 1536.98 696.801 1529.87 Q696.801 1522.75 694.972 1519.2 Q693.167 1515.64 689.532 1515.64 M689.532 1511.93 Q695.343 1511.93 698.398 1516.54 Q701.477 1521.12 701.477 1529.87 Q701.477 1538.6 698.398 1543.21 Q695.343 1547.79 689.532 1547.79 Q683.722 1547.79 680.644 1543.21 Q677.588 1538.6 677.588 1529.87 Q677.588 1521.12 680.644 1516.54 Q683.722 1511.93 689.532 1511.93 Z\" fill=\"#000000\" fill-rule=\"evenodd\" fill-opacity=\"1\" /><path clip-path=\"url(#clip640)\" d=\"M 0 0 M893.36 1543.18 L900.999 1543.18 L900.999 1516.82 L892.689 1518.49 L892.689 1514.23 L900.953 1512.56 L905.629 1512.56 L905.629 1543.18 L913.268 1543.18 L913.268 1547.12 L893.36 1547.12 L893.36 1543.18 Z\" fill=\"#000000\" fill-rule=\"evenodd\" fill-opacity=\"1\" /><path clip-path=\"url(#clip640)\" d=\"M 0 0 M922.712 1541.24 L927.596 1541.24 L927.596 1547.12 L922.712 1547.12 L922.712 1541.24 Z\" fill=\"#000000\" fill-rule=\"evenodd\" fill-opacity=\"1\" /><path clip-path=\"url(#clip640)\" d=\"M 0 0 M947.781 1515.64 Q944.17 1515.64 942.341 1519.2 Q940.536 1522.75 940.536 1529.87 Q940.536 1536.98 942.341 1540.55 Q944.17 1544.09 947.781 1544.09 Q951.415 1544.09 953.221 1540.55 Q955.05 1536.98 955.05 1529.87 Q955.05 1522.75 953.221 1519.2 Q951.415 1515.64 947.781 1515.64 M947.781 1511.93 Q953.591 1511.93 956.647 1516.54 Q959.726 1521.12 959.726 1529.87 Q959.726 1538.6 956.647 1543.21 Q953.591 1547.79 947.781 1547.79 Q941.971 1547.79 938.892 1543.21 Q935.837 1538.6 935.837 1529.87 Q935.837 1521.12 938.892 1516.54 Q941.971 1511.93 947.781 1511.93 Z\" fill=\"#000000\" fill-rule=\"evenodd\" fill-opacity=\"1\" /><path clip-path=\"url(#clip640)\" d=\"M 0 0 M977.943 1515.64 Q974.332 1515.64 972.503 1519.2 Q970.698 1522.75 970.698 1529.87 Q970.698 1536.98 972.503 1540.55 Q974.332 1544.09 977.943 1544.09 Q981.577 1544.09 983.383 1540.55 Q985.212 1536.98 985.212 1529.87 Q985.212 1522.75 983.383 1519.2 Q981.577 1515.64 977.943 1515.64 M977.943 1511.93 Q983.753 1511.93 986.809 1516.54 Q989.887 1521.12 989.887 1529.87 Q989.887 1538.6 986.809 1543.21 Q983.753 1547.79 977.943 1547.79 Q972.133 1547.79 969.054 1543.21 Q965.999 1538.6 965.999 1529.87 Q965.999 1521.12 969.054 1516.54 Q972.133 1511.93 977.943 1511.93 Z\" fill=\"#000000\" fill-rule=\"evenodd\" fill-opacity=\"1\" /><path clip-path=\"url(#clip640)\" d=\"M 0 0 M1002.13 1543.18 L1018.45 1543.18 L1018.45 1547.12 L996.508 1547.12 L996.508 1543.18 Q999.17 1540.43 1003.75 1535.8 Q1008.36 1531.15 1009.54 1529.81 Q1011.79 1527.28 1012.67 1525.55 Q1013.57 1523.79 1013.57 1522.1 Q1013.57 1519.34 1011.62 1517.61 Q1009.7 1515.87 1006.6 1515.87 Q1004.4 1515.87 1001.95 1516.63 Q999.517 1517.4 996.739 1518.95 L996.739 1514.23 Q999.563 1513.09 1002.02 1512.51 Q1004.47 1511.93 1006.51 1511.93 Q1011.88 1511.93 1015.07 1514.62 Q1018.27 1517.31 1018.27 1521.8 Q1018.27 1523.93 1017.46 1525.85 Q1016.67 1527.74 1014.56 1530.34 Q1013.98 1531.01 1010.88 1534.23 Q1007.78 1537.42 1002.13 1543.18 Z\" fill=\"#000000\" fill-rule=\"evenodd\" fill-opacity=\"1\" /><path clip-path=\"url(#clip640)\" d=\"M 0 0 M1028.31 1512.56 L1046.67 1512.56 L1046.67 1516.5 L1032.6 1516.5 L1032.6 1524.97 Q1033.61 1524.62 1034.63 1524.46 Q1035.65 1524.27 1036.67 1524.27 Q1042.46 1524.27 1045.84 1527.44 Q1049.22 1530.62 1049.22 1536.03 Q1049.22 1541.61 1045.74 1544.71 Q1042.27 1547.79 1035.95 1547.79 Q1033.78 1547.79 1031.51 1547.42 Q1029.26 1547.05 1026.85 1546.31 L1026.85 1541.61 Q1028.94 1542.74 1031.16 1543.3 Q1033.38 1543.86 1035.86 1543.86 Q1039.86 1543.86 1042.2 1541.75 Q1044.54 1539.64 1044.54 1536.03 Q1044.54 1532.42 1042.2 1530.31 Q1039.86 1528.21 1035.86 1528.21 Q1033.98 1528.21 1032.11 1528.62 Q1030.26 1529.04 1028.31 1529.92 L1028.31 1512.56 Z\" fill=\"#000000\" fill-rule=\"evenodd\" fill-opacity=\"1\" /><path clip-path=\"url(#clip640)\" d=\"M 0 0 M1241.1 1543.18 L1248.74 1543.18 L1248.74 1516.82 L1240.43 1518.49 L1240.43 1514.23 L1248.69 1512.56 L1253.37 1512.56 L1253.37 1543.18 L1261.01 1543.18 L1261.01 1547.12 L1241.1 1547.12 L1241.1 1543.18 Z\" fill=\"#000000\" fill-rule=\"evenodd\" fill-opacity=\"1\" /><path clip-path=\"url(#clip640)\" d=\"M 0 0 M1270.45 1541.24 L1275.34 1541.24 L1275.34 1547.12 L1270.45 1547.12 L1270.45 1541.24 Z\" fill=\"#000000\" fill-rule=\"evenodd\" fill-opacity=\"1\" /><path clip-path=\"url(#clip640)\" d=\"M 0 0 M1295.52 1515.64 Q1291.91 1515.64 1290.08 1519.2 Q1288.27 1522.75 1288.27 1529.87 Q1288.27 1536.98 1290.08 1540.55 Q1291.91 1544.09 1295.52 1544.09 Q1299.15 1544.09 1300.96 1540.55 Q1302.79 1536.98 1302.79 1529.87 Q1302.79 1522.75 1300.96 1519.2 Q1299.15 1515.64 1295.52 1515.64 M1295.52 1511.93 Q1301.33 1511.93 1304.39 1516.54 Q1307.46 1521.12 1307.46 1529.87 Q1307.46 1538.6 1304.39 1543.21 Q1301.33 1547.79 1295.52 1547.79 Q1289.71 1547.79 1286.63 1543.21 Q1283.58 1538.6 1283.58 1529.87 Q1283.58 1521.12 1286.63 1516.54 Q1289.71 1511.93 1295.52 1511.93 Z\" fill=\"#000000\" fill-rule=\"evenodd\" fill-opacity=\"1\" /><path clip-path=\"url(#clip640)\" d=\"M 0 0 M1325.68 1515.64 Q1322.07 1515.64 1320.24 1519.2 Q1318.44 1522.75 1318.44 1529.87 Q1318.44 1536.98 1320.24 1540.55 Q1322.07 1544.09 1325.68 1544.09 Q1329.32 1544.09 1331.12 1540.55 Q1332.95 1536.98 1332.95 1529.87 Q1332.95 1522.75 1331.12 1519.2 Q1329.32 1515.64 1325.68 1515.64 M1325.68 1511.93 Q1331.49 1511.93 1334.55 1516.54 Q1337.63 1521.12 1337.63 1529.87 Q1337.63 1538.6 1334.55 1543.21 Q1331.49 1547.79 1325.68 1547.79 Q1319.87 1547.79 1316.79 1543.21 Q1313.74 1538.6 1313.74 1529.87 Q1313.74 1521.12 1316.79 1516.54 Q1319.87 1511.93 1325.68 1511.93 Z\" fill=\"#000000\" fill-rule=\"evenodd\" fill-opacity=\"1\" /><path clip-path=\"url(#clip640)\" d=\"M 0 0 M1345.89 1512.56 L1364.25 1512.56 L1364.25 1516.5 L1350.17 1516.5 L1350.17 1524.97 Q1351.19 1524.62 1352.21 1524.46 Q1353.23 1524.27 1354.25 1524.27 Q1360.03 1524.27 1363.41 1527.44 Q1366.79 1530.62 1366.79 1536.03 Q1366.79 1541.61 1363.32 1544.71 Q1359.85 1547.79 1353.53 1547.79 Q1351.35 1547.79 1349.08 1547.42 Q1346.84 1547.05 1344.43 1546.31 L1344.43 1541.61 Q1346.52 1542.74 1348.74 1543.3 Q1350.96 1543.86 1353.44 1543.86 Q1357.44 1543.86 1359.78 1541.75 Q1362.12 1539.64 1362.12 1536.03 Q1362.12 1532.42 1359.78 1530.31 Q1357.44 1528.21 1353.44 1528.21 Q1351.56 1528.21 1349.69 1528.62 Q1347.83 1529.04 1345.89 1529.92 L1345.89 1512.56 Z\" fill=\"#000000\" fill-rule=\"evenodd\" fill-opacity=\"1\" /><path clip-path=\"url(#clip640)\" d=\"M 0 0 M1386.01 1515.64 Q1382.39 1515.64 1380.57 1519.2 Q1378.76 1522.75 1378.76 1529.87 Q1378.76 1536.98 1380.57 1540.55 Q1382.39 1544.09 1386.01 1544.09 Q1389.64 1544.09 1391.45 1540.55 Q1393.27 1536.98 1393.27 1529.87 Q1393.27 1522.75 1391.45 1519.2 Q1389.64 1515.64 1386.01 1515.64 M1386.01 1511.93 Q1391.82 1511.93 1394.87 1516.54 Q1397.95 1521.12 1397.95 1529.87 Q1397.95 1538.6 1394.87 1543.21 Q1391.82 1547.79 1386.01 1547.79 Q1380.2 1547.79 1377.12 1543.21 Q1374.06 1538.6 1374.06 1529.87 Q1374.06 1521.12 1377.12 1516.54 Q1380.2 1511.93 1386.01 1511.93 Z\" fill=\"#000000\" fill-rule=\"evenodd\" fill-opacity=\"1\" /><path clip-path=\"url(#clip640)\" d=\"M 0 0 M1589.83 1543.18 L1597.47 1543.18 L1597.47 1516.82 L1589.16 1518.49 L1589.16 1514.23 L1597.43 1512.56 L1602.1 1512.56 L1602.1 1543.18 L1609.74 1543.18 L1609.74 1547.12 L1589.83 1547.12 L1589.83 1543.18 Z\" fill=\"#000000\" fill-rule=\"evenodd\" fill-opacity=\"1\" /><path clip-path=\"url(#clip640)\" d=\"M 0 0 M1619.19 1541.24 L1624.07 1541.24 L1624.07 1547.12 L1619.19 1547.12 L1619.19 1541.24 Z\" fill=\"#000000\" fill-rule=\"evenodd\" fill-opacity=\"1\" /><path clip-path=\"url(#clip640)\" d=\"M 0 0 M1644.25 1515.64 Q1640.64 1515.64 1638.81 1519.2 Q1637.01 1522.75 1637.01 1529.87 Q1637.01 1536.98 1638.81 1540.55 Q1640.64 1544.09 1644.25 1544.09 Q1647.89 1544.09 1649.69 1540.55 Q1651.52 1536.98 1651.52 1529.87 Q1651.52 1522.75 1649.69 1519.2 Q1647.89 1515.64 1644.25 1515.64 M1644.25 1511.93 Q1650.06 1511.93 1653.12 1516.54 Q1656.2 1521.12 1656.2 1529.87 Q1656.2 1538.6 1653.12 1543.21 Q1650.06 1547.79 1644.25 1547.79 Q1638.44 1547.79 1635.37 1543.21 Q1632.31 1538.6 1632.31 1529.87 Q1632.31 1521.12 1635.37 1516.54 Q1638.44 1511.93 1644.25 1511.93 Z\" fill=\"#000000\" fill-rule=\"evenodd\" fill-opacity=\"1\" /><path clip-path=\"url(#clip640)\" d=\"M 0 0 M1674.42 1515.64 Q1670.81 1515.64 1668.98 1519.2 Q1667.17 1522.75 1667.17 1529.87 Q1667.17 1536.98 1668.98 1540.55 Q1670.81 1544.09 1674.42 1544.09 Q1678.05 1544.09 1679.86 1540.55 Q1681.69 1536.98 1681.69 1529.87 Q1681.69 1522.75 1679.86 1519.2 Q1678.05 1515.64 1674.42 1515.64 M1674.42 1511.93 Q1680.23 1511.93 1683.28 1516.54 Q1686.36 1521.12 1686.36 1529.87 Q1686.36 1538.6 1683.28 1543.21 Q1680.23 1547.79 1674.42 1547.79 Q1668.61 1547.79 1665.53 1543.21 Q1662.47 1538.6 1662.47 1529.87 Q1662.47 1521.12 1665.53 1516.54 Q1668.61 1511.93 1674.42 1511.93 Z\" fill=\"#000000\" fill-rule=\"evenodd\" fill-opacity=\"1\" /><path clip-path=\"url(#clip640)\" d=\"M 0 0 M1693.4 1512.56 L1715.62 1512.56 L1715.62 1514.55 L1703.07 1547.12 L1698.19 1547.12 L1710 1516.5 L1693.4 1516.5 L1693.4 1512.56 Z\" fill=\"#000000\" fill-rule=\"evenodd\" fill-opacity=\"1\" /><path clip-path=\"url(#clip640)\" d=\"M 0 0 M1724.79 1512.56 L1743.14 1512.56 L1743.14 1516.5 L1729.07 1516.5 L1729.07 1524.97 Q1730.09 1524.62 1731.11 1524.46 Q1732.12 1524.27 1733.14 1524.27 Q1738.93 1524.27 1742.31 1527.44 Q1745.69 1530.62 1745.69 1536.03 Q1745.69 1541.61 1742.22 1544.71 Q1738.75 1547.79 1732.43 1547.79 Q1730.25 1547.79 1727.98 1547.42 Q1725.74 1547.05 1723.33 1546.31 L1723.33 1541.61 Q1725.41 1542.74 1727.63 1543.3 Q1729.86 1543.86 1732.33 1543.86 Q1736.34 1543.86 1738.68 1541.75 Q1741.01 1539.64 1741.01 1536.03 Q1741.01 1532.42 1738.68 1530.31 Q1736.34 1528.21 1732.33 1528.21 Q1730.46 1528.21 1728.58 1528.62 Q1726.73 1529.04 1724.79 1529.92 L1724.79 1512.56 Z\" fill=\"#000000\" fill-rule=\"evenodd\" fill-opacity=\"1\" /><path clip-path=\"url(#clip640)\" d=\"M 0 0 M1937.57 1543.18 L1945.21 1543.18 L1945.21 1516.82 L1936.9 1518.49 L1936.9 1514.23 L1945.17 1512.56 L1949.84 1512.56 L1949.84 1543.18 L1957.48 1543.18 L1957.48 1547.12 L1937.57 1547.12 L1937.57 1543.18 Z\" fill=\"#000000\" fill-rule=\"evenodd\" fill-opacity=\"1\" /><path clip-path=\"url(#clip640)\" d=\"M 0 0 M1966.92 1541.24 L1971.81 1541.24 L1971.81 1547.12 L1966.92 1547.12 L1966.92 1541.24 Z\" fill=\"#000000\" fill-rule=\"evenodd\" fill-opacity=\"1\" /><path clip-path=\"url(#clip640)\" d=\"M 0 0 M1991.99 1515.64 Q1988.38 1515.64 1986.55 1519.2 Q1984.75 1522.75 1984.75 1529.87 Q1984.75 1536.98 1986.55 1540.55 Q1988.38 1544.09 1991.99 1544.09 Q1995.63 1544.09 1997.43 1540.55 Q1999.26 1536.98 1999.26 1529.87 Q1999.26 1522.75 1997.43 1519.2 Q1995.63 1515.64 1991.99 1515.64 M1991.99 1511.93 Q1997.8 1511.93 2000.86 1516.54 Q2003.94 1521.12 2003.94 1529.87 Q2003.94 1538.6 2000.86 1543.21 Q1997.8 1547.79 1991.99 1547.79 Q1986.18 1547.79 1983.11 1543.21 Q1980.05 1538.6 1980.05 1529.87 Q1980.05 1521.12 1983.11 1516.54 Q1986.18 1511.93 1991.99 1511.93 Z\" fill=\"#000000\" fill-rule=\"evenodd\" fill-opacity=\"1\" /><path clip-path=\"url(#clip640)\" d=\"M 0 0 M2012.97 1543.18 L2020.6 1543.18 L2020.6 1516.82 L2012.29 1518.49 L2012.29 1514.23 L2020.56 1512.56 L2025.23 1512.56 L2025.23 1543.18 L2032.87 1543.18 L2032.87 1547.12 L2012.97 1547.12 L2012.97 1543.18 Z\" fill=\"#000000\" fill-rule=\"evenodd\" fill-opacity=\"1\" /><path clip-path=\"url(#clip640)\" d=\"M 0 0 M2052.32 1515.64 Q2048.71 1515.64 2046.88 1519.2 Q2045.07 1522.75 2045.07 1529.87 Q2045.07 1536.98 2046.88 1540.55 Q2048.71 1544.09 2052.32 1544.09 Q2055.95 1544.09 2057.76 1540.55 Q2059.59 1536.98 2059.59 1529.87 Q2059.59 1522.75 2057.76 1519.2 Q2055.95 1515.64 2052.32 1515.64 M2052.32 1511.93 Q2058.13 1511.93 2061.18 1516.54 Q2064.26 1521.12 2064.26 1529.87 Q2064.26 1538.6 2061.18 1543.21 Q2058.13 1547.79 2052.32 1547.79 Q2046.51 1547.79 2043.43 1543.21 Q2040.37 1538.6 2040.37 1529.87 Q2040.37 1521.12 2043.43 1516.54 Q2046.51 1511.93 2052.32 1511.93 Z\" fill=\"#000000\" fill-rule=\"evenodd\" fill-opacity=\"1\" /><path clip-path=\"url(#clip640)\" d=\"M 0 0 M2082.48 1515.64 Q2078.87 1515.64 2077.04 1519.2 Q2075.23 1522.75 2075.23 1529.87 Q2075.23 1536.98 2077.04 1540.55 Q2078.87 1544.09 2082.48 1544.09 Q2086.11 1544.09 2087.92 1540.55 Q2089.75 1536.98 2089.75 1529.87 Q2089.75 1522.75 2087.92 1519.2 Q2086.11 1515.64 2082.48 1515.64 M2082.48 1511.93 Q2088.29 1511.93 2091.35 1516.54 Q2094.42 1521.12 2094.42 1529.87 Q2094.42 1538.6 2091.35 1543.21 Q2088.29 1547.79 2082.48 1547.79 Q2076.67 1547.79 2073.59 1543.21 Q2070.54 1538.6 2070.54 1529.87 Q2070.54 1521.12 2073.59 1516.54 Q2076.67 1511.93 2082.48 1511.93 Z\" fill=\"#000000\" fill-rule=\"evenodd\" fill-opacity=\"1\" /><polyline clip-path=\"url(#clip642)\" style=\"stroke:#000000; stroke-width:2; stroke-opacity:0.1; fill:none\" points=\"\n",
       "  285.622,1445.71 2352.76,1445.71 \n",
       "  \"/>\n",
       "<polyline clip-path=\"url(#clip642)\" style=\"stroke:#000000; stroke-width:2; stroke-opacity:0.1; fill:none\" points=\"\n",
       "  285.622,1066.79 2352.76,1066.79 \n",
       "  \"/>\n",
       "<polyline clip-path=\"url(#clip642)\" style=\"stroke:#000000; stroke-width:2; stroke-opacity:0.1; fill:none\" points=\"\n",
       "  285.622,687.873 2352.76,687.873 \n",
       "  \"/>\n",
       "<polyline clip-path=\"url(#clip642)\" style=\"stroke:#000000; stroke-width:2; stroke-opacity:0.1; fill:none\" points=\"\n",
       "  285.622,308.954 2352.76,308.954 \n",
       "  \"/>\n",
       "<polyline clip-path=\"url(#clip640)\" style=\"stroke:#000000; stroke-width:4; stroke-opacity:1; fill:none\" points=\"\n",
       "  285.622,1486.45 285.622,47.2441 \n",
       "  \"/>\n",
       "<polyline clip-path=\"url(#clip640)\" style=\"stroke:#000000; stroke-width:4; stroke-opacity:1; fill:none\" points=\"\n",
       "  285.622,1445.71 310.428,1445.71 \n",
       "  \"/>\n",
       "<polyline clip-path=\"url(#clip640)\" style=\"stroke:#000000; stroke-width:4; stroke-opacity:1; fill:none\" points=\"\n",
       "  285.622,1066.79 310.428,1066.79 \n",
       "  \"/>\n",
       "<polyline clip-path=\"url(#clip640)\" style=\"stroke:#000000; stroke-width:4; stroke-opacity:1; fill:none\" points=\"\n",
       "  285.622,687.873 310.428,687.873 \n",
       "  \"/>\n",
       "<polyline clip-path=\"url(#clip640)\" style=\"stroke:#000000; stroke-width:4; stroke-opacity:1; fill:none\" points=\"\n",
       "  285.622,308.954 310.428,308.954 \n",
       "  \"/>\n",
       "<path clip-path=\"url(#clip640)\" d=\"M 0 0 M237.678 1431.51 Q234.067 1431.51 232.238 1435.07 Q230.433 1438.62 230.433 1445.75 Q230.433 1452.85 232.238 1456.42 Q234.067 1459.96 237.678 1459.96 Q241.312 1459.96 243.118 1456.42 Q244.947 1452.85 244.947 1445.75 Q244.947 1438.62 243.118 1435.07 Q241.312 1431.51 237.678 1431.51 M237.678 1427.81 Q243.488 1427.81 246.544 1432.41 Q249.622 1437 249.622 1445.75 Q249.622 1454.47 246.544 1459.08 Q243.488 1463.66 237.678 1463.66 Q231.868 1463.66 228.789 1459.08 Q225.734 1454.47 225.734 1445.75 Q225.734 1437 228.789 1432.41 Q231.868 1427.81 237.678 1427.81 Z\" fill=\"#000000\" fill-rule=\"evenodd\" fill-opacity=\"1\" /><path clip-path=\"url(#clip640)\" d=\"M 0 0 M53.3995 1086.58 L61.0384 1086.58 L61.0384 1060.22 L52.7282 1061.89 L52.7282 1057.63 L60.9921 1055.96 L65.668 1055.96 L65.668 1086.58 L73.3068 1086.58 L73.3068 1090.52 L53.3995 1090.52 L53.3995 1086.58 Z\" fill=\"#000000\" fill-rule=\"evenodd\" fill-opacity=\"1\" /><path clip-path=\"url(#clip640)\" d=\"M 0 0 M110.922 1065.06 L100.344 1075.68 L110.922 1086.26 L108.168 1089.06 L97.5428 1078.44 L86.9179 1089.06 L84.1864 1086.26 L94.7419 1075.68 L84.1864 1065.06 L86.9179 1062.26 L97.5428 1072.88 L108.168 1062.26 L110.922 1065.06 Z\" fill=\"#000000\" fill-rule=\"evenodd\" fill-opacity=\"1\" /><path clip-path=\"url(#clip640)\" d=\"M 0 0 M123.283 1086.58 L130.922 1086.58 L130.922 1060.22 L122.612 1061.89 L122.612 1057.63 L130.876 1055.96 L135.552 1055.96 L135.552 1086.58 L143.191 1086.58 L143.191 1090.52 L123.283 1090.52 L123.283 1086.58 Z\" fill=\"#000000\" fill-rule=\"evenodd\" fill-opacity=\"1\" /><path clip-path=\"url(#clip640)\" d=\"M 0 0 M162.635 1059.04 Q159.024 1059.04 157.195 1062.6 Q155.39 1066.14 155.39 1073.27 Q155.39 1080.38 157.195 1083.95 Q159.024 1087.49 162.635 1087.49 Q166.269 1087.49 168.075 1083.95 Q169.904 1080.38 169.904 1073.27 Q169.904 1066.14 168.075 1062.6 Q166.269 1059.04 162.635 1059.04 M162.635 1055.33 Q168.445 1055.33 171.501 1059.94 Q174.579 1064.52 174.579 1073.27 Q174.579 1082 171.501 1086.61 Q168.445 1091.19 162.635 1091.19 Q156.825 1091.19 153.746 1086.61 Q150.691 1082 150.691 1073.27 Q150.691 1064.52 153.746 1059.94 Q156.825 1055.33 162.635 1055.33 Z\" fill=\"#000000\" fill-rule=\"evenodd\" fill-opacity=\"1\" /><path clip-path=\"url(#clip640)\" d=\"M 0 0 M174.579 1049.44 L198.691 1049.44 L198.691 1052.63 L174.579 1052.63 L174.579 1049.44 Z\" fill=\"#000000\" fill-rule=\"evenodd\" fill-opacity=\"1\" /><path clip-path=\"url(#clip640)\" d=\"M 0 0 M207.549 1059.91 L213.756 1059.91 L213.756 1038.49 L207.004 1039.84 L207.004 1036.38 L213.718 1035.03 L217.518 1035.03 L217.518 1059.91 L223.724 1059.91 L223.724 1063.11 L207.549 1063.11 L207.549 1059.91 Z\" fill=\"#000000\" fill-rule=\"evenodd\" fill-opacity=\"1\" /><path clip-path=\"url(#clip640)\" d=\"M 0 0 M241.836 1038.34 L232.244 1053.33 L241.836 1053.33 L241.836 1038.34 M240.839 1035.03 L245.616 1035.03 L245.616 1053.33 L249.622 1053.33 L249.622 1056.49 L245.616 1056.49 L245.616 1063.11 L241.836 1063.11 L241.836 1056.49 L229.16 1056.49 L229.16 1052.82 L240.839 1035.03 Z\" fill=\"#000000\" fill-rule=\"evenodd\" fill-opacity=\"1\" /><path clip-path=\"url(#clip640)\" d=\"M 0 0 M56.6171 707.666 L72.9365 707.666 L72.9365 711.601 L50.9921 711.601 L50.9921 707.666 Q53.6541 704.911 58.2375 700.281 Q62.8439 695.629 64.0245 694.286 Q66.2698 691.763 67.1494 690.027 Q68.0522 688.268 68.0522 686.578 Q68.0522 683.823 66.1078 682.087 Q64.1865 680.351 61.0847 680.351 Q58.8856 680.351 56.4319 681.115 Q54.0014 681.879 51.2236 683.43 L51.2236 678.708 Q54.0477 677.573 56.5014 676.995 Q58.955 676.416 60.9921 676.416 Q66.3624 676.416 69.5568 679.101 Q72.7513 681.786 72.7513 686.277 Q72.7513 688.407 71.9411 690.328 Q71.1541 692.226 69.0476 694.819 Q68.4689 695.49 65.367 698.707 Q62.2652 701.902 56.6171 707.666 Z\" fill=\"#000000\" fill-rule=\"evenodd\" fill-opacity=\"1\" /><path clip-path=\"url(#clip640)\" d=\"M 0 0 M110.922 686.138 L100.344 696.763 L110.922 707.342 L108.168 710.143 L97.5428 699.518 L86.9179 710.143 L84.1864 707.342 L94.7419 696.763 L84.1864 686.138 L86.9179 683.337 L97.5428 693.962 L108.168 683.337 L110.922 686.138 Z\" fill=\"#000000\" fill-rule=\"evenodd\" fill-opacity=\"1\" /><path clip-path=\"url(#clip640)\" d=\"M 0 0 M123.283 707.666 L130.922 707.666 L130.922 681.3 L122.612 682.967 L122.612 678.708 L130.876 677.041 L135.552 677.041 L135.552 707.666 L143.191 707.666 L143.191 711.601 L123.283 711.601 L123.283 707.666 Z\" fill=\"#000000\" fill-rule=\"evenodd\" fill-opacity=\"1\" /><path clip-path=\"url(#clip640)\" d=\"M 0 0 M162.635 680.12 Q159.024 680.12 157.195 683.684 Q155.39 687.226 155.39 694.356 Q155.39 701.462 157.195 705.027 Q159.024 708.568 162.635 708.568 Q166.269 708.568 168.075 705.027 Q169.904 701.462 169.904 694.356 Q169.904 687.226 168.075 683.684 Q166.269 680.12 162.635 680.12 M162.635 676.416 Q168.445 676.416 171.501 681.022 Q174.579 685.606 174.579 694.356 Q174.579 703.082 171.501 707.689 Q168.445 712.272 162.635 712.272 Q156.825 712.272 153.746 707.689 Q150.691 703.082 150.691 694.356 Q150.691 685.606 153.746 681.022 Q156.825 676.416 162.635 676.416 Z\" fill=\"#000000\" fill-rule=\"evenodd\" fill-opacity=\"1\" /><path clip-path=\"url(#clip640)\" d=\"M 0 0 M174.579 670.517 L198.691 670.517 L198.691 673.715 L174.579 673.715 L174.579 670.517 Z\" fill=\"#000000\" fill-rule=\"evenodd\" fill-opacity=\"1\" /><path clip-path=\"url(#clip640)\" d=\"M 0 0 M207.549 680.993 L213.756 680.993 L213.756 659.571 L207.004 660.925 L207.004 657.465 L213.718 656.11 L217.518 656.11 L217.518 680.993 L223.724 680.993 L223.724 684.19 L207.549 684.19 L207.549 680.993 Z\" fill=\"#000000\" fill-rule=\"evenodd\" fill-opacity=\"1\" /><path clip-path=\"url(#clip640)\" d=\"M 0 0 M241.836 659.421 L232.244 674.41 L241.836 674.41 L241.836 659.421 M240.839 656.11 L245.616 656.11 L245.616 674.41 L249.622 674.41 L249.622 677.57 L245.616 677.57 L245.616 684.19 L241.836 684.19 L241.836 677.57 L229.16 677.57 L229.16 673.903 L240.839 656.11 Z\" fill=\"#000000\" fill-rule=\"evenodd\" fill-opacity=\"1\" /><path clip-path=\"url(#clip640)\" d=\"M 0 0 M66.7559 314.048 Q70.1124 314.765 71.9874 317.034 Q73.8855 319.302 73.8855 322.636 Q73.8855 327.752 70.367 330.552 Q66.8485 333.353 60.3671 333.353 Q58.1912 333.353 55.8764 332.914 Q53.5847 332.497 51.131 331.64 L51.131 327.127 Q53.0754 328.261 55.3903 328.839 Q57.7051 329.418 60.2282 329.418 Q64.6263 329.418 66.918 327.682 Q69.2328 325.946 69.2328 322.636 Q69.2328 319.58 67.08 317.867 Q64.9504 316.131 61.131 316.131 L57.1032 316.131 L57.1032 312.289 L61.3161 312.289 Q64.7652 312.289 66.5939 310.923 Q68.4226 309.534 68.4226 306.941 Q68.4226 304.279 66.5245 302.867 Q64.6495 301.432 61.131 301.432 Q59.2097 301.432 57.0106 301.849 Q54.8115 302.266 52.1727 303.145 L52.1727 298.979 Q54.8347 298.238 57.1495 297.867 Q59.4875 297.497 61.5476 297.497 Q66.8717 297.497 69.9735 299.928 Q73.0753 302.335 73.0753 306.455 Q73.0753 309.326 71.4318 311.316 Q69.7883 313.284 66.7559 314.048 Z\" fill=\"#000000\" fill-rule=\"evenodd\" fill-opacity=\"1\" /><path clip-path=\"url(#clip640)\" d=\"M 0 0 M110.922 307.219 L100.344 317.844 L110.922 328.423 L108.168 331.224 L97.5428 320.599 L86.9179 331.224 L84.1864 328.423 L94.7419 317.844 L84.1864 307.219 L86.9179 304.418 L97.5428 315.043 L108.168 304.418 L110.922 307.219 Z\" fill=\"#000000\" fill-rule=\"evenodd\" fill-opacity=\"1\" /><path clip-path=\"url(#clip640)\" d=\"M 0 0 M123.283 328.747 L130.922 328.747 L130.922 302.381 L122.612 304.048 L122.612 299.789 L130.876 298.122 L135.552 298.122 L135.552 328.747 L143.191 328.747 L143.191 332.682 L123.283 332.682 L123.283 328.747 Z\" fill=\"#000000\" fill-rule=\"evenodd\" fill-opacity=\"1\" /><path clip-path=\"url(#clip640)\" d=\"M 0 0 M162.635 301.201 Q159.024 301.201 157.195 304.766 Q155.39 308.307 155.39 315.437 Q155.39 322.543 157.195 326.108 Q159.024 329.65 162.635 329.65 Q166.269 329.65 168.075 326.108 Q169.904 322.543 169.904 315.437 Q169.904 308.307 168.075 304.766 Q166.269 301.201 162.635 301.201 M162.635 297.497 Q168.445 297.497 171.501 302.104 Q174.579 306.687 174.579 315.437 Q174.579 324.164 171.501 328.77 Q168.445 333.353 162.635 333.353 Q156.825 333.353 153.746 328.77 Q150.691 324.164 150.691 315.437 Q150.691 306.687 153.746 302.104 Q156.825 297.497 162.635 297.497 Z\" fill=\"#000000\" fill-rule=\"evenodd\" fill-opacity=\"1\" /><path clip-path=\"url(#clip640)\" d=\"M 0 0 M174.579 291.598 L198.691 291.598 L198.691 294.796 L174.579 294.796 L174.579 291.598 Z\" fill=\"#000000\" fill-rule=\"evenodd\" fill-opacity=\"1\" /><path clip-path=\"url(#clip640)\" d=\"M 0 0 M207.549 302.074 L213.756 302.074 L213.756 280.652 L207.004 282.006 L207.004 278.546 L213.718 277.192 L217.518 277.192 L217.518 302.074 L223.724 302.074 L223.724 305.272 L207.549 305.272 L207.549 302.074 Z\" fill=\"#000000\" fill-rule=\"evenodd\" fill-opacity=\"1\" /><path clip-path=\"url(#clip640)\" d=\"M 0 0 M241.836 280.502 L232.244 295.492 L241.836 295.492 L241.836 280.502 M240.839 277.192 L245.616 277.192 L245.616 295.492 L249.622 295.492 L249.622 298.651 L245.616 298.651 L245.616 305.272 L241.836 305.272 L241.836 298.651 L229.16 298.651 L229.16 294.984 L240.839 277.192 Z\" fill=\"#000000\" fill-rule=\"evenodd\" fill-opacity=\"1\" /><circle clip-path=\"url(#clip642)\" cx=\"344.126\" cy=\"1445.72\" r=\"14\" fill=\"#009af9\" fill-rule=\"evenodd\" fill-opacity=\"1\" stroke=\"#000000\" stroke-opacity=\"1\" stroke-width=\"3.2\"/>\n",
       "<circle clip-path=\"url(#clip642)\" cx=\"483.421\" cy=\"1445.71\" r=\"14\" fill=\"#009af9\" fill-rule=\"evenodd\" fill-opacity=\"1\" stroke=\"#000000\" stroke-opacity=\"1\" stroke-width=\"3.2\"/>\n",
       "<circle clip-path=\"url(#clip642)\" cx=\"622.716\" cy=\"1445.71\" r=\"14\" fill=\"#009af9\" fill-rule=\"evenodd\" fill-opacity=\"1\" stroke=\"#000000\" stroke-opacity=\"1\" stroke-width=\"3.2\"/>\n",
       "<circle clip-path=\"url(#clip642)\" cx=\"762.01\" cy=\"1445.71\" r=\"14\" fill=\"#009af9\" fill-rule=\"evenodd\" fill-opacity=\"1\" stroke=\"#000000\" stroke-opacity=\"1\" stroke-width=\"3.2\"/>\n",
       "<circle clip-path=\"url(#clip642)\" cx=\"901.305\" cy=\"1445.71\" r=\"14\" fill=\"#009af9\" fill-rule=\"evenodd\" fill-opacity=\"1\" stroke=\"#000000\" stroke-opacity=\"1\" stroke-width=\"3.2\"/>\n",
       "<circle clip-path=\"url(#clip642)\" cx=\"1040.6\" cy=\"1445.63\" r=\"14\" fill=\"#009af9\" fill-rule=\"evenodd\" fill-opacity=\"1\" stroke=\"#000000\" stroke-opacity=\"1\" stroke-width=\"3.2\"/>\n",
       "<circle clip-path=\"url(#clip642)\" cx=\"1179.89\" cy=\"1445.09\" r=\"14\" fill=\"#009af9\" fill-rule=\"evenodd\" fill-opacity=\"1\" stroke=\"#000000\" stroke-opacity=\"1\" stroke-width=\"3.2\"/>\n",
       "<circle clip-path=\"url(#clip642)\" cx=\"1319.19\" cy=\"1442.75\" r=\"14\" fill=\"#009af9\" fill-rule=\"evenodd\" fill-opacity=\"1\" stroke=\"#000000\" stroke-opacity=\"1\" stroke-width=\"3.2\"/>\n",
       "<circle clip-path=\"url(#clip642)\" cx=\"1458.48\" cy=\"1435.1\" r=\"14\" fill=\"#009af9\" fill-rule=\"evenodd\" fill-opacity=\"1\" stroke=\"#000000\" stroke-opacity=\"1\" stroke-width=\"3.2\"/>\n",
       "<circle clip-path=\"url(#clip642)\" cx=\"1597.78\" cy=\"1414.51\" r=\"14\" fill=\"#009af9\" fill-rule=\"evenodd\" fill-opacity=\"1\" stroke=\"#000000\" stroke-opacity=\"1\" stroke-width=\"3.2\"/>\n",
       "<circle clip-path=\"url(#clip642)\" cx=\"1737.07\" cy=\"1366.25\" r=\"14\" fill=\"#009af9\" fill-rule=\"evenodd\" fill-opacity=\"1\" stroke=\"#000000\" stroke-opacity=\"1\" stroke-width=\"3.2\"/>\n",
       "<circle clip-path=\"url(#clip642)\" cx=\"1876.37\" cy=\"1264.48\" r=\"14\" fill=\"#009af9\" fill-rule=\"evenodd\" fill-opacity=\"1\" stroke=\"#000000\" stroke-opacity=\"1\" stroke-width=\"3.2\"/>\n",
       "<circle clip-path=\"url(#clip642)\" cx=\"2015.66\" cy=\"1066.79\" r=\"14\" fill=\"#009af9\" fill-rule=\"evenodd\" fill-opacity=\"1\" stroke=\"#000000\" stroke-opacity=\"1\" stroke-width=\"3.2\"/>\n",
       "<circle clip-path=\"url(#clip642)\" cx=\"2154.96\" cy=\"707.305\" r=\"14\" fill=\"#009af9\" fill-rule=\"evenodd\" fill-opacity=\"1\" stroke=\"#000000\" stroke-opacity=\"1\" stroke-width=\"3.2\"/>\n",
       "<circle clip-path=\"url(#clip642)\" cx=\"2294.25\" cy=\"87.9763\" r=\"14\" fill=\"#009af9\" fill-rule=\"evenodd\" fill-opacity=\"1\" stroke=\"#000000\" stroke-opacity=\"1\" stroke-width=\"3.2\"/>\n",
       "<path clip-path=\"url(#clip640)\" d=\"\n",
       "M2001.74 216.178 L2283.85 216.178 L2283.85 95.2176 L2001.74 95.2176  Z\n",
       "  \" fill=\"#ffffff\" fill-rule=\"evenodd\" fill-opacity=\"1\"/>\n",
       "<polyline clip-path=\"url(#clip640)\" style=\"stroke:#000000; stroke-width:4; stroke-opacity:1; fill:none\" points=\"\n",
       "  2001.74,216.178 2283.85,216.178 2283.85,95.2176 2001.74,95.2176 2001.74,216.178 \n",
       "  \"/>\n",
       "<circle clip-path=\"url(#clip640)\" cx=\"2093.61\" cy=\"155.698\" r=\"23\" fill=\"#009af9\" fill-rule=\"evenodd\" fill-opacity=\"1\" stroke=\"#000000\" stroke-opacity=\"1\" stroke-width=\"5.12\"/>\n",
       "<path clip-path=\"url(#clip640)\" d=\"M 0 0 M2199.33 175.385 Q2197.52 180.015 2195.81 181.427 Q2194.1 182.839 2191.23 182.839 L2187.82 182.839 L2187.82 179.274 L2190.32 179.274 Q2192.08 179.274 2193.05 178.44 Q2194.03 177.607 2195.21 174.505 L2195.97 172.561 L2185.48 147.052 L2190 147.052 L2198.1 167.329 L2206.2 147.052 L2210.72 147.052 L2199.33 175.385 Z\" fill=\"#000000\" fill-rule=\"evenodd\" fill-opacity=\"1\" /><path clip-path=\"url(#clip640)\" d=\"M 0 0 M2218.01 169.042 L2225.65 169.042 L2225.65 142.677 L2217.34 144.343 L2217.34 140.084 L2225.6 138.418 L2230.28 138.418 L2230.28 169.042 L2237.92 169.042 L2237.92 172.978 L2218.01 172.978 L2218.01 169.042 Z\" fill=\"#000000\" fill-rule=\"evenodd\" fill-opacity=\"1\" /></svg>\n"
      ]
     },
     "execution_count": 13,
     "metadata": {},
     "output_type": "execute_result"
    }
   ],
   "source": [
    "scatter(x, y)"
   ]
  },
  {
   "cell_type": "markdown",
   "metadata": {},
   "source": [
    "The expanded polynomial in 1 was not as smooth as the one in 2. This could be due to the fact that multiple operations in the first version lead to higher occurences of rounding error, as opposed to that of the second."
   ]
  },
  {
   "cell_type": "markdown",
   "metadata": {},
   "source": [
    "# Q5\n",
    "\n",
    "1. Show the **Sherman-Morrison formula**\n",
    "$$\n",
    "\t(\\mathbf{A} + \\mathbf{u} \\mathbf{u}^T)^{-1} = \\mathbf{A}^{-1} - \\frac{1}{1 + \\mathbf{u}^T \\mathbf{A}^{-1} \\mathbf{u}} \\mathbf{A}^{-1} \\mathbf{u} \\mathbf{u}^T \\mathbf{A}^{-1},\n",
    "$$\n",
    "where $\\mathbf{A} \\in \\mathbb{R}^{n \\times n}$ is nonsingular and $\\mathbf{u} \\in \\mathbb{R}^n$. This formula supplies the inverse of the symmetric, rank-one  perturbation of $\\mathbf{A}$."
   ]
  },
  {
   "cell_type": "markdown",
   "metadata": {},
   "source": [
    "First, suppose we have the system for $\\mathbf{x}$:\n",
    "    $$\n",
    "    (A + \\mathbf{uu}^T)\\mathbf{x} = y \\\\\n",
    "    A\\mathbf{x} = \\mathbf{y} - \\mathbf{uu}^T\\mathbf{x} \\\\\n",
    "    \\mathbf{x} = A^{-1}\\mathbf{y} - A^{-1}\\mathbf{uu}^T\\mathbf{x}\n",
    "    $$\n",
    "$\\mathbf{u}^T\\mathbf{x}$ will be a constant $c$.\n",
    "    $$\n",
    "    \\mathbf{x} = A^{-1}\\mathbf{y} - A^{-1}\\mathbf{u}c \\\\\n",
    "    c = \\mathbf{u}^T\\mathbf{x} = \\mathbf{u}^TA^{-1}\\mathbf{y} - \\mathbf{u}^TA^{-1}\\mathbf{u}c \\\\\n",
    "    (1 + \\mathbf{u}^TA^{-1}\\mathbf{u})c = \\mathbf{u}^TA^{-1}\\mathbf{y} \\\\\n",
    "    c = \\frac{\\mathbf{u}^TA^{-1}\\mathbf{y}}{1 + \\mathbf{u}^TA^{-1}\\mathbf{u}}\n",
    "    \\mathbf{x} = A^{-1}\\mathbf{y} - A^{-1}\\mathbf{u}(\\frac{\\mathbf{u}^TA^{-1}\\mathbf{y}}{1 + \\mathbf{u}^TA^{-1}\\mathbf{u}}) \\\\ \n",
    "    \\mathbf{x} = (A^{-1} - \\frac{A^{-1}\\mathbf{u}\\mathbf{u}^TA^{-1}\\mathbf{y}}{1 + \\mathbf{u}^TA^{-1}\\mathbf{u}})\\mathbf{y}\n",
    "    $$\n",
    "From the original equation, we now have\n",
    "    $$\n",
    "    (A+\\mathbf{uv}^T)^{-1} = A^{-1} - \\frac{A^{-1}\\mathbf{u}\\mathbf{u}^TA^{-1}\\mathbf{y}}{1 + \\mathbf{u}^TA^{-1}\\mathbf{u}} \n",
    "    $$"
   ]
  },
  {
   "cell_type": "markdown",
   "metadata": {},
   "source": [
    "2. Show the **Woodbury formula**\n",
    "$$\n",
    "\t(\\mathbf{A} + \\mathbf{U} \\mathbf{V}^T)^{-1} = \\mathbf{A}^{-1} - \\mathbf{A}^{-1} \\mathbf{U} (\\mathbf{I}_m + \\mathbf{V}^T \\mathbf{A}^{-1} \\mathbf{U})^{-1} \\mathbf{V}^T \\mathbf{A}^{-1},\n",
    "$$\n",
    "where $\\mathbf{A} \\in \\mathbb{R}^{n \\times n}$ is nonsingular, $\\mathbf{U}, \\mathbf{V} \\in \\mathbb{R}^{n \\times m}$, and $\\mathbf{I}_m$ is the $m \\times m$ identity matrix. In many applications $m$ is much smaller than $n$. Woodbury formula generalizes Sherman-Morrison and is valuable because the smaller matrix $\\mathbf{I}_m + \\mathbf{V}^T \\mathbf{A}^{-1} \\mathbf{U}$ is cheaper to invert than the larger matrix $\\mathbf{A} + \\mathbf{U} \\mathbf{V}^T$."
   ]
  },
  {
   "cell_type": "markdown",
   "metadata": {},
   "source": [
    "$$\n",
    "(A + UV^T)^{-1} = A^{-1} - A^{-1}U(I_m + V^TA^{-1}U)^{-1}V^TA^{-1} \\\\\n",
    "(A + UV^T)(A + UV^T)^{-1} = (A + UV^T)(A^{-1} - A^{-1}U(I_m + V^TA^{-1}U)^{-1}V^TA^{-1}) \\\\\n",
    "= (I - U(I_m + V^TA^{-1}U)^{-1}VA^{-1}) + (UV^TA^{-1} - UV^T(U(I_m + V^TA^{-1}U)^{-1}V^TA^{-1} \\\\\n",
    "= (I + UV^TA^{-1} - (U + UV^TA^{-1}U)(I_m + V^TA^{-1}U)^{-1}V^TA^{-1} \\\\\n",
    "= I + UV^TA^{-1} - U(I_m + V^TA^{-1}U)(I_m + VA^{-1}U)^{-1}V^TA^{-1} \\\\\n",
    "= I + UV^TA^{-1} - UV^TA^{-1} \\\\\n",
    "= I\n",
    "$$\n",
    "So the inverse holds."
   ]
  },
  {
   "cell_type": "markdown",
   "metadata": {},
   "source": [
    "3. Show the **binomial inversion formula**\n",
    "$$\n",
    "\t(\\mathbf{A} + \\mathbf{U} \\mathbf{B} \\mathbf{V}^T)^{-1} = \\mathbf{A}^{-1} - \\mathbf{A}^{-1} \\mathbf{U} (\\mathbf{B}^{-1} + \\mathbf{V}^T \\mathbf{A}^{-1} \\mathbf{U})^{-1} \\mathbf{V}^T \\mathbf{A}^{-1},\n",
    "$$\n",
    "where $\\mathbf{A}$ and $\\mathbf{B}$ are nonsingular."
   ]
  },
  {
   "cell_type": "markdown",
   "metadata": {},
   "source": [
    "$$\n",
    "(A + UBV^T)^{-1} = A^{-1} - A^{-1}U(B^{-1} + V^TA^{-1}U)^{-1}V^TA^{-1} \\\\\n",
    "(A + UV^T)(A + UV^T)^{-1} = (A + UV^T)(A^{-1} - A^{-1}U(B^{-1} + V^TA^{-1}U)^{-1}V^TA^{-1}) \\\\\n",
    "= (I - U(B^{-1} + V^TA^{-1}U)^{-1}VA^{-1}) + (UBV^TA^{-1} - UBV^T(U(B^{-1} + V^TA^{-1}U)^{-1}V^TA^{-1} \\\\\n",
    "= (I + UBV^TA^{-1} - (U + UBV^TA^{-1}U)(B^{-1} + V^TA^{-1}U)^{-1}V^TA^{-1} \\\\\n",
    "= I + UBV^TA^{-1} - UB(B^{-1} + V^TA^{-1}U)(B^{-1} + VA^{-1}U)^{-1}V^TA^{-1} \\\\\n",
    "= I + UBV^TA^{-1} - UBV^TA^{-1} \\\\\n",
    "= I\n",
    "$$\n",
    "So the inverse holds."
   ]
  },
  {
   "cell_type": "markdown",
   "metadata": {},
   "source": [
    "4. Show the identity\n",
    "$$\n",
    "\t\\text{det}(\\mathbf{A} + \\mathbf{U} \\mathbf{V}^T) = \\text{det}(\\mathbf{A}) \\text{det}(\\mathbf{I}_m + \\mathbf{V}^T \\mathbf{A}^{-1} \\mathbf{U}).\n",
    "$$\n",
    "This formula is useful for evaluating the density of a multivariate normal with covariance matrix $\\mathbf{A} + \\mathbf{U} \\mathbf{V}^T$.\n",
    "\n",
    "**Hint**: 1 and 2 are special cases of 3."
   ]
  },
  {
   "cell_type": "markdown",
   "metadata": {},
   "source": [
    "$$\n",
    "det(A + UV^T) = det(A(I + A^{-1}UV^T)) \\\\\n",
    "= det(A)det(I + A^{-1}UV^T)\n",
    "$$"
   ]
  },
  {
   "cell_type": "markdown",
   "metadata": {},
   "source": [
    "## Q6\n",
    "\n",
    "Demonstrate the following facts about triangular matrices in Julia (one example for each fact). Mathematically curious ones are also encouraged to prove them. \n",
    "\n",
    "Note a unit triangular matrix is a triangular matrix with all diagonal entries being 1.\n",
    "\n",
    "1. The product of two upper (lower) triangular matrices is upper (lower) triangular."
   ]
  },
  {
   "cell_type": "code",
   "execution_count": 14,
   "metadata": {},
   "outputs": [
    {
     "data": {
      "text/plain": [
       "5×5 Matrix{Float64}:\n",
       " -0.00170095  -0.792156  -1.34607    0.426557   0.33463\n",
       "  0.0         -2.40777    0.450304  -0.578476   0.564087\n",
       "  0.0          0.0        1.31747   -0.198982  -0.337843\n",
       "  0.0          0.0        0.0        0.580607   0.520169\n",
       "  0.0          0.0        0.0        0.0        0.798326"
      ]
     },
     "execution_count": 14,
     "metadata": {},
     "output_type": "execute_result"
    }
   ],
   "source": [
    "Upper1 = randn(5,5)\n",
    "for j in 1:size(Upper1, 1), i in j+1:size(Upper1, 1)\n",
    "    Upper1[i, j] = 0\n",
    "end\n",
    "Upper1"
   ]
  },
  {
   "cell_type": "code",
   "execution_count": 15,
   "metadata": {
    "scrolled": true
   },
   "outputs": [
    {
     "data": {
      "text/plain": [
       "5×5 Matrix{Float64}:\n",
       " 2.1486  0.499321   1.05676    0.833352   0.468165\n",
       " 0.0     1.28309   -0.251003  -1.71345   -0.0583536\n",
       " 0.0     0.0       -0.381976  -0.442224  -0.886452\n",
       " 0.0     0.0        0.0        1.70468   -1.18671\n",
       " 0.0     0.0        0.0        0.0        1.61627"
      ]
     },
     "execution_count": 15,
     "metadata": {},
     "output_type": "execute_result"
    }
   ],
   "source": [
    "Upper2 = randn(5,5)\n",
    "for j in 1:size(Upper2, 1), i in j+1:size(Upper2, 1)\n",
    "    Upper2[i, j] = 0\n",
    "end\n",
    "Upper2"
   ]
  },
  {
   "cell_type": "code",
   "execution_count": 16,
   "metadata": {},
   "outputs": [
    {
     "data": {
      "text/plain": [
       "5×5 Matrix{Float64}:\n",
       " -0.00365464  -1.01726   0.711203   2.67831    1.27331\n",
       "  0.0         -3.08938   0.432352   2.94034    1.33953\n",
       "  0.0          0.0      -0.503243  -0.921819  -1.47779\n",
       "  0.0          0.0       0.0        0.989752   0.151719\n",
       "  0.0          0.0       0.0        0.0        1.29031"
      ]
     },
     "execution_count": 16,
     "metadata": {},
     "output_type": "execute_result"
    }
   ],
   "source": [
    "Upper1 * Upper2"
   ]
  },
  {
   "cell_type": "markdown",
   "metadata": {},
   "source": [
    "2. The inverse of an upper (lower) triangular matrix is upper (lower) triangular."
   ]
  },
  {
   "cell_type": "code",
   "execution_count": 17,
   "metadata": {},
   "outputs": [
    {
     "data": {
      "text/plain": [
       "5×5 Matrix{Float64}:\n",
       " -587.908  193.422     -666.78      396.118     -430.515\n",
       "    0.0     -0.415323     0.141954   -0.365148     0.591457\n",
       "    0.0      0.0          0.759028    0.260129     0.151719\n",
       "    0.0      0.0          0.0         1.72233     -1.12223\n",
       "    0.0      0.0          0.0         0.0          1.25262"
      ]
     },
     "execution_count": 17,
     "metadata": {},
     "output_type": "execute_result"
    }
   ],
   "source": [
    "inv(Upper1)"
   ]
  },
  {
   "cell_type": "markdown",
   "metadata": {},
   "source": [
    "3. The product of two unit upper (lower) triangular matrices is unit upper (lower) triangular."
   ]
  },
  {
   "cell_type": "code",
   "execution_count": 23,
   "metadata": {},
   "outputs": [
    {
     "data": {
      "text/plain": [
       "5×5 Matrix{Float64}:\n",
       " 1.0  -0.792156  -1.34607    0.426557   0.33463\n",
       " 0.0   1.0        0.450304  -0.578476   0.564087\n",
       " 0.0   0.0        1.0       -0.198982  -0.337843\n",
       " 0.0   0.0        0.0        1.0        0.520169\n",
       " 0.0   0.0        0.0        0.0        1.0"
      ]
     },
     "execution_count": 23,
     "metadata": {},
     "output_type": "execute_result"
    }
   ],
   "source": [
    "UnitUpper1 = Upper1\n",
    "for j in 1:size(UnitUpper1, 1)\n",
    "    UnitUpper1[j, j] = 1\n",
    "end\n",
    "UnitUpper1"
   ]
  },
  {
   "cell_type": "code",
   "execution_count": 24,
   "metadata": {},
   "outputs": [
    {
     "data": {
      "text/plain": [
       "5×5 Matrix{Float64}:\n",
       " 1.0  0.499321   1.05676    0.833352   0.468165\n",
       " 0.0  1.0       -0.251003  -1.71345   -0.0583536\n",
       " 0.0  0.0        1.0       -0.442224  -0.886452\n",
       " 0.0  0.0        0.0        1.0       -1.18671\n",
       " 0.0  0.0        0.0        0.0        1.0"
      ]
     },
     "execution_count": 24,
     "metadata": {},
     "output_type": "execute_result"
    }
   ],
   "source": [
    "UnitUpper2 = Upper2\n",
    "for j in 1:size(UnitUpper2, 1)\n",
    "    UnitUpper2[j, j] = 1\n",
    "end\n",
    "UnitUpper2"
   ]
  },
  {
   "cell_type": "code",
   "execution_count": 22,
   "metadata": {},
   "outputs": [
    {
     "data": {
      "text/plain": [
       "5×5 Matrix{Float64}:\n",
       " 1.0  -0.292835  -0.0904821   3.2125     1.53605\n",
       " 0.0   1.0        0.1993     -2.49106    0.793044\n",
       " 0.0   0.0        1.0        -0.641205  -0.988161\n",
       " 0.0   0.0        0.0         1.0       -0.666542\n",
       " 0.0   0.0        0.0         0.0        1.0"
      ]
     },
     "execution_count": 22,
     "metadata": {},
     "output_type": "execute_result"
    }
   ],
   "source": [
    "UnitUpper1 * UnitUpper2"
   ]
  },
  {
   "cell_type": "markdown",
   "metadata": {},
   "source": [
    "4. The inverse of a unit upper (lower) triangular matrix is unit upper (lower) triangular."
   ]
  },
  {
   "cell_type": "code",
   "execution_count": 25,
   "metadata": {},
   "outputs": [
    {
     "data": {
      "text/plain": [
       "5×5 Matrix{Float64}:\n",
       " 1.0  0.792156   0.989362  0.228551  -0.566111\n",
       " 0.0  1.0       -0.450304  0.488873  -0.970516\n",
       " 0.0  0.0        1.0       0.198982   0.234339\n",
       " 0.0  0.0        0.0       1.0       -0.520169\n",
       " 0.0  0.0        0.0       0.0        1.0"
      ]
     },
     "execution_count": 25,
     "metadata": {},
     "output_type": "execute_result"
    }
   ],
   "source": [
    "inv(UnitUpper1)"
   ]
  },
  {
   "cell_type": "markdown",
   "metadata": {},
   "source": [
    "5. An orthogonal upper (lower) triangular matrix is diagonal.\n",
    "If $M$ is an invertible upper triangular matrix, $M^{-1}$ is also upper triangular, and $M^T$ is lower triangular. However, for orthogonal matrices, $M^T = M^{-1}$. An upper triangular may only be equivalent to a lower triangular matrix if their diagonals are equivalent, and all other entries are $0$."
   ]
  },
  {
   "cell_type": "code",
   "execution_count": 34,
   "metadata": {},
   "outputs": [
    {
     "data": {
      "text/plain": [
       "4×4 Matrix{Float64}:\n",
       " 1.0  0.0   0.0   0.0\n",
       " 0.0  1.0   0.0   0.0\n",
       " 0.0  0.0  -1.0   0.0\n",
       " 0.0  0.0   0.0  -1.0"
      ]
     },
     "execution_count": 34,
     "metadata": {},
     "output_type": "execute_result"
    }
   ],
   "source": [
    "orth = zeros(4, 4)\n",
    "for j in 3:size(orth, 1)\n",
    "    orth[j, j] = -1\n",
    "end\n",
    "for j in 1:2\n",
    "    orth[j, j] = 1\n",
    "end\n",
    "orth"
   ]
  },
  {
   "cell_type": "code",
   "execution_count": 35,
   "metadata": {
    "scrolled": true
   },
   "outputs": [
    {
     "data": {
      "text/plain": [
       "4×4 Matrix{Float64}:\n",
       " 1.0  0.0  0.0  0.0\n",
       " 0.0  1.0  0.0  0.0\n",
       " 0.0  0.0  1.0  0.0\n",
       " 0.0  0.0  0.0  1.0"
      ]
     },
     "execution_count": 35,
     "metadata": {},
     "output_type": "execute_result"
    }
   ],
   "source": [
    "orth * transpose(orth)"
   ]
  }
 ],
 "metadata": {
  "kernelspec": {
   "display_name": "Julia 1.6.0",
   "language": "julia",
   "name": "julia-1.6"
  },
  "language_info": {
   "file_extension": ".jl",
   "mimetype": "application/julia",
   "name": "julia",
   "version": "1.6.0"
  },
  "toc": {
   "colors": {
    "hover_highlight": "#DAA520",
    "running_highlight": "#FF0000",
    "selected_highlight": "#FFD700"
   },
   "moveMenuLeft": true,
   "nav_menu": {
    "height": "153px",
    "width": "252px"
   },
   "navigate_menu": true,
   "number_sections": false,
   "sideBar": true,
   "skip_h1_title": true,
   "threshold": 4,
   "toc_cell": false,
   "toc_section_display": "block",
   "toc_window_display": true,
   "widenNotebook": false
  },
  "toc-autonumbering": false
 },
 "nbformat": 4,
 "nbformat_minor": 4
}
